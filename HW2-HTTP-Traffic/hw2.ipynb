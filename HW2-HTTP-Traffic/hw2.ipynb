{
 "cells": [
  {
   "cell_type": "code",
   "execution_count": 15,
   "metadata": {},
   "outputs": [
    {
     "name": "stderr",
     "output_type": "stream",
     "text": [
      "/var/folders/_v/2_7ylzwd1r140fnllwbxf9hr0000gn/T/ipykernel_17985/3698867670.py:63: FutureWarning: The behavior of DataFrame concatenation with empty or all-NA entries is deprecated. In a future version, this will no longer exclude empty or all-NA columns when determining the result dtypes. To retain the old behavior, exclude the relevant entries before the concat operation.\n",
      "  return pd.concat([packets_df, pd.DataFrame([packet_dict])], ignore_index=True)\n"
     ]
    },
    {
     "name": "stdout",
     "output_type": "stream",
     "text": [
      "           time protocol         source    destination length\n",
      "0  1.711084e+09      TCP    172.20.10.2  17.248.209.73     78\n",
      "1  1.711084e+09      TCP  17.248.209.73    172.20.10.2     66\n",
      "2  1.711084e+09      TCP    172.20.10.2  17.248.209.73     54\n",
      "3  1.711084e+09      TLS    172.20.10.2  17.248.209.73    571\n",
      "4  1.711084e+09      TCP  17.248.209.73    172.20.10.2     54\n",
      "5  1.711084e+09      TLS  17.248.209.73    172.20.10.2   1414\n",
      "6  1.711084e+09      TCP  17.248.209.73    172.20.10.2   1414\n",
      "7  1.711084e+09      TCP  17.248.209.73    172.20.10.2   1414\n",
      "8  1.711084e+09      TCP  17.248.209.73    172.20.10.2     70\n",
      "9  1.711084e+09      TCP  17.248.209.73    172.20.10.2   1414\n"
     ]
    }
   ],
   "source": [
    "import pyshark\n",
    "import pandas as pd\n",
    "import threading\n",
    "\n",
    "def packet_to_dict(pkt):\n",
    "    packet_dict = {\n",
    "        'time': pkt.sniff_time.timestamp(),\n",
    "        'frame_number': pkt.frame_info.number,\n",
    "        'protocol': pkt.highest_layer,\n",
    "        'source': pkt.ip.src if hasattr(pkt, 'ip') else None,\n",
    "        'destination': pkt.ip.dst if hasattr(pkt, 'ip') else None,\n",
    "        'length': int(pkt.length),\n",
    "        'ttl': int(pkt.ip.ttl) if hasattr(pkt, 'ip') else None,\n",
    "        'source_port': int(pkt[pkt.transport_layer].srcport) if pkt.transport_layer else None,\n",
    "        'destination_port': int(pkt[pkt.transport_layer].dstport) if pkt.transport_layer else None,\n",
    "        'tcp_flags': int(pkt.tcp.flags, 16) if hasattr(pkt, 'tcp') else None,\n",
    "        # Add more fields as needed\n",
    "    }\n",
    "    return packet_dict\n",
    "\n",
    "def packet_callback(pkt, packets_df):\n",
    "    if isinstance(packets_df, pd.DataFrame):\n",
    "        packet_dict = packet_to_dict(pkt)\n",
    "        return pd.concat([packets_df, pd.DataFrame([packet_dict])], ignore_index=True)\n",
    "    else:\n",
    "        print(\"Error: packets_df is not a DataFrame.\")\n",
    "        return None\n",
    "\n",
    "def capture_packets():\n",
    "    packets_df = pd.DataFrame(columns=['time', 'frame_number', 'protocol', 'source', 'destination', \n",
    "                                        'length', 'ttl', 'source_port', 'destination_port', 'tcp_flags'])\n",
    "    # Start capturing packets\n",
    "    capture = pyshark.LiveCapture(interface='en0', display_filter='tcp or dns or http or ssl or tls')\n",
    "    capture.sniff(timeout=10)\n",
    "\n",
    "    # Iterate over captured packets and store them in DataFrame\n",
    "    for packet in capture.sniff_continuously(packet_count=10):\n",
    "        packets_df = packet_callback(packet, packets_df)\n",
    "        if packets_df is None:\n",
    "            break  # Stop capturing if DataFrame becomes invalid\n",
    "\n",
    "    print(packets_df)\n",
    "\n",
    "if __name__ == \"__main__\":\n",
    "    # Create a separate thread for packet capture\n",
    "    capture_thread = threading.Thread(target=capture_packets)\n",
    "    capture_thread.start()\n",
    "    capture_thread.join()\n"
   ]
  }
 ],
 "metadata": {
  "kernelspec": {
   "display_name": "Python 3",
   "language": "python",
   "name": "python3"
  },
  "language_info": {
   "codemirror_mode": {
    "name": "ipython",
    "version": 3
   },
   "file_extension": ".py",
   "mimetype": "text/x-python",
   "name": "python",
   "nbconvert_exporter": "python",
   "pygments_lexer": "ipython3",
   "version": "3.12.2"
  }
 },
 "nbformat": 4,
 "nbformat_minor": 2
}
