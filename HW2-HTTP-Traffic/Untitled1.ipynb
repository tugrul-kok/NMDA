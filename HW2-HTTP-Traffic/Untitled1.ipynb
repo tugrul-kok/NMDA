{
  "nbformat": 4,
  "nbformat_minor": 0,
  "metadata": {
    "colab": {
      "provenance": []
    },
    "kernelspec": {
      "name": "python3",
      "display_name": "Python 3"
    },
    "language_info": {
      "name": "python"
    }
  },
  "cells": [
    {
      "cell_type": "code",
      "source": [
        "#!apt-get install net-tools # To see my interface\n",
        "!apt-get install tcpdump # To capture packages\n",
        "#!apt-get install dnsutils\n",
        "!apt-get install curl # To create traffic to websites\n",
        "!apt-get install tshark #"
      ],
      "metadata": {
        "id": "Kx7WOe8-7Ddh"
      },
      "execution_count": null,
      "outputs": []
    },
    {
      "cell_type": "code",
      "source": [
        "!pip install pyshark\n",
        "!pip install nest_asyncio"
      ],
      "metadata": {
        "id": "GTstq8RT7NzE",
        "colab": {
          "base_uri": "https://localhost:8080/"
        },
        "outputId": "c62b92b7-7e11-4f99-b4bc-3439b2dbae3e"
      },
      "execution_count": 2,
      "outputs": [
        {
          "output_type": "stream",
          "name": "stdout",
          "text": [
            "Collecting pyshark\n",
            "  Downloading pyshark-0.6-py3-none-any.whl (41 kB)\n",
            "\u001b[?25l     \u001b[90m━━━━━━━━━━━━━━━━━━━━━━━━━━━━━━━━━━━━━━━━\u001b[0m \u001b[32m0.0/41.4 kB\u001b[0m \u001b[31m?\u001b[0m eta \u001b[36m-:--:--\u001b[0m\r\u001b[2K     \u001b[90m━━━━━━━━━━━━━━━━━━━━━━━━━━━━━━━━━━━━━━━━\u001b[0m \u001b[32m41.4/41.4 kB\u001b[0m \u001b[31m1.5 MB/s\u001b[0m eta \u001b[36m0:00:00\u001b[0m\n",
            "\u001b[?25hRequirement already satisfied: lxml in /usr/local/lib/python3.10/dist-packages (from pyshark) (4.9.4)\n",
            "Requirement already satisfied: termcolor in /usr/local/lib/python3.10/dist-packages (from pyshark) (2.4.0)\n",
            "Requirement already satisfied: packaging in /usr/local/lib/python3.10/dist-packages (from pyshark) (24.0)\n",
            "Requirement already satisfied: appdirs in /usr/local/lib/python3.10/dist-packages (from pyshark) (1.4.4)\n",
            "Installing collected packages: pyshark\n",
            "Successfully installed pyshark-0.6\n",
            "Requirement already satisfied: nest_asyncio in /usr/local/lib/python3.10/dist-packages (1.6.0)\n"
          ]
        }
      ]
    },
    {
      "cell_type": "code",
      "source": [
        "import pyshark\n",
        "import os\n",
        "import pandas as pd\n",
        "import nest_asyncio\n",
        "from os import listdir\n",
        "from os.path import isfile, join\n",
        "import numpy as np\n",
        "import matplotlib.pyplot as plt\n",
        "from sklearn.metrics import ConfusionMatrixDisplay"
      ],
      "metadata": {
        "id": "HhuOp7kigolr"
      },
      "execution_count": 20,
      "outputs": []
    },
    {
      "cell_type": "code",
      "source": [
        "from google.colab import drive\n",
        "\n",
        "# Mount Google Drive\n",
        "drive.mount('/content/drive')\n",
        "path = \"/content/drive/MyDrive/NMDA/HW2\""
      ],
      "metadata": {
        "colab": {
          "base_uri": "https://localhost:8080/"
        },
        "id": "1Fna4agL692N",
        "outputId": "5aecc91d-469a-4846-9e5b-e3e52bf96919"
      },
      "execution_count": null,
      "outputs": [
        {
          "output_type": "stream",
          "name": "stdout",
          "text": [
            "Mounted at /content/drive\n"
          ]
        }
      ]
    },
    {
      "cell_type": "code",
      "source": [
        "! mkdir captures"
      ],
      "metadata": {
        "id": "QDXYaeepAHTQ"
      },
      "execution_count": 4,
      "outputs": []
    },
    {
      "cell_type": "code",
      "source": [
        "! rm captures/*\n",
        "! rm data/*\n",
        "! rm *.zip\n",
        "! rm *.csv"
      ],
      "metadata": {
        "id": "GzW_qNAoXqSd"
      },
      "execution_count": 24,
      "outputs": []
    },
    {
      "cell_type": "code",
      "source": [
        "import urllib\n",
        "import json\n",
        "def get_information(ip):\n",
        "        info = json.loads(urllib.request.urlopen('http://ip-api.com/json/'+ip).read())\n",
        "        country = info['country']\n",
        "        city = info['city']\n",
        "        latitude = info['lat']\n",
        "        longitude = info['lon']\n",
        "        return country, city, latitude, longitude\n",
        "\n",
        "api='https://api.ipify.org'\n",
        "my_ip = urllib.request.urlopen(api).read().decode('UTF-8')\n",
        "my_country, my_city, my_latitude, my_longitude =  get_information(my_ip)\n",
        "my_ip, my_country, my_city, my_latitude, my_longitude"
      ],
      "metadata": {
        "colab": {
          "base_uri": "https://localhost:8080/"
        },
        "id": "XmXN0992mfjO",
        "outputId": "c0dc484a-5bd8-4407-8e00-2c255a02035f"
      },
      "execution_count": 25,
      "outputs": [
        {
          "output_type": "execute_result",
          "data": {
            "text/plain": [
              "('34.106.175.237', 'United States', 'Salt Lake City', 40.7607, -111.891)"
            ]
          },
          "metadata": {},
          "execution_count": 25
        }
      ]
    },
    {
      "cell_type": "code",
      "source": [
        "! bash capture.sh captures capture \\\n",
        "    https://www.indiatimes.com \\\n",
        "    https://www.washingtonpost.com \\\n",
        "    https://www.ndtv.com \\\n",
        "    https://www.cnbc.com \\\n",
        "    https://www.timesofindia.com \\\n",
        "    https://www.express.co.uk \\\n",
        "    https://www.rt.com \\\n",
        "    https://www.news18.com \\\n",
        "    https://www.nypost.com \\\n",
        "    https://www.abc.net.au\n"
      ],
      "metadata": {
        "colab": {
          "base_uri": "https://localhost:8080/"
        },
        "id": "z9EC7HQEAROb",
        "outputId": "9c85fbe2-2732-4360-ed37-ed87023515eb"
      },
      "execution_count": 26,
      "outputs": [
        {
          "output_type": "stream",
          "name": "stdout",
          "text": [
            "tcpdump: listening on eth0, link-type EN10MB (Ethernet), snapshot length 262144 bytes\n",
            "tcpdump: listening on eth0, link-type EN10MB (Ethernet), snapshot length 262144 bytes\n",
            "tcpdump: listening on eth0, link-type EN10MB (Ethernet), snapshot length 262144 bytes\n",
            "tcpdump: listening on eth0, link-type EN10MB (Ethernet), snapshot length 262144 bytes\n",
            "tcpdump: listening on eth0, link-type EN10MB (Ethernet), snapshot length 262144 bytes\n",
            "tcpdump: listening on eth0, link-type EN10MB (Ethernet), snapshot length 262144 bytes\n",
            "tcpdump: listening on eth0, link-type EN10MB (Ethernet), snapshot length 262144 bytes\n",
            "tcpdump: listening on eth0, link-type EN10MB (Ethernet), snapshot length 262144 bytes\n",
            "tcpdump: listening on eth0, link-type EN10MB (Ethernet), snapshot length 262144 bytes\n",
            "tcpdump: listening on eth0, link-type EN10MB (Ethernet), snapshot length 262144 bytes\n",
            "295 packets captured1411 packets captured\n",
            "\n",
            "295 packets received by filter1411 packets received by filter\n",
            "\n",
            "0 packets dropped by kernel0 packets dropped by kernel\n",
            "\n",
            "2221 packets captured\n",
            "2221 packets received by filter\n",
            "0 packets dropped by kernel\n",
            "3064 packets captured\n",
            "3064 packets received by filter\n",
            "0 packets dropped by kernel\n",
            "5045 packets captured\n",
            "5045 packets received by filter\n",
            "0 packets dropped by kernel\n",
            "1122 packets captured\n",
            "1122 packets received by filter\n",
            "0 packets dropped by kernel\n",
            "302 packets captured\n",
            "262 packets captured302 packets received by filter\n",
            "\n",
            "262 packets received by filter0 packets dropped by kernel\n",
            "\n",
            "0 packets dropped by kernel\n",
            "311 packets captured\n",
            "311 packets received by filter\n",
            "0 packets dropped by kernel\n",
            "3820 packets captured\n",
            "3820 packets received by filter\n",
            "0 packets dropped by kernel\n"
          ]
        }
      ]
    },
    {
      "cell_type": "code",
      "source": [
        "import zipfile\n",
        "directory_to_zip = \"/content/captures\"\n",
        "zip_file_name = \"captures.zip\"\n",
        "\n",
        "# Create a zipfile object in write mode\n",
        "with zipfile.ZipFile(zip_file_name, 'w') as zipf:\n",
        "    # Iterate over all the files and folders within the directory\n",
        "    for root, dirs, files in os.walk(directory_to_zip):\n",
        "        for file in files:\n",
        "            # Construct the full path of the file\n",
        "            file_path = os.path.join(root, file)\n",
        "            # Add the file to the zip\n",
        "            zipf.write(file_path, os.path.relpath(file_path, directory_to_zip))"
      ],
      "metadata": {
        "id": "cFyTAGXuqzUh"
      },
      "execution_count": 27,
      "outputs": []
    },
    {
      "cell_type": "code",
      "source": [
        "nest_asyncio.apply()\n",
        "\n",
        "# Directory containing the pcap files\n",
        "directory = 'captures'\n",
        "\n",
        "# Initialize CONVERSATIONS dictionary\n",
        "CONVERSATIONS = {'ip.src': [], 'ip.dst': [], 'tcp.srcport': [], 'tcp.dstport': [],\n",
        "                'bytes': [], 'packets': [], 'start': [], 'duration': [],\n",
        "                 'label': [], 'ip.proto':[], 'ip.len': [], 'frame.time': []}\n",
        "\n",
        "# Iterate over each file in the directory\n",
        "for filename in os.listdir(directory):\n",
        "    if filename.endswith(\".pcap\"):\n",
        "        filepath = os.path.join(directory, filename)\n",
        "        # Extract label from filename\n",
        "        label = filename.split('-')[-1].split('.')[0].replace('httpswww', '').replace('com', '')\n",
        "\n",
        "        # Read the pcap file using pyshark\n",
        "        cap = pyshark.FileCapture(filepath)\n",
        "\n",
        "        # Iterate over each packet in the pcap file\n",
        "        for packet in cap:\n",
        "            address_a = packet.ip.src\n",
        "            address_b = packet.ip.dst\n",
        "            tcp_srcport = packet.tcp.srcport\n",
        "            tcp_dstport = packet.tcp.dstport\n",
        "            packet_bytes = packet.length\n",
        "            packet_timestamp = packet.sniff_time\n",
        "            protocol = packet.ip.proto\n",
        "            d_a = tuple([address_a, address_b, tcp_srcport, tcp_dstport])\n",
        "            entry_a = hash(d_a)\n",
        "            ip_len = packet.ip.len\n",
        "            frame_time = packet.sniff_time.strftime(\"%Y-%m-%d %H:%M:%S.%f\")\n",
        "\n",
        "            d_b = tuple([address_a, address_b, tcp_srcport, tcp_dstport])\n",
        "            entry_b = hash(d_b)\n",
        "\n",
        "            if entry_a in CONVERSATIONS['start']:\n",
        "                loc = CONVERSATIONS['start'].index(entry_a)\n",
        "                CONVERSATIONS['bytes'][loc] += int(packet_bytes)\n",
        "                CONVERSATIONS['packets'][loc] += 1\n",
        "                CONVERSATIONS['duration'][loc] = (packet_timestamp - CONVERSATIONS['start'][loc]).total_seconds()\n",
        "                CONVERSATIONS['ip.proto'][loc] = protocol\n",
        "                CONVERSATIONS['ip.len'][loc] = ip_len\n",
        "                CONVERSATIONS['frame.time'][loc] = frame_time\n",
        "\n",
        "            elif entry_b in CONVERSATIONS['start']:\n",
        "                loc = CONVERSATIONS['start'].index(entry_b)\n",
        "                CONVERSATIONS['bytes'][loc] += int(packet_bytes)\n",
        "                CONVERSATIONS['packets'][loc] += 1\n",
        "                CONVERSATIONS['duration'][loc] = (packet_timestamp - CONVERSATIONS['start'][loc]).total_seconds()\n",
        "                CONVERSATIONS['ip.proto'][loc] = protocol\n",
        "                CONVERSATIONS['ip.len'][loc] = ip_len\n",
        "                CONVERSATIONS['frame.time'][loc] = frame_time\n",
        "\n",
        "            else:\n",
        "                CONVERSATIONS['ip.src'].append(address_a)\n",
        "                CONVERSATIONS['ip.dst'].append(address_b)\n",
        "                CONVERSATIONS['tcp.srcport'].append(tcp_srcport)\n",
        "                CONVERSATIONS['tcp.dstport'].append(tcp_dstport)\n",
        "                CONVERSATIONS['bytes'].append(int(packet_bytes))\n",
        "                CONVERSATIONS['start'].append(packet_timestamp)\n",
        "                CONVERSATIONS['packets'].append(1)\n",
        "                CONVERSATIONS['duration'].append(0)\n",
        "                CONVERSATIONS['label'].append(label)\n",
        "                CONVERSATIONS['ip.proto'].append(protocol)\n",
        "                CONVERSATIONS['ip.len'].append(ip_len)\n",
        "                CONVERSATIONS['frame.time'].append(frame_time)\n",
        "\n",
        "# Create DataFrame from CONVERSATIONS dictionary\n",
        "df = pd.DataFrame(CONVERSATIONS)\n",
        "\n",
        "# Display the DataFrame\n",
        "print(df)\n"
      ],
      "metadata": {
        "colab": {
          "base_uri": "https://localhost:8080/"
        },
        "id": "rjPcXsb1Dd7o",
        "outputId": "13be8b9f-a919-4b07-ed67-4ede818a2014"
      },
      "execution_count": 28,
      "outputs": [
        {
          "output_type": "stream",
          "name": "stdout",
          "text": [
            "              ip.src         ip.dst tcp.srcport tcp.dstport  bytes  packets  \\\n",
            "0        172.28.0.12    96.7.140.92       35122         443     74        1   \n",
            "1        96.7.140.92    172.28.0.12         443       35122     74        1   \n",
            "2        172.28.0.12    96.7.140.92       35122         443     66        1   \n",
            "3        172.28.0.12    96.7.140.92       35122         443    583        1   \n",
            "4        96.7.140.92    172.28.0.12         443       35122     66        1   \n",
            "...              ...            ...         ...         ...    ...      ...   \n",
            "17848  23.56.230.240    172.28.0.12         443       57074     66        1   \n",
            "17849  23.56.230.240    172.28.0.12         443       57074     97        1   \n",
            "17850    172.28.0.12  23.56.230.240       57074         443     54        1   \n",
            "17851  23.56.230.240    172.28.0.12         443       57074     66        1   \n",
            "17852    172.28.0.12  23.56.230.240       57074         443     54        1   \n",
            "\n",
            "                           start  duration       label ip.proto ip.len  \\\n",
            "0     2024-03-25 22:26:07.343018         0    abcnetau        6     60   \n",
            "1     2024-03-25 22:26:07.357927         0    abcnetau        6     60   \n",
            "2     2024-03-25 22:26:07.357951         0    abcnetau        6     52   \n",
            "3     2024-03-25 22:26:07.412579         0    abcnetau        6    569   \n",
            "4     2024-03-25 22:26:07.427117         0    abcnetau        6     52   \n",
            "...                          ...       ...         ...      ...    ...   \n",
            "17848 2024-03-25 22:22:18.616651         0  indiatimes        6     52   \n",
            "17849 2024-03-25 22:22:18.619696         0  indiatimes        6     83   \n",
            "17850 2024-03-25 22:22:18.619717         0  indiatimes        6     40   \n",
            "17851 2024-03-25 22:22:18.619774         0  indiatimes        6     52   \n",
            "17852 2024-03-25 22:22:18.619779         0  indiatimes        6     40   \n",
            "\n",
            "                       frame.time  \n",
            "0      2024-03-25 22:26:07.343018  \n",
            "1      2024-03-25 22:26:07.357927  \n",
            "2      2024-03-25 22:26:07.357951  \n",
            "3      2024-03-25 22:26:07.412579  \n",
            "4      2024-03-25 22:26:07.427117  \n",
            "...                           ...  \n",
            "17848  2024-03-25 22:22:18.616651  \n",
            "17849  2024-03-25 22:22:18.619696  \n",
            "17850  2024-03-25 22:22:18.619717  \n",
            "17851  2024-03-25 22:22:18.619774  \n",
            "17852  2024-03-25 22:22:18.619779  \n",
            "\n",
            "[17853 rows x 12 columns]\n"
          ]
        }
      ]
    },
    {
      "cell_type": "code",
      "source": [
        "#much easier than looping over all packets!\n",
        "#df_tcp = df[df[\"ip.proto\"]=='6']\n",
        "#df_flows_tcp = df_tcp.groupby([\"address_a\",\"address_b\",\"port_a\",\"port_b\"])\n",
        "\n",
        "#for flow, df_flow in df_flows_tcp: #flow is a tuple representing the flow, df_flow is the dataframe with all packets of the flow\n",
        " # print(flow)\n",
        " # display(df_flow)"
      ],
      "metadata": {
        "id": "2WvFoSS7F-_X"
      },
      "execution_count": null,
      "outputs": []
    },
    {
      "cell_type": "code",
      "source": [
        "! mkdir data\n",
        "df.to_csv('data/df_flows_tcp.csv', index=False)\n"
      ],
      "metadata": {
        "id": "e6JvMY5KPX4G",
        "colab": {
          "base_uri": "https://localhost:8080/"
        },
        "outputId": "28ad9266-ca8a-4e27-e7d4-42f5c1b6cb73"
      },
      "execution_count": 29,
      "outputs": [
        {
          "output_type": "stream",
          "name": "stdout",
          "text": [
            "mkdir: cannot create directory ‘data’: File exists\n"
          ]
        }
      ]
    },
    {
      "cell_type": "code",
      "source": [
        "def extract_features(flow,df_flow):\n",
        "  #compute flow features:\n",
        "  flow_features = {}\n",
        "  if(flow[0].split('.')[0]=='10'):\n",
        "    flow_features['direction'] = 'uplink'\n",
        "  else:\n",
        "    flow_features['direction'] = 'downlink'\n",
        "\n",
        "  flow_features['num_packets'] = len(df_flow);\n",
        "  pkt_sizes = df_flow['ip.len'].astype(float)\n",
        "  flow_features['total_bytes'] = pkt_sizes.sum()\n",
        "  flow_features['min_pkt_size'] = pkt_sizes.min()\n",
        "  flow_features['max_pkt_size'] = pkt_sizes.max()\n",
        "  flow_features['mean_pkt_size'] = pkt_sizes.mean()\n",
        "  flow_features['std_pkt_size'] = pkt_sizes.std()\n",
        "  iat = pd.to_datetime(df_flow['frame.time']).diff(1).dt.total_seconds().iloc[1:] #\n",
        "  flow_features['min_iat'] = iat.min()\n",
        "  flow_features['max_iat'] = iat.max()\n",
        "  flow_features['mean_iat'] = iat.mean()\n",
        "  flow_features['std_iat'] = iat.std()\n",
        "  flow_features['dur'] = iat.sum()\n",
        "  flow_features['dport'] = flow[3]\n",
        "  flow_features['sport'] = flow[2]\n",
        "  return flow_features\n",
        "\n",
        "df_udp = df[df[\"ip.proto\"]=='17']\n",
        "df_tcp = df[df[\"ip.proto\"]=='6']\n",
        "\n",
        "#df_flows_udp = df_udp.groupby([\"ip.src\",\"ip.dst\",\"udp.srcport\",\"udp.dstport\"])\n",
        "df_flows_tcp = df_tcp.groupby([\"ip.src\",\"ip.dst\",\"tcp.srcport\",\"tcp.dstport\"])\n",
        "\n",
        "for flow,df_flow in df_flows_tcp: #flow is a tuple representing the flow, df_flow is the dataframe with all packets of the flow\n",
        "  flow_features = extract_features(flow,df_flow)\n",
        "  display(flow)\n",
        "  display(flow_features)\n",
        "\n",
        "\n"
      ],
      "metadata": {
        "id": "3nkCsKKHLAix",
        "colab": {
          "base_uri": "https://localhost:8080/",
          "height": 1000
        },
        "outputId": "721e9e7f-b33c-4caa-e355-e20a42549f1e"
      },
      "execution_count": 30,
      "outputs": [
        {
          "output_type": "display_data",
          "data": {
            "text/plain": [
              "('172.28.0.12', '18.154.101.124', '52686', '443')"
            ]
          },
          "metadata": {}
        },
        {
          "output_type": "display_data",
          "data": {
            "text/plain": [
              "{'direction': 'downlink',\n",
              " 'num_packets': 52,\n",
              " 'total_bytes': 3542.0,\n",
              " 'min_pkt_size': 52.0,\n",
              " 'max_pkt_size': 569.0,\n",
              " 'mean_pkt_size': 68.11538461538461,\n",
              " 'std_pkt_size': 72.66891177845487,\n",
              " 'min_iat': 1e-05,\n",
              " 'max_iat': 0.332121,\n",
              " 'mean_iat': 0.013126549019607844,\n",
              " 'std_iat': 0.050105438737252345,\n",
              " 'dur': 0.6694540000000001,\n",
              " 'dport': '443',\n",
              " 'sport': '52686'}"
            ]
          },
          "metadata": {}
        },
        {
          "output_type": "display_data",
          "data": {
            "text/plain": [
              "('172.28.0.12', '18.154.101.124', '52692', '443')"
            ]
          },
          "metadata": {}
        },
        {
          "output_type": "display_data",
          "data": {
            "text/plain": [
              "{'direction': 'downlink',\n",
              " 'num_packets': 61,\n",
              " 'total_bytes': 4010.0,\n",
              " 'min_pkt_size': 52.0,\n",
              " 'max_pkt_size': 569.0,\n",
              " 'mean_pkt_size': 65.73770491803279,\n",
              " 'std_pkt_size': 67.24480194021055,\n",
              " 'min_iat': 8e-06,\n",
              " 'max_iat': 0.055097,\n",
              " 'mean_iat': 0.0023992333333333333,\n",
              " 'std_iat': 0.007365003587435504,\n",
              " 'dur': 0.143954,\n",
              " 'dport': '443',\n",
              " 'sport': '52692'}"
            ]
          },
          "metadata": {}
        },
        {
          "output_type": "display_data",
          "data": {
            "text/plain": [
              "('172.28.0.12', '18.154.101.124', '52698', '443')"
            ]
          },
          "metadata": {}
        },
        {
          "output_type": "display_data",
          "data": {
            "text/plain": [
              "{'direction': 'downlink',\n",
              " 'num_packets': 58,\n",
              " 'total_bytes': 3854.0,\n",
              " 'min_pkt_size': 52.0,\n",
              " 'max_pkt_size': 569.0,\n",
              " 'mean_pkt_size': 66.44827586206897,\n",
              " 'std_pkt_size': 68.91596011359563,\n",
              " 'min_iat': 1e-05,\n",
              " 'max_iat': 0.0938,\n",
              " 'mean_iat': 0.0032077894736842103,\n",
              " 'std_iat': 0.012474077307327101,\n",
              " 'dur': 0.18284399999999998,\n",
              " 'dport': '443',\n",
              " 'sport': '52698'}"
            ]
          },
          "metadata": {}
        },
        {
          "output_type": "display_data",
          "data": {
            "text/plain": [
              "('172.28.0.12', '18.154.101.124', '52714', '443')"
            ]
          },
          "metadata": {}
        },
        {
          "output_type": "display_data",
          "data": {
            "text/plain": [
              "{'direction': 'downlink',\n",
              " 'num_packets': 60,\n",
              " 'total_bytes': 3958.0,\n",
              " 'min_pkt_size': 52.0,\n",
              " 'max_pkt_size': 569.0,\n",
              " 'mean_pkt_size': 65.96666666666667,\n",
              " 'std_pkt_size': 67.78829624164214,\n",
              " 'min_iat': 1.1e-05,\n",
              " 'max_iat': 0.057102,\n",
              " 'mean_iat': 0.0026111525423728812,\n",
              " 'std_iat': 0.007803461992124811,\n",
              " 'dur': 0.154058,\n",
              " 'dport': '443',\n",
              " 'sport': '52714'}"
            ]
          },
          "metadata": {}
        },
        {
          "output_type": "display_data",
          "data": {
            "text/plain": [
              "('172.28.0.12', '18.154.101.124', '52730', '443')"
            ]
          },
          "metadata": {}
        },
        {
          "output_type": "display_data",
          "data": {
            "text/plain": [
              "{'direction': 'downlink',\n",
              " 'num_packets': 62,\n",
              " 'total_bytes': 4062.0,\n",
              " 'min_pkt_size': 52.0,\n",
              " 'max_pkt_size': 569.0,\n",
              " 'mean_pkt_size': 65.51612903225806,\n",
              " 'std_pkt_size': 66.71415460091077,\n",
              " 'min_iat': 9e-06,\n",
              " 'max_iat': 0.054921,\n",
              " 'mean_iat': 0.0024003770491803273,\n",
              " 'std_iat': 0.007319159373780421,\n",
              " 'dur': 0.14642299999999997,\n",
              " 'dport': '443',\n",
              " 'sport': '52730'}"
            ]
          },
          "metadata": {}
        },
        {
          "output_type": "display_data",
          "data": {
            "text/plain": [
              "('172.28.0.12', '18.154.101.124', '55390', '443')"
            ]
          },
          "metadata": {}
        },
        {
          "output_type": "display_data",
          "data": {
            "text/plain": [
              "{'direction': 'downlink',\n",
              " 'num_packets': 55,\n",
              " 'total_bytes': 3698.0,\n",
              " 'min_pkt_size': 52.0,\n",
              " 'max_pkt_size': 569.0,\n",
              " 'mean_pkt_size': 67.23636363636363,\n",
              " 'std_pkt_size': 70.71800117534215,\n",
              " 'min_iat': 1.3e-05,\n",
              " 'max_iat': 0.066443,\n",
              " 'mean_iat': 0.0029135370370370365,\n",
              " 'std_iat': 0.00924576961645104,\n",
              " 'dur': 0.15733099999999997,\n",
              " 'dport': '443',\n",
              " 'sport': '55390'}"
            ]
          },
          "metadata": {}
        },
        {
          "output_type": "display_data",
          "data": {
            "text/plain": [
              "('172.28.0.12', '18.154.101.124', '55394', '443')"
            ]
          },
          "metadata": {}
        },
        {
          "output_type": "display_data",
          "data": {
            "text/plain": [
              "{'direction': 'downlink',\n",
              " 'num_packets': 57,\n",
              " 'total_bytes': 3802.0,\n",
              " 'min_pkt_size': 52.0,\n",
              " 'max_pkt_size': 569.0,\n",
              " 'mean_pkt_size': 66.70175438596492,\n",
              " 'std_pkt_size': 69.50127565948513,\n",
              " 'min_iat': 1.2e-05,\n",
              " 'max_iat': 0.055571,\n",
              " 'mean_iat': 0.002488875,\n",
              " 'std_iat': 0.007640301243614797,\n",
              " 'dur': 0.139377,\n",
              " 'dport': '443',\n",
              " 'sport': '55394'}"
            ]
          },
          "metadata": {}
        },
        {
          "output_type": "display_data",
          "data": {
            "text/plain": [
              "('172.28.0.12', '18.154.101.124', '55396', '443')"
            ]
          },
          "metadata": {}
        },
        {
          "output_type": "display_data",
          "data": {
            "text/plain": [
              "{'direction': 'downlink',\n",
              " 'num_packets': 58,\n",
              " 'total_bytes': 3854.0,\n",
              " 'min_pkt_size': 52.0,\n",
              " 'max_pkt_size': 569.0,\n",
              " 'mean_pkt_size': 66.44827586206897,\n",
              " 'std_pkt_size': 68.91596011359563,\n",
              " 'min_iat': 7e-06,\n",
              " 'max_iat': 0.055206,\n",
              " 'mean_iat': 0.0025467192982456133,\n",
              " 'std_iat': 0.007570084309670122,\n",
              " 'dur': 0.14516299999999996,\n",
              " 'dport': '443',\n",
              " 'sport': '55396'}"
            ]
          },
          "metadata": {}
        },
        {
          "output_type": "display_data",
          "data": {
            "text/plain": [
              "('172.28.0.12', '18.154.101.124', '55408', '443')"
            ]
          },
          "metadata": {}
        },
        {
          "output_type": "display_data",
          "data": {
            "text/plain": [
              "{'direction': 'downlink',\n",
              " 'num_packets': 59,\n",
              " 'total_bytes': 3906.0,\n",
              " 'min_pkt_size': 52.0,\n",
              " 'max_pkt_size': 569.0,\n",
              " 'mean_pkt_size': 66.20338983050847,\n",
              " 'std_pkt_size': 68.34516345449234,\n",
              " 'min_iat': 6e-06,\n",
              " 'max_iat': 0.054619,\n",
              " 'mean_iat': 0.0025232931034482762,\n",
              " 'std_iat': 0.007456323730850871,\n",
              " 'dur': 0.146351,\n",
              " 'dport': '443',\n",
              " 'sport': '55408'}"
            ]
          },
          "metadata": {}
        },
        {
          "output_type": "display_data",
          "data": {
            "text/plain": [
              "('172.28.0.12', '18.154.101.124', '55416', '443')"
            ]
          },
          "metadata": {}
        },
        {
          "output_type": "display_data",
          "data": {
            "text/plain": [
              "{'direction': 'downlink',\n",
              " 'num_packets': 59,\n",
              " 'total_bytes': 3906.0,\n",
              " 'min_pkt_size': 52.0,\n",
              " 'max_pkt_size': 569.0,\n",
              " 'mean_pkt_size': 66.20338983050847,\n",
              " 'std_pkt_size': 68.34516345449234,\n",
              " 'min_iat': 1.5e-05,\n",
              " 'max_iat': 0.056054,\n",
              " 'mean_iat': 0.0024189482758620695,\n",
              " 'std_iat': 0.007571189979060892,\n",
              " 'dur': 0.14029900000000003,\n",
              " 'dport': '443',\n",
              " 'sport': '55416'}"
            ]
          },
          "metadata": {}
        },
        {
          "output_type": "display_data",
          "data": {
            "text/plain": [
              "('172.28.0.12', '184.24.57.145', '35370', '443')"
            ]
          },
          "metadata": {}
        },
        {
          "output_type": "display_data",
          "data": {
            "text/plain": [
              "{'direction': 'downlink',\n",
              " 'num_packets': 15,\n",
              " 'total_bytes': 1479.0,\n",
              " 'min_pkt_size': 40.0,\n",
              " 'max_pkt_size': 569.0,\n",
              " 'mean_pkt_size': 98.6,\n",
              " 'std_pkt_size': 134.54250523267996,\n",
              " 'min_iat': 7e-06,\n",
              " 'max_iat': 0.064488,\n",
              " 'mean_iat': 0.018171714285714288,\n",
              " 'std_iat': 0.02189105275055251,\n",
              " 'dur': 0.254404,\n",
              " 'dport': '443',\n",
              " 'sport': '35370'}"
            ]
          },
          "metadata": {}
        },
        {
          "output_type": "display_data",
          "data": {
            "text/plain": [
              "('172.28.0.12', '184.24.57.145', '42506', '443')"
            ]
          },
          "metadata": {}
        },
        {
          "output_type": "display_data",
          "data": {
            "text/plain": [
              "{'direction': 'downlink',\n",
              " 'num_packets': 14,\n",
              " 'total_bytes': 1439.0,\n",
              " 'min_pkt_size': 40.0,\n",
              " 'max_pkt_size': 569.0,\n",
              " 'mean_pkt_size': 102.78571428571429,\n",
              " 'std_pkt_size': 138.6041283497876,\n",
              " 'min_iat': 7e-06,\n",
              " 'max_iat': 0.054167,\n",
              " 'mean_iat': 0.019460384615384616,\n",
              " 'std_iat': 0.021100504455022165,\n",
              " 'dur': 0.252985,\n",
              " 'dport': '443',\n",
              " 'sport': '42506'}"
            ]
          },
          "metadata": {}
        },
        {
          "output_type": "display_data",
          "data": {
            "text/plain": [
              "('172.28.0.12', '184.24.57.145', '42522', '443')"
            ]
          },
          "metadata": {}
        },
        {
          "output_type": "display_data",
          "data": {
            "text/plain": [
              "{'direction': 'downlink',\n",
              " 'num_packets': 14,\n",
              " 'total_bytes': 1439.0,\n",
              " 'min_pkt_size': 40.0,\n",
              " 'max_pkt_size': 569.0,\n",
              " 'mean_pkt_size': 102.78571428571429,\n",
              " 'std_pkt_size': 138.6041283497876,\n",
              " 'min_iat': 1.1e-05,\n",
              " 'max_iat': 0.065153,\n",
              " 'mean_iat': 0.022894692307692303,\n",
              " 'std_iat': 0.025285349880199454,\n",
              " 'dur': 0.2976309999999999,\n",
              " 'dport': '443',\n",
              " 'sport': '42522'}"
            ]
          },
          "metadata": {}
        },
        {
          "output_type": "display_data",
          "data": {
            "text/plain": [
              "('172.28.0.12', '184.24.57.145', '42528', '443')"
            ]
          },
          "metadata": {}
        },
        {
          "output_type": "display_data",
          "data": {
            "text/plain": [
              "{'direction': 'downlink',\n",
              " 'num_packets': 14,\n",
              " 'total_bytes': 1439.0,\n",
              " 'min_pkt_size': 40.0,\n",
              " 'max_pkt_size': 569.0,\n",
              " 'mean_pkt_size': 102.78571428571429,\n",
              " 'std_pkt_size': 138.6041283497876,\n",
              " 'min_iat': 8e-06,\n",
              " 'max_iat': 0.054287,\n",
              " 'mean_iat': 0.019335000000000005,\n",
              " 'std_iat': 0.02079028321917076,\n",
              " 'dur': 0.25135500000000005,\n",
              " 'dport': '443',\n",
              " 'sport': '42528'}"
            ]
          },
          "metadata": {}
        },
        {
          "output_type": "display_data",
          "data": {
            "text/plain": [
              "('172.28.0.12', '184.24.57.145', '42540', '443')"
            ]
          },
          "metadata": {}
        },
        {
          "output_type": "display_data",
          "data": {
            "text/plain": [
              "{'direction': 'downlink',\n",
              " 'num_packets': 15,\n",
              " 'total_bytes': 1479.0,\n",
              " 'min_pkt_size': 40.0,\n",
              " 'max_pkt_size': 569.0,\n",
              " 'mean_pkt_size': 98.6,\n",
              " 'std_pkt_size': 134.54250523267996,\n",
              " 'min_iat': 8e-06,\n",
              " 'max_iat': 0.092611,\n",
              " 'mean_iat': 0.02061228571428571,\n",
              " 'std_iat': 0.02726842826541226,\n",
              " 'dur': 0.28857199999999994,\n",
              " 'dport': '443',\n",
              " 'sport': '42540'}"
            ]
          },
          "metadata": {}
        },
        {
          "output_type": "display_data",
          "data": {
            "text/plain": [
              "('172.28.0.12', '184.24.57.145', '42546', '443')"
            ]
          },
          "metadata": {}
        },
        {
          "output_type": "display_data",
          "data": {
            "text/plain": [
              "{'direction': 'downlink',\n",
              " 'num_packets': 15,\n",
              " 'total_bytes': 1479.0,\n",
              " 'min_pkt_size': 40.0,\n",
              " 'max_pkt_size': 569.0,\n",
              " 'mean_pkt_size': 98.6,\n",
              " 'std_pkt_size': 134.54250523267996,\n",
              " 'min_iat': 6e-06,\n",
              " 'max_iat': 0.086745,\n",
              " 'mean_iat': 0.019708714285714284,\n",
              " 'std_iat': 0.025869514685550907,\n",
              " 'dur': 0.275922,\n",
              " 'dport': '443',\n",
              " 'sport': '42546'}"
            ]
          },
          "metadata": {}
        },
        {
          "output_type": "display_data",
          "data": {
            "text/plain": [
              "('172.28.0.12', '184.24.57.145', '42554', '443')"
            ]
          },
          "metadata": {}
        },
        {
          "output_type": "display_data",
          "data": {
            "text/plain": [
              "{'direction': 'downlink',\n",
              " 'num_packets': 15,\n",
              " 'total_bytes': 1479.0,\n",
              " 'min_pkt_size': 40.0,\n",
              " 'max_pkt_size': 569.0,\n",
              " 'mean_pkt_size': 98.6,\n",
              " 'std_pkt_size': 134.54250523267996,\n",
              " 'min_iat': 6e-06,\n",
              " 'max_iat': 0.055785,\n",
              " 'mean_iat': 0.017560785714285713,\n",
              " 'std_iat': 0.019896331088839054,\n",
              " 'dur': 0.245851,\n",
              " 'dport': '443',\n",
              " 'sport': '42554'}"
            ]
          },
          "metadata": {}
        },
        {
          "output_type": "display_data",
          "data": {
            "text/plain": [
              "('172.28.0.12', '184.24.57.145', '42556', '443')"
            ]
          },
          "metadata": {}
        },
        {
          "output_type": "display_data",
          "data": {
            "text/plain": [
              "{'direction': 'downlink',\n",
              " 'num_packets': 15,\n",
              " 'total_bytes': 1479.0,\n",
              " 'min_pkt_size': 40.0,\n",
              " 'max_pkt_size': 569.0,\n",
              " 'mean_pkt_size': 98.6,\n",
              " 'std_pkt_size': 134.54250523267996,\n",
              " 'min_iat': 8e-06,\n",
              " 'max_iat': 0.054769,\n",
              " 'mean_iat': 0.016961214285714284,\n",
              " 'std_iat': 0.019758962220407034,\n",
              " 'dur': 0.237457,\n",
              " 'dport': '443',\n",
              " 'sport': '42556'}"
            ]
          },
          "metadata": {}
        },
        {
          "output_type": "display_data",
          "data": {
            "text/plain": [
              "('172.28.0.12', '184.24.57.145', '42564', '443')"
            ]
          },
          "metadata": {}
        },
        {
          "output_type": "display_data",
          "data": {
            "text/plain": [
              "{'direction': 'downlink',\n",
              " 'num_packets': 14,\n",
              " 'total_bytes': 1439.0,\n",
              " 'min_pkt_size': 40.0,\n",
              " 'max_pkt_size': 569.0,\n",
              " 'mean_pkt_size': 102.78571428571429,\n",
              " 'std_pkt_size': 138.6041283497876,\n",
              " 'min_iat': 7e-06,\n",
              " 'max_iat': 0.055105,\n",
              " 'mean_iat': 0.020706538461538464,\n",
              " 'std_iat': 0.022501565947786035,\n",
              " 'dur': 0.269185,\n",
              " 'dport': '443',\n",
              " 'sport': '42564'}"
            ]
          },
          "metadata": {}
        },
        {
          "output_type": "display_data",
          "data": {
            "text/plain": [
              "('172.28.0.12', '184.24.57.145', '59368', '443')"
            ]
          },
          "metadata": {}
        },
        {
          "output_type": "display_data",
          "data": {
            "text/plain": [
              "{'direction': 'downlink',\n",
              " 'num_packets': 15,\n",
              " 'total_bytes': 1479.0,\n",
              " 'min_pkt_size': 40.0,\n",
              " 'max_pkt_size': 569.0,\n",
              " 'mean_pkt_size': 98.6,\n",
              " 'std_pkt_size': 134.54250523267996,\n",
              " 'min_iat': 7e-06,\n",
              " 'max_iat': 0.055641,\n",
              " 'mean_iat': 0.017761285714285716,\n",
              " 'std_iat': 0.02068868002789698,\n",
              " 'dur': 0.24865800000000002,\n",
              " 'dport': '443',\n",
              " 'sport': '59368'}"
            ]
          },
          "metadata": {}
        },
        {
          "output_type": "display_data",
          "data": {
            "text/plain": [
              "('172.28.0.12', '192.0.66.32', '49078', '443')"
            ]
          },
          "metadata": {}
        },
        {
          "output_type": "display_data",
          "data": {
            "text/plain": [
              "{'direction': 'downlink',\n",
              " 'num_packets': 15,\n",
              " 'total_bytes': 1464.0,\n",
              " 'min_pkt_size': 40.0,\n",
              " 'max_pkt_size': 557.0,\n",
              " 'mean_pkt_size': 97.6,\n",
              " 'std_pkt_size': 129.68246935165467,\n",
              " 'min_iat': 8e-06,\n",
              " 'max_iat': 0.054003,\n",
              " 'mean_iat': 0.008676357142857144,\n",
              " 'std_iat': 0.01487395400644073,\n",
              " 'dur': 0.12146900000000001,\n",
              " 'dport': '443',\n",
              " 'sport': '49078'}"
            ]
          },
          "metadata": {}
        },
        {
          "output_type": "display_data",
          "data": {
            "text/plain": [
              "('172.28.0.12', '192.0.66.32', '49094', '443')"
            ]
          },
          "metadata": {}
        },
        {
          "output_type": "display_data",
          "data": {
            "text/plain": [
              "{'direction': 'downlink',\n",
              " 'num_packets': 15,\n",
              " 'total_bytes': 1464.0,\n",
              " 'min_pkt_size': 40.0,\n",
              " 'max_pkt_size': 557.0,\n",
              " 'mean_pkt_size': 97.6,\n",
              " 'std_pkt_size': 129.68246935165467,\n",
              " 'min_iat': 8e-06,\n",
              " 'max_iat': 0.055301,\n",
              " 'mean_iat': 0.008747785714285713,\n",
              " 'std_iat': 0.015198084956176711,\n",
              " 'dur': 0.122469,\n",
              " 'dport': '443',\n",
              " 'sport': '49094'}"
            ]
          },
          "metadata": {}
        },
        {
          "output_type": "display_data",
          "data": {
            "text/plain": [
              "('172.28.0.12', '192.0.66.32', '49108', '443')"
            ]
          },
          "metadata": {}
        },
        {
          "output_type": "display_data",
          "data": {
            "text/plain": [
              "{'direction': 'downlink',\n",
              " 'num_packets': 17,\n",
              " 'total_bytes': 1544.0,\n",
              " 'min_pkt_size': 40.0,\n",
              " 'max_pkt_size': 557.0,\n",
              " 'mean_pkt_size': 90.82352941176471,\n",
              " 'std_pkt_size': 122.80586065723698,\n",
              " 'min_iat': 7e-06,\n",
              " 'max_iat': 0.055448,\n",
              " 'mean_iat': 0.007679937499999999,\n",
              " 'std_iat': 0.014500816645824928,\n",
              " 'dur': 0.12287899999999999,\n",
              " 'dport': '443',\n",
              " 'sport': '49108'}"
            ]
          },
          "metadata": {}
        },
        {
          "output_type": "display_data",
          "data": {
            "text/plain": [
              "('172.28.0.12', '192.0.66.32', '49116', '443')"
            ]
          },
          "metadata": {}
        },
        {
          "output_type": "display_data",
          "data": {
            "text/plain": [
              "{'direction': 'downlink',\n",
              " 'num_packets': 16,\n",
              " 'total_bytes': 1504.0,\n",
              " 'min_pkt_size': 40.0,\n",
              " 'max_pkt_size': 557.0,\n",
              " 'mean_pkt_size': 94.0,\n",
              " 'std_pkt_size': 126.11000488991083,\n",
              " 'min_iat': 9e-06,\n",
              " 'max_iat': 0.091587,\n",
              " 'mean_iat': 0.0104824,\n",
              " 'std_iat': 0.02339240869781721,\n",
              " 'dur': 0.157236,\n",
              " 'dport': '443',\n",
              " 'sport': '49116'}"
            ]
          },
          "metadata": {}
        },
        {
          "output_type": "display_data",
          "data": {
            "text/plain": [
              "('172.28.0.12', '192.0.66.32', '49128', '443')"
            ]
          },
          "metadata": {}
        },
        {
          "output_type": "display_data",
          "data": {
            "text/plain": [
              "{'direction': 'downlink',\n",
              " 'num_packets': 17,\n",
              " 'total_bytes': 1544.0,\n",
              " 'min_pkt_size': 40.0,\n",
              " 'max_pkt_size': 557.0,\n",
              " 'mean_pkt_size': 90.82352941176471,\n",
              " 'std_pkt_size': 122.80586065723698,\n",
              " 'min_iat': 4e-06,\n",
              " 'max_iat': 0.055827,\n",
              " 'mean_iat': 0.00769825,\n",
              " 'std_iat': 0.014579645823315918,\n",
              " 'dur': 0.123172,\n",
              " 'dport': '443',\n",
              " 'sport': '49128'}"
            ]
          },
          "metadata": {}
        },
        {
          "output_type": "display_data",
          "data": {
            "text/plain": [
              "('172.28.0.12', '192.0.66.32', '49138', '443')"
            ]
          },
          "metadata": {}
        },
        {
          "output_type": "display_data",
          "data": {
            "text/plain": [
              "{'direction': 'downlink',\n",
              " 'num_packets': 15,\n",
              " 'total_bytes': 1464.0,\n",
              " 'min_pkt_size': 40.0,\n",
              " 'max_pkt_size': 557.0,\n",
              " 'mean_pkt_size': 97.6,\n",
              " 'std_pkt_size': 129.68246935165467,\n",
              " 'min_iat': 4e-06,\n",
              " 'max_iat': 0.054966,\n",
              " 'mean_iat': 0.008450142857142857,\n",
              " 'std_iat': 0.01496908227934212,\n",
              " 'dur': 0.118302,\n",
              " 'dport': '443',\n",
              " 'sport': '49138'}"
            ]
          },
          "metadata": {}
        },
        {
          "output_type": "display_data",
          "data": {
            "text/plain": [
              "('172.28.0.12', '192.0.66.32', '49152', '443')"
            ]
          },
          "metadata": {}
        },
        {
          "output_type": "display_data",
          "data": {
            "text/plain": [
              "{'direction': 'downlink',\n",
              " 'num_packets': 16,\n",
              " 'total_bytes': 1504.0,\n",
              " 'min_pkt_size': 40.0,\n",
              " 'max_pkt_size': 557.0,\n",
              " 'mean_pkt_size': 94.0,\n",
              " 'std_pkt_size': 126.11000488991083,\n",
              " 'min_iat': 7e-06,\n",
              " 'max_iat': 0.054438,\n",
              " 'mean_iat': 0.008081266666666665,\n",
              " 'std_iat': 0.014629811777261364,\n",
              " 'dur': 0.12121899999999998,\n",
              " 'dport': '443',\n",
              " 'sport': '49152'}"
            ]
          },
          "metadata": {}
        },
        {
          "output_type": "display_data",
          "data": {
            "text/plain": [
              "('172.28.0.12', '192.0.66.32', '58918', '443')"
            ]
          },
          "metadata": {}
        },
        {
          "output_type": "display_data",
          "data": {
            "text/plain": [
              "{'direction': 'downlink',\n",
              " 'num_packets': 16,\n",
              " 'total_bytes': 1504.0,\n",
              " 'min_pkt_size': 40.0,\n",
              " 'max_pkt_size': 557.0,\n",
              " 'mean_pkt_size': 94.0,\n",
              " 'std_pkt_size': 126.11000488991083,\n",
              " 'min_iat': 1.7e-05,\n",
              " 'max_iat': 0.055322,\n",
              " 'mean_iat': 0.008145333333333333,\n",
              " 'std_iat': 0.014797848220345447,\n",
              " 'dur': 0.12218,\n",
              " 'dport': '443',\n",
              " 'sport': '58918'}"
            ]
          },
          "metadata": {}
        },
        {
          "output_type": "display_data",
          "data": {
            "text/plain": [
              "('172.28.0.12', '192.0.66.32', '58932', '443')"
            ]
          },
          "metadata": {}
        },
        {
          "output_type": "display_data",
          "data": {
            "text/plain": [
              "{'direction': 'downlink',\n",
              " 'num_packets': 16,\n",
              " 'total_bytes': 1504.0,\n",
              " 'min_pkt_size': 40.0,\n",
              " 'max_pkt_size': 557.0,\n",
              " 'mean_pkt_size': 94.0,\n",
              " 'std_pkt_size': 126.11000488991083,\n",
              " 'min_iat': 4e-06,\n",
              " 'max_iat': 0.053851,\n",
              " 'mean_iat': 0.007898933333333334,\n",
              " 'std_iat': 0.014400822622667215,\n",
              " 'dur': 0.118484,\n",
              " 'dport': '443',\n",
              " 'sport': '58932'}"
            ]
          },
          "metadata": {}
        },
        {
          "output_type": "display_data",
          "data": {
            "text/plain": [
              "('172.28.0.12', '192.0.66.32', '58946', '443')"
            ]
          },
          "metadata": {}
        },
        {
          "output_type": "display_data",
          "data": {
            "text/plain": [
              "{'direction': 'downlink',\n",
              " 'num_packets': 16,\n",
              " 'total_bytes': 1504.0,\n",
              " 'min_pkt_size': 40.0,\n",
              " 'max_pkt_size': 557.0,\n",
              " 'mean_pkt_size': 94.0,\n",
              " 'std_pkt_size': 126.11000488991083,\n",
              " 'min_iat': 7e-06,\n",
              " 'max_iat': 0.059562,\n",
              " 'mean_iat': 0.008342533333333336,\n",
              " 'std_iat': 0.015601577840840633,\n",
              " 'dur': 0.12513800000000003,\n",
              " 'dport': '443',\n",
              " 'sport': '58946'}"
            ]
          },
          "metadata": {}
        },
        {
          "output_type": "display_data",
          "data": {
            "text/plain": [
              "('172.28.0.12', '23.222.170.6', '36270', '443')"
            ]
          },
          "metadata": {}
        },
        {
          "output_type": "display_data",
          "data": {
            "text/plain": [
              "{'direction': 'downlink',\n",
              " 'num_packets': 155,\n",
              " 'total_bytes': 8881.0,\n",
              " 'min_pkt_size': 40.0,\n",
              " 'max_pkt_size': 569.0,\n",
              " 'mean_pkt_size': 57.29677419354839,\n",
              " 'std_pkt_size': 42.76212886247921,\n",
              " 'min_iat': 5e-06,\n",
              " 'max_iat': 10.01324,\n",
              " 'mean_iat': 0.0666811038961039,\n",
              " 'std_iat': 0.8067720368067567,\n",
              " 'dur': 10.26889,\n",
              " 'dport': '443',\n",
              " 'sport': '36270'}"
            ]
          },
          "metadata": {}
        },
        {
          "output_type": "display_data",
          "data": {
            "text/plain": [
              "('172.28.0.12', '23.222.170.6', '37542', '443')"
            ]
          },
          "metadata": {}
        },
        {
          "output_type": "display_data",
          "data": {
            "text/plain": [
              "{'direction': 'downlink',\n",
              " 'num_packets': 183,\n",
              " 'total_bytes': 10385.0,\n",
              " 'min_pkt_size': 40.0,\n",
              " 'max_pkt_size': 569.0,\n",
              " 'mean_pkt_size': 56.74863387978142,\n",
              " 'std_pkt_size': 39.391137869182636,\n",
              " 'min_iat': 4e-06,\n",
              " 'max_iat': 10.033796,\n",
              " 'mean_iat': 0.05648436813186813,\n",
              " 'std_iat': 0.7436683662842021,\n",
              " 'dur': 10.280154999999999,\n",
              " 'dport': '443',\n",
              " 'sport': '37542'}"
            ]
          },
          "metadata": {}
        },
        {
          "output_type": "display_data",
          "data": {
            "text/plain": [
              "('172.28.0.12', '23.222.170.6', '38378', '443')"
            ]
          },
          "metadata": {}
        },
        {
          "output_type": "display_data",
          "data": {
            "text/plain": [
              "{'direction': 'downlink',\n",
              " 'num_packets': 204,\n",
              " 'total_bytes': 11537.0,\n",
              " 'min_pkt_size': 40.0,\n",
              " 'max_pkt_size': 569.0,\n",
              " 'mean_pkt_size': 56.55392156862745,\n",
              " 'std_pkt_size': 37.300695780746636,\n",
              " 'min_iat': 4e-06,\n",
              " 'max_iat': 8.11443,\n",
              " 'mean_iat': 0.04285578325123152,\n",
              " 'std_iat': 0.5694144186747514,\n",
              " 'dur': 8.699724,\n",
              " 'dport': '443',\n",
              " 'sport': '38378'}"
            ]
          },
          "metadata": {}
        },
        {
          "output_type": "display_data",
          "data": {
            "text/plain": [
              "('172.28.0.12', '23.222.170.6', '45392', '443')"
            ]
          },
          "metadata": {}
        },
        {
          "output_type": "display_data",
          "data": {
            "text/plain": [
              "{'direction': 'downlink',\n",
              " 'num_packets': 191,\n",
              " 'total_bytes': 10777.0,\n",
              " 'min_pkt_size': 40.0,\n",
              " 'max_pkt_size': 569.0,\n",
              " 'mean_pkt_size': 56.424083769633505,\n",
              " 'std_pkt_size': 38.52044222942982,\n",
              " 'min_iat': 5e-06,\n",
              " 'max_iat': 10.047416,\n",
              " 'mean_iat': 0.05466016842105261,\n",
              " 'std_iat': 0.7288161522877906,\n",
              " 'dur': 10.385431999999996,\n",
              " 'dport': '443',\n",
              " 'sport': '45392'}"
            ]
          },
          "metadata": {}
        },
        {
          "output_type": "display_data",
          "data": {
            "text/plain": [
              "('172.28.0.12', '23.222.170.6', '48610', '443')"
            ]
          },
          "metadata": {}
        },
        {
          "output_type": "display_data",
          "data": {
            "text/plain": [
              "{'direction': 'downlink',\n",
              " 'num_packets': 173,\n",
              " 'total_bytes': 9913.0,\n",
              " 'min_pkt_size': 40.0,\n",
              " 'max_pkt_size': 569.0,\n",
              " 'mean_pkt_size': 57.30057803468208,\n",
              " 'std_pkt_size': 40.46735476886912,\n",
              " 'min_iat': 5e-06,\n",
              " 'max_iat': 8.099727,\n",
              " 'mean_iat': 0.04856341279069767,\n",
              " 'std_iat': 0.6175057007542697,\n",
              " 'dur': 8.352906999999998,\n",
              " 'dport': '443',\n",
              " 'sport': '48610'}"
            ]
          },
          "metadata": {}
        },
        {
          "output_type": "display_data",
          "data": {
            "text/plain": [
              "('172.28.0.12', '23.222.170.6', '49760', '443')"
            ]
          },
          "metadata": {}
        },
        {
          "output_type": "display_data",
          "data": {
            "text/plain": [
              "{'direction': 'downlink',\n",
              " 'num_packets': 183,\n",
              " 'total_bytes': 10361.0,\n",
              " 'min_pkt_size': 40.0,\n",
              " 'max_pkt_size': 569.0,\n",
              " 'mean_pkt_size': 56.61748633879781,\n",
              " 'std_pkt_size': 39.346532028347546,\n",
              " 'min_iat': 5e-06,\n",
              " 'max_iat': 9.052617,\n",
              " 'mean_iat': 0.051498153846153846,\n",
              " 'std_iat': 0.6709160845296901,\n",
              " 'dur': 9.372664,\n",
              " 'dport': '443',\n",
              " 'sport': '49760'}"
            ]
          },
          "metadata": {}
        },
        {
          "output_type": "display_data",
          "data": {
            "text/plain": [
              "('172.28.0.12', '23.222.170.6', '52406', '443')"
            ]
          },
          "metadata": {}
        },
        {
          "output_type": "display_data",
          "data": {
            "text/plain": [
              "{'direction': 'downlink',\n",
              " 'num_packets': 177,\n",
              " 'total_bytes': 10116.0,\n",
              " 'min_pkt_size': 40.0,\n",
              " 'max_pkt_size': 569.0,\n",
              " 'mean_pkt_size': 57.152542372881356,\n",
              " 'std_pkt_size': 40.2728535738019,\n",
              " 'min_iat': 5e-06,\n",
              " 'max_iat': 9.973928,\n",
              " 'mean_iat': 0.058933965909090925,\n",
              " 'std_iat': 0.75169564409537,\n",
              " 'dur': 10.372378000000003,\n",
              " 'dport': '443',\n",
              " 'sport': '52406'}"
            ]
          },
          "metadata": {}
        },
        {
          "output_type": "display_data",
          "data": {
            "text/plain": [
              "('172.28.0.12', '23.222.170.6', '54356', '443')"
            ]
          },
          "metadata": {}
        },
        {
          "output_type": "display_data",
          "data": {
            "text/plain": [
              "{'direction': 'downlink',\n",
              " 'num_packets': 172,\n",
              " 'total_bytes': 9765.0,\n",
              " 'min_pkt_size': 40.0,\n",
              " 'max_pkt_size': 569.0,\n",
              " 'mean_pkt_size': 56.77325581395349,\n",
              " 'std_pkt_size': 40.611852400740794,\n",
              " 'min_iat': 5e-06,\n",
              " 'max_iat': 9.028284,\n",
              " 'mean_iat': 0.054323245614035086,\n",
              " 'std_iat': 0.6903110866010878,\n",
              " 'dur': 9.289275,\n",
              " 'dport': '443',\n",
              " 'sport': '54356'}"
            ]
          },
          "metadata": {}
        },
        {
          "output_type": "display_data",
          "data": {
            "text/plain": [
              "('172.28.0.12', '23.222.170.6', '55536', '443')"
            ]
          },
          "metadata": {}
        },
        {
          "output_type": "display_data",
          "data": {
            "text/plain": [
              "{'direction': 'downlink',\n",
              " 'num_packets': 211,\n",
              " 'total_bytes': 11793.0,\n",
              " 'min_pkt_size': 40.0,\n",
              " 'max_pkt_size': 569.0,\n",
              " 'mean_pkt_size': 55.89099526066351,\n",
              " 'std_pkt_size': 36.69426404448853,\n",
              " 'min_iat': 3e-06,\n",
              " 'max_iat': 10.678757,\n",
              " 'mean_iat': 0.05730450952380951,\n",
              " 'std_iat': 0.736752995396526,\n",
              " 'dur': 12.033946999999998,\n",
              " 'dport': '443',\n",
              " 'sport': '55536'}"
            ]
          },
          "metadata": {}
        },
        {
          "output_type": "display_data",
          "data": {
            "text/plain": [
              "('172.28.0.12', '23.222.170.6', '60812', '443')"
            ]
          },
          "metadata": {}
        },
        {
          "output_type": "display_data",
          "data": {
            "text/plain": [
              "{'direction': 'downlink',\n",
              " 'num_packets': 226,\n",
              " 'total_bytes': 12609.0,\n",
              " 'min_pkt_size': 40.0,\n",
              " 'max_pkt_size': 569.0,\n",
              " 'mean_pkt_size': 55.79203539823009,\n",
              " 'std_pkt_size': 35.47363500866001,\n",
              " 'min_iat': 5e-06,\n",
              " 'max_iat': 9.146178,\n",
              " 'mean_iat': 0.04196118666666667,\n",
              " 'std_iat': 0.6096763440138758,\n",
              " 'dur': 9.441267000000002,\n",
              " 'dport': '443',\n",
              " 'sport': '60812'}"
            ]
          },
          "metadata": {}
        },
        {
          "output_type": "display_data",
          "data": {
            "text/plain": [
              "('172.28.0.12', '23.45.85.122', '40772', '443')"
            ]
          },
          "metadata": {}
        },
        {
          "output_type": "display_data",
          "data": {
            "text/plain": [
              "{'direction': 'downlink',\n",
              " 'num_packets': 16,\n",
              " 'total_bytes': 1659.0,\n",
              " 'min_pkt_size': 40.0,\n",
              " 'max_pkt_size': 569.0,\n",
              " 'mean_pkt_size': 103.6875,\n",
              " 'std_pkt_size': 127.09456780943341,\n",
              " 'min_iat': 1.2e-05,\n",
              " 'max_iat': 0.07489,\n",
              " 'mean_iat': 0.01784773333333333,\n",
              " 'std_iat': 0.026106274433188515,\n",
              " 'dur': 0.26771599999999995,\n",
              " 'dport': '443',\n",
              " 'sport': '40772'}"
            ]
          },
          "metadata": {}
        },
        {
          "output_type": "display_data",
          "data": {
            "text/plain": [
              "('172.28.0.12', '23.45.85.122', '40786', '443')"
            ]
          },
          "metadata": {}
        },
        {
          "output_type": "display_data",
          "data": {
            "text/plain": [
              "{'direction': 'downlink',\n",
              " 'num_packets': 16,\n",
              " 'total_bytes': 1659.0,\n",
              " 'min_pkt_size': 40.0,\n",
              " 'max_pkt_size': 569.0,\n",
              " 'mean_pkt_size': 103.6875,\n",
              " 'std_pkt_size': 127.09456780943341,\n",
              " 'min_iat': 6e-06,\n",
              " 'max_iat': 0.084705,\n",
              " 'mean_iat': 0.018532666666666666,\n",
              " 'std_iat': 0.027642500222009755,\n",
              " 'dur': 0.27799,\n",
              " 'dport': '443',\n",
              " 'sport': '40786'}"
            ]
          },
          "metadata": {}
        },
        {
          "output_type": "display_data",
          "data": {
            "text/plain": [
              "('172.28.0.12', '23.45.85.122', '40794', '443')"
            ]
          },
          "metadata": {}
        },
        {
          "output_type": "display_data",
          "data": {
            "text/plain": [
              "{'direction': 'downlink',\n",
              " 'num_packets': 16,\n",
              " 'total_bytes': 1659.0,\n",
              " 'min_pkt_size': 40.0,\n",
              " 'max_pkt_size': 569.0,\n",
              " 'mean_pkt_size': 103.6875,\n",
              " 'std_pkt_size': 127.09456780943341,\n",
              " 'min_iat': 6e-06,\n",
              " 'max_iat': 0.054775,\n",
              " 'mean_iat': 0.01687006666666667,\n",
              " 'std_iat': 0.02391654541605236,\n",
              " 'dur': 0.253051,\n",
              " 'dport': '443',\n",
              " 'sport': '40794'}"
            ]
          },
          "metadata": {}
        },
        {
          "output_type": "display_data",
          "data": {
            "text/plain": [
              "('172.28.0.12', '23.45.85.122', '40810', '443')"
            ]
          },
          "metadata": {}
        },
        {
          "output_type": "display_data",
          "data": {
            "text/plain": [
              "{'direction': 'downlink',\n",
              " 'num_packets': 16,\n",
              " 'total_bytes': 1659.0,\n",
              " 'min_pkt_size': 40.0,\n",
              " 'max_pkt_size': 569.0,\n",
              " 'mean_pkt_size': 103.6875,\n",
              " 'std_pkt_size': 127.09456780943341,\n",
              " 'min_iat': 1e-05,\n",
              " 'max_iat': 0.054684,\n",
              " 'mean_iat': 0.0163564,\n",
              " 'std_iat': 0.022345627734046126,\n",
              " 'dur': 0.24534599999999998,\n",
              " 'dport': '443',\n",
              " 'sport': '40810'}"
            ]
          },
          "metadata": {}
        },
        {
          "output_type": "display_data",
          "data": {
            "text/plain": [
              "('172.28.0.12', '23.45.85.122', '40826', '443')"
            ]
          },
          "metadata": {}
        },
        {
          "output_type": "display_data",
          "data": {
            "text/plain": [
              "{'direction': 'downlink',\n",
              " 'num_packets': 16,\n",
              " 'total_bytes': 1659.0,\n",
              " 'min_pkt_size': 40.0,\n",
              " 'max_pkt_size': 569.0,\n",
              " 'mean_pkt_size': 103.6875,\n",
              " 'std_pkt_size': 127.09456780943341,\n",
              " 'min_iat': 7e-06,\n",
              " 'max_iat': 0.057691,\n",
              " 'mean_iat': 0.017755266666666665,\n",
              " 'std_iat': 0.023751203537825994,\n",
              " 'dur': 0.266329,\n",
              " 'dport': '443',\n",
              " 'sport': '40826'}"
            ]
          },
          "metadata": {}
        },
        {
          "output_type": "display_data",
          "data": {
            "text/plain": [
              "('172.28.0.12', '23.45.85.122', '40830', '443')"
            ]
          },
          "metadata": {}
        },
        {
          "output_type": "display_data",
          "data": {
            "text/plain": [
              "{'direction': 'downlink',\n",
              " 'num_packets': 16,\n",
              " 'total_bytes': 1659.0,\n",
              " 'min_pkt_size': 40.0,\n",
              " 'max_pkt_size': 569.0,\n",
              " 'mean_pkt_size': 103.6875,\n",
              " 'std_pkt_size': 127.09456780943341,\n",
              " 'min_iat': 6e-06,\n",
              " 'max_iat': 0.126284,\n",
              " 'mean_iat': 0.022245266666666666,\n",
              " 'std_iat': 0.036382104936879274,\n",
              " 'dur': 0.333679,\n",
              " 'dport': '443',\n",
              " 'sport': '40830'}"
            ]
          },
          "metadata": {}
        },
        {
          "output_type": "display_data",
          "data": {
            "text/plain": [
              "('172.28.0.12', '23.45.85.122', '40846', '443')"
            ]
          },
          "metadata": {}
        },
        {
          "output_type": "display_data",
          "data": {
            "text/plain": [
              "{'direction': 'downlink',\n",
              " 'num_packets': 16,\n",
              " 'total_bytes': 1659.0,\n",
              " 'min_pkt_size': 40.0,\n",
              " 'max_pkt_size': 569.0,\n",
              " 'mean_pkt_size': 103.6875,\n",
              " 'std_pkt_size': 127.09456780943341,\n",
              " 'min_iat': 1.1e-05,\n",
              " 'max_iat': 0.169741,\n",
              " 'mean_iat': 0.028216866666666666,\n",
              " 'std_iat': 0.04623621746433767,\n",
              " 'dur': 0.423253,\n",
              " 'dport': '443',\n",
              " 'sport': '40846'}"
            ]
          },
          "metadata": {}
        },
        {
          "output_type": "display_data",
          "data": {
            "text/plain": [
              "('172.28.0.12', '23.45.85.122', '58656', '443')"
            ]
          },
          "metadata": {}
        },
        {
          "output_type": "display_data",
          "data": {
            "text/plain": [
              "{'direction': 'downlink',\n",
              " 'num_packets': 16,\n",
              " 'total_bytes': 1659.0,\n",
              " 'min_pkt_size': 40.0,\n",
              " 'max_pkt_size': 569.0,\n",
              " 'mean_pkt_size': 103.6875,\n",
              " 'std_pkt_size': 127.09456780943341,\n",
              " 'min_iat': 7e-06,\n",
              " 'max_iat': 0.07313,\n",
              " 'mean_iat': 0.021874933333333336,\n",
              " 'std_iat': 0.028837916274701034,\n",
              " 'dur': 0.328124,\n",
              " 'dport': '443',\n",
              " 'sport': '58656'}"
            ]
          },
          "metadata": {}
        },
        {
          "output_type": "display_data",
          "data": {
            "text/plain": [
              "('172.28.0.12', '23.45.85.122', '58660', '443')"
            ]
          },
          "metadata": {}
        },
        {
          "output_type": "display_data",
          "data": {
            "text/plain": [
              "{'direction': 'downlink',\n",
              " 'num_packets': 16,\n",
              " 'total_bytes': 1659.0,\n",
              " 'min_pkt_size': 40.0,\n",
              " 'max_pkt_size': 569.0,\n",
              " 'mean_pkt_size': 103.6875,\n",
              " 'std_pkt_size': 127.09456780943341,\n",
              " 'min_iat': 8e-06,\n",
              " 'max_iat': 0.143336,\n",
              " 'mean_iat': 0.03264266666666667,\n",
              " 'std_iat': 0.049007340346212666,\n",
              " 'dur': 0.48964,\n",
              " 'dport': '443',\n",
              " 'sport': '58660'}"
            ]
          },
          "metadata": {}
        },
        {
          "output_type": "display_data",
          "data": {
            "text/plain": [
              "('172.28.0.12', '23.45.85.122', '58672', '443')"
            ]
          },
          "metadata": {}
        },
        {
          "output_type": "display_data",
          "data": {
            "text/plain": [
              "{'direction': 'downlink',\n",
              " 'num_packets': 16,\n",
              " 'total_bytes': 1659.0,\n",
              " 'min_pkt_size': 40.0,\n",
              " 'max_pkt_size': 569.0,\n",
              " 'mean_pkt_size': 103.6875,\n",
              " 'std_pkt_size': 127.09456780943341,\n",
              " 'min_iat': 2e-05,\n",
              " 'max_iat': 0.187899,\n",
              " 'mean_iat': 0.041458733333333324,\n",
              " 'std_iat': 0.06609192269696013,\n",
              " 'dur': 0.6218809999999999,\n",
              " 'dport': '443',\n",
              " 'sport': '58672'}"
            ]
          },
          "metadata": {}
        },
        {
          "output_type": "display_data",
          "data": {
            "text/plain": [
              "('172.28.0.12', '23.56.228.13', '46110', '443')"
            ]
          },
          "metadata": {}
        },
        {
          "output_type": "display_data",
          "data": {
            "text/plain": [
              "{'direction': 'downlink',\n",
              " 'num_packets': 257,\n",
              " 'total_bytes': 14178.0,\n",
              " 'min_pkt_size': 40.0,\n",
              " 'max_pkt_size': 569.0,\n",
              " 'mean_pkt_size': 55.16731517509728,\n",
              " 'std_pkt_size': 33.21837108482568,\n",
              " 'min_iat': 5e-06,\n",
              " 'max_iat': 0.057014,\n",
              " 'mean_iat': 0.00192948046875,\n",
              " 'std_iat': 0.006351556345912655,\n",
              " 'dur': 0.493947,\n",
              " 'dport': '443',\n",
              " 'sport': '46110'}"
            ]
          },
          "metadata": {}
        },
        {
          "output_type": "display_data",
          "data": {
            "text/plain": [
              "('172.28.0.12', '23.56.228.13', '46112', '443')"
            ]
          },
          "metadata": {}
        },
        {
          "output_type": "display_data",
          "data": {
            "text/plain": [
              "{'direction': 'downlink',\n",
              " 'num_packets': 244,\n",
              " 'total_bytes': 13514.0,\n",
              " 'min_pkt_size': 40.0,\n",
              " 'max_pkt_size': 569.0,\n",
              " 'mean_pkt_size': 55.385245901639344,\n",
              " 'std_pkt_size': 34.07349759286369,\n",
              " 'min_iat': 6e-06,\n",
              " 'max_iat': 0.054649,\n",
              " 'mean_iat': 0.0018758765432098764,\n",
              " 'std_iat': 0.005976713539102998,\n",
              " 'dur': 0.45583799999999997,\n",
              " 'dport': '443',\n",
              " 'sport': '46112'}"
            ]
          },
          "metadata": {}
        },
        {
          "output_type": "display_data",
          "data": {
            "text/plain": [
              "('172.28.0.12', '23.56.228.13', '46128', '443')"
            ]
          },
          "metadata": {}
        },
        {
          "output_type": "display_data",
          "data": {
            "text/plain": [
              "{'direction': 'downlink',\n",
              " 'num_packets': 259,\n",
              " 'total_bytes': 14282.0,\n",
              " 'min_pkt_size': 40.0,\n",
              " 'max_pkt_size': 569.0,\n",
              " 'mean_pkt_size': 55.142857142857146,\n",
              " 'std_pkt_size': 33.09053321879718,\n",
              " 'min_iat': 1e-05,\n",
              " 'max_iat': 0.086772,\n",
              " 'mean_iat': 0.002007313953488372,\n",
              " 'std_iat': 0.007071933118832251,\n",
              " 'dur': 0.517887,\n",
              " 'dport': '443',\n",
              " 'sport': '46128'}"
            ]
          },
          "metadata": {}
        },
        {
          "output_type": "display_data",
          "data": {
            "text/plain": [
              "('172.28.0.12', '23.56.228.13', '46136', '443')"
            ]
          },
          "metadata": {}
        },
        {
          "output_type": "display_data",
          "data": {
            "text/plain": [
              "{'direction': 'downlink',\n",
              " 'num_packets': 252,\n",
              " 'total_bytes': 13930.0,\n",
              " 'min_pkt_size': 40.0,\n",
              " 'max_pkt_size': 569.0,\n",
              " 'mean_pkt_size': 55.27777777777778,\n",
              " 'std_pkt_size': 33.53137055025203,\n",
              " 'min_iat': 5e-06,\n",
              " 'max_iat': 0.060334,\n",
              " 'mean_iat': 0.0020368525896414342,\n",
              " 'std_iat': 0.006855915127696904,\n",
              " 'dur': 0.51125,\n",
              " 'dport': '443',\n",
              " 'sport': '46136'}"
            ]
          },
          "metadata": {}
        },
        {
          "output_type": "display_data",
          "data": {
            "text/plain": [
              "('172.28.0.12', '23.56.228.13', '55694', '443')"
            ]
          },
          "metadata": {}
        },
        {
          "output_type": "display_data",
          "data": {
            "text/plain": [
              "{'direction': 'downlink',\n",
              " 'num_packets': 239,\n",
              " 'total_bytes': 13242.0,\n",
              " 'min_pkt_size': 40.0,\n",
              " 'max_pkt_size': 569.0,\n",
              " 'mean_pkt_size': 55.40585774058577,\n",
              " 'std_pkt_size': 34.43979229428937,\n",
              " 'min_iat': 9e-06,\n",
              " 'max_iat': 0.091316,\n",
              " 'mean_iat': 0.0027089915966386556,\n",
              " 'std_iat': 0.009260725415166943,\n",
              " 'dur': 0.64474,\n",
              " 'dport': '443',\n",
              " 'sport': '55694'}"
            ]
          },
          "metadata": {}
        },
        {
          "output_type": "display_data",
          "data": {
            "text/plain": [
              "('172.28.0.12', '23.56.228.13', '55698', '443')"
            ]
          },
          "metadata": {}
        },
        {
          "output_type": "display_data",
          "data": {
            "text/plain": [
              "{'direction': 'downlink',\n",
              " 'num_packets': 237,\n",
              " 'total_bytes': 13150.0,\n",
              " 'min_pkt_size': 40.0,\n",
              " 'max_pkt_size': 569.0,\n",
              " 'mean_pkt_size': 55.48523206751055,\n",
              " 'std_pkt_size': 34.570071208444645,\n",
              " 'min_iat': 6e-06,\n",
              " 'max_iat': 0.057063,\n",
              " 'mean_iat': 0.0021856313559322034,\n",
              " 'std_iat': 0.006418288079876847,\n",
              " 'dur': 0.515809,\n",
              " 'dport': '443',\n",
              " 'sport': '55698'}"
            ]
          },
          "metadata": {}
        },
        {
          "output_type": "display_data",
          "data": {
            "text/plain": [
              "('172.28.0.12', '23.56.228.13', '55710', '443')"
            ]
          },
          "metadata": {}
        },
        {
          "output_type": "display_data",
          "data": {
            "text/plain": [
              "{'direction': 'downlink',\n",
              " 'num_packets': 273,\n",
              " 'total_bytes': 15010.0,\n",
              " 'min_pkt_size': 40.0,\n",
              " 'max_pkt_size': 569.0,\n",
              " 'mean_pkt_size': 54.98168498168498,\n",
              " 'std_pkt_size': 32.235171489755224,\n",
              " 'min_iat': 7e-06,\n",
              " 'max_iat': 0.054209,\n",
              " 'mean_iat': 0.00200025,\n",
              " 'std_iat': 0.0063103010059725245,\n",
              " 'dur': 0.544068,\n",
              " 'dport': '443',\n",
              " 'sport': '55710'}"
            ]
          },
          "metadata": {}
        },
        {
          "output_type": "display_data",
          "data": {
            "text/plain": [
              "('172.28.0.12', '23.56.228.13', '55716', '443')"
            ]
          },
          "metadata": {}
        },
        {
          "output_type": "display_data",
          "data": {
            "text/plain": [
              "{'direction': 'downlink',\n",
              " 'num_packets': 246,\n",
              " 'total_bytes': 13618.0,\n",
              " 'min_pkt_size': 40.0,\n",
              " 'max_pkt_size': 569.0,\n",
              " 'mean_pkt_size': 55.357723577235774,\n",
              " 'std_pkt_size': 33.93550427365051,\n",
              " 'min_iat': 6e-06,\n",
              " 'max_iat': 0.100758,\n",
              " 'mean_iat': 0.0022649673469387756,\n",
              " 'std_iat': 0.008373048484581879,\n",
              " 'dur': 0.554917,\n",
              " 'dport': '443',\n",
              " 'sport': '55716'}"
            ]
          },
          "metadata": {}
        },
        {
          "output_type": "display_data",
          "data": {
            "text/plain": [
              "('172.28.0.12', '23.56.228.13', '55728', '443')"
            ]
          },
          "metadata": {}
        },
        {
          "output_type": "display_data",
          "data": {
            "text/plain": [
              "{'direction': 'downlink',\n",
              " 'num_packets': 261,\n",
              " 'total_bytes': 14386.0,\n",
              " 'min_pkt_size': 40.0,\n",
              " 'max_pkt_size': 569.0,\n",
              " 'mean_pkt_size': 55.11877394636015,\n",
              " 'std_pkt_size': 32.96415990877078,\n",
              " 'min_iat': 6e-06,\n",
              " 'max_iat': 0.055034,\n",
              " 'mean_iat': 0.002021642307692308,\n",
              " 'std_iat': 0.006514753849608063,\n",
              " 'dur': 0.5256270000000001,\n",
              " 'dport': '443',\n",
              " 'sport': '55728'}"
            ]
          },
          "metadata": {}
        },
        {
          "output_type": "display_data",
          "data": {
            "text/plain": [
              "('172.28.0.12', '23.56.228.13', '55740', '443')"
            ]
          },
          "metadata": {}
        },
        {
          "output_type": "display_data",
          "data": {
            "text/plain": [
              "{'direction': 'downlink',\n",
              " 'num_packets': 252,\n",
              " 'total_bytes': 13918.0,\n",
              " 'min_pkt_size': 40.0,\n",
              " 'max_pkt_size': 569.0,\n",
              " 'mean_pkt_size': 55.23015873015873,\n",
              " 'std_pkt_size': 33.54456219067923,\n",
              " 'min_iat': 6e-06,\n",
              " 'max_iat': 0.054685,\n",
              " 'mean_iat': 0.0017907609561752988,\n",
              " 'std_iat': 0.00577702232769006,\n",
              " 'dur': 0.449481,\n",
              " 'dport': '443',\n",
              " 'sport': '55740'}"
            ]
          },
          "metadata": {}
        },
        {
          "output_type": "display_data",
          "data": {
            "text/plain": [
              "('172.28.0.12', '23.56.230.240', '42698', '443')"
            ]
          },
          "metadata": {}
        },
        {
          "output_type": "display_data",
          "data": {
            "text/plain": [
              "{'direction': 'downlink',\n",
              " 'num_packets': 18,\n",
              " 'total_bytes': 1842.0,\n",
              " 'min_pkt_size': 40.0,\n",
              " 'max_pkt_size': 569.0,\n",
              " 'mean_pkt_size': 102.33333333333333,\n",
              " 'std_pkt_size': 122.04483264960703,\n",
              " 'min_iat': 4e-06,\n",
              " 'max_iat': 0.080513,\n",
              " 'mean_iat': 0.019175941176470587,\n",
              " 'std_iat': 0.02465966743356089,\n",
              " 'dur': 0.325991,\n",
              " 'dport': '443',\n",
              " 'sport': '42698'}"
            ]
          },
          "metadata": {}
        },
        {
          "output_type": "display_data",
          "data": {
            "text/plain": [
              "('172.28.0.12', '23.56.230.240', '42710', '443')"
            ]
          },
          "metadata": {}
        },
        {
          "output_type": "display_data",
          "data": {
            "text/plain": [
              "{'direction': 'downlink',\n",
              " 'num_packets': 17,\n",
              " 'total_bytes': 1802.0,\n",
              " 'min_pkt_size': 40.0,\n",
              " 'max_pkt_size': 569.0,\n",
              " 'mean_pkt_size': 106.0,\n",
              " 'std_pkt_size': 124.7747971346778,\n",
              " 'min_iat': 7e-06,\n",
              " 'max_iat': 0.089333,\n",
              " 'mean_iat': 0.0182953125,\n",
              " 'std_iat': 0.026448529402643542,\n",
              " 'dur': 0.292725,\n",
              " 'dport': '443',\n",
              " 'sport': '42710'}"
            ]
          },
          "metadata": {}
        },
        {
          "output_type": "display_data",
          "data": {
            "text/plain": [
              "('172.28.0.12', '23.56.230.240', '42712', '443')"
            ]
          },
          "metadata": {}
        },
        {
          "output_type": "display_data",
          "data": {
            "text/plain": [
              "{'direction': 'downlink',\n",
              " 'num_packets': 17,\n",
              " 'total_bytes': 1802.0,\n",
              " 'min_pkt_size': 40.0,\n",
              " 'max_pkt_size': 569.0,\n",
              " 'mean_pkt_size': 106.0,\n",
              " 'std_pkt_size': 124.7747971346778,\n",
              " 'min_iat': 6e-06,\n",
              " 'max_iat': 0.089788,\n",
              " 'mean_iat': 0.0187110625,\n",
              " 'std_iat': 0.02702721341776038,\n",
              " 'dur': 0.299377,\n",
              " 'dport': '443',\n",
              " 'sport': '42712'}"
            ]
          },
          "metadata": {}
        },
        {
          "output_type": "display_data",
          "data": {
            "text/plain": [
              "('172.28.0.12', '23.56.230.240', '42718', '443')"
            ]
          },
          "metadata": {}
        },
        {
          "output_type": "display_data",
          "data": {
            "text/plain": [
              "{'direction': 'downlink',\n",
              " 'num_packets': 17,\n",
              " 'total_bytes': 1790.0,\n",
              " 'min_pkt_size': 40.0,\n",
              " 'max_pkt_size': 569.0,\n",
              " 'mean_pkt_size': 105.29411764705883,\n",
              " 'std_pkt_size': 125.13281179704744,\n",
              " 'min_iat': 4e-06,\n",
              " 'max_iat': 0.054653,\n",
              " 'mean_iat': 0.015658250000000002,\n",
              " 'std_iat': 0.020628787718461144,\n",
              " 'dur': 0.25053200000000003,\n",
              " 'dport': '443',\n",
              " 'sport': '42718'}"
            ]
          },
          "metadata": {}
        },
        {
          "output_type": "display_data",
          "data": {
            "text/plain": [
              "('172.28.0.12', '23.56.230.240', '42722', '443')"
            ]
          },
          "metadata": {}
        },
        {
          "output_type": "display_data",
          "data": {
            "text/plain": [
              "{'direction': 'downlink',\n",
              " 'num_packets': 18,\n",
              " 'total_bytes': 1842.0,\n",
              " 'min_pkt_size': 40.0,\n",
              " 'max_pkt_size': 569.0,\n",
              " 'mean_pkt_size': 102.33333333333333,\n",
              " 'std_pkt_size': 122.04483264960703,\n",
              " 'min_iat': 4e-06,\n",
              " 'max_iat': 0.070245,\n",
              " 'mean_iat': 0.01623970588235294,\n",
              " 'std_iat': 0.023454218527177332,\n",
              " 'dur': 0.276075,\n",
              " 'dport': '443',\n",
              " 'sport': '42722'}"
            ]
          },
          "metadata": {}
        },
        {
          "output_type": "display_data",
          "data": {
            "text/plain": [
              "('172.28.0.12', '23.56.230.240', '42724', '443')"
            ]
          },
          "metadata": {}
        },
        {
          "output_type": "display_data",
          "data": {
            "text/plain": [
              "{'direction': 'downlink',\n",
              " 'num_packets': 16,\n",
              " 'total_bytes': 1750.0,\n",
              " 'min_pkt_size': 40.0,\n",
              " 'max_pkt_size': 569.0,\n",
              " 'mean_pkt_size': 109.375,\n",
              " 'std_pkt_size': 128.06294025465237,\n",
              " 'min_iat': 5e-06,\n",
              " 'max_iat': 0.057382,\n",
              " 'mean_iat': 0.017989666666666668,\n",
              " 'std_iat': 0.023078145963123603,\n",
              " 'dur': 0.269845,\n",
              " 'dport': '443',\n",
              " 'sport': '42724'}"
            ]
          },
          "metadata": {}
        },
        {
          "output_type": "display_data",
          "data": {
            "text/plain": [
              "('172.28.0.12', '23.56.230.240', '42732', '443')"
            ]
          },
          "metadata": {}
        },
        {
          "output_type": "display_data",
          "data": {
            "text/plain": [
              "{'direction': 'downlink',\n",
              " 'num_packets': 16,\n",
              " 'total_bytes': 1750.0,\n",
              " 'min_pkt_size': 40.0,\n",
              " 'max_pkt_size': 569.0,\n",
              " 'mean_pkt_size': 109.375,\n",
              " 'std_pkt_size': 128.06294025465237,\n",
              " 'min_iat': 4e-06,\n",
              " 'max_iat': 0.088311,\n",
              " 'mean_iat': 0.023446399999999996,\n",
              " 'std_iat': 0.03189370032243269,\n",
              " 'dur': 0.35169599999999995,\n",
              " 'dport': '443',\n",
              " 'sport': '42732'}"
            ]
          },
          "metadata": {}
        },
        {
          "output_type": "display_data",
          "data": {
            "text/plain": [
              "('172.28.0.12', '23.56.230.240', '57060', '443')"
            ]
          },
          "metadata": {}
        },
        {
          "output_type": "display_data",
          "data": {
            "text/plain": [
              "{'direction': 'downlink',\n",
              " 'num_packets': 16,\n",
              " 'total_bytes': 1750.0,\n",
              " 'min_pkt_size': 40.0,\n",
              " 'max_pkt_size': 569.0,\n",
              " 'mean_pkt_size': 109.375,\n",
              " 'std_pkt_size': 128.06294025465237,\n",
              " 'min_iat': 4e-06,\n",
              " 'max_iat': 0.054685,\n",
              " 'mean_iat': 0.018506333333333333,\n",
              " 'std_iat': 0.021684110247785018,\n",
              " 'dur': 0.277595,\n",
              " 'dport': '443',\n",
              " 'sport': '57060'}"
            ]
          },
          "metadata": {}
        },
        {
          "output_type": "display_data",
          "data": {
            "text/plain": [
              "('172.28.0.12', '23.56.230.240', '57072', '443')"
            ]
          },
          "metadata": {}
        },
        {
          "output_type": "display_data",
          "data": {
            "text/plain": [
              "{'direction': 'downlink',\n",
              " 'num_packets': 17,\n",
              " 'total_bytes': 1802.0,\n",
              " 'min_pkt_size': 40.0,\n",
              " 'max_pkt_size': 569.0,\n",
              " 'mean_pkt_size': 106.0,\n",
              " 'std_pkt_size': 124.7747971346778,\n",
              " 'min_iat': 5e-06,\n",
              " 'max_iat': 0.055194,\n",
              " 'mean_iat': 0.014969125,\n",
              " 'std_iat': 0.019866634879868308,\n",
              " 'dur': 0.239506,\n",
              " 'dport': '443',\n",
              " 'sport': '57072'}"
            ]
          },
          "metadata": {}
        },
        {
          "output_type": "display_data",
          "data": {
            "text/plain": [
              "('172.28.0.12', '23.56.230.240', '57074', '443')"
            ]
          },
          "metadata": {}
        },
        {
          "output_type": "display_data",
          "data": {
            "text/plain": [
              "{'direction': 'downlink',\n",
              " 'num_packets': 16,\n",
              " 'total_bytes': 1750.0,\n",
              " 'min_pkt_size': 40.0,\n",
              " 'max_pkt_size': 569.0,\n",
              " 'mean_pkt_size': 109.375,\n",
              " 'std_pkt_size': 128.06294025465237,\n",
              " 'min_iat': 5e-06,\n",
              " 'max_iat': 0.055975,\n",
              " 'mean_iat': 0.016911266666666664,\n",
              " 'std_iat': 0.021298024806025915,\n",
              " 'dur': 0.253669,\n",
              " 'dport': '443',\n",
              " 'sport': '57074'}"
            ]
          },
          "metadata": {}
        },
        {
          "output_type": "display_data",
          "data": {
            "text/plain": [
              "('172.28.0.12', '91.215.41.4', '52696', '443')"
            ]
          },
          "metadata": {}
        },
        {
          "output_type": "display_data",
          "data": {
            "text/plain": [
              "{'direction': 'downlink',\n",
              " 'num_packets': 154,\n",
              " 'total_bytes': 8805.0,\n",
              " 'min_pkt_size': 40.0,\n",
              " 'max_pkt_size': 569.0,\n",
              " 'mean_pkt_size': 57.175324675324674,\n",
              " 'std_pkt_size': 42.665767931233475,\n",
              " 'min_iat': 8e-06,\n",
              " 'max_iat': 0.128604,\n",
              " 'mean_iat': 0.008072418300653595,\n",
              " 'std_iat': 0.022149469269991423,\n",
              " 'dur': 1.2350800000000002,\n",
              " 'dport': '443',\n",
              " 'sport': '52696'}"
            ]
          },
          "metadata": {}
        },
        {
          "output_type": "display_data",
          "data": {
            "text/plain": [
              "('172.28.0.12', '91.215.41.4', '52698', '443')"
            ]
          },
          "metadata": {}
        },
        {
          "output_type": "display_data",
          "data": {
            "text/plain": [
              "{'direction': 'downlink',\n",
              " 'num_packets': 155,\n",
              " 'total_bytes': 8857.0,\n",
              " 'min_pkt_size': 40.0,\n",
              " 'max_pkt_size': 569.0,\n",
              " 'mean_pkt_size': 57.14193548387097,\n",
              " 'std_pkt_size': 42.529048699007646,\n",
              " 'min_iat': 8e-06,\n",
              " 'max_iat': 0.128373,\n",
              " 'mean_iat': 0.007874655844155844,\n",
              " 'std_iat': 0.02173363203222497,\n",
              " 'dur': 1.212697,\n",
              " 'dport': '443',\n",
              " 'sport': '52698'}"
            ]
          },
          "metadata": {}
        },
        {
          "output_type": "display_data",
          "data": {
            "text/plain": [
              "('172.28.0.12', '91.215.41.4', '52704', '443')"
            ]
          },
          "metadata": {}
        },
        {
          "output_type": "display_data",
          "data": {
            "text/plain": [
              "{'direction': 'downlink',\n",
              " 'num_packets': 158,\n",
              " 'total_bytes': 9013.0,\n",
              " 'min_pkt_size': 40.0,\n",
              " 'max_pkt_size': 569.0,\n",
              " 'mean_pkt_size': 57.04430379746835,\n",
              " 'std_pkt_size': 42.12664329883008,\n",
              " 'min_iat': 8e-06,\n",
              " 'max_iat': 0.135988,\n",
              " 'mean_iat': 0.007728382165605096,\n",
              " 'std_iat': 0.021091301530195537,\n",
              " 'dur': 1.213356,\n",
              " 'dport': '443',\n",
              " 'sport': '52704'}"
            ]
          },
          "metadata": {}
        },
        {
          "output_type": "display_data",
          "data": {
            "text/plain": [
              "('172.28.0.12', '91.215.41.4', '52714', '443')"
            ]
          },
          "metadata": {}
        },
        {
          "output_type": "display_data",
          "data": {
            "text/plain": [
              "{'direction': 'downlink',\n",
              " 'num_packets': 155,\n",
              " 'total_bytes': 8857.0,\n",
              " 'min_pkt_size': 40.0,\n",
              " 'max_pkt_size': 569.0,\n",
              " 'mean_pkt_size': 57.14193548387097,\n",
              " 'std_pkt_size': 42.529048699007646,\n",
              " 'min_iat': 7e-06,\n",
              " 'max_iat': 0.130548,\n",
              " 'mean_iat': 0.007973012987012987,\n",
              " 'std_iat': 0.021996407048848993,\n",
              " 'dur': 1.227844,\n",
              " 'dport': '443',\n",
              " 'sport': '52714'}"
            ]
          },
          "metadata": {}
        },
        {
          "output_type": "display_data",
          "data": {
            "text/plain": [
              "('172.28.0.12', '91.215.41.4', '52718', '443')"
            ]
          },
          "metadata": {}
        },
        {
          "output_type": "display_data",
          "data": {
            "text/plain": [
              "{'direction': 'downlink',\n",
              " 'num_packets': 155,\n",
              " 'total_bytes': 8857.0,\n",
              " 'min_pkt_size': 40.0,\n",
              " 'max_pkt_size': 569.0,\n",
              " 'mean_pkt_size': 57.14193548387097,\n",
              " 'std_pkt_size': 42.529048699007646,\n",
              " 'min_iat': 6e-06,\n",
              " 'max_iat': 0.12715,\n",
              " 'mean_iat': 0.007904818181818181,\n",
              " 'std_iat': 0.02181067787736076,\n",
              " 'dur': 1.217342,\n",
              " 'dport': '443',\n",
              " 'sport': '52718'}"
            ]
          },
          "metadata": {}
        },
        {
          "output_type": "display_data",
          "data": {
            "text/plain": [
              "('172.28.0.12', '91.215.41.4', '53654', '443')"
            ]
          },
          "metadata": {}
        },
        {
          "output_type": "display_data",
          "data": {
            "text/plain": [
              "{'direction': 'downlink',\n",
              " 'num_packets': 154,\n",
              " 'total_bytes': 8805.0,\n",
              " 'min_pkt_size': 40.0,\n",
              " 'max_pkt_size': 569.0,\n",
              " 'mean_pkt_size': 57.175324675324674,\n",
              " 'std_pkt_size': 42.665767931233475,\n",
              " 'min_iat': 8e-06,\n",
              " 'max_iat': 0.126826,\n",
              " 'mean_iat': 0.007941346405228759,\n",
              " 'std_iat': 0.02181506501170098,\n",
              " 'dur': 1.2150260000000002,\n",
              " 'dport': '443',\n",
              " 'sport': '53654'}"
            ]
          },
          "metadata": {}
        },
        {
          "output_type": "display_data",
          "data": {
            "text/plain": [
              "('172.28.0.12', '91.215.41.4', '57194', '443')"
            ]
          },
          "metadata": {}
        },
        {
          "output_type": "display_data",
          "data": {
            "text/plain": [
              "{'direction': 'downlink',\n",
              " 'num_packets': 155,\n",
              " 'total_bytes': 8857.0,\n",
              " 'min_pkt_size': 40.0,\n",
              " 'max_pkt_size': 569.0,\n",
              " 'mean_pkt_size': 57.14193548387097,\n",
              " 'std_pkt_size': 42.529048699007646,\n",
              " 'min_iat': 7e-06,\n",
              " 'max_iat': 0.128266,\n",
              " 'mean_iat': 0.007858084415584415,\n",
              " 'std_iat': 0.021697959140182667,\n",
              " 'dur': 1.210145,\n",
              " 'dport': '443',\n",
              " 'sport': '57194'}"
            ]
          },
          "metadata": {}
        },
        {
          "output_type": "display_data",
          "data": {
            "text/plain": [
              "('172.28.0.12', '91.215.41.4', '57210', '443')"
            ]
          },
          "metadata": {}
        },
        {
          "output_type": "display_data",
          "data": {
            "text/plain": [
              "{'direction': 'downlink',\n",
              " 'num_packets': 154,\n",
              " 'total_bytes': 8817.0,\n",
              " 'min_pkt_size': 40.0,\n",
              " 'max_pkt_size': 569.0,\n",
              " 'mean_pkt_size': 57.253246753246756,\n",
              " 'std_pkt_size': 42.645148018507506,\n",
              " 'min_iat': 2.3e-05,\n",
              " 'max_iat': 0.126619,\n",
              " 'mean_iat': 0.007648307189542483,\n",
              " 'std_iat': 0.020796385098415367,\n",
              " 'dur': 1.170191,\n",
              " 'dport': '443',\n",
              " 'sport': '57210'}"
            ]
          },
          "metadata": {}
        },
        {
          "output_type": "display_data",
          "data": {
            "text/plain": [
              "('172.28.0.12', '91.215.41.4', '57220', '443')"
            ]
          },
          "metadata": {}
        },
        {
          "output_type": "display_data",
          "data": {
            "text/plain": [
              "{'direction': 'downlink',\n",
              " 'num_packets': 154,\n",
              " 'total_bytes': 8805.0,\n",
              " 'min_pkt_size': 40.0,\n",
              " 'max_pkt_size': 569.0,\n",
              " 'mean_pkt_size': 57.175324675324674,\n",
              " 'std_pkt_size': 42.66576793123349,\n",
              " 'min_iat': 8e-06,\n",
              " 'max_iat': 0.128067,\n",
              " 'mean_iat': 0.007886104575163397,\n",
              " 'std_iat': 0.021697035639497476,\n",
              " 'dur': 1.2065739999999998,\n",
              " 'dport': '443',\n",
              " 'sport': '57220'}"
            ]
          },
          "metadata": {}
        },
        {
          "output_type": "display_data",
          "data": {
            "text/plain": [
              "('172.28.0.12', '91.215.41.4', '57234', '443')"
            ]
          },
          "metadata": {}
        },
        {
          "output_type": "display_data",
          "data": {
            "text/plain": [
              "{'direction': 'downlink',\n",
              " 'num_packets': 155,\n",
              " 'total_bytes': 8857.0,\n",
              " 'min_pkt_size': 40.0,\n",
              " 'max_pkt_size': 569.0,\n",
              " 'mean_pkt_size': 57.14193548387097,\n",
              " 'std_pkt_size': 42.529048699007646,\n",
              " 'min_iat': 7e-06,\n",
              " 'max_iat': 0.128296,\n",
              " 'mean_iat': 0.008010058441558441,\n",
              " 'std_iat': 0.02202232959551636,\n",
              " 'dur': 1.233549,\n",
              " 'dport': '443',\n",
              " 'sport': '57234'}"
            ]
          },
          "metadata": {}
        },
        {
          "output_type": "display_data",
          "data": {
            "text/plain": [
              "('172.28.0.12', '96.7.140.92', '35122', '443')"
            ]
          },
          "metadata": {}
        },
        {
          "output_type": "display_data",
          "data": {
            "text/plain": [
              "{'direction': 'downlink',\n",
              " 'num_packets': 76,\n",
              " 'total_bytes': 4768.0,\n",
              " 'min_pkt_size': 40.0,\n",
              " 'max_pkt_size': 569.0,\n",
              " 'mean_pkt_size': 62.73684210526316,\n",
              " 'std_pkt_size': 60.72305842562119,\n",
              " 'min_iat': 8e-06,\n",
              " 'max_iat': 0.470323,\n",
              " 'mean_iat': 0.014756413333333333,\n",
              " 'std_iat': 0.05928463590949548,\n",
              " 'dur': 1.106731,\n",
              " 'dport': '443',\n",
              " 'sport': '35122'}"
            ]
          },
          "metadata": {}
        },
        {
          "output_type": "display_data",
          "data": {
            "text/plain": [
              "('172.28.0.12', '96.7.140.92', '35130', '443')"
            ]
          },
          "metadata": {}
        },
        {
          "output_type": "display_data",
          "data": {
            "text/plain": [
              "{'direction': 'downlink',\n",
              " 'num_packets': 69,\n",
              " 'total_bytes': 4404.0,\n",
              " 'min_pkt_size': 40.0,\n",
              " 'max_pkt_size': 569.0,\n",
              " 'mean_pkt_size': 63.82608695652174,\n",
              " 'std_pkt_size': 63.669402689790324,\n",
              " 'min_iat': 6e-06,\n",
              " 'max_iat': 0.054067,\n",
              " 'mean_iat': 0.0029033823529411758,\n",
              " 'std_iat': 0.0073685878758728285,\n",
              " 'dur': 0.19742999999999997,\n",
              " 'dport': '443',\n",
              " 'sport': '35130'}"
            ]
          },
          "metadata": {}
        },
        {
          "output_type": "display_data",
          "data": {
            "text/plain": [
              "('172.28.0.12', '96.7.140.92', '35132', '443')"
            ]
          },
          "metadata": {}
        },
        {
          "output_type": "display_data",
          "data": {
            "text/plain": [
              "{'direction': 'downlink',\n",
              " 'num_packets': 69,\n",
              " 'total_bytes': 4404.0,\n",
              " 'min_pkt_size': 40.0,\n",
              " 'max_pkt_size': 569.0,\n",
              " 'mean_pkt_size': 63.82608695652174,\n",
              " 'std_pkt_size': 63.669402689790324,\n",
              " 'min_iat': 7e-06,\n",
              " 'max_iat': 0.054415,\n",
              " 'mean_iat': 0.0029011029411764697,\n",
              " 'std_iat': 0.007409940475801178,\n",
              " 'dur': 0.19727499999999995,\n",
              " 'dport': '443',\n",
              " 'sport': '35132'}"
            ]
          },
          "metadata": {}
        },
        {
          "output_type": "display_data",
          "data": {
            "text/plain": [
              "('172.28.0.12', '96.7.140.92', '35144', '443')"
            ]
          },
          "metadata": {}
        },
        {
          "output_type": "display_data",
          "data": {
            "text/plain": [
              "{'direction': 'downlink',\n",
              " 'num_packets': 78,\n",
              " 'total_bytes': 4872.0,\n",
              " 'min_pkt_size': 40.0,\n",
              " 'max_pkt_size': 569.0,\n",
              " 'mean_pkt_size': 62.46153846153846,\n",
              " 'std_pkt_size': 59.953595108496756,\n",
              " 'min_iat': 8e-06,\n",
              " 'max_iat': 0.093567,\n",
              " 'mean_iat': 0.0031669870129870134,\n",
              " 'std_iat': 0.011035384899558694,\n",
              " 'dur': 0.24385800000000005,\n",
              " 'dport': '443',\n",
              " 'sport': '35144'}"
            ]
          },
          "metadata": {}
        },
        {
          "output_type": "display_data",
          "data": {
            "text/plain": [
              "('172.28.0.12', '96.7.140.92', '35146', '443')"
            ]
          },
          "metadata": {}
        },
        {
          "output_type": "display_data",
          "data": {
            "text/plain": [
              "{'direction': 'downlink',\n",
              " 'num_packets': 66,\n",
              " 'total_bytes': 4248.0,\n",
              " 'min_pkt_size': 40.0,\n",
              " 'max_pkt_size': 569.0,\n",
              " 'mean_pkt_size': 64.36363636363636,\n",
              " 'std_pkt_size': 65.07029012800432,\n",
              " 'min_iat': 4e-06,\n",
              " 'max_iat': 0.065596,\n",
              " 'mean_iat': 0.003543123076923077,\n",
              " 'std_iat': 0.009240255023042676,\n",
              " 'dur': 0.230303,\n",
              " 'dport': '443',\n",
              " 'sport': '35146'}"
            ]
          },
          "metadata": {}
        },
        {
          "output_type": "display_data",
          "data": {
            "text/plain": [
              "('172.28.0.12', '96.7.140.92', '35152', '443')"
            ]
          },
          "metadata": {}
        },
        {
          "output_type": "display_data",
          "data": {
            "text/plain": [
              "{'direction': 'downlink',\n",
              " 'num_packets': 70,\n",
              " 'total_bytes': 4456.0,\n",
              " 'min_pkt_size': 40.0,\n",
              " 'max_pkt_size': 569.0,\n",
              " 'mean_pkt_size': 63.65714285714286,\n",
              " 'std_pkt_size': 63.22214932783818,\n",
              " 'min_iat': 5e-06,\n",
              " 'max_iat': 0.05711,\n",
              " 'mean_iat': 0.0028781159420289853,\n",
              " 'std_iat': 0.007708103771425605,\n",
              " 'dur': 0.19859,\n",
              " 'dport': '443',\n",
              " 'sport': '35152'}"
            ]
          },
          "metadata": {}
        },
        {
          "output_type": "display_data",
          "data": {
            "text/plain": [
              "('172.28.0.12', '96.7.140.92', '35156', '443')"
            ]
          },
          "metadata": {}
        },
        {
          "output_type": "display_data",
          "data": {
            "text/plain": [
              "{'direction': 'downlink',\n",
              " 'num_packets': 71,\n",
              " 'total_bytes': 4508.0,\n",
              " 'min_pkt_size': 40.0,\n",
              " 'max_pkt_size': 569.0,\n",
              " 'mean_pkt_size': 63.49295774647887,\n",
              " 'std_pkt_size': 62.78418209331678,\n",
              " 'min_iat': 8e-06,\n",
              " 'max_iat': 0.056316,\n",
              " 'mean_iat': 0.0029216,\n",
              " 'std_iat': 0.007501011519034992,\n",
              " 'dur': 0.204512,\n",
              " 'dport': '443',\n",
              " 'sport': '35156'}"
            ]
          },
          "metadata": {}
        },
        {
          "output_type": "display_data",
          "data": {
            "text/plain": [
              "('172.28.0.12', '96.7.140.92', '60274', '443')"
            ]
          },
          "metadata": {}
        },
        {
          "output_type": "display_data",
          "data": {
            "text/plain": [
              "{'direction': 'downlink',\n",
              " 'num_packets': 71,\n",
              " 'total_bytes': 4508.0,\n",
              " 'min_pkt_size': 40.0,\n",
              " 'max_pkt_size': 569.0,\n",
              " 'mean_pkt_size': 63.49295774647887,\n",
              " 'std_pkt_size': 62.78418209331678,\n",
              " 'min_iat': 5e-06,\n",
              " 'max_iat': 0.057381,\n",
              " 'mean_iat': 0.0029673714285714282,\n",
              " 'std_iat': 0.007657978781601691,\n",
              " 'dur': 0.20771599999999998,\n",
              " 'dport': '443',\n",
              " 'sport': '60274'}"
            ]
          },
          "metadata": {}
        },
        {
          "output_type": "display_data",
          "data": {
            "text/plain": [
              "('172.28.0.12', '96.7.140.92', '60286', '443')"
            ]
          },
          "metadata": {}
        },
        {
          "output_type": "display_data",
          "data": {
            "text/plain": [
              "{'direction': 'downlink',\n",
              " 'num_packets': 69,\n",
              " 'total_bytes': 4404.0,\n",
              " 'min_pkt_size': 40.0,\n",
              " 'max_pkt_size': 569.0,\n",
              " 'mean_pkt_size': 63.82608695652174,\n",
              " 'std_pkt_size': 63.669402689790324,\n",
              " 'min_iat': 7e-06,\n",
              " 'max_iat': 0.055052,\n",
              " 'mean_iat': 0.002996205882352941,\n",
              " 'std_iat': 0.0075310273754723624,\n",
              " 'dur': 0.203742,\n",
              " 'dport': '443',\n",
              " 'sport': '60286'}"
            ]
          },
          "metadata": {}
        },
        {
          "output_type": "display_data",
          "data": {
            "text/plain": [
              "('172.28.0.12', '96.7.140.92', '60296', '443')"
            ]
          },
          "metadata": {}
        },
        {
          "output_type": "display_data",
          "data": {
            "text/plain": [
              "{'direction': 'downlink',\n",
              " 'num_packets': 68,\n",
              " 'total_bytes': 4352.0,\n",
              " 'min_pkt_size': 40.0,\n",
              " 'max_pkt_size': 569.0,\n",
              " 'mean_pkt_size': 64.0,\n",
              " 'std_pkt_size': 64.12627468111344,\n",
              " 'min_iat': 4e-06,\n",
              " 'max_iat': 0.0557,\n",
              " 'mean_iat': 0.003066,\n",
              " 'std_iat': 0.0076813934657559094,\n",
              " 'dur': 0.20542200000000002,\n",
              " 'dport': '443',\n",
              " 'sport': '60296'}"
            ]
          },
          "metadata": {}
        },
        {
          "output_type": "display_data",
          "data": {
            "text/plain": [
              "('172.28.0.12', '96.7.141.162', '44120', '443')"
            ]
          },
          "metadata": {}
        },
        {
          "output_type": "display_data",
          "data": {
            "text/plain": [
              "{'direction': 'downlink',\n",
              " 'num_packets': 114,\n",
              " 'total_bytes': 6744.0,\n",
              " 'min_pkt_size': 40.0,\n",
              " 'max_pkt_size': 569.0,\n",
              " 'mean_pkt_size': 59.1578947368421,\n",
              " 'std_pkt_size': 49.73088265186889,\n",
              " 'min_iat': 7e-06,\n",
              " 'max_iat': 0.054731,\n",
              " 'mean_iat': 0.0019852389380530977,\n",
              " 'std_iat': 0.0059119546520986005,\n",
              " 'dur': 0.22433200000000003,\n",
              " 'dport': '443',\n",
              " 'sport': '44120'}"
            ]
          },
          "metadata": {}
        },
        {
          "output_type": "display_data",
          "data": {
            "text/plain": [
              "('172.28.0.12', '96.7.141.162', '44136', '443')"
            ]
          },
          "metadata": {}
        },
        {
          "output_type": "display_data",
          "data": {
            "text/plain": [
              "{'direction': 'downlink',\n",
              " 'num_packets': 118,\n",
              " 'total_bytes': 6952.0,\n",
              " 'min_pkt_size': 40.0,\n",
              " 'max_pkt_size': 569.0,\n",
              " 'mean_pkt_size': 58.91525423728814,\n",
              " 'std_pkt_size': 48.890699003799355,\n",
              " 'min_iat': 1.1e-05,\n",
              " 'max_iat': 0.096094,\n",
              " 'mean_iat': 0.0023432820512820514,\n",
              " 'std_iat': 0.009239529107875493,\n",
              " 'dur': 0.274164,\n",
              " 'dport': '443',\n",
              " 'sport': '44136'}"
            ]
          },
          "metadata": {}
        },
        {
          "output_type": "display_data",
          "data": {
            "text/plain": [
              "('172.28.0.12', '96.7.141.162', '44140', '443')"
            ]
          },
          "metadata": {}
        },
        {
          "output_type": "display_data",
          "data": {
            "text/plain": [
              "{'direction': 'downlink',\n",
              " 'num_packets': 112,\n",
              " 'total_bytes': 6652.0,\n",
              " 'min_pkt_size': 40.0,\n",
              " 'max_pkt_size': 569.0,\n",
              " 'mean_pkt_size': 59.392857142857146,\n",
              " 'std_pkt_size': 50.138790640564196,\n",
              " 'min_iat': 8e-06,\n",
              " 'max_iat': 0.088761,\n",
              " 'mean_iat': 0.0025273513513513514,\n",
              " 'std_iat': 0.00906011629430545,\n",
              " 'dur': 0.280536,\n",
              " 'dport': '443',\n",
              " 'sport': '44140'}"
            ]
          },
          "metadata": {}
        },
        {
          "output_type": "display_data",
          "data": {
            "text/plain": [
              "('172.28.0.12', '96.7.141.162', '44148', '443')"
            ]
          },
          "metadata": {}
        },
        {
          "output_type": "display_data",
          "data": {
            "text/plain": [
              "{'direction': 'downlink',\n",
              " 'num_packets': 115,\n",
              " 'total_bytes': 6796.0,\n",
              " 'min_pkt_size': 40.0,\n",
              " 'max_pkt_size': 569.0,\n",
              " 'mean_pkt_size': 59.095652173913045,\n",
              " 'std_pkt_size': 49.51678324604546,\n",
              " 'min_iat': 6e-06,\n",
              " 'max_iat': 0.054711,\n",
              " 'mean_iat': 0.0019378508771929824,\n",
              " 'std_iat': 0.005824985066990552,\n",
              " 'dur': 0.220915,\n",
              " 'dport': '443',\n",
              " 'sport': '44148'}"
            ]
          },
          "metadata": {}
        },
        {
          "output_type": "display_data",
          "data": {
            "text/plain": [
              "('172.28.0.12', '96.7.141.162', '50768', '443')"
            ]
          },
          "metadata": {}
        },
        {
          "output_type": "display_data",
          "data": {
            "text/plain": [
              "{'direction': 'downlink',\n",
              " 'num_packets': 112,\n",
              " 'total_bytes': 6640.0,\n",
              " 'min_pkt_size': 40.0,\n",
              " 'max_pkt_size': 569.0,\n",
              " 'mean_pkt_size': 59.285714285714285,\n",
              " 'std_pkt_size': 50.1675442570443,\n",
              " 'min_iat': 6e-06,\n",
              " 'max_iat': 0.233364,\n",
              " 'mean_iat': 0.004002396396396396,\n",
              " 'std_iat': 0.02273112193258768,\n",
              " 'dur': 0.44426599999999994,\n",
              " 'dport': '443',\n",
              " 'sport': '50768'}"
            ]
          },
          "metadata": {}
        },
        {
          "output_type": "display_data",
          "data": {
            "text/plain": [
              "('172.28.0.12', '96.7.141.162', '50772', '443')"
            ]
          },
          "metadata": {}
        },
        {
          "output_type": "display_data",
          "data": {
            "text/plain": [
              "{'direction': 'downlink',\n",
              " 'num_packets': 108,\n",
              " 'total_bytes': 6444.0,\n",
              " 'min_pkt_size': 40.0,\n",
              " 'max_pkt_size': 569.0,\n",
              " 'mean_pkt_size': 59.666666666666664,\n",
              " 'std_pkt_size': 51.04661604206288,\n",
              " 'min_iat': 7e-06,\n",
              " 'max_iat': 0.054079,\n",
              " 'mean_iat': 0.0022622242990654206,\n",
              " 'std_iat': 0.006427473846197659,\n",
              " 'dur': 0.242058,\n",
              " 'dport': '443',\n",
              " 'sport': '50772'}"
            ]
          },
          "metadata": {}
        },
        {
          "output_type": "display_data",
          "data": {
            "text/plain": [
              "('172.28.0.12', '96.7.141.162', '50780', '443')"
            ]
          },
          "metadata": {}
        },
        {
          "output_type": "display_data",
          "data": {
            "text/plain": [
              "{'direction': 'downlink',\n",
              " 'num_packets': 110,\n",
              " 'total_bytes': 6548.0,\n",
              " 'min_pkt_size': 40.0,\n",
              " 'max_pkt_size': 569.0,\n",
              " 'mean_pkt_size': 59.527272727272724,\n",
              " 'std_pkt_size': 50.58659740020517,\n",
              " 'min_iat': 7e-06,\n",
              " 'max_iat': 0.064417,\n",
              " 'mean_iat': 0.0022407522935779817,\n",
              " 'std_iat': 0.006889424219552916,\n",
              " 'dur': 0.24424200000000001,\n",
              " 'dport': '443',\n",
              " 'sport': '50780'}"
            ]
          },
          "metadata": {}
        },
        {
          "output_type": "display_data",
          "data": {
            "text/plain": [
              "('172.28.0.12', '96.7.141.162', '50784', '443')"
            ]
          },
          "metadata": {}
        },
        {
          "output_type": "display_data",
          "data": {
            "text/plain": [
              "{'direction': 'downlink',\n",
              " 'num_packets': 105,\n",
              " 'total_bytes': 6288.0,\n",
              " 'min_pkt_size': 40.0,\n",
              " 'max_pkt_size': 569.0,\n",
              " 'mean_pkt_size': 59.885714285714286,\n",
              " 'std_pkt_size': 51.76078748318193,\n",
              " 'min_iat': 6e-06,\n",
              " 'max_iat': 0.055122,\n",
              " 'mean_iat': 0.002100153846153846,\n",
              " 'std_iat': 0.006110455066665054,\n",
              " 'dur': 0.218416,\n",
              " 'dport': '443',\n",
              " 'sport': '50784'}"
            ]
          },
          "metadata": {}
        },
        {
          "output_type": "display_data",
          "data": {
            "text/plain": [
              "('172.28.0.12', '96.7.141.162', '50788', '443')"
            ]
          },
          "metadata": {}
        },
        {
          "output_type": "display_data",
          "data": {
            "text/plain": [
              "{'direction': 'downlink',\n",
              " 'num_packets': 115,\n",
              " 'total_bytes': 6796.0,\n",
              " 'min_pkt_size': 40.0,\n",
              " 'max_pkt_size': 569.0,\n",
              " 'mean_pkt_size': 59.095652173913045,\n",
              " 'std_pkt_size': 49.51678324604546,\n",
              " 'min_iat': 6e-06,\n",
              " 'max_iat': 0.054698,\n",
              " 'mean_iat': 0.0021423859649122804,\n",
              " 'std_iat': 0.006133890905234897,\n",
              " 'dur': 0.24423199999999998,\n",
              " 'dport': '443',\n",
              " 'sport': '50788'}"
            ]
          },
          "metadata": {}
        },
        {
          "output_type": "display_data",
          "data": {
            "text/plain": [
              "('172.28.0.12', '96.7.141.162', '50802', '443')"
            ]
          },
          "metadata": {}
        },
        {
          "output_type": "display_data",
          "data": {
            "text/plain": [
              "{'direction': 'downlink',\n",
              " 'num_packets': 108,\n",
              " 'total_bytes': 6432.0,\n",
              " 'min_pkt_size': 40.0,\n",
              " 'max_pkt_size': 569.0,\n",
              " 'mean_pkt_size': 59.55555555555556,\n",
              " 'std_pkt_size': 51.07651093063574,\n",
              " 'min_iat': 7e-06,\n",
              " 'max_iat': 0.054729,\n",
              " 'mean_iat': 0.00206992523364486,\n",
              " 'std_iat': 0.006011137754831842,\n",
              " 'dur': 0.22148200000000004,\n",
              " 'dport': '443',\n",
              " 'sport': '50802'}"
            ]
          },
          "metadata": {}
        },
        {
          "output_type": "display_data",
          "data": {
            "text/plain": [
              "('18.154.101.124', '172.28.0.12', '443', '52686')"
            ]
          },
          "metadata": {}
        },
        {
          "output_type": "display_data",
          "data": {
            "text/plain": [
              "{'direction': 'downlink',\n",
              " 'num_packets': 52,\n",
              " 'total_bytes': 449707.0,\n",
              " 'min_pkt_size': 52.0,\n",
              " 'max_pkt_size': 22900.0,\n",
              " 'mean_pkt_size': 8648.211538461539,\n",
              " 'std_pkt_size': 6874.159531760922,\n",
              " 'min_iat': 2e-06,\n",
              " 'max_iat': 0.274849,\n",
              " 'mean_iat': 0.01292319607843137,\n",
              " 'std_iat': 0.0436805723694274,\n",
              " 'dur': 0.6590829999999999,\n",
              " 'dport': '52686',\n",
              " 'sport': '443'}"
            ]
          },
          "metadata": {}
        },
        {
          "output_type": "display_data",
          "data": {
            "text/plain": [
              "('18.154.101.124', '172.28.0.12', '443', '52692')"
            ]
          },
          "metadata": {}
        },
        {
          "output_type": "display_data",
          "data": {
            "text/plain": [
              "{'direction': 'downlink',\n",
              " 'num_packets': 56,\n",
              " 'total_bytes': 449513.0,\n",
              " 'min_pkt_size': 52.0,\n",
              " 'max_pkt_size': 22900.0,\n",
              " 'mean_pkt_size': 8027.017857142857,\n",
              " 'std_pkt_size': 5907.33602316513,\n",
              " 'min_iat': 1e-06,\n",
              " 'max_iat': 0.065555,\n",
              " 'mean_iat': 0.002444709090909091,\n",
              " 'std_iat': 0.00894772515818391,\n",
              " 'dur': 0.134459,\n",
              " 'dport': '52692',\n",
              " 'sport': '443'}"
            ]
          },
          "metadata": {}
        },
        {
          "output_type": "display_data",
          "data": {
            "text/plain": [
              "('18.154.101.124', '172.28.0.12', '443', '52698')"
            ]
          },
          "metadata": {}
        },
        {
          "output_type": "display_data",
          "data": {
            "text/plain": [
              "{'direction': 'downlink',\n",
              " 'num_packets': 52,\n",
              " 'total_bytes': 449335.0,\n",
              " 'min_pkt_size': 52.0,\n",
              " 'max_pkt_size': 22900.0,\n",
              " 'mean_pkt_size': 8641.057692307691,\n",
              " 'std_pkt_size': 6285.9844828137275,\n",
              " 'min_iat': 2e-06,\n",
              " 'max_iat': 0.103805,\n",
              " 'mean_iat': 0.003408078431372549,\n",
              " 'std_iat': 0.014535574331746423,\n",
              " 'dur': 0.173812,\n",
              " 'dport': '52698',\n",
              " 'sport': '443'}"
            ]
          },
          "metadata": {}
        },
        {
          "output_type": "display_data",
          "data": {
            "text/plain": [
              "('18.154.101.124', '172.28.0.12', '443', '52714')"
            ]
          },
          "metadata": {}
        },
        {
          "output_type": "display_data",
          "data": {
            "text/plain": [
              "{'direction': 'downlink',\n",
              " 'num_packets': 56,\n",
              " 'total_bytes': 449556.0,\n",
              " 'min_pkt_size': 52.0,\n",
              " 'max_pkt_size': 21797.0,\n",
              " 'mean_pkt_size': 8027.785714285715,\n",
              " 'std_pkt_size': 6070.693762103863,\n",
              " 'min_iat': 1.6e-05,\n",
              " 'max_iat': 0.067448,\n",
              " 'mean_iat': 0.0026168000000000003,\n",
              " 'std_iat': 0.009288469792645549,\n",
              " 'dur': 0.14392400000000002,\n",
              " 'dport': '52714',\n",
              " 'sport': '443'}"
            ]
          },
          "metadata": {}
        },
        {
          "output_type": "display_data",
          "data": {
            "text/plain": [
              "('18.154.101.124', '172.28.0.12', '443', '52730')"
            ]
          },
          "metadata": {}
        },
        {
          "output_type": "display_data",
          "data": {
            "text/plain": [
              "{'direction': 'downlink',\n",
              " 'num_packets': 58,\n",
              " 'total_bytes': 449639.0,\n",
              " 'min_pkt_size': 52.0,\n",
              " 'max_pkt_size': 21472.0,\n",
              " 'mean_pkt_size': 7752.396551724138,\n",
              " 'std_pkt_size': 5957.310378455285,\n",
              " 'min_iat': 1e-06,\n",
              " 'max_iat': 0.065641,\n",
              " 'mean_iat': 0.002390385964912281,\n",
              " 'std_iat': 0.008817346970510514,\n",
              " 'dur': 0.136252,\n",
              " 'dport': '52730',\n",
              " 'sport': '443'}"
            ]
          },
          "metadata": {}
        },
        {
          "output_type": "display_data",
          "data": {
            "text/plain": [
              "('18.154.101.124', '172.28.0.12', '443', '55390')"
            ]
          },
          "metadata": {}
        },
        {
          "output_type": "display_data",
          "data": {
            "text/plain": [
              "{'direction': 'downlink',\n",
              " 'num_packets': 51,\n",
              " 'total_bytes': 449306.0,\n",
              " 'min_pkt_size': 52.0,\n",
              " 'max_pkt_size': 22900.0,\n",
              " 'mean_pkt_size': 8809.921568627451,\n",
              " 'std_pkt_size': 6229.875230991829,\n",
              " 'min_iat': 1e-06,\n",
              " 'max_iat': 0.077308,\n",
              " 'mean_iat': 0.00293062,\n",
              " 'std_iat': 0.01101821644682022,\n",
              " 'dur': 0.146531,\n",
              " 'dport': '55390',\n",
              " 'sport': '443'}"
            ]
          },
          "metadata": {}
        },
        {
          "output_type": "display_data",
          "data": {
            "text/plain": [
              "('18.154.101.124', '172.28.0.12', '443', '55394')"
            ]
          },
          "metadata": {}
        },
        {
          "output_type": "display_data",
          "data": {
            "text/plain": [
              "{'direction': 'downlink',\n",
              " 'num_packets': 53,\n",
              " 'total_bytes': 449556.0,\n",
              " 'min_pkt_size': 52.0,\n",
              " 'max_pkt_size': 25756.0,\n",
              " 'mean_pkt_size': 8482.188679245282,\n",
              " 'std_pkt_size': 6968.318172703025,\n",
              " 'min_iat': 1e-06,\n",
              " 'max_iat': 0.065898,\n",
              " 'mean_iat': 0.0025015384615384617,\n",
              " 'std_iat': 0.009219280039649088,\n",
              " 'dur': 0.13008,\n",
              " 'dport': '55394',\n",
              " 'sport': '443'}"
            ]
          },
          "metadata": {}
        },
        {
          "output_type": "display_data",
          "data": {
            "text/plain": [
              "('18.154.101.124', '172.28.0.12', '443', '55396')"
            ]
          },
          "metadata": {}
        },
        {
          "output_type": "display_data",
          "data": {
            "text/plain": [
              "{'direction': 'downlink',\n",
              " 'num_packets': 52,\n",
              " 'total_bytes': 449326.0,\n",
              " 'min_pkt_size': 52.0,\n",
              " 'max_pkt_size': 21472.0,\n",
              " 'mean_pkt_size': 8640.884615384615,\n",
              " 'std_pkt_size': 5749.504676547453,\n",
              " 'min_iat': 1e-06,\n",
              " 'max_iat': 0.065707,\n",
              " 'mean_iat': 0.002653862745098039,\n",
              " 'std_iat': 0.00930439127298419,\n",
              " 'dur': 0.135347,\n",
              " 'dport': '55396',\n",
              " 'sport': '443'}"
            ]
          },
          "metadata": {}
        },
        {
          "output_type": "display_data",
          "data": {
            "text/plain": [
              "('18.154.101.124', '172.28.0.12', '443', '55408')"
            ]
          },
          "metadata": {}
        },
        {
          "output_type": "display_data",
          "data": {
            "text/plain": [
              "{'direction': 'downlink',\n",
              " 'num_packets': 55,\n",
              " 'total_bytes': 449462.0,\n",
              " 'min_pkt_size': 52.0,\n",
              " 'max_pkt_size': 24328.0,\n",
              " 'mean_pkt_size': 8172.036363636364,\n",
              " 'std_pkt_size': 6390.306649350035,\n",
              " 'min_iat': 1e-06,\n",
              " 'max_iat': 0.065156,\n",
              " 'mean_iat': 0.0025267777777777784,\n",
              " 'std_iat': 0.008992362821833693,\n",
              " 'dur': 0.13644600000000004,\n",
              " 'dport': '55408',\n",
              " 'sport': '443'}"
            ]
          },
          "metadata": {}
        },
        {
          "output_type": "display_data",
          "data": {
            "text/plain": [
              "('18.154.101.124', '172.28.0.12', '443', '55416')"
            ]
          },
          "metadata": {}
        },
        {
          "output_type": "display_data",
          "data": {
            "text/plain": [
              "{'direction': 'downlink',\n",
              " 'num_packets': 56,\n",
              " 'total_bytes': 449512.0,\n",
              " 'min_pkt_size': 52.0,\n",
              " 'max_pkt_size': 24328.0,\n",
              " 'mean_pkt_size': 8027.0,\n",
              " 'std_pkt_size': 6924.0855385714685,\n",
              " 'min_iat': 1e-06,\n",
              " 'max_iat': 0.066017,\n",
              " 'mean_iat': 0.002380472727272728,\n",
              " 'std_iat': 0.008988826965563138,\n",
              " 'dur': 0.13092600000000004,\n",
              " 'dport': '55416',\n",
              " 'sport': '443'}"
            ]
          },
          "metadata": {}
        },
        {
          "output_type": "display_data",
          "data": {
            "text/plain": [
              "('184.24.57.145', '172.28.0.12', '443', '35370')"
            ]
          },
          "metadata": {}
        },
        {
          "output_type": "display_data",
          "data": {
            "text/plain": [
              "{'direction': 'downlink',\n",
              " 'num_packets': 12,\n",
              " 'total_bytes': 7530.0,\n",
              " 'min_pkt_size': 52.0,\n",
              " 'max_pkt_size': 2948.0,\n",
              " 'mean_pkt_size': 627.5,\n",
              " 'std_pkt_size': 878.8065771260477,\n",
              " 'min_iat': 2e-06,\n",
              " 'max_iat': 0.10029,\n",
              " 'mean_iat': 0.01988372727272727,\n",
              " 'std_iat': 0.03144785921518636,\n",
              " 'dur': 0.218721,\n",
              " 'dport': '35370',\n",
              " 'sport': '443'}"
            ]
          },
          "metadata": {}
        },
        {
          "output_type": "display_data",
          "data": {
            "text/plain": [
              "('184.24.57.145', '172.28.0.12', '443', '42506')"
            ]
          },
          "metadata": {}
        },
        {
          "output_type": "display_data",
          "data": {
            "text/plain": [
              "{'direction': 'downlink',\n",
              " 'num_packets': 11,\n",
              " 'total_bytes': 7480.0,\n",
              " 'min_pkt_size': 52.0,\n",
              " 'max_pkt_size': 2948.0,\n",
              " 'mean_pkt_size': 680.0,\n",
              " 'std_pkt_size': 901.7834551598294,\n",
              " 'min_iat': 1e-06,\n",
              " 'max_iat': 0.089979,\n",
              " 'mean_iat': 0.021721800000000006,\n",
              " 'std_iat': 0.030230042242040542,\n",
              " 'dur': 0.21721800000000005,\n",
              " 'dport': '42506',\n",
              " 'sport': '443'}"
            ]
          },
          "metadata": {}
        },
        {
          "output_type": "display_data",
          "data": {
            "text/plain": [
              "('184.24.57.145', '172.28.0.12', '443', '42522')"
            ]
          },
          "metadata": {}
        },
        {
          "output_type": "display_data",
          "data": {
            "text/plain": [
              "{'direction': 'downlink',\n",
              " 'num_packets': 11,\n",
              " 'total_bytes': 7479.0,\n",
              " 'min_pkt_size': 52.0,\n",
              " 'max_pkt_size': 2948.0,\n",
              " 'mean_pkt_size': 679.9090909090909,\n",
              " 'std_pkt_size': 901.8351794585809,\n",
              " 'min_iat': 1e-06,\n",
              " 'max_iat': 0.09715,\n",
              " 'mean_iat': 0.026112099999999992,\n",
              " 'std_iat': 0.03473653241969389,\n",
              " 'dur': 0.26112099999999994,\n",
              " 'dport': '42522',\n",
              " 'sport': '443'}"
            ]
          },
          "metadata": {}
        },
        {
          "output_type": "display_data",
          "data": {
            "text/plain": [
              "('184.24.57.145', '172.28.0.12', '443', '42528')"
            ]
          },
          "metadata": {}
        },
        {
          "output_type": "display_data",
          "data": {
            "text/plain": [
              "{'direction': 'downlink',\n",
              " 'num_packets': 11,\n",
              " 'total_bytes': 7478.0,\n",
              " 'min_pkt_size': 52.0,\n",
              " 'max_pkt_size': 2948.0,\n",
              " 'mean_pkt_size': 679.8181818181819,\n",
              " 'std_pkt_size': 901.8870015896467,\n",
              " 'min_iat': 2e-06,\n",
              " 'max_iat': 0.09046,\n",
              " 'mean_iat': 0.0215223,\n",
              " 'std_iat': 0.029991967610048898,\n",
              " 'dur': 0.21522300000000003,\n",
              " 'dport': '42528',\n",
              " 'sport': '443'}"
            ]
          },
          "metadata": {}
        },
        {
          "output_type": "display_data",
          "data": {
            "text/plain": [
              "('184.24.57.145', '172.28.0.12', '443', '42540')"
            ]
          },
          "metadata": {}
        },
        {
          "output_type": "display_data",
          "data": {
            "text/plain": [
              "{'direction': 'downlink',\n",
              " 'num_packets': 12,\n",
              " 'total_bytes': 7532.0,\n",
              " 'min_pkt_size': 52.0,\n",
              " 'max_pkt_size': 2948.0,\n",
              " 'mean_pkt_size': 627.6666666666666,\n",
              " 'std_pkt_size': 878.7207989027246,\n",
              " 'min_iat': 2e-06,\n",
              " 'max_iat': 0.128899,\n",
              " 'mean_iat': 0.022940181818181814,\n",
              " 'std_iat': 0.039147558968135376,\n",
              " 'dur': 0.25234199999999996,\n",
              " 'dport': '42540',\n",
              " 'sport': '443'}"
            ]
          },
          "metadata": {}
        },
        {
          "output_type": "display_data",
          "data": {
            "text/plain": [
              "('184.24.57.145', '172.28.0.12', '443', '42546')"
            ]
          },
          "metadata": {}
        },
        {
          "output_type": "display_data",
          "data": {
            "text/plain": [
              "{'direction': 'downlink',\n",
              " 'num_packets': 12,\n",
              " 'total_bytes': 7531.0,\n",
              " 'min_pkt_size': 52.0,\n",
              " 'max_pkt_size': 2948.0,\n",
              " 'mean_pkt_size': 627.5833333333334,\n",
              " 'std_pkt_size': 878.7636416459137,\n",
              " 'min_iat': 1e-06,\n",
              " 'max_iat': 0.122674,\n",
              " 'mean_iat': 0.02183290909090909,\n",
              " 'std_iat': 0.03728275065081584,\n",
              " 'dur': 0.240162,\n",
              " 'dport': '42546',\n",
              " 'sport': '443'}"
            ]
          },
          "metadata": {}
        },
        {
          "output_type": "display_data",
          "data": {
            "text/plain": [
              "('184.24.57.145', '172.28.0.12', '443', '42554')"
            ]
          },
          "metadata": {}
        },
        {
          "output_type": "display_data",
          "data": {
            "text/plain": [
              "{'direction': 'downlink',\n",
              " 'num_packets': 12,\n",
              " 'total_bytes': 7531.0,\n",
              " 'min_pkt_size': 52.0,\n",
              " 'max_pkt_size': 2948.0,\n",
              " 'mean_pkt_size': 627.5833333333334,\n",
              " 'std_pkt_size': 878.7636416459137,\n",
              " 'min_iat': 2e-06,\n",
              " 'max_iat': 0.091442,\n",
              " 'mean_iat': 0.01911063636363636,\n",
              " 'std_iat': 0.028700419976971512,\n",
              " 'dur': 0.21021699999999996,\n",
              " 'dport': '42554',\n",
              " 'sport': '443'}"
            ]
          },
          "metadata": {}
        },
        {
          "output_type": "display_data",
          "data": {
            "text/plain": [
              "('184.24.57.145', '172.28.0.12', '443', '42556')"
            ]
          },
          "metadata": {}
        },
        {
          "output_type": "display_data",
          "data": {
            "text/plain": [
              "{'direction': 'downlink',\n",
              " 'num_packets': 12,\n",
              " 'total_bytes': 7531.0,\n",
              " 'min_pkt_size': 52.0,\n",
              " 'max_pkt_size': 2948.0,\n",
              " 'mean_pkt_size': 627.5833333333334,\n",
              " 'std_pkt_size': 878.7636416459137,\n",
              " 'min_iat': 1e-06,\n",
              " 'max_iat': 0.089812,\n",
              " 'mean_iat': 0.01840727272727273,\n",
              " 'std_iat': 0.028361909001655406,\n",
              " 'dur': 0.20248000000000002,\n",
              " 'dport': '42556',\n",
              " 'sport': '443'}"
            ]
          },
          "metadata": {}
        },
        {
          "output_type": "display_data",
          "data": {
            "text/plain": [
              "('184.24.57.145', '172.28.0.12', '443', '42564')"
            ]
          },
          "metadata": {}
        },
        {
          "output_type": "display_data",
          "data": {
            "text/plain": [
              "{'direction': 'downlink',\n",
              " 'num_packets': 11,\n",
              " 'total_bytes': 7478.0,\n",
              " 'min_pkt_size': 52.0,\n",
              " 'max_pkt_size': 2948.0,\n",
              " 'mean_pkt_size': 679.8181818181819,\n",
              " 'std_pkt_size': 901.8870015896467,\n",
              " 'min_iat': 2e-06,\n",
              " 'max_iat': 0.091252,\n",
              " 'mean_iat': 0.023307199999999997,\n",
              " 'std_iat': 0.03174978242725102,\n",
              " 'dur': 0.23307199999999997,\n",
              " 'dport': '42564',\n",
              " 'sport': '443'}"
            ]
          },
          "metadata": {}
        },
        {
          "output_type": "display_data",
          "data": {
            "text/plain": [
              "('184.24.57.145', '172.28.0.12', '443', '59368')"
            ]
          },
          "metadata": {}
        },
        {
          "output_type": "display_data",
          "data": {
            "text/plain": [
              "{'direction': 'downlink',\n",
              " 'num_packets': 12,\n",
              " 'total_bytes': 7532.0,\n",
              " 'min_pkt_size': 52.0,\n",
              " 'max_pkt_size': 2948.0,\n",
              " 'mean_pkt_size': 627.6666666666666,\n",
              " 'std_pkt_size': 878.7207989027246,\n",
              " 'min_iat': 2e-06,\n",
              " 'max_iat': 0.091469,\n",
              " 'mean_iat': 0.019311363636363633,\n",
              " 'std_iat': 0.029353072422738737,\n",
              " 'dur': 0.21242499999999997,\n",
              " 'dport': '59368',\n",
              " 'sport': '443'}"
            ]
          },
          "metadata": {}
        },
        {
          "output_type": "display_data",
          "data": {
            "text/plain": [
              "('192.0.66.32', '172.28.0.12', '443', '49078')"
            ]
          },
          "metadata": {}
        },
        {
          "output_type": "display_data",
          "data": {
            "text/plain": [
              "{'direction': 'downlink',\n",
              " 'num_packets': 14,\n",
              " 'total_bytes': 5870.0,\n",
              " 'min_pkt_size': 40.0,\n",
              " 'max_pkt_size': 2960.0,\n",
              " 'mean_pkt_size': 419.2857142857143,\n",
              " 'std_pkt_size': 799.2136932463854,\n",
              " 'min_iat': 1e-06,\n",
              " 'max_iat': 0.069814,\n",
              " 'mean_iat': 0.00819476923076923,\n",
              " 'std_iat': 0.01956853456510326,\n",
              " 'dur': 0.10653199999999999,\n",
              " 'dport': '49078',\n",
              " 'sport': '443'}"
            ]
          },
          "metadata": {}
        },
        {
          "output_type": "display_data",
          "data": {
            "text/plain": [
              "('192.0.66.32', '172.28.0.12', '443', '49094')"
            ]
          },
          "metadata": {}
        },
        {
          "output_type": "display_data",
          "data": {
            "text/plain": [
              "{'direction': 'downlink',\n",
              " 'num_packets': 13,\n",
              " 'total_bytes': 5829.0,\n",
              " 'min_pkt_size': 40.0,\n",
              " 'max_pkt_size': 2960.0,\n",
              " 'mean_pkt_size': 448.38461538461536,\n",
              " 'std_pkt_size': 824.2821663384389,\n",
              " 'min_iat': 1e-06,\n",
              " 'max_iat': 0.07115,\n",
              " 'mean_iat': 0.008944666666666668,\n",
              " 'std_iat': 0.020634188572866297,\n",
              " 'dur': 0.10733600000000001,\n",
              " 'dport': '49094',\n",
              " 'sport': '443'}"
            ]
          },
          "metadata": {}
        },
        {
          "output_type": "display_data",
          "data": {
            "text/plain": [
              "('192.0.66.32', '172.28.0.12', '443', '49108')"
            ]
          },
          "metadata": {}
        },
        {
          "output_type": "display_data",
          "data": {
            "text/plain": [
              "{'direction': 'downlink',\n",
              " 'num_packets': 14,\n",
              " 'total_bytes': 5871.0,\n",
              " 'min_pkt_size': 40.0,\n",
              " 'max_pkt_size': 2960.0,\n",
              " 'mean_pkt_size': 419.35714285714283,\n",
              " 'std_pkt_size': 799.1819478155683,\n",
              " 'min_iat': 1e-06,\n",
              " 'max_iat': 0.071344,\n",
              " 'mean_iat': 0.008275923076923077,\n",
              " 'std_iat': 0.0199676399935059,\n",
              " 'dur': 0.107587,\n",
              " 'dport': '49108',\n",
              " 'sport': '443'}"
            ]
          },
          "metadata": {}
        },
        {
          "output_type": "display_data",
          "data": {
            "text/plain": [
              "('192.0.66.32', '172.28.0.12', '443', '49116')"
            ]
          },
          "metadata": {}
        },
        {
          "output_type": "display_data",
          "data": {
            "text/plain": [
              "{'direction': 'downlink',\n",
              " 'num_packets': 14,\n",
              " 'total_bytes': 5870.0,\n",
              " 'min_pkt_size': 40.0,\n",
              " 'max_pkt_size': 2960.0,\n",
              " 'mean_pkt_size': 419.2857142857143,\n",
              " 'std_pkt_size': 799.2136932463854,\n",
              " 'min_iat': 1e-06,\n",
              " 'max_iat': 0.106775,\n",
              " 'mean_iat': 0.01102669230769231,\n",
              " 'std_iat': 0.02944336885272193,\n",
              " 'dur': 0.14334700000000003,\n",
              " 'dport': '49116',\n",
              " 'sport': '443'}"
            ]
          },
          "metadata": {}
        },
        {
          "output_type": "display_data",
          "data": {
            "text/plain": [
              "('192.0.66.32', '172.28.0.12', '443', '49128')"
            ]
          },
          "metadata": {}
        },
        {
          "output_type": "display_data",
          "data": {
            "text/plain": [
              "{'direction': 'downlink',\n",
              " 'num_packets': 14,\n",
              " 'total_bytes': 5871.0,\n",
              " 'min_pkt_size': 40.0,\n",
              " 'max_pkt_size': 2960.0,\n",
              " 'mean_pkt_size': 419.35714285714283,\n",
              " 'std_pkt_size': 799.1819478155683,\n",
              " 'min_iat': 1e-06,\n",
              " 'max_iat': 0.071754,\n",
              " 'mean_iat': 0.008303923076923077,\n",
              " 'std_iat': 0.020088234539407793,\n",
              " 'dur': 0.10795099999999999,\n",
              " 'dport': '49128',\n",
              " 'sport': '443'}"
            ]
          },
          "metadata": {}
        },
        {
          "output_type": "display_data",
          "data": {
            "text/plain": [
              "('192.0.66.32', '172.28.0.12', '443', '49138')"
            ]
          },
          "metadata": {}
        },
        {
          "output_type": "display_data",
          "data": {
            "text/plain": [
              "{'direction': 'downlink',\n",
              " 'num_packets': 14,\n",
              " 'total_bytes': 5870.0,\n",
              " 'min_pkt_size': 40.0,\n",
              " 'max_pkt_size': 2960.0,\n",
              " 'mean_pkt_size': 419.2857142857143,\n",
              " 'std_pkt_size': 799.2136932463854,\n",
              " 'min_iat': 1e-06,\n",
              " 'max_iat': 0.069844,\n",
              " 'mean_iat': 0.008023538461538464,\n",
              " 'std_iat': 0.019491209504181553,\n",
              " 'dur': 0.10430600000000002,\n",
              " 'dport': '49138',\n",
              " 'sport': '443'}"
            ]
          },
          "metadata": {}
        },
        {
          "output_type": "display_data",
          "data": {
            "text/plain": [
              "('192.0.66.32', '172.28.0.12', '443', '49152')"
            ]
          },
          "metadata": {}
        },
        {
          "output_type": "display_data",
          "data": {
            "text/plain": [
              "{'direction': 'downlink',\n",
              " 'num_packets': 14,\n",
              " 'total_bytes': 5868.0,\n",
              " 'min_pkt_size': 40.0,\n",
              " 'max_pkt_size': 2960.0,\n",
              " 'mean_pkt_size': 419.14285714285717,\n",
              " 'std_pkt_size': 799.277448424788,\n",
              " 'min_iat': 1e-06,\n",
              " 'max_iat': 0.070243,\n",
              " 'mean_iat': 0.00814630769230769,\n",
              " 'std_iat': 0.01968149792903907,\n",
              " 'dur': 0.10590199999999997,\n",
              " 'dport': '49152',\n",
              " 'sport': '443'}"
            ]
          },
          "metadata": {}
        },
        {
          "output_type": "display_data",
          "data": {
            "text/plain": [
              "('192.0.66.32', '172.28.0.12', '443', '58918')"
            ]
          },
          "metadata": {}
        },
        {
          "output_type": "display_data",
          "data": {
            "text/plain": [
              "{'direction': 'downlink',\n",
              " 'num_packets': 13,\n",
              " 'total_bytes': 5812.0,\n",
              " 'min_pkt_size': 40.0,\n",
              " 'max_pkt_size': 2960.0,\n",
              " 'mean_pkt_size': 447.0769230769231,\n",
              " 'std_pkt_size': 824.9580253502257,\n",
              " 'min_iat': 1e-06,\n",
              " 'max_iat': 0.070917,\n",
              " 'mean_iat': 0.00889283333333333,\n",
              " 'std_iat': 0.020551384137563508,\n",
              " 'dur': 0.10671399999999998,\n",
              " 'dport': '58918',\n",
              " 'sport': '443'}"
            ]
          },
          "metadata": {}
        },
        {
          "output_type": "display_data",
          "data": {
            "text/plain": [
              "('192.0.66.32', '172.28.0.12', '443', '58932')"
            ]
          },
          "metadata": {}
        },
        {
          "output_type": "display_data",
          "data": {
            "text/plain": [
              "{'direction': 'downlink',\n",
              " 'num_packets': 12,\n",
              " 'total_bytes': 5768.0,\n",
              " 'min_pkt_size': 40.0,\n",
              " 'max_pkt_size': 2960.0,\n",
              " 'mean_pkt_size': 480.6666666666667,\n",
              " 'std_pkt_size': 852.144389529181,\n",
              " 'min_iat': 0.0,\n",
              " 'max_iat': 0.068978,\n",
              " 'mean_iat': 0.009438727272727274,\n",
              " 'std_iat': 0.020761567527963338,\n",
              " 'dur': 0.10382600000000002,\n",
              " 'dport': '58932',\n",
              " 'sport': '443'}"
            ]
          },
          "metadata": {}
        },
        {
          "output_type": "display_data",
          "data": {
            "text/plain": [
              "('192.0.66.32', '172.28.0.12', '443', '58946')"
            ]
          },
          "metadata": {}
        },
        {
          "output_type": "display_data",
          "data": {
            "text/plain": [
              "{'direction': 'downlink',\n",
              " 'num_packets': 14,\n",
              " 'total_bytes': 5870.0,\n",
              " 'min_pkt_size': 40.0,\n",
              " 'max_pkt_size': 2960.0,\n",
              " 'mean_pkt_size': 419.2857142857143,\n",
              " 'std_pkt_size': 799.2136932463854,\n",
              " 'min_iat': 1e-06,\n",
              " 'max_iat': 0.074439,\n",
              " 'mean_iat': 0.008561000000000001,\n",
              " 'std_iat': 0.02078128889570295,\n",
              " 'dur': 0.11129300000000002,\n",
              " 'dport': '58946',\n",
              " 'sport': '443'}"
            ]
          },
          "metadata": {}
        },
        {
          "output_type": "display_data",
          "data": {
            "text/plain": [
              "('23.222.170.6', '172.28.0.12', '443', '36270')"
            ]
          },
          "metadata": {}
        },
        {
          "output_type": "display_data",
          "data": {
            "text/plain": [
              "{'direction': 'downlink',\n",
              " 'num_packets': 168,\n",
              " 'total_bytes': 2296674.0,\n",
              " 'min_pkt_size': 52.0,\n",
              " 'max_pkt_size': 56524.0,\n",
              " 'mean_pkt_size': 13670.67857142857,\n",
              " 'std_pkt_size': 15125.692593167794,\n",
              " 'min_iat': 1e-06,\n",
              " 'max_iat': 9.950877,\n",
              " 'mean_iat': 0.06140407784431138,\n",
              " 'std_iat': 0.7699167115768204,\n",
              " 'dur': 10.254481,\n",
              " 'dport': '36270',\n",
              " 'sport': '443'}"
            ]
          },
          "metadata": {}
        },
        {
          "output_type": "display_data",
          "data": {
            "text/plain": [
              "('23.222.170.6', '172.28.0.12', '443', '37542')"
            ]
          },
          "metadata": {}
        },
        {
          "output_type": "display_data",
          "data": {
            "text/plain": [
              "{'direction': 'downlink',\n",
              " 'num_packets': 183,\n",
              " 'total_bytes': 2301623.0,\n",
              " 'min_pkt_size': 52.0,\n",
              " 'max_pkt_size': 56524.0,\n",
              " 'mean_pkt_size': 12577.174863387978,\n",
              " 'std_pkt_size': 15403.435783852794,\n",
              " 'min_iat': 1e-06,\n",
              " 'max_iat': 9.977727,\n",
              " 'mean_iat': 0.05639795604395606,\n",
              " 'std_iat': 0.7395127958939243,\n",
              " 'dur': 10.264428000000002,\n",
              " 'dport': '37542',\n",
              " 'sport': '443'}"
            ]
          },
          "metadata": {}
        },
        {
          "output_type": "display_data",
          "data": {
            "text/plain": [
              "('23.222.170.6', '172.28.0.12', '443', '38378')"
            ]
          },
          "metadata": {}
        },
        {
          "output_type": "display_data",
          "data": {
            "text/plain": [
              "{'direction': 'downlink',\n",
              " 'num_packets': 214,\n",
              " 'total_bytes': 2304537.0,\n",
              " 'min_pkt_size': 52.0,\n",
              " 'max_pkt_size': 56524.0,\n",
              " 'mean_pkt_size': 10768.864485981308,\n",
              " 'std_pkt_size': 13435.963562398283,\n",
              " 'min_iat': 1e-06,\n",
              " 'max_iat': 8.048287,\n",
              " 'mean_iat': 0.04077242253521128,\n",
              " 'std_iat': 0.551368464602461,\n",
              " 'dur': 8.684526000000004,\n",
              " 'dport': '38378',\n",
              " 'sport': '443'}"
            ]
          },
          "metadata": {}
        },
        {
          "output_type": "display_data",
          "data": {
            "text/plain": [
              "('23.222.170.6', '172.28.0.12', '443', '45392')"
            ]
          },
          "metadata": {}
        },
        {
          "output_type": "display_data",
          "data": {
            "text/plain": [
              "{'direction': 'downlink',\n",
              " 'num_packets': 200,\n",
              " 'total_bytes': 2301072.0,\n",
              " 'min_pkt_size': 52.0,\n",
              " 'max_pkt_size': 56524.0,\n",
              " 'mean_pkt_size': 11505.36,\n",
              " 'std_pkt_size': 13561.059174343656,\n",
              " 'min_iat': 1e-06,\n",
              " 'max_iat': 9.990697,\n",
              " 'mean_iat': 0.05210397487437186,\n",
              " 'std_iat': 0.7081282832076905,\n",
              " 'dur': 10.368691,\n",
              " 'dport': '45392',\n",
              " 'sport': '443'}"
            ]
          },
          "metadata": {}
        },
        {
          "output_type": "display_data",
          "data": {
            "text/plain": [
              "('23.222.170.6', '172.28.0.12', '443', '48610')"
            ]
          },
          "metadata": {}
        },
        {
          "output_type": "display_data",
          "data": {
            "text/plain": [
              "{'direction': 'downlink',\n",
              " 'num_packets': 172,\n",
              " 'total_bytes': 2300963.0,\n",
              " 'min_pkt_size': 52.0,\n",
              " 'max_pkt_size': 56524.0,\n",
              " 'mean_pkt_size': 13377.691860465116,\n",
              " 'std_pkt_size': 15852.559808912189,\n",
              " 'min_iat': 1e-06,\n",
              " 'max_iat': 8.041753,\n",
              " 'mean_iat': 0.048752298245614036,\n",
              " 'std_iat': 0.6148775978790642,\n",
              " 'dur': 8.336643,\n",
              " 'dport': '48610',\n",
              " 'sport': '443'}"
            ]
          },
          "metadata": {}
        },
        {
          "output_type": "display_data",
          "data": {
            "text/plain": [
              "('23.222.170.6', '172.28.0.12', '443', '49760')"
            ]
          },
          "metadata": {}
        },
        {
          "output_type": "display_data",
          "data": {
            "text/plain": [
              "{'direction': 'downlink',\n",
              " 'num_packets': 190,\n",
              " 'total_bytes': 2299094.0,\n",
              " 'min_pkt_size': 52.0,\n",
              " 'max_pkt_size': 56786.0,\n",
              " 'mean_pkt_size': 12100.494736842105,\n",
              " 'std_pkt_size': 14198.726914668323,\n",
              " 'min_iat': 1e-06,\n",
              " 'max_iat': 8.989215,\n",
              " 'mean_iat': 0.04951089947089947,\n",
              " 'std_iat': 0.6537704593090494,\n",
              " 'dur': 9.35756,\n",
              " 'dport': '49760',\n",
              " 'sport': '443'}"
            ]
          },
          "metadata": {}
        },
        {
          "output_type": "display_data",
          "data": {
            "text/plain": [
              "('23.222.170.6', '172.28.0.12', '443', '52406')"
            ]
          },
          "metadata": {}
        },
        {
          "output_type": "display_data",
          "data": {
            "text/plain": [
              "{'direction': 'downlink',\n",
              " 'num_packets': 183,\n",
              " 'total_bytes': 2300201.0,\n",
              " 'min_pkt_size': 52.0,\n",
              " 'max_pkt_size': 56524.0,\n",
              " 'mean_pkt_size': 12569.4043715847,\n",
              " 'std_pkt_size': 15979.411091982523,\n",
              " 'min_iat': 1e-06,\n",
              " 'max_iat': 9.916409,\n",
              " 'mean_iat': 0.05690663186813186,\n",
              " 'std_iat': 0.7349446470821445,\n",
              " 'dur': 10.357006999999998,\n",
              " 'dport': '52406',\n",
              " 'sport': '443'}"
            ]
          },
          "metadata": {}
        },
        {
          "output_type": "display_data",
          "data": {
            "text/plain": [
              "('23.222.170.6', '172.28.0.12', '443', '54356')"
            ]
          },
          "metadata": {}
        },
        {
          "output_type": "display_data",
          "data": {
            "text/plain": [
              "{'direction': 'downlink',\n",
              " 'num_packets': 175,\n",
              " 'total_bytes': 2297748.0,\n",
              " 'min_pkt_size': 52.0,\n",
              " 'max_pkt_size': 56524.0,\n",
              " 'mean_pkt_size': 13129.988571428572,\n",
              " 'std_pkt_size': 15368.495256470118,\n",
              " 'min_iat': 1e-06,\n",
              " 'max_iat': 8.962608,\n",
              " 'mean_iat': 0.05329355172413794,\n",
              " 'std_iat': 0.6793600992864983,\n",
              " 'dur': 9.273078000000002,\n",
              " 'dport': '54356',\n",
              " 'sport': '443'}"
            ]
          },
          "metadata": {}
        },
        {
          "output_type": "display_data",
          "data": {
            "text/plain": [
              "('23.222.170.6', '172.28.0.12', '443', '55536')"
            ]
          },
          "metadata": {}
        },
        {
          "output_type": "display_data",
          "data": {
            "text/plain": [
              "{'direction': 'downlink',\n",
              " 'num_packets': 222,\n",
              " 'total_bytes': 2300317.0,\n",
              " 'min_pkt_size': 52.0,\n",
              " 'max_pkt_size': 36252.0,\n",
              " 'mean_pkt_size': 10361.788288288288,\n",
              " 'std_pkt_size': 10245.976671821005,\n",
              " 'min_iat': 1e-06,\n",
              " 'max_iat': 10.618321,\n",
              " 'mean_iat': 0.05437639819004525,\n",
              " 'std_iat': 0.7141452232433317,\n",
              " 'dur': 12.017184,\n",
              " 'dport': '55536',\n",
              " 'sport': '443'}"
            ]
          },
          "metadata": {}
        },
        {
          "output_type": "display_data",
          "data": {
            "text/plain": [
              "('23.222.170.6', '172.28.0.12', '443', '60812')"
            ]
          },
          "metadata": {}
        },
        {
          "output_type": "display_data",
          "data": {
            "text/plain": [
              "{'direction': 'downlink',\n",
              " 'num_packets': 238,\n",
              " 'total_bytes': 2301776.0,\n",
              " 'min_pkt_size': 52.0,\n",
              " 'max_pkt_size': 47836.0,\n",
              " 'mean_pkt_size': 9671.327731092437,\n",
              " 'std_pkt_size': 9819.70543063588,\n",
              " 'min_iat': 1e-06,\n",
              " 'max_iat': 9.083116,\n",
              " 'mean_iat': 0.039772995780590716,\n",
              " 'std_iat': 0.5899553550164887,\n",
              " 'dur': 9.4262,\n",
              " 'dport': '60812',\n",
              " 'sport': '443'}"
            ]
          },
          "metadata": {}
        },
        {
          "output_type": "display_data",
          "data": {
            "text/plain": [
              "('23.45.85.122', '172.28.0.12', '443', '40772')"
            ]
          },
          "metadata": {}
        },
        {
          "output_type": "display_data",
          "data": {
            "text/plain": [
              "{'direction': 'downlink',\n",
              " 'num_packets': 13,\n",
              " 'total_bytes': 5619.0,\n",
              " 'min_pkt_size': 52.0,\n",
              " 'max_pkt_size': 2948.0,\n",
              " 'mean_pkt_size': 432.2307692307692,\n",
              " 'std_pkt_size': 787.4464165734447,\n",
              " 'min_iat': 1e-06,\n",
              " 'max_iat': 0.096573,\n",
              " 'mean_iat': 0.018823416666666665,\n",
              " 'std_iat': 0.03250035671820551,\n",
              " 'dur': 0.225881,\n",
              " 'dport': '40772',\n",
              " 'sport': '443'}"
            ]
          },
          "metadata": {}
        },
        {
          "output_type": "display_data",
          "data": {
            "text/plain": [
              "('23.45.85.122', '172.28.0.12', '443', '40786')"
            ]
          },
          "metadata": {}
        },
        {
          "output_type": "display_data",
          "data": {
            "text/plain": [
              "{'direction': 'downlink',\n",
              " 'num_packets': 13,\n",
              " 'total_bytes': 5621.0,\n",
              " 'min_pkt_size': 52.0,\n",
              " 'max_pkt_size': 2948.0,\n",
              " 'mean_pkt_size': 432.38461538461536,\n",
              " 'std_pkt_size': 787.5297389582122,\n",
              " 'min_iat': 1e-06,\n",
              " 'max_iat': 0.096416,\n",
              " 'mean_iat': 0.019760916666666666,\n",
              " 'std_iat': 0.03191140554569032,\n",
              " 'dur': 0.23713099999999998,\n",
              " 'dport': '40786',\n",
              " 'sport': '443'}"
            ]
          },
          "metadata": {}
        },
        {
          "output_type": "display_data",
          "data": {
            "text/plain": [
              "('23.45.85.122', '172.28.0.12', '443', '40794')"
            ]
          },
          "metadata": {}
        },
        {
          "output_type": "display_data",
          "data": {
            "text/plain": [
              "{'direction': 'downlink',\n",
              " 'num_packets': 13,\n",
              " 'total_bytes': 5621.0,\n",
              " 'min_pkt_size': 52.0,\n",
              " 'max_pkt_size': 2948.0,\n",
              " 'mean_pkt_size': 432.38461538461536,\n",
              " 'std_pkt_size': 787.5297389582122,\n",
              " 'min_iat': 0.0,\n",
              " 'max_iat': 0.096474,\n",
              " 'mean_iat': 0.017616333333333335,\n",
              " 'std_iat': 0.032040040731256984,\n",
              " 'dur': 0.211396,\n",
              " 'dport': '40794',\n",
              " 'sport': '443'}"
            ]
          },
          "metadata": {}
        },
        {
          "output_type": "display_data",
          "data": {
            "text/plain": [
              "('23.45.85.122', '172.28.0.12', '443', '40810')"
            ]
          },
          "metadata": {}
        },
        {
          "output_type": "display_data",
          "data": {
            "text/plain": [
              "{'direction': 'downlink',\n",
              " 'num_packets': 13,\n",
              " 'total_bytes': 5620.0,\n",
              " 'min_pkt_size': 52.0,\n",
              " 'max_pkt_size': 2948.0,\n",
              " 'mean_pkt_size': 432.3076923076923,\n",
              " 'std_pkt_size': 787.4880300270586,\n",
              " 'min_iat': 1e-06,\n",
              " 'max_iat': 0.096617,\n",
              " 'mean_iat': 0.016954916666666667,\n",
              " 'std_iat': 0.031004898080665,\n",
              " 'dur': 0.203459,\n",
              " 'dport': '40810',\n",
              " 'sport': '443'}"
            ]
          },
          "metadata": {}
        },
        {
          "output_type": "display_data",
          "data": {
            "text/plain": [
              "('23.45.85.122', '172.28.0.12', '443', '40826')"
            ]
          },
          "metadata": {}
        },
        {
          "output_type": "display_data",
          "data": {
            "text/plain": [
              "{'direction': 'downlink',\n",
              " 'num_packets': 13,\n",
              " 'total_bytes': 5620.0,\n",
              " 'min_pkt_size': 52.0,\n",
              " 'max_pkt_size': 2948.0,\n",
              " 'mean_pkt_size': 432.3076923076923,\n",
              " 'std_pkt_size': 787.4880300270586,\n",
              " 'min_iat': 2e-06,\n",
              " 'max_iat': 0.095606,\n",
              " 'mean_iat': 0.018775833333333335,\n",
              " 'std_iat': 0.03150333622400053,\n",
              " 'dur': 0.22531,\n",
              " 'dport': '40826',\n",
              " 'sport': '443'}"
            ]
          },
          "metadata": {}
        },
        {
          "output_type": "display_data",
          "data": {
            "text/plain": [
              "('23.45.85.122', '172.28.0.12', '443', '40830')"
            ]
          },
          "metadata": {}
        },
        {
          "output_type": "display_data",
          "data": {
            "text/plain": [
              "{'direction': 'downlink',\n",
              " 'num_packets': 13,\n",
              " 'total_bytes': 5620.0,\n",
              " 'min_pkt_size': 52.0,\n",
              " 'max_pkt_size': 2948.0,\n",
              " 'mean_pkt_size': 432.3076923076923,\n",
              " 'std_pkt_size': 787.4880300270586,\n",
              " 'min_iat': 1e-06,\n",
              " 'max_iat': 0.098917,\n",
              " 'mean_iat': 0.024128833333333332,\n",
              " 'std_iat': 0.03645725966820808,\n",
              " 'dur': 0.28954599999999997,\n",
              " 'dport': '40830',\n",
              " 'sport': '443'}"
            ]
          },
          "metadata": {}
        },
        {
          "output_type": "display_data",
          "data": {
            "text/plain": [
              "('23.45.85.122', '172.28.0.12', '443', '40846')"
            ]
          },
          "metadata": {}
        },
        {
          "output_type": "display_data",
          "data": {
            "text/plain": [
              "{'direction': 'downlink',\n",
              " 'num_packets': 15,\n",
              " 'total_bytes': 5725.0,\n",
              " 'min_pkt_size': 52.0,\n",
              " 'max_pkt_size': 2948.0,\n",
              " 'mean_pkt_size': 381.6666666666667,\n",
              " 'std_pkt_size': 741.2467939383007,\n",
              " 'min_iat': 1e-06,\n",
              " 'max_iat': 0.096436,\n",
              " 'mean_iat': 0.027205714285714284,\n",
              " 'std_iat': 0.03644606542535162,\n",
              " 'dur': 0.38088,\n",
              " 'dport': '40846',\n",
              " 'sport': '443'}"
            ]
          },
          "metadata": {}
        },
        {
          "output_type": "display_data",
          "data": {
            "text/plain": [
              "('23.45.85.122', '172.28.0.12', '443', '58656')"
            ]
          },
          "metadata": {}
        },
        {
          "output_type": "display_data",
          "data": {
            "text/plain": [
              "{'direction': 'downlink',\n",
              " 'num_packets': 13,\n",
              " 'total_bytes': 5621.0,\n",
              " 'min_pkt_size': 52.0,\n",
              " 'max_pkt_size': 2948.0,\n",
              " 'mean_pkt_size': 432.38461538461536,\n",
              " 'std_pkt_size': 787.5297389582122,\n",
              " 'min_iat': 2e-06,\n",
              " 'max_iat': 0.100733,\n",
              " 'mean_iat': 0.02389983333333333,\n",
              " 'std_iat': 0.03438708032977009,\n",
              " 'dur': 0.28679799999999994,\n",
              " 'dport': '58656',\n",
              " 'sport': '443'}"
            ]
          },
          "metadata": {}
        },
        {
          "output_type": "display_data",
          "data": {
            "text/plain": [
              "('23.45.85.122', '172.28.0.12', '443', '58660')"
            ]
          },
          "metadata": {}
        },
        {
          "output_type": "display_data",
          "data": {
            "text/plain": [
              "{'direction': 'downlink',\n",
              " 'num_packets': 20,\n",
              " 'total_bytes': 5986.0,\n",
              " 'min_pkt_size': 52.0,\n",
              " 'max_pkt_size': 2948.0,\n",
              " 'mean_pkt_size': 299.3,\n",
              " 'std_pkt_size': 652.9237966336701,\n",
              " 'min_iat': 1e-06,\n",
              " 'max_iat': 0.108205,\n",
              " 'mean_iat': 0.023558842105263163,\n",
              " 'std_iat': 0.032416186217970315,\n",
              " 'dur': 0.44761800000000007,\n",
              " 'dport': '58660',\n",
              " 'sport': '443'}"
            ]
          },
          "metadata": {}
        },
        {
          "output_type": "display_data",
          "data": {
            "text/plain": [
              "('23.45.85.122', '172.28.0.12', '443', '58672')"
            ]
          },
          "metadata": {}
        },
        {
          "output_type": "display_data",
          "data": {
            "text/plain": [
              "{'direction': 'downlink',\n",
              " 'num_packets': 16,\n",
              " 'total_bytes': 5777.0,\n",
              " 'min_pkt_size': 52.0,\n",
              " 'max_pkt_size': 2948.0,\n",
              " 'mean_pkt_size': 361.0625,\n",
              " 'std_pkt_size': 720.794234970471,\n",
              " 'min_iat': 1e-06,\n",
              " 'max_iat': 0.129799,\n",
              " 'mean_iat': 0.038646066666666666,\n",
              " 'std_iat': 0.04605560330027587,\n",
              " 'dur': 0.579691,\n",
              " 'dport': '58672',\n",
              " 'sport': '443'}"
            ]
          },
          "metadata": {}
        },
        {
          "output_type": "display_data",
          "data": {
            "text/plain": [
              "('23.56.228.13', '172.28.0.12', '443', '46110')"
            ]
          },
          "metadata": {}
        },
        {
          "output_type": "display_data",
          "data": {
            "text/plain": [
              "{'direction': 'downlink',\n",
              " 'num_packets': 254,\n",
              " 'total_bytes': 2086778.0,\n",
              " 'min_pkt_size': 52.0,\n",
              " 'max_pkt_size': 36252.0,\n",
              " 'mean_pkt_size': 8215.661417322835,\n",
              " 'std_pkt_size': 8337.194982096413,\n",
              " 'min_iat': 1e-06,\n",
              " 'max_iat': 0.092613,\n",
              " 'mean_iat': 0.00180802766798419,\n",
              " 'std_iat': 0.0072657485720828184,\n",
              " 'dur': 0.45743100000000003,\n",
              " 'dport': '46110',\n",
              " 'sport': '443'}"
            ]
          },
          "metadata": {}
        },
        {
          "output_type": "display_data",
          "data": {
            "text/plain": [
              "('23.56.228.13', '172.28.0.12', '443', '46112')"
            ]
          },
          "metadata": {}
        },
        {
          "output_type": "display_data",
          "data": {
            "text/plain": [
              "{'direction': 'downlink',\n",
              " 'num_packets': 244,\n",
              " 'total_bytes': 2086259.0,\n",
              " 'min_pkt_size': 52.0,\n",
              " 'max_pkt_size': 39148.0,\n",
              " 'mean_pkt_size': 8550.241803278688,\n",
              " 'std_pkt_size': 8084.203842838594,\n",
              " 'min_iat': 1e-06,\n",
              " 'max_iat': 0.090496,\n",
              " 'mean_iat': 0.0017286913580246914,\n",
              " 'std_iat': 0.006908483415832003,\n",
              " 'dur': 0.420072,\n",
              " 'dport': '46112',\n",
              " 'sport': '443'}"
            ]
          },
          "metadata": {}
        },
        {
          "output_type": "display_data",
          "data": {
            "text/plain": [
              "('23.56.228.13', '172.28.0.12', '443', '46128')"
            ]
          },
          "metadata": {}
        },
        {
          "output_type": "display_data",
          "data": {
            "text/plain": [
              "{'direction': 'downlink',\n",
              " 'num_packets': 258,\n",
              " 'total_bytes': 2086987.0,\n",
              " 'min_pkt_size': 52.0,\n",
              " 'max_pkt_size': 36252.0,\n",
              " 'mean_pkt_size': 8089.096899224806,\n",
              " 'std_pkt_size': 8304.191342123877,\n",
              " 'min_iat': 1e-06,\n",
              " 'max_iat': 0.123135,\n",
              " 'mean_iat': 0.0018738443579766537,\n",
              " 'std_iat': 0.008417941077454357,\n",
              " 'dur': 0.481578,\n",
              " 'dport': '46128',\n",
              " 'sport': '443'}"
            ]
          },
          "metadata": {}
        },
        {
          "output_type": "display_data",
          "data": {
            "text/plain": [
              "('23.56.228.13', '172.28.0.12', '443', '46136')"
            ]
          },
          "metadata": {}
        },
        {
          "output_type": "display_data",
          "data": {
            "text/plain": [
              "{'direction': 'downlink',\n",
              " 'num_packets': 254,\n",
              " 'total_bytes': 2086779.0,\n",
              " 'min_pkt_size': 52.0,\n",
              " 'max_pkt_size': 55076.0,\n",
              " 'mean_pkt_size': 8215.66535433071,\n",
              " 'std_pkt_size': 9258.11488049992,\n",
              " 'min_iat': 1e-06,\n",
              " 'max_iat': 0.091304,\n",
              " 'mean_iat': 0.001878375494071146,\n",
              " 'std_iat': 0.007192584010170846,\n",
              " 'dur': 0.47522899999999996,\n",
              " 'dport': '46136',\n",
              " 'sport': '443'}"
            ]
          },
          "metadata": {}
        },
        {
          "output_type": "display_data",
          "data": {
            "text/plain": [
              "('23.56.228.13', '172.28.0.12', '443', '55694')"
            ]
          },
          "metadata": {}
        },
        {
          "output_type": "display_data",
          "data": {
            "text/plain": [
              "{'direction': 'downlink',\n",
              " 'num_packets': 238,\n",
              " 'total_bytes': 2085946.0,\n",
              " 'min_pkt_size': 52.0,\n",
              " 'max_pkt_size': 39148.0,\n",
              " 'mean_pkt_size': 8764.47899159664,\n",
              " 'std_pkt_size': 9686.52577208733,\n",
              " 'min_iat': 1e-06,\n",
              " 'max_iat': 0.127509,\n",
              " 'mean_iat': 0.002567729957805907,\n",
              " 'std_iat': 0.010510235031543951,\n",
              " 'dur': 0.608552,\n",
              " 'dport': '55694',\n",
              " 'sport': '443'}"
            ]
          },
          "metadata": {}
        },
        {
          "output_type": "display_data",
          "data": {
            "text/plain": [
              "('23.56.228.13', '172.28.0.12', '443', '55698')"
            ]
          },
          "metadata": {}
        },
        {
          "output_type": "display_data",
          "data": {
            "text/plain": [
              "{'direction': 'downlink',\n",
              " 'num_packets': 241,\n",
              " 'total_bytes': 2086102.0,\n",
              " 'min_pkt_size': 52.0,\n",
              " 'max_pkt_size': 39148.0,\n",
              " 'mean_pkt_size': 8656.02489626556,\n",
              " 'std_pkt_size': 8932.756057961296,\n",
              " 'min_iat': 1e-06,\n",
              " 'max_iat': 0.091884,\n",
              " 'mean_iat': 0.0020043416666666665,\n",
              " 'std_iat': 0.007288883199858912,\n",
              " 'dur': 0.48104199999999997,\n",
              " 'dport': '55698',\n",
              " 'sport': '443'}"
            ]
          },
          "metadata": {}
        },
        {
          "output_type": "display_data",
          "data": {
            "text/plain": [
              "('23.56.228.13', '172.28.0.12', '443', '55710')"
            ]
          },
          "metadata": {}
        },
        {
          "output_type": "display_data",
          "data": {
            "text/plain": [
              "{'direction': 'downlink',\n",
              " 'num_packets': 274,\n",
              " 'total_bytes': 2087819.0,\n",
              " 'min_pkt_size': 52.0,\n",
              " 'max_pkt_size': 31908.0,\n",
              " 'mean_pkt_size': 7619.7773722627735,\n",
              " 'std_pkt_size': 7679.8638584496575,\n",
              " 'min_iat': 1e-06,\n",
              " 'max_iat': 0.090373,\n",
              " 'mean_iat': 0.0018607399267399265,\n",
              " 'std_iat': 0.0070618137492033,\n",
              " 'dur': 0.5079819999999999,\n",
              " 'dport': '55710',\n",
              " 'sport': '443'}"
            ]
          },
          "metadata": {}
        },
        {
          "output_type": "display_data",
          "data": {
            "text/plain": [
              "('23.56.228.13', '172.28.0.12', '443', '55716')"
            ]
          },
          "metadata": {}
        },
        {
          "output_type": "display_data",
          "data": {
            "text/plain": [
              "{'direction': 'downlink',\n",
              " 'num_packets': 252,\n",
              " 'total_bytes': 2086675.0,\n",
              " 'min_pkt_size': 52.0,\n",
              " 'max_pkt_size': 56524.0,\n",
              " 'mean_pkt_size': 8280.45634920635,\n",
              " 'std_pkt_size': 8310.094262250543,\n",
              " 'min_iat': 1e-06,\n",
              " 'max_iat': 0.090332,\n",
              " 'mean_iat': 0.002066131474103586,\n",
              " 'std_iat': 0.008083477110912446,\n",
              " 'dur': 0.518599,\n",
              " 'dport': '55716',\n",
              " 'sport': '443'}"
            ]
          },
          "metadata": {}
        },
        {
          "output_type": "display_data",
          "data": {
            "text/plain": [
              "('23.56.228.13', '172.28.0.12', '443', '55728')"
            ]
          },
          "metadata": {}
        },
        {
          "output_type": "display_data",
          "data": {
            "text/plain": [
              "{'direction': 'downlink',\n",
              " 'num_packets': 259,\n",
              " 'total_bytes': 2087038.0,\n",
              " 'min_pkt_size': 52.0,\n",
              " 'max_pkt_size': 29012.0,\n",
              " 'mean_pkt_size': 8058.061776061776,\n",
              " 'std_pkt_size': 7395.488266087868,\n",
              " 'min_iat': 1e-06,\n",
              " 'max_iat': 0.091564,\n",
              " 'mean_iat': 0.0018957209302325583,\n",
              " 'std_iat': 0.007254783323145214,\n",
              " 'dur': 0.48909600000000003,\n",
              " 'dport': '55728',\n",
              " 'sport': '443'}"
            ]
          },
          "metadata": {}
        },
        {
          "output_type": "display_data",
          "data": {
            "text/plain": [
              "('23.56.228.13', '172.28.0.12', '443', '55740')"
            ]
          },
          "metadata": {}
        },
        {
          "output_type": "display_data",
          "data": {
            "text/plain": [
              "{'direction': 'downlink',\n",
              " 'num_packets': 251,\n",
              " 'total_bytes': 2086622.0,\n",
              " 'min_pkt_size': 52.0,\n",
              " 'max_pkt_size': 37700.0,\n",
              " 'mean_pkt_size': 8313.235059760957,\n",
              " 'std_pkt_size': 8239.806015466984,\n",
              " 'min_iat': 1e-06,\n",
              " 'max_iat': 0.090862,\n",
              " 'mean_iat': 0.001653432,\n",
              " 'std_iat': 0.006703369824303409,\n",
              " 'dur': 0.413358,\n",
              " 'dport': '55740',\n",
              " 'sport': '443'}"
            ]
          },
          "metadata": {}
        },
        {
          "output_type": "display_data",
          "data": {
            "text/plain": [
              "('23.56.230.240', '172.28.0.12', '443', '42698')"
            ]
          },
          "metadata": {}
        },
        {
          "output_type": "display_data",
          "data": {
            "text/plain": [
              "{'direction': 'downlink',\n",
              " 'num_packets': 15,\n",
              " 'total_bytes': 7387.0,\n",
              " 'min_pkt_size': 52.0,\n",
              " 'max_pkt_size': 2948.0,\n",
              " 'mean_pkt_size': 492.46666666666664,\n",
              " 'std_pkt_size': 810.6760729404162,\n",
              " 'min_iat': 1e-06,\n",
              " 'max_iat': 0.091408,\n",
              " 'mean_iat': 0.0206575,\n",
              " 'std_iat': 0.03150613780922451,\n",
              " 'dur': 0.289205,\n",
              " 'dport': '42698',\n",
              " 'sport': '443'}"
            ]
          },
          "metadata": {}
        },
        {
          "output_type": "display_data",
          "data": {
            "text/plain": [
              "('23.56.230.240', '172.28.0.12', '443', '42710')"
            ]
          },
          "metadata": {}
        },
        {
          "output_type": "display_data",
          "data": {
            "text/plain": [
              "{'direction': 'downlink',\n",
              " 'num_packets': 14,\n",
              " 'total_bytes': 7323.0,\n",
              " 'min_pkt_size': 52.0,\n",
              " 'max_pkt_size': 2948.0,\n",
              " 'mean_pkt_size': 523.0714285714286,\n",
              " 'std_pkt_size': 832.2371577940911,\n",
              " 'min_iat': 2e-06,\n",
              " 'max_iat': 0.125424,\n",
              " 'mean_iat': 0.01974346153846154,\n",
              " 'std_iat': 0.03641595403486267,\n",
              " 'dur': 0.25666500000000003,\n",
              " 'dport': '42710',\n",
              " 'sport': '443'}"
            ]
          },
          "metadata": {}
        },
        {
          "output_type": "display_data",
          "data": {
            "text/plain": [
              "('23.56.230.240', '172.28.0.12', '443', '42712')"
            ]
          },
          "metadata": {}
        },
        {
          "output_type": "display_data",
          "data": {
            "text/plain": [
              "{'direction': 'downlink',\n",
              " 'num_packets': 14,\n",
              " 'total_bytes': 7323.0,\n",
              " 'min_pkt_size': 52.0,\n",
              " 'max_pkt_size': 2948.0,\n",
              " 'mean_pkt_size': 523.0714285714286,\n",
              " 'std_pkt_size': 832.2371577940911,\n",
              " 'min_iat': 2e-06,\n",
              " 'max_iat': 0.12582,\n",
              " 'mean_iat': 0.020262999999999996,\n",
              " 'std_iat': 0.03676428643851711,\n",
              " 'dur': 0.26341899999999996,\n",
              " 'dport': '42712',\n",
              " 'sport': '443'}"
            ]
          },
          "metadata": {}
        },
        {
          "output_type": "display_data",
          "data": {
            "text/plain": [
              "('23.56.230.240', '172.28.0.12', '443', '42718')"
            ]
          },
          "metadata": {}
        },
        {
          "output_type": "display_data",
          "data": {
            "text/plain": [
              "{'direction': 'downlink',\n",
              " 'num_packets': 15,\n",
              " 'total_bytes': 7375.0,\n",
              " 'min_pkt_size': 52.0,\n",
              " 'max_pkt_size': 2948.0,\n",
              " 'mean_pkt_size': 491.6666666666667,\n",
              " 'std_pkt_size': 811.1348898449688,\n",
              " 'min_iat': 1e-06,\n",
              " 'max_iat': 0.090903,\n",
              " 'mean_iat': 0.015303999999999998,\n",
              " 'std_iat': 0.027162153644646525,\n",
              " 'dur': 0.21425599999999997,\n",
              " 'dport': '42718',\n",
              " 'sport': '443'}"
            ]
          },
          "metadata": {}
        },
        {
          "output_type": "display_data",
          "data": {
            "text/plain": [
              "('23.56.230.240', '172.28.0.12', '443', '42722')"
            ]
          },
          "metadata": {}
        },
        {
          "output_type": "display_data",
          "data": {
            "text/plain": [
              "{'direction': 'downlink',\n",
              " 'num_packets': 15,\n",
              " 'total_bytes': 7375.0,\n",
              " 'min_pkt_size': 52.0,\n",
              " 'max_pkt_size': 2948.0,\n",
              " 'mean_pkt_size': 491.6666666666667,\n",
              " 'std_pkt_size': 811.1348898449688,\n",
              " 'min_iat': 1e-06,\n",
              " 'max_iat': 0.090442,\n",
              " 'mean_iat': 0.017106142857142854,\n",
              " 'std_iat': 0.028590690264912736,\n",
              " 'dur': 0.23948599999999998,\n",
              " 'dport': '42722',\n",
              " 'sport': '443'}"
            ]
          },
          "metadata": {}
        },
        {
          "output_type": "display_data",
          "data": {
            "text/plain": [
              "('23.56.230.240', '172.28.0.12', '443', '42724')"
            ]
          },
          "metadata": {}
        },
        {
          "output_type": "display_data",
          "data": {
            "text/plain": [
              "{'direction': 'downlink',\n",
              " 'num_packets': 14,\n",
              " 'total_bytes': 7323.0,\n",
              " 'min_pkt_size': 52.0,\n",
              " 'max_pkt_size': 2948.0,\n",
              " 'mean_pkt_size': 523.0714285714286,\n",
              " 'std_pkt_size': 832.2371577940911,\n",
              " 'min_iat': 2e-06,\n",
              " 'max_iat': 0.093224,\n",
              " 'mean_iat': 0.018000769230769233,\n",
              " 'std_iat': 0.02976797520309884,\n",
              " 'dur': 0.23401000000000005,\n",
              " 'dport': '42724',\n",
              " 'sport': '443'}"
            ]
          },
          "metadata": {}
        },
        {
          "output_type": "display_data",
          "data": {
            "text/plain": [
              "('23.56.230.240', '172.28.0.12', '443', '42732')"
            ]
          },
          "metadata": {}
        },
        {
          "output_type": "display_data",
          "data": {
            "text/plain": [
              "{'direction': 'downlink',\n",
              " 'num_packets': 14,\n",
              " 'total_bytes': 7323.0,\n",
              " 'min_pkt_size': 52.0,\n",
              " 'max_pkt_size': 2948.0,\n",
              " 'mean_pkt_size': 523.0714285714286,\n",
              " 'std_pkt_size': 832.2371577940911,\n",
              " 'min_iat': 1e-06,\n",
              " 'max_iat': 0.100502,\n",
              " 'mean_iat': 0.024280923076923082,\n",
              " 'std_iat': 0.03333735045576142,\n",
              " 'dur': 0.31565200000000004,\n",
              " 'dport': '42732',\n",
              " 'sport': '443'}"
            ]
          },
          "metadata": {}
        },
        {
          "output_type": "display_data",
          "data": {
            "text/plain": [
              "('23.56.230.240', '172.28.0.12', '443', '57060')"
            ]
          },
          "metadata": {}
        },
        {
          "output_type": "display_data",
          "data": {
            "text/plain": [
              "{'direction': 'downlink',\n",
              " 'num_packets': 14,\n",
              " 'total_bytes': 7323.0,\n",
              " 'min_pkt_size': 52.0,\n",
              " 'max_pkt_size': 2948.0,\n",
              " 'mean_pkt_size': 523.0714285714286,\n",
              " 'std_pkt_size': 832.2371577940911,\n",
              " 'min_iat': 1e-06,\n",
              " 'max_iat': 0.090902,\n",
              " 'mean_iat': 0.018576846153846156,\n",
              " 'std_iat': 0.028093932668953492,\n",
              " 'dur': 0.24149900000000002,\n",
              " 'dport': '57060',\n",
              " 'sport': '443'}"
            ]
          },
          "metadata": {}
        },
        {
          "output_type": "display_data",
          "data": {
            "text/plain": [
              "('23.56.230.240', '172.28.0.12', '443', '57072')"
            ]
          },
          "metadata": {}
        },
        {
          "output_type": "display_data",
          "data": {
            "text/plain": [
              "{'direction': 'downlink',\n",
              " 'num_packets': 14,\n",
              " 'total_bytes': 7323.0,\n",
              " 'min_pkt_size': 52.0,\n",
              " 'max_pkt_size': 2948.0,\n",
              " 'mean_pkt_size': 523.0714285714286,\n",
              " 'std_pkt_size': 832.2371577940911,\n",
              " 'min_iat': 1e-06,\n",
              " 'max_iat': 0.090251,\n",
              " 'mean_iat': 0.01573246153846154,\n",
              " 'std_iat': 0.02730015733048494,\n",
              " 'dur': 0.204522,\n",
              " 'dport': '57072',\n",
              " 'sport': '443'}"
            ]
          },
          "metadata": {}
        },
        {
          "output_type": "display_data",
          "data": {
            "text/plain": [
              "('23.56.230.240', '172.28.0.12', '443', '57074')"
            ]
          },
          "metadata": {}
        },
        {
          "output_type": "display_data",
          "data": {
            "text/plain": [
              "{'direction': 'downlink',\n",
              " 'num_packets': 14,\n",
              " 'total_bytes': 7323.0,\n",
              " 'min_pkt_size': 52.0,\n",
              " 'max_pkt_size': 2948.0,\n",
              " 'mean_pkt_size': 523.0714285714286,\n",
              " 'std_pkt_size': 832.2371577940911,\n",
              " 'min_iat': 1e-06,\n",
              " 'max_iat': 0.092349,\n",
              " 'mean_iat': 0.01672130769230769,\n",
              " 'std_iat': 0.0281850870153722,\n",
              " 'dur': 0.217377,\n",
              " 'dport': '57074',\n",
              " 'sport': '443'}"
            ]
          },
          "metadata": {}
        },
        {
          "output_type": "display_data",
          "data": {
            "text/plain": [
              "('91.215.41.4', '172.28.0.12', '443', '52696')"
            ]
          },
          "metadata": {}
        },
        {
          "output_type": "display_data",
          "data": {
            "text/plain": [
              "{'direction': 'downlink',\n",
              " 'num_packets': 152,\n",
              " 'total_bytes': 397952.0,\n",
              " 'min_pkt_size': 52.0,\n",
              " 'max_pkt_size': 2828.0,\n",
              " 'mean_pkt_size': 2618.1052631578946,\n",
              " 'std_pkt_size': 707.8920593241846,\n",
              " 'min_iat': 1e-06,\n",
              " 'max_iat': 0.192908,\n",
              " 'mean_iat': 0.007334682119205298,\n",
              " 'std_iat': 0.022229041521508407,\n",
              " 'dur': 1.107537,\n",
              " 'dport': '52696',\n",
              " 'sport': '443'}"
            ]
          },
          "metadata": {}
        },
        {
          "output_type": "display_data",
          "data": {
            "text/plain": [
              "('91.215.41.4', '172.28.0.12', '443', '52698')"
            ]
          },
          "metadata": {}
        },
        {
          "output_type": "display_data",
          "data": {
            "text/plain": [
              "{'direction': 'downlink',\n",
              " 'num_packets': 151,\n",
              " 'total_bytes': 397901.0,\n",
              " 'min_pkt_size': 52.0,\n",
              " 'max_pkt_size': 2828.0,\n",
              " 'mean_pkt_size': 2635.1059602649007,\n",
              " 'std_pkt_size': 691.6706649103833,\n",
              " 'min_iat': 1e-06,\n",
              " 'max_iat': 0.182521,\n",
              " 'mean_iat': 0.007239753333333334,\n",
              " 'std_iat': 0.022045240524225677,\n",
              " 'dur': 1.085963,\n",
              " 'dport': '52698',\n",
              " 'sport': '443'}"
            ]
          },
          "metadata": {}
        },
        {
          "output_type": "display_data",
          "data": {
            "text/plain": [
              "('91.215.41.4', '172.28.0.12', '443', '52704')"
            ]
          },
          "metadata": {}
        },
        {
          "output_type": "display_data",
          "data": {
            "text/plain": [
              "{'direction': 'downlink',\n",
              " 'num_packets': 150,\n",
              " 'total_bytes': 397891.0,\n",
              " 'min_pkt_size': 52.0,\n",
              " 'max_pkt_size': 2828.0,\n",
              " 'mean_pkt_size': 2652.6066666666666,\n",
              " 'std_pkt_size': 659.7745791232568,\n",
              " 'min_iat': 2e-06,\n",
              " 'max_iat': 0.182763,\n",
              " 'mean_iat': 0.007289563758389263,\n",
              " 'std_iat': 0.02184141035204722,\n",
              " 'dur': 1.0861450000000001,\n",
              " 'dport': '52704',\n",
              " 'sport': '443'}"
            ]
          },
          "metadata": {}
        },
        {
          "output_type": "display_data",
          "data": {
            "text/plain": [
              "('91.215.41.4', '172.28.0.12', '443', '52714')"
            ]
          },
          "metadata": {}
        },
        {
          "output_type": "display_data",
          "data": {
            "text/plain": [
              "{'direction': 'downlink',\n",
              " 'num_packets': 152,\n",
              " 'total_bytes': 397953.0,\n",
              " 'min_pkt_size': 52.0,\n",
              " 'max_pkt_size': 2828.0,\n",
              " 'mean_pkt_size': 2618.1118421052633,\n",
              " 'std_pkt_size': 707.8846816451409,\n",
              " 'min_iat': 1e-06,\n",
              " 'max_iat': 0.182232,\n",
              " 'mean_iat': 0.007288132450331126,\n",
              " 'std_iat': 0.0217237801912023,\n",
              " 'dur': 1.100508,\n",
              " 'dport': '52714',\n",
              " 'sport': '443'}"
            ]
          },
          "metadata": {}
        },
        {
          "output_type": "display_data",
          "data": {
            "text/plain": [
              "('91.215.41.4', '172.28.0.12', '443', '52718')"
            ]
          },
          "metadata": {}
        },
        {
          "output_type": "display_data",
          "data": {
            "text/plain": [
              "{'direction': 'downlink',\n",
              " 'num_packets': 153,\n",
              " 'total_bytes': 398005.0,\n",
              " 'min_pkt_size': 52.0,\n",
              " 'max_pkt_size': 2828.0,\n",
              " 'mean_pkt_size': 2601.3398692810456,\n",
              " 'std_pkt_size': 717.9787616287704,\n",
              " 'min_iat': 1e-06,\n",
              " 'max_iat': 0.180782,\n",
              " 'mean_iat': 0.0071744802631578935,\n",
              " 'std_iat': 0.021469934487563534,\n",
              " 'dur': 1.0905209999999999,\n",
              " 'dport': '52718',\n",
              " 'sport': '443'}"
            ]
          },
          "metadata": {}
        },
        {
          "output_type": "display_data",
          "data": {
            "text/plain": [
              "('91.215.41.4', '172.28.0.12', '443', '53654')"
            ]
          },
          "metadata": {}
        },
        {
          "output_type": "display_data",
          "data": {
            "text/plain": [
              "{'direction': 'downlink',\n",
              " 'num_packets': 152,\n",
              " 'total_bytes': 397952.0,\n",
              " 'min_pkt_size': 52.0,\n",
              " 'max_pkt_size': 2828.0,\n",
              " 'mean_pkt_size': 2618.1052631578946,\n",
              " 'std_pkt_size': 707.8920593241846,\n",
              " 'min_iat': 1e-06,\n",
              " 'max_iat': 0.180246,\n",
              " 'mean_iat': 0.007208589403973509,\n",
              " 'std_iat': 0.021481273002709907,\n",
              " 'dur': 1.0884969999999998,\n",
              " 'dport': '53654',\n",
              " 'sport': '443'}"
            ]
          },
          "metadata": {}
        },
        {
          "output_type": "display_data",
          "data": {
            "text/plain": [
              "('91.215.41.4', '172.28.0.12', '443', '57194')"
            ]
          },
          "metadata": {}
        },
        {
          "output_type": "display_data",
          "data": {
            "text/plain": [
              "{'direction': 'downlink',\n",
              " 'num_packets': 153,\n",
              " 'total_bytes': 398004.0,\n",
              " 'min_pkt_size': 52.0,\n",
              " 'max_pkt_size': 2828.0,\n",
              " 'mean_pkt_size': 2601.3333333333335,\n",
              " 'std_pkt_size': 712.8049670510383,\n",
              " 'min_iat': 1e-06,\n",
              " 'max_iat': 0.182529,\n",
              " 'mean_iat': 0.007124848684210527,\n",
              " 'std_iat': 0.02187823668111681,\n",
              " 'dur': 1.082977,\n",
              " 'dport': '57194',\n",
              " 'sport': '443'}"
            ]
          },
          "metadata": {}
        },
        {
          "output_type": "display_data",
          "data": {
            "text/plain": [
              "('91.215.41.4', '172.28.0.12', '443', '57210')"
            ]
          },
          "metadata": {}
        },
        {
          "output_type": "display_data",
          "data": {
            "text/plain": [
              "{'direction': 'downlink',\n",
              " 'num_packets': 149,\n",
              " 'total_bytes': 397818.0,\n",
              " 'min_pkt_size': 52.0,\n",
              " 'max_pkt_size': 2828.0,\n",
              " 'mean_pkt_size': 2669.9194630872485,\n",
              " 'std_pkt_size': 612.2556822905011,\n",
              " 'min_iat': 1e-06,\n",
              " 'max_iat': 0.180461,\n",
              " 'mean_iat': 0.007055445945945945,\n",
              " 'std_iat': 0.021306643605179743,\n",
              " 'dur': 1.044206,\n",
              " 'dport': '57210',\n",
              " 'sport': '443'}"
            ]
          },
          "metadata": {}
        },
        {
          "output_type": "display_data",
          "data": {
            "text/plain": [
              "('91.215.41.4', '172.28.0.12', '443', '57220')"
            ]
          },
          "metadata": {}
        },
        {
          "output_type": "display_data",
          "data": {
            "text/plain": [
              "{'direction': 'downlink',\n",
              " 'num_packets': 150,\n",
              " 'total_bytes': 397870.0,\n",
              " 'min_pkt_size': 52.0,\n",
              " 'max_pkt_size': 2828.0,\n",
              " 'mean_pkt_size': 2652.4666666666667,\n",
              " 'std_pkt_size': 660.3215168331569,\n",
              " 'min_iat': 1e-06,\n",
              " 'max_iat': 0.182361,\n",
              " 'mean_iat': 0.007241583892617449,\n",
              " 'std_iat': 0.021978058585872935,\n",
              " 'dur': 1.0789959999999998,\n",
              " 'dport': '57220',\n",
              " 'sport': '443'}"
            ]
          },
          "metadata": {}
        },
        {
          "output_type": "display_data",
          "data": {
            "text/plain": [
              "('91.215.41.4', '172.28.0.12', '443', '57234')"
            ]
          },
          "metadata": {}
        },
        {
          "output_type": "display_data",
          "data": {
            "text/plain": [
              "{'direction': 'downlink',\n",
              " 'num_packets': 153,\n",
              " 'total_bytes': 398048.0,\n",
              " 'min_pkt_size': 52.0,\n",
              " 'max_pkt_size': 2828.0,\n",
              " 'mean_pkt_size': 2601.62091503268,\n",
              " 'std_pkt_size': 717.6831969181326,\n",
              " 'min_iat': 2e-06,\n",
              " 'max_iat': 0.188568,\n",
              " 'mean_iat': 0.007276717105263159,\n",
              " 'std_iat': 0.021950415216521958,\n",
              " 'dur': 1.1060610000000002,\n",
              " 'dport': '57234',\n",
              " 'sport': '443'}"
            ]
          },
          "metadata": {}
        },
        {
          "output_type": "display_data",
          "data": {
            "text/plain": [
              "('96.7.140.92', '172.28.0.12', '443', '35122')"
            ]
          },
          "metadata": {}
        },
        {
          "output_type": "display_data",
          "data": {
            "text/plain": [
              "{'direction': 'downlink',\n",
              " 'num_packets': 77,\n",
              " 'total_bytes': 231095.0,\n",
              " 'min_pkt_size': 52.0,\n",
              " 'max_pkt_size': 4396.0,\n",
              " 'mean_pkt_size': 3001.2337662337663,\n",
              " 'std_pkt_size': 1653.7219496455793,\n",
              " 'min_iat': 1e-06,\n",
              " 'max_iat': 0.414127,\n",
              " 'mean_iat': 0.014365999999999999,\n",
              " 'std_iat': 0.05418493495256162,\n",
              " 'dur': 1.091816,\n",
              " 'dport': '35122',\n",
              " 'sport': '443'}"
            ]
          },
          "metadata": {}
        },
        {
          "output_type": "display_data",
          "data": {
            "text/plain": [
              "('96.7.140.92', '172.28.0.12', '443', '35130')"
            ]
          },
          "metadata": {}
        },
        {
          "output_type": "display_data",
          "data": {
            "text/plain": [
              "{'direction': 'downlink',\n",
              " 'num_packets': 70,\n",
              " 'total_bytes': 230731.0,\n",
              " 'min_pkt_size': 52.0,\n",
              " 'max_pkt_size': 7292.0,\n",
              " 'mean_pkt_size': 3296.157142857143,\n",
              " 'std_pkt_size': 2235.031359477265,\n",
              " 'min_iat': 0.0,\n",
              " 'max_iat': 0.069886,\n",
              " 'mean_iat': 0.0026323913043478264,\n",
              " 'std_iat': 0.008784685688939172,\n",
              " 'dur': 0.18163500000000002,\n",
              " 'dport': '35130',\n",
              " 'sport': '443'}"
            ]
          },
          "metadata": {}
        },
        {
          "output_type": "display_data",
          "data": {
            "text/plain": [
              "('96.7.140.92', '172.28.0.12', '443', '35132')"
            ]
          },
          "metadata": {}
        },
        {
          "output_type": "display_data",
          "data": {
            "text/plain": [
              "{'direction': 'downlink',\n",
              " 'num_packets': 70,\n",
              " 'total_bytes': 230731.0,\n",
              " 'min_pkt_size': 52.0,\n",
              " 'max_pkt_size': 7292.0,\n",
              " 'mean_pkt_size': 3296.157142857143,\n",
              " 'std_pkt_size': 2312.4312986941095,\n",
              " 'min_iat': 1e-06,\n",
              " 'max_iat': 0.069944,\n",
              " 'mean_iat': 0.002636376811594202,\n",
              " 'std_iat': 0.00879642634506538,\n",
              " 'dur': 0.18190999999999996,\n",
              " 'dport': '35132',\n",
              " 'sport': '443'}"
            ]
          },
          "metadata": {}
        },
        {
          "output_type": "display_data",
          "data": {
            "text/plain": [
              "('96.7.140.92', '172.28.0.12', '443', '35144')"
            ]
          },
          "metadata": {}
        },
        {
          "output_type": "display_data",
          "data": {
            "text/plain": [
              "{'direction': 'downlink',\n",
              " 'num_packets': 76,\n",
              " 'total_bytes': 231044.0,\n",
              " 'min_pkt_size': 52.0,\n",
              " 'max_pkt_size': 8740.0,\n",
              " 'mean_pkt_size': 3040.0526315789475,\n",
              " 'std_pkt_size': 1910.8144504005743,\n",
              " 'min_iat': 1e-06,\n",
              " 'max_iat': 0.109592,\n",
              " 'mean_iat': 0.0030384799999999997,\n",
              " 'std_iat': 0.012830202759409829,\n",
              " 'dur': 0.22788599999999998,\n",
              " 'dport': '35144',\n",
              " 'sport': '443'}"
            ]
          },
          "metadata": {}
        },
        {
          "output_type": "display_data",
          "data": {
            "text/plain": [
              "('96.7.140.92', '172.28.0.12', '443', '35146')"
            ]
          },
          "metadata": {}
        },
        {
          "output_type": "display_data",
          "data": {
            "text/plain": [
              "{'direction': 'downlink',\n",
              " 'num_packets': 67,\n",
              " 'total_bytes': 230576.0,\n",
              " 'min_pkt_size': 52.0,\n",
              " 'max_pkt_size': 7292.0,\n",
              " 'mean_pkt_size': 3441.4328358208954,\n",
              " 'std_pkt_size': 2487.2586724653224,\n",
              " 'min_iat': 1e-06,\n",
              " 'max_iat': 0.080956,\n",
              " 'mean_iat': 0.003257530303030303,\n",
              " 'std_iat': 0.010649051094194256,\n",
              " 'dur': 0.214997,\n",
              " 'dport': '35146',\n",
              " 'sport': '443'}"
            ]
          },
          "metadata": {}
        },
        {
          "output_type": "display_data",
          "data": {
            "text/plain": [
              "('96.7.140.92', '172.28.0.12', '443', '35152')"
            ]
          },
          "metadata": {}
        },
        {
          "output_type": "display_data",
          "data": {
            "text/plain": [
              "{'direction': 'downlink',\n",
              " 'num_packets': 70,\n",
              " 'total_bytes': 230731.0,\n",
              " 'min_pkt_size': 52.0,\n",
              " 'max_pkt_size': 7292.0,\n",
              " 'mean_pkt_size': 3296.157142857143,\n",
              " 'std_pkt_size': 2112.7692702803574,\n",
              " 'min_iat': 1e-06,\n",
              " 'max_iat': 0.07218,\n",
              " 'mean_iat': 0.0026607971014492747,\n",
              " 'std_iat': 0.009009045647993938,\n",
              " 'dur': 0.18359499999999995,\n",
              " 'dport': '35152',\n",
              " 'sport': '443'}"
            ]
          },
          "metadata": {}
        },
        {
          "output_type": "display_data",
          "data": {
            "text/plain": [
              "('96.7.140.92', '172.28.0.12', '443', '35156')"
            ]
          },
          "metadata": {}
        },
        {
          "output_type": "display_data",
          "data": {
            "text/plain": [
              "{'direction': 'downlink',\n",
              " 'num_packets': 70,\n",
              " 'total_bytes': 230730.0,\n",
              " 'min_pkt_size': 52.0,\n",
              " 'max_pkt_size': 5844.0,\n",
              " 'mean_pkt_size': 3296.1428571428573,\n",
              " 'std_pkt_size': 2010.0023814659933,\n",
              " 'min_iat': 1e-06,\n",
              " 'max_iat': 0.07154,\n",
              " 'mean_iat': 0.0027429420289855084,\n",
              " 'std_iat': 0.00898038868850285,\n",
              " 'dur': 0.18926300000000007,\n",
              " 'dport': '35156',\n",
              " 'sport': '443'}"
            ]
          },
          "metadata": {}
        },
        {
          "output_type": "display_data",
          "data": {
            "text/plain": [
              "('96.7.140.92', '172.28.0.12', '443', '60274')"
            ]
          },
          "metadata": {}
        },
        {
          "output_type": "display_data",
          "data": {
            "text/plain": [
              "{'direction': 'downlink',\n",
              " 'num_packets': 70,\n",
              " 'total_bytes': 230731.0,\n",
              " 'min_pkt_size': 52.0,\n",
              " 'max_pkt_size': 7292.0,\n",
              " 'mean_pkt_size': 3296.157142857143,\n",
              " 'std_pkt_size': 2008.3350999021463,\n",
              " 'min_iat': 1e-06,\n",
              " 'max_iat': 0.072337,\n",
              " 'mean_iat': 0.0027945217391304347,\n",
              " 'std_iat': 0.009125257188331567,\n",
              " 'dur': 0.192822,\n",
              " 'dport': '60274',\n",
              " 'sport': '443'}"
            ]
          },
          "metadata": {}
        },
        {
          "output_type": "display_data",
          "data": {
            "text/plain": [
              "('96.7.140.92', '172.28.0.12', '443', '60286')"
            ]
          },
          "metadata": {}
        },
        {
          "output_type": "display_data",
          "data": {
            "text/plain": [
              "{'direction': 'downlink',\n",
              " 'num_packets': 67,\n",
              " 'total_bytes': 230574.0,\n",
              " 'min_pkt_size': 52.0,\n",
              " 'max_pkt_size': 7292.0,\n",
              " 'mean_pkt_size': 3441.402985074627,\n",
              " 'std_pkt_size': 2386.778239687445,\n",
              " 'min_iat': 1e-06,\n",
              " 'max_iat': 0.071072,\n",
              " 'mean_iat': 0.0028452727272727275,\n",
              " 'std_iat': 0.009154356110693892,\n",
              " 'dur': 0.187788,\n",
              " 'dport': '60286',\n",
              " 'sport': '443'}"
            ]
          },
          "metadata": {}
        },
        {
          "output_type": "display_data",
          "data": {
            "text/plain": [
              "('96.7.140.92', '172.28.0.12', '443', '60296')"
            ]
          },
          "metadata": {}
        },
        {
          "output_type": "display_data",
          "data": {
            "text/plain": [
              "{'direction': 'downlink',\n",
              " 'num_packets': 67,\n",
              " 'total_bytes': 230576.0,\n",
              " 'min_pkt_size': 52.0,\n",
              " 'max_pkt_size': 5844.0,\n",
              " 'mean_pkt_size': 3441.4328358208954,\n",
              " 'std_pkt_size': 2062.7932902497555,\n",
              " 'min_iat': 1e-06,\n",
              " 'max_iat': 0.071149,\n",
              " 'mean_iat': 0.0028806818181818183,\n",
              " 'std_iat': 0.009203562962510504,\n",
              " 'dur': 0.19012500000000002,\n",
              " 'dport': '60296',\n",
              " 'sport': '443'}"
            ]
          },
          "metadata": {}
        },
        {
          "output_type": "display_data",
          "data": {
            "text/plain": [
              "('96.7.141.162', '172.28.0.12', '443', '44120')"
            ]
          },
          "metadata": {}
        },
        {
          "output_type": "display_data",
          "data": {
            "text/plain": [
              "{'direction': 'downlink',\n",
              " 'num_packets': 112,\n",
              " 'total_bytes': 678304.0,\n",
              " 'min_pkt_size': 52.0,\n",
              " 'max_pkt_size': 26116.0,\n",
              " 'mean_pkt_size': 6056.285714285715,\n",
              " 'std_pkt_size': 5812.598405527276,\n",
              " 'min_iat': 1e-06,\n",
              " 'max_iat': 0.070317,\n",
              " 'mean_iat': 0.001880918918918919,\n",
              " 'std_iat': 0.0070746665647546236,\n",
              " 'dur': 0.208782,\n",
              " 'dport': '44120',\n",
              " 'sport': '443'}"
            ]
          },
          "metadata": {}
        },
        {
          "output_type": "display_data",
          "data": {
            "text/plain": [
              "('96.7.141.162', '172.28.0.12', '443', '44136')"
            ]
          },
          "metadata": {}
        },
        {
          "output_type": "display_data",
          "data": {
            "text/plain": [
              "{'direction': 'downlink',\n",
              " 'num_packets': 117,\n",
              " 'total_bytes': 678565.0,\n",
              " 'min_pkt_size': 52.0,\n",
              " 'max_pkt_size': 24668.0,\n",
              " 'mean_pkt_size': 5799.7008547008545,\n",
              " 'std_pkt_size': 5487.980872442284,\n",
              " 'min_iat': 1e-06,\n",
              " 'max_iat': 0.112148,\n",
              " 'mean_iat': 0.002225689655172414,\n",
              " 'std_iat': 0.010592256748016074,\n",
              " 'dur': 0.25818,\n",
              " 'dport': '44136',\n",
              " 'sport': '443'}"
            ]
          },
          "metadata": {}
        },
        {
          "output_type": "display_data",
          "data": {
            "text/plain": [
              "('96.7.141.162', '172.28.0.12', '443', '44140')"
            ]
          },
          "metadata": {}
        },
        {
          "output_type": "display_data",
          "data": {
            "text/plain": [
              "{'direction': 'downlink',\n",
              " 'num_packets': 110,\n",
              " 'total_bytes': 678201.0,\n",
              " 'min_pkt_size': 52.0,\n",
              " 'max_pkt_size': 23220.0,\n",
              " 'mean_pkt_size': 6165.463636363636,\n",
              " 'std_pkt_size': 5204.041528716936,\n",
              " 'min_iat': 1e-06,\n",
              " 'max_iat': 0.104645,\n",
              " 'mean_iat': 0.0024303027522935786,\n",
              " 'std_iat': 0.010446362892222864,\n",
              " 'dur': 0.26490300000000006,\n",
              " 'dport': '44140',\n",
              " 'sport': '443'}"
            ]
          },
          "metadata": {}
        },
        {
          "output_type": "display_data",
          "data": {
            "text/plain": [
              "('96.7.141.162', '172.28.0.12', '443', '44148')"
            ]
          },
          "metadata": {}
        },
        {
          "output_type": "display_data",
          "data": {
            "text/plain": [
              "{'direction': 'downlink',\n",
              " 'num_packets': 114,\n",
              " 'total_bytes': 678387.0,\n",
              " 'min_pkt_size': 52.0,\n",
              " 'max_pkt_size': 24668.0,\n",
              " 'mean_pkt_size': 5950.763157894737,\n",
              " 'std_pkt_size': 5700.280327375668,\n",
              " 'min_iat': 1e-06,\n",
              " 'max_iat': 0.070592,\n",
              " 'mean_iat': 0.0018151238938053096,\n",
              " 'std_iat': 0.006963422810264596,\n",
              " 'dur': 0.20510899999999999,\n",
              " 'dport': '44148',\n",
              " 'sport': '443'}"
            ]
          },
          "metadata": {}
        },
        {
          "output_type": "display_data",
          "data": {
            "text/plain": [
              "('96.7.141.162', '172.28.0.12', '443', '50768')"
            ]
          },
          "metadata": {}
        },
        {
          "output_type": "display_data",
          "data": {
            "text/plain": [
              "{'direction': 'downlink',\n",
              " 'num_packets': 114,\n",
              " 'total_bytes': 678418.0,\n",
              " 'min_pkt_size': 52.0,\n",
              " 'max_pkt_size': 26116.0,\n",
              " 'mean_pkt_size': 5951.035087719299,\n",
              " 'std_pkt_size': 5573.433502573393,\n",
              " 'min_iat': 1e-06,\n",
              " 'max_iat': 0.176486,\n",
              " 'mean_iat': 0.003787380530973451,\n",
              " 'std_iat': 0.018526925623997027,\n",
              " 'dur': 0.42797399999999997,\n",
              " 'dport': '50768',\n",
              " 'sport': '443'}"
            ]
          },
          "metadata": {}
        },
        {
          "output_type": "display_data",
          "data": {
            "text/plain": [
              "('96.7.141.162', '172.28.0.12', '443', '50772')"
            ]
          },
          "metadata": {}
        },
        {
          "output_type": "display_data",
          "data": {
            "text/plain": [
              "{'direction': 'downlink',\n",
              " 'num_packets': 108,\n",
              " 'total_bytes': 678098.0,\n",
              " 'min_pkt_size': 52.0,\n",
              " 'max_pkt_size': 24668.0,\n",
              " 'mean_pkt_size': 6278.685185185185,\n",
              " 'std_pkt_size': 5738.288763851865,\n",
              " 'min_iat': 0.0,\n",
              " 'max_iat': 0.070249,\n",
              " 'mean_iat': 0.002111429906542056,\n",
              " 'std_iat': 0.007533613833900862,\n",
              " 'dur': 0.22592299999999998,\n",
              " 'dport': '50772',\n",
              " 'sport': '443'}"
            ]
          },
          "metadata": {}
        },
        {
          "output_type": "display_data",
          "data": {
            "text/plain": [
              "('96.7.141.162', '172.28.0.12', '443', '50780')"
            ]
          },
          "metadata": {}
        },
        {
          "output_type": "display_data",
          "data": {
            "text/plain": [
              "{'direction': 'downlink',\n",
              " 'num_packets': 107,\n",
              " 'total_bytes': 678045.0,\n",
              " 'min_pkt_size': 52.0,\n",
              " 'max_pkt_size': 26116.0,\n",
              " 'mean_pkt_size': 6336.869158878505,\n",
              " 'std_pkt_size': 5842.351197165485,\n",
              " 'min_iat': 1e-06,\n",
              " 'max_iat': 0.079774,\n",
              " 'mean_iat': 0.002159311320754717,\n",
              " 'std_iat': 0.008156922556201611,\n",
              " 'dur': 0.228887,\n",
              " 'dport': '50780',\n",
              " 'sport': '443'}"
            ]
          },
          "metadata": {}
        },
        {
          "output_type": "display_data",
          "data": {
            "text/plain": [
              "('96.7.141.162', '172.28.0.12', '443', '50784')"
            ]
          },
          "metadata": {}
        },
        {
          "output_type": "display_data",
          "data": {
            "text/plain": [
              "{'direction': 'downlink',\n",
              " 'num_packets': 104,\n",
              " 'total_bytes': 677890.0,\n",
              " 'min_pkt_size': 52.0,\n",
              " 'max_pkt_size': 26116.0,\n",
              " 'mean_pkt_size': 6518.173076923077,\n",
              " 'std_pkt_size': 6242.973927936843,\n",
              " 'min_iat': 0.0,\n",
              " 'max_iat': 0.07034,\n",
              " 'mean_iat': 0.0019734174757281555,\n",
              " 'std_iat': 0.007281706811504512,\n",
              " 'dur': 0.20326200000000003,\n",
              " 'dport': '50784',\n",
              " 'sport': '443'}"
            ]
          },
          "metadata": {}
        },
        {
          "output_type": "display_data",
          "data": {
            "text/plain": [
              "('96.7.141.162', '172.28.0.12', '443', '50788')"
            ]
          },
          "metadata": {}
        },
        {
          "output_type": "display_data",
          "data": {
            "text/plain": [
              "{'direction': 'downlink',\n",
              " 'num_packets': 112,\n",
              " 'total_bytes': 678283.0,\n",
              " 'min_pkt_size': 52.0,\n",
              " 'max_pkt_size': 24668.0,\n",
              " 'mean_pkt_size': 6056.098214285715,\n",
              " 'std_pkt_size': 5318.084339714924,\n",
              " 'min_iat': 1e-06,\n",
              " 'max_iat': 0.070897,\n",
              " 'mean_iat': 0.0020548108108108106,\n",
              " 'std_iat': 0.007319337519094711,\n",
              " 'dur': 0.22808399999999998,\n",
              " 'dport': '50788',\n",
              " 'sport': '443'}"
            ]
          },
          "metadata": {}
        },
        {
          "output_type": "display_data",
          "data": {
            "text/plain": [
              "('96.7.141.162', '172.28.0.12', '443', '50802')"
            ]
          },
          "metadata": {}
        },
        {
          "output_type": "display_data",
          "data": {
            "text/plain": [
              "{'direction': 'downlink',\n",
              " 'num_packets': 106,\n",
              " 'total_bytes': 677993.0,\n",
              " 'min_pkt_size': 52.0,\n",
              " 'max_pkt_size': 24668.0,\n",
              " 'mean_pkt_size': 6396.16037735849,\n",
              " 'std_pkt_size': 5902.0017058569965,\n",
              " 'min_iat': 1e-06,\n",
              " 'max_iat': 0.07077,\n",
              " 'mean_iat': 0.001957190476190476,\n",
              " 'std_iat': 0.007240881131431713,\n",
              " 'dur': 0.205505,\n",
              " 'dport': '50802',\n",
              " 'sport': '443'}"
            ]
          },
          "metadata": {}
        }
      ]
    },
    {
      "cell_type": "code",
      "source": [
        "path = 'data/'\n",
        "tcpdumpfiles = [f for f in listdir(path) if isfile(join(path, f))]\n",
        "apps = np.unique([f.split('_')[0] for f in tcpdumpfiles])\n",
        "print(apps, len(apps), len(tcpdumpfiles))\n",
        "\n",
        "dataset = pd.DataFrame()\n",
        "for f in tcpdumpfiles:\n",
        "  print('Processing file  ', f)\n",
        "  df = pd.read_csv(join(path,f))\n",
        "  df_tcp = df[df[\"ip.proto\"]==6]\n",
        "  df_flows_tcp = df_tcp.groupby([\"ip.src\",\"ip.dst\",\"tcp.srcport\",\"tcp.dstport\"])\n",
        "  for flow,df_flow in df_flows_tcp: #flow is a tuple representing the flow, df_flow is the dataframe with all packets of the flow\n",
        "    flow_features = extract_features(flow,df_flow)\n",
        "    flow_features['app'] = df_flow['label'].iloc[0] ;\n",
        "    if(flow_features['direction']=='downlink'):\n",
        "      dataset = dataset.append(flow_features,ignore_index=True);\n",
        "\n",
        "display(dataset)\n",
        "dataset.to_csv('traffic_classification_dataset.csv', index=False, line_terminator='\\n')"
      ],
      "metadata": {
        "id": "1oJbWuY3NVi0",
        "colab": {
          "base_uri": "https://localhost:8080/",
          "height": 1000
        },
        "outputId": "8a5e3dcb-dfa1-44bf-c0a7-385682a139f0"
      },
      "execution_count": 31,
      "outputs": [
        {
          "output_type": "stream",
          "name": "stdout",
          "text": [
            "['df'] 1 1\n",
            "Processing file   df_flows_tcp.csv\n"
          ]
        },
        {
          "output_type": "stream",
          "name": "stderr",
          "text": [
            "<ipython-input-31-5c7c19980f34>:16: FutureWarning: The frame.append method is deprecated and will be removed from pandas in a future version. Use pandas.concat instead.\n",
            "  dataset = dataset.append(flow_features,ignore_index=True);\n",
            "<ipython-input-31-5c7c19980f34>:16: FutureWarning: The frame.append method is deprecated and will be removed from pandas in a future version. Use pandas.concat instead.\n",
            "  dataset = dataset.append(flow_features,ignore_index=True);\n",
            "<ipython-input-31-5c7c19980f34>:16: FutureWarning: The frame.append method is deprecated and will be removed from pandas in a future version. Use pandas.concat instead.\n",
            "  dataset = dataset.append(flow_features,ignore_index=True);\n",
            "<ipython-input-31-5c7c19980f34>:16: FutureWarning: The frame.append method is deprecated and will be removed from pandas in a future version. Use pandas.concat instead.\n",
            "  dataset = dataset.append(flow_features,ignore_index=True);\n",
            "<ipython-input-31-5c7c19980f34>:16: FutureWarning: The frame.append method is deprecated and will be removed from pandas in a future version. Use pandas.concat instead.\n",
            "  dataset = dataset.append(flow_features,ignore_index=True);\n",
            "<ipython-input-31-5c7c19980f34>:16: FutureWarning: The frame.append method is deprecated and will be removed from pandas in a future version. Use pandas.concat instead.\n",
            "  dataset = dataset.append(flow_features,ignore_index=True);\n",
            "<ipython-input-31-5c7c19980f34>:16: FutureWarning: The frame.append method is deprecated and will be removed from pandas in a future version. Use pandas.concat instead.\n",
            "  dataset = dataset.append(flow_features,ignore_index=True);\n",
            "<ipython-input-31-5c7c19980f34>:16: FutureWarning: The frame.append method is deprecated and will be removed from pandas in a future version. Use pandas.concat instead.\n",
            "  dataset = dataset.append(flow_features,ignore_index=True);\n",
            "<ipython-input-31-5c7c19980f34>:16: FutureWarning: The frame.append method is deprecated and will be removed from pandas in a future version. Use pandas.concat instead.\n",
            "  dataset = dataset.append(flow_features,ignore_index=True);\n",
            "<ipython-input-31-5c7c19980f34>:16: FutureWarning: The frame.append method is deprecated and will be removed from pandas in a future version. Use pandas.concat instead.\n",
            "  dataset = dataset.append(flow_features,ignore_index=True);\n",
            "<ipython-input-31-5c7c19980f34>:16: FutureWarning: The frame.append method is deprecated and will be removed from pandas in a future version. Use pandas.concat instead.\n",
            "  dataset = dataset.append(flow_features,ignore_index=True);\n",
            "<ipython-input-31-5c7c19980f34>:16: FutureWarning: The frame.append method is deprecated and will be removed from pandas in a future version. Use pandas.concat instead.\n",
            "  dataset = dataset.append(flow_features,ignore_index=True);\n",
            "<ipython-input-31-5c7c19980f34>:16: FutureWarning: The frame.append method is deprecated and will be removed from pandas in a future version. Use pandas.concat instead.\n",
            "  dataset = dataset.append(flow_features,ignore_index=True);\n",
            "<ipython-input-31-5c7c19980f34>:16: FutureWarning: The frame.append method is deprecated and will be removed from pandas in a future version. Use pandas.concat instead.\n",
            "  dataset = dataset.append(flow_features,ignore_index=True);\n",
            "<ipython-input-31-5c7c19980f34>:16: FutureWarning: The frame.append method is deprecated and will be removed from pandas in a future version. Use pandas.concat instead.\n",
            "  dataset = dataset.append(flow_features,ignore_index=True);\n",
            "<ipython-input-31-5c7c19980f34>:16: FutureWarning: The frame.append method is deprecated and will be removed from pandas in a future version. Use pandas.concat instead.\n",
            "  dataset = dataset.append(flow_features,ignore_index=True);\n",
            "<ipython-input-31-5c7c19980f34>:16: FutureWarning: The frame.append method is deprecated and will be removed from pandas in a future version. Use pandas.concat instead.\n",
            "  dataset = dataset.append(flow_features,ignore_index=True);\n",
            "<ipython-input-31-5c7c19980f34>:16: FutureWarning: The frame.append method is deprecated and will be removed from pandas in a future version. Use pandas.concat instead.\n",
            "  dataset = dataset.append(flow_features,ignore_index=True);\n",
            "<ipython-input-31-5c7c19980f34>:16: FutureWarning: The frame.append method is deprecated and will be removed from pandas in a future version. Use pandas.concat instead.\n",
            "  dataset = dataset.append(flow_features,ignore_index=True);\n",
            "<ipython-input-31-5c7c19980f34>:16: FutureWarning: The frame.append method is deprecated and will be removed from pandas in a future version. Use pandas.concat instead.\n",
            "  dataset = dataset.append(flow_features,ignore_index=True);\n",
            "<ipython-input-31-5c7c19980f34>:16: FutureWarning: The frame.append method is deprecated and will be removed from pandas in a future version. Use pandas.concat instead.\n",
            "  dataset = dataset.append(flow_features,ignore_index=True);\n",
            "<ipython-input-31-5c7c19980f34>:16: FutureWarning: The frame.append method is deprecated and will be removed from pandas in a future version. Use pandas.concat instead.\n",
            "  dataset = dataset.append(flow_features,ignore_index=True);\n",
            "<ipython-input-31-5c7c19980f34>:16: FutureWarning: The frame.append method is deprecated and will be removed from pandas in a future version. Use pandas.concat instead.\n",
            "  dataset = dataset.append(flow_features,ignore_index=True);\n",
            "<ipython-input-31-5c7c19980f34>:16: FutureWarning: The frame.append method is deprecated and will be removed from pandas in a future version. Use pandas.concat instead.\n",
            "  dataset = dataset.append(flow_features,ignore_index=True);\n",
            "<ipython-input-31-5c7c19980f34>:16: FutureWarning: The frame.append method is deprecated and will be removed from pandas in a future version. Use pandas.concat instead.\n",
            "  dataset = dataset.append(flow_features,ignore_index=True);\n",
            "<ipython-input-31-5c7c19980f34>:16: FutureWarning: The frame.append method is deprecated and will be removed from pandas in a future version. Use pandas.concat instead.\n",
            "  dataset = dataset.append(flow_features,ignore_index=True);\n",
            "<ipython-input-31-5c7c19980f34>:16: FutureWarning: The frame.append method is deprecated and will be removed from pandas in a future version. Use pandas.concat instead.\n",
            "  dataset = dataset.append(flow_features,ignore_index=True);\n",
            "<ipython-input-31-5c7c19980f34>:16: FutureWarning: The frame.append method is deprecated and will be removed from pandas in a future version. Use pandas.concat instead.\n",
            "  dataset = dataset.append(flow_features,ignore_index=True);\n",
            "<ipython-input-31-5c7c19980f34>:16: FutureWarning: The frame.append method is deprecated and will be removed from pandas in a future version. Use pandas.concat instead.\n",
            "  dataset = dataset.append(flow_features,ignore_index=True);\n",
            "<ipython-input-31-5c7c19980f34>:16: FutureWarning: The frame.append method is deprecated and will be removed from pandas in a future version. Use pandas.concat instead.\n",
            "  dataset = dataset.append(flow_features,ignore_index=True);\n",
            "<ipython-input-31-5c7c19980f34>:16: FutureWarning: The frame.append method is deprecated and will be removed from pandas in a future version. Use pandas.concat instead.\n",
            "  dataset = dataset.append(flow_features,ignore_index=True);\n",
            "<ipython-input-31-5c7c19980f34>:16: FutureWarning: The frame.append method is deprecated and will be removed from pandas in a future version. Use pandas.concat instead.\n",
            "  dataset = dataset.append(flow_features,ignore_index=True);\n",
            "<ipython-input-31-5c7c19980f34>:16: FutureWarning: The frame.append method is deprecated and will be removed from pandas in a future version. Use pandas.concat instead.\n",
            "  dataset = dataset.append(flow_features,ignore_index=True);\n",
            "<ipython-input-31-5c7c19980f34>:16: FutureWarning: The frame.append method is deprecated and will be removed from pandas in a future version. Use pandas.concat instead.\n",
            "  dataset = dataset.append(flow_features,ignore_index=True);\n",
            "<ipython-input-31-5c7c19980f34>:16: FutureWarning: The frame.append method is deprecated and will be removed from pandas in a future version. Use pandas.concat instead.\n",
            "  dataset = dataset.append(flow_features,ignore_index=True);\n",
            "<ipython-input-31-5c7c19980f34>:16: FutureWarning: The frame.append method is deprecated and will be removed from pandas in a future version. Use pandas.concat instead.\n",
            "  dataset = dataset.append(flow_features,ignore_index=True);\n",
            "<ipython-input-31-5c7c19980f34>:16: FutureWarning: The frame.append method is deprecated and will be removed from pandas in a future version. Use pandas.concat instead.\n",
            "  dataset = dataset.append(flow_features,ignore_index=True);\n",
            "<ipython-input-31-5c7c19980f34>:16: FutureWarning: The frame.append method is deprecated and will be removed from pandas in a future version. Use pandas.concat instead.\n",
            "  dataset = dataset.append(flow_features,ignore_index=True);\n",
            "<ipython-input-31-5c7c19980f34>:16: FutureWarning: The frame.append method is deprecated and will be removed from pandas in a future version. Use pandas.concat instead.\n",
            "  dataset = dataset.append(flow_features,ignore_index=True);\n",
            "<ipython-input-31-5c7c19980f34>:16: FutureWarning: The frame.append method is deprecated and will be removed from pandas in a future version. Use pandas.concat instead.\n",
            "  dataset = dataset.append(flow_features,ignore_index=True);\n",
            "<ipython-input-31-5c7c19980f34>:16: FutureWarning: The frame.append method is deprecated and will be removed from pandas in a future version. Use pandas.concat instead.\n",
            "  dataset = dataset.append(flow_features,ignore_index=True);\n",
            "<ipython-input-31-5c7c19980f34>:16: FutureWarning: The frame.append method is deprecated and will be removed from pandas in a future version. Use pandas.concat instead.\n",
            "  dataset = dataset.append(flow_features,ignore_index=True);\n",
            "<ipython-input-31-5c7c19980f34>:16: FutureWarning: The frame.append method is deprecated and will be removed from pandas in a future version. Use pandas.concat instead.\n",
            "  dataset = dataset.append(flow_features,ignore_index=True);\n",
            "<ipython-input-31-5c7c19980f34>:16: FutureWarning: The frame.append method is deprecated and will be removed from pandas in a future version. Use pandas.concat instead.\n",
            "  dataset = dataset.append(flow_features,ignore_index=True);\n",
            "<ipython-input-31-5c7c19980f34>:16: FutureWarning: The frame.append method is deprecated and will be removed from pandas in a future version. Use pandas.concat instead.\n",
            "  dataset = dataset.append(flow_features,ignore_index=True);\n",
            "<ipython-input-31-5c7c19980f34>:16: FutureWarning: The frame.append method is deprecated and will be removed from pandas in a future version. Use pandas.concat instead.\n",
            "  dataset = dataset.append(flow_features,ignore_index=True);\n",
            "<ipython-input-31-5c7c19980f34>:16: FutureWarning: The frame.append method is deprecated and will be removed from pandas in a future version. Use pandas.concat instead.\n",
            "  dataset = dataset.append(flow_features,ignore_index=True);\n",
            "<ipython-input-31-5c7c19980f34>:16: FutureWarning: The frame.append method is deprecated and will be removed from pandas in a future version. Use pandas.concat instead.\n",
            "  dataset = dataset.append(flow_features,ignore_index=True);\n",
            "<ipython-input-31-5c7c19980f34>:16: FutureWarning: The frame.append method is deprecated and will be removed from pandas in a future version. Use pandas.concat instead.\n",
            "  dataset = dataset.append(flow_features,ignore_index=True);\n",
            "<ipython-input-31-5c7c19980f34>:16: FutureWarning: The frame.append method is deprecated and will be removed from pandas in a future version. Use pandas.concat instead.\n",
            "  dataset = dataset.append(flow_features,ignore_index=True);\n",
            "<ipython-input-31-5c7c19980f34>:16: FutureWarning: The frame.append method is deprecated and will be removed from pandas in a future version. Use pandas.concat instead.\n",
            "  dataset = dataset.append(flow_features,ignore_index=True);\n",
            "<ipython-input-31-5c7c19980f34>:16: FutureWarning: The frame.append method is deprecated and will be removed from pandas in a future version. Use pandas.concat instead.\n",
            "  dataset = dataset.append(flow_features,ignore_index=True);\n",
            "<ipython-input-31-5c7c19980f34>:16: FutureWarning: The frame.append method is deprecated and will be removed from pandas in a future version. Use pandas.concat instead.\n",
            "  dataset = dataset.append(flow_features,ignore_index=True);\n",
            "<ipython-input-31-5c7c19980f34>:16: FutureWarning: The frame.append method is deprecated and will be removed from pandas in a future version. Use pandas.concat instead.\n",
            "  dataset = dataset.append(flow_features,ignore_index=True);\n",
            "<ipython-input-31-5c7c19980f34>:16: FutureWarning: The frame.append method is deprecated and will be removed from pandas in a future version. Use pandas.concat instead.\n",
            "  dataset = dataset.append(flow_features,ignore_index=True);\n",
            "<ipython-input-31-5c7c19980f34>:16: FutureWarning: The frame.append method is deprecated and will be removed from pandas in a future version. Use pandas.concat instead.\n",
            "  dataset = dataset.append(flow_features,ignore_index=True);\n",
            "<ipython-input-31-5c7c19980f34>:16: FutureWarning: The frame.append method is deprecated and will be removed from pandas in a future version. Use pandas.concat instead.\n",
            "  dataset = dataset.append(flow_features,ignore_index=True);\n",
            "<ipython-input-31-5c7c19980f34>:16: FutureWarning: The frame.append method is deprecated and will be removed from pandas in a future version. Use pandas.concat instead.\n",
            "  dataset = dataset.append(flow_features,ignore_index=True);\n",
            "<ipython-input-31-5c7c19980f34>:16: FutureWarning: The frame.append method is deprecated and will be removed from pandas in a future version. Use pandas.concat instead.\n",
            "  dataset = dataset.append(flow_features,ignore_index=True);\n",
            "<ipython-input-31-5c7c19980f34>:16: FutureWarning: The frame.append method is deprecated and will be removed from pandas in a future version. Use pandas.concat instead.\n",
            "  dataset = dataset.append(flow_features,ignore_index=True);\n",
            "<ipython-input-31-5c7c19980f34>:16: FutureWarning: The frame.append method is deprecated and will be removed from pandas in a future version. Use pandas.concat instead.\n",
            "  dataset = dataset.append(flow_features,ignore_index=True);\n",
            "<ipython-input-31-5c7c19980f34>:16: FutureWarning: The frame.append method is deprecated and will be removed from pandas in a future version. Use pandas.concat instead.\n",
            "  dataset = dataset.append(flow_features,ignore_index=True);\n",
            "<ipython-input-31-5c7c19980f34>:16: FutureWarning: The frame.append method is deprecated and will be removed from pandas in a future version. Use pandas.concat instead.\n",
            "  dataset = dataset.append(flow_features,ignore_index=True);\n",
            "<ipython-input-31-5c7c19980f34>:16: FutureWarning: The frame.append method is deprecated and will be removed from pandas in a future version. Use pandas.concat instead.\n",
            "  dataset = dataset.append(flow_features,ignore_index=True);\n",
            "<ipython-input-31-5c7c19980f34>:16: FutureWarning: The frame.append method is deprecated and will be removed from pandas in a future version. Use pandas.concat instead.\n",
            "  dataset = dataset.append(flow_features,ignore_index=True);\n",
            "<ipython-input-31-5c7c19980f34>:16: FutureWarning: The frame.append method is deprecated and will be removed from pandas in a future version. Use pandas.concat instead.\n",
            "  dataset = dataset.append(flow_features,ignore_index=True);\n",
            "<ipython-input-31-5c7c19980f34>:16: FutureWarning: The frame.append method is deprecated and will be removed from pandas in a future version. Use pandas.concat instead.\n",
            "  dataset = dataset.append(flow_features,ignore_index=True);\n",
            "<ipython-input-31-5c7c19980f34>:16: FutureWarning: The frame.append method is deprecated and will be removed from pandas in a future version. Use pandas.concat instead.\n",
            "  dataset = dataset.append(flow_features,ignore_index=True);\n",
            "<ipython-input-31-5c7c19980f34>:16: FutureWarning: The frame.append method is deprecated and will be removed from pandas in a future version. Use pandas.concat instead.\n",
            "  dataset = dataset.append(flow_features,ignore_index=True);\n",
            "<ipython-input-31-5c7c19980f34>:16: FutureWarning: The frame.append method is deprecated and will be removed from pandas in a future version. Use pandas.concat instead.\n",
            "  dataset = dataset.append(flow_features,ignore_index=True);\n",
            "<ipython-input-31-5c7c19980f34>:16: FutureWarning: The frame.append method is deprecated and will be removed from pandas in a future version. Use pandas.concat instead.\n",
            "  dataset = dataset.append(flow_features,ignore_index=True);\n",
            "<ipython-input-31-5c7c19980f34>:16: FutureWarning: The frame.append method is deprecated and will be removed from pandas in a future version. Use pandas.concat instead.\n",
            "  dataset = dataset.append(flow_features,ignore_index=True);\n",
            "<ipython-input-31-5c7c19980f34>:16: FutureWarning: The frame.append method is deprecated and will be removed from pandas in a future version. Use pandas.concat instead.\n",
            "  dataset = dataset.append(flow_features,ignore_index=True);\n",
            "<ipython-input-31-5c7c19980f34>:16: FutureWarning: The frame.append method is deprecated and will be removed from pandas in a future version. Use pandas.concat instead.\n",
            "  dataset = dataset.append(flow_features,ignore_index=True);\n",
            "<ipython-input-31-5c7c19980f34>:16: FutureWarning: The frame.append method is deprecated and will be removed from pandas in a future version. Use pandas.concat instead.\n",
            "  dataset = dataset.append(flow_features,ignore_index=True);\n",
            "<ipython-input-31-5c7c19980f34>:16: FutureWarning: The frame.append method is deprecated and will be removed from pandas in a future version. Use pandas.concat instead.\n",
            "  dataset = dataset.append(flow_features,ignore_index=True);\n",
            "<ipython-input-31-5c7c19980f34>:16: FutureWarning: The frame.append method is deprecated and will be removed from pandas in a future version. Use pandas.concat instead.\n",
            "  dataset = dataset.append(flow_features,ignore_index=True);\n",
            "<ipython-input-31-5c7c19980f34>:16: FutureWarning: The frame.append method is deprecated and will be removed from pandas in a future version. Use pandas.concat instead.\n",
            "  dataset = dataset.append(flow_features,ignore_index=True);\n",
            "<ipython-input-31-5c7c19980f34>:16: FutureWarning: The frame.append method is deprecated and will be removed from pandas in a future version. Use pandas.concat instead.\n",
            "  dataset = dataset.append(flow_features,ignore_index=True);\n",
            "<ipython-input-31-5c7c19980f34>:16: FutureWarning: The frame.append method is deprecated and will be removed from pandas in a future version. Use pandas.concat instead.\n",
            "  dataset = dataset.append(flow_features,ignore_index=True);\n",
            "<ipython-input-31-5c7c19980f34>:16: FutureWarning: The frame.append method is deprecated and will be removed from pandas in a future version. Use pandas.concat instead.\n",
            "  dataset = dataset.append(flow_features,ignore_index=True);\n",
            "<ipython-input-31-5c7c19980f34>:16: FutureWarning: The frame.append method is deprecated and will be removed from pandas in a future version. Use pandas.concat instead.\n",
            "  dataset = dataset.append(flow_features,ignore_index=True);\n",
            "<ipython-input-31-5c7c19980f34>:16: FutureWarning: The frame.append method is deprecated and will be removed from pandas in a future version. Use pandas.concat instead.\n",
            "  dataset = dataset.append(flow_features,ignore_index=True);\n",
            "<ipython-input-31-5c7c19980f34>:16: FutureWarning: The frame.append method is deprecated and will be removed from pandas in a future version. Use pandas.concat instead.\n",
            "  dataset = dataset.append(flow_features,ignore_index=True);\n",
            "<ipython-input-31-5c7c19980f34>:16: FutureWarning: The frame.append method is deprecated and will be removed from pandas in a future version. Use pandas.concat instead.\n",
            "  dataset = dataset.append(flow_features,ignore_index=True);\n",
            "<ipython-input-31-5c7c19980f34>:16: FutureWarning: The frame.append method is deprecated and will be removed from pandas in a future version. Use pandas.concat instead.\n",
            "  dataset = dataset.append(flow_features,ignore_index=True);\n",
            "<ipython-input-31-5c7c19980f34>:16: FutureWarning: The frame.append method is deprecated and will be removed from pandas in a future version. Use pandas.concat instead.\n",
            "  dataset = dataset.append(flow_features,ignore_index=True);\n",
            "<ipython-input-31-5c7c19980f34>:16: FutureWarning: The frame.append method is deprecated and will be removed from pandas in a future version. Use pandas.concat instead.\n",
            "  dataset = dataset.append(flow_features,ignore_index=True);\n",
            "<ipython-input-31-5c7c19980f34>:16: FutureWarning: The frame.append method is deprecated and will be removed from pandas in a future version. Use pandas.concat instead.\n",
            "  dataset = dataset.append(flow_features,ignore_index=True);\n",
            "<ipython-input-31-5c7c19980f34>:16: FutureWarning: The frame.append method is deprecated and will be removed from pandas in a future version. Use pandas.concat instead.\n",
            "  dataset = dataset.append(flow_features,ignore_index=True);\n",
            "<ipython-input-31-5c7c19980f34>:16: FutureWarning: The frame.append method is deprecated and will be removed from pandas in a future version. Use pandas.concat instead.\n",
            "  dataset = dataset.append(flow_features,ignore_index=True);\n",
            "<ipython-input-31-5c7c19980f34>:16: FutureWarning: The frame.append method is deprecated and will be removed from pandas in a future version. Use pandas.concat instead.\n",
            "  dataset = dataset.append(flow_features,ignore_index=True);\n",
            "<ipython-input-31-5c7c19980f34>:16: FutureWarning: The frame.append method is deprecated and will be removed from pandas in a future version. Use pandas.concat instead.\n",
            "  dataset = dataset.append(flow_features,ignore_index=True);\n",
            "<ipython-input-31-5c7c19980f34>:16: FutureWarning: The frame.append method is deprecated and will be removed from pandas in a future version. Use pandas.concat instead.\n",
            "  dataset = dataset.append(flow_features,ignore_index=True);\n",
            "<ipython-input-31-5c7c19980f34>:16: FutureWarning: The frame.append method is deprecated and will be removed from pandas in a future version. Use pandas.concat instead.\n",
            "  dataset = dataset.append(flow_features,ignore_index=True);\n",
            "<ipython-input-31-5c7c19980f34>:16: FutureWarning: The frame.append method is deprecated and will be removed from pandas in a future version. Use pandas.concat instead.\n",
            "  dataset = dataset.append(flow_features,ignore_index=True);\n",
            "<ipython-input-31-5c7c19980f34>:16: FutureWarning: The frame.append method is deprecated and will be removed from pandas in a future version. Use pandas.concat instead.\n",
            "  dataset = dataset.append(flow_features,ignore_index=True);\n",
            "<ipython-input-31-5c7c19980f34>:16: FutureWarning: The frame.append method is deprecated and will be removed from pandas in a future version. Use pandas.concat instead.\n",
            "  dataset = dataset.append(flow_features,ignore_index=True);\n",
            "<ipython-input-31-5c7c19980f34>:16: FutureWarning: The frame.append method is deprecated and will be removed from pandas in a future version. Use pandas.concat instead.\n",
            "  dataset = dataset.append(flow_features,ignore_index=True);\n",
            "<ipython-input-31-5c7c19980f34>:16: FutureWarning: The frame.append method is deprecated and will be removed from pandas in a future version. Use pandas.concat instead.\n",
            "  dataset = dataset.append(flow_features,ignore_index=True);\n",
            "<ipython-input-31-5c7c19980f34>:16: FutureWarning: The frame.append method is deprecated and will be removed from pandas in a future version. Use pandas.concat instead.\n",
            "  dataset = dataset.append(flow_features,ignore_index=True);\n",
            "<ipython-input-31-5c7c19980f34>:16: FutureWarning: The frame.append method is deprecated and will be removed from pandas in a future version. Use pandas.concat instead.\n",
            "  dataset = dataset.append(flow_features,ignore_index=True);\n",
            "<ipython-input-31-5c7c19980f34>:16: FutureWarning: The frame.append method is deprecated and will be removed from pandas in a future version. Use pandas.concat instead.\n",
            "  dataset = dataset.append(flow_features,ignore_index=True);\n",
            "<ipython-input-31-5c7c19980f34>:16: FutureWarning: The frame.append method is deprecated and will be removed from pandas in a future version. Use pandas.concat instead.\n",
            "  dataset = dataset.append(flow_features,ignore_index=True);\n",
            "<ipython-input-31-5c7c19980f34>:16: FutureWarning: The frame.append method is deprecated and will be removed from pandas in a future version. Use pandas.concat instead.\n",
            "  dataset = dataset.append(flow_features,ignore_index=True);\n",
            "<ipython-input-31-5c7c19980f34>:16: FutureWarning: The frame.append method is deprecated and will be removed from pandas in a future version. Use pandas.concat instead.\n",
            "  dataset = dataset.append(flow_features,ignore_index=True);\n",
            "<ipython-input-31-5c7c19980f34>:16: FutureWarning: The frame.append method is deprecated and will be removed from pandas in a future version. Use pandas.concat instead.\n",
            "  dataset = dataset.append(flow_features,ignore_index=True);\n",
            "<ipython-input-31-5c7c19980f34>:16: FutureWarning: The frame.append method is deprecated and will be removed from pandas in a future version. Use pandas.concat instead.\n",
            "  dataset = dataset.append(flow_features,ignore_index=True);\n",
            "<ipython-input-31-5c7c19980f34>:16: FutureWarning: The frame.append method is deprecated and will be removed from pandas in a future version. Use pandas.concat instead.\n",
            "  dataset = dataset.append(flow_features,ignore_index=True);\n",
            "<ipython-input-31-5c7c19980f34>:16: FutureWarning: The frame.append method is deprecated and will be removed from pandas in a future version. Use pandas.concat instead.\n",
            "  dataset = dataset.append(flow_features,ignore_index=True);\n",
            "<ipython-input-31-5c7c19980f34>:16: FutureWarning: The frame.append method is deprecated and will be removed from pandas in a future version. Use pandas.concat instead.\n",
            "  dataset = dataset.append(flow_features,ignore_index=True);\n",
            "<ipython-input-31-5c7c19980f34>:16: FutureWarning: The frame.append method is deprecated and will be removed from pandas in a future version. Use pandas.concat instead.\n",
            "  dataset = dataset.append(flow_features,ignore_index=True);\n",
            "<ipython-input-31-5c7c19980f34>:16: FutureWarning: The frame.append method is deprecated and will be removed from pandas in a future version. Use pandas.concat instead.\n",
            "  dataset = dataset.append(flow_features,ignore_index=True);\n",
            "<ipython-input-31-5c7c19980f34>:16: FutureWarning: The frame.append method is deprecated and will be removed from pandas in a future version. Use pandas.concat instead.\n",
            "  dataset = dataset.append(flow_features,ignore_index=True);\n",
            "<ipython-input-31-5c7c19980f34>:16: FutureWarning: The frame.append method is deprecated and will be removed from pandas in a future version. Use pandas.concat instead.\n",
            "  dataset = dataset.append(flow_features,ignore_index=True);\n",
            "<ipython-input-31-5c7c19980f34>:16: FutureWarning: The frame.append method is deprecated and will be removed from pandas in a future version. Use pandas.concat instead.\n",
            "  dataset = dataset.append(flow_features,ignore_index=True);\n",
            "<ipython-input-31-5c7c19980f34>:16: FutureWarning: The frame.append method is deprecated and will be removed from pandas in a future version. Use pandas.concat instead.\n",
            "  dataset = dataset.append(flow_features,ignore_index=True);\n",
            "<ipython-input-31-5c7c19980f34>:16: FutureWarning: The frame.append method is deprecated and will be removed from pandas in a future version. Use pandas.concat instead.\n",
            "  dataset = dataset.append(flow_features,ignore_index=True);\n",
            "<ipython-input-31-5c7c19980f34>:16: FutureWarning: The frame.append method is deprecated and will be removed from pandas in a future version. Use pandas.concat instead.\n",
            "  dataset = dataset.append(flow_features,ignore_index=True);\n",
            "<ipython-input-31-5c7c19980f34>:16: FutureWarning: The frame.append method is deprecated and will be removed from pandas in a future version. Use pandas.concat instead.\n",
            "  dataset = dataset.append(flow_features,ignore_index=True);\n",
            "<ipython-input-31-5c7c19980f34>:16: FutureWarning: The frame.append method is deprecated and will be removed from pandas in a future version. Use pandas.concat instead.\n",
            "  dataset = dataset.append(flow_features,ignore_index=True);\n",
            "<ipython-input-31-5c7c19980f34>:16: FutureWarning: The frame.append method is deprecated and will be removed from pandas in a future version. Use pandas.concat instead.\n",
            "  dataset = dataset.append(flow_features,ignore_index=True);\n",
            "<ipython-input-31-5c7c19980f34>:16: FutureWarning: The frame.append method is deprecated and will be removed from pandas in a future version. Use pandas.concat instead.\n",
            "  dataset = dataset.append(flow_features,ignore_index=True);\n",
            "<ipython-input-31-5c7c19980f34>:16: FutureWarning: The frame.append method is deprecated and will be removed from pandas in a future version. Use pandas.concat instead.\n",
            "  dataset = dataset.append(flow_features,ignore_index=True);\n",
            "<ipython-input-31-5c7c19980f34>:16: FutureWarning: The frame.append method is deprecated and will be removed from pandas in a future version. Use pandas.concat instead.\n",
            "  dataset = dataset.append(flow_features,ignore_index=True);\n",
            "<ipython-input-31-5c7c19980f34>:16: FutureWarning: The frame.append method is deprecated and will be removed from pandas in a future version. Use pandas.concat instead.\n",
            "  dataset = dataset.append(flow_features,ignore_index=True);\n",
            "<ipython-input-31-5c7c19980f34>:16: FutureWarning: The frame.append method is deprecated and will be removed from pandas in a future version. Use pandas.concat instead.\n",
            "  dataset = dataset.append(flow_features,ignore_index=True);\n",
            "<ipython-input-31-5c7c19980f34>:16: FutureWarning: The frame.append method is deprecated and will be removed from pandas in a future version. Use pandas.concat instead.\n",
            "  dataset = dataset.append(flow_features,ignore_index=True);\n",
            "<ipython-input-31-5c7c19980f34>:16: FutureWarning: The frame.append method is deprecated and will be removed from pandas in a future version. Use pandas.concat instead.\n",
            "  dataset = dataset.append(flow_features,ignore_index=True);\n",
            "<ipython-input-31-5c7c19980f34>:16: FutureWarning: The frame.append method is deprecated and will be removed from pandas in a future version. Use pandas.concat instead.\n",
            "  dataset = dataset.append(flow_features,ignore_index=True);\n",
            "<ipython-input-31-5c7c19980f34>:16: FutureWarning: The frame.append method is deprecated and will be removed from pandas in a future version. Use pandas.concat instead.\n",
            "  dataset = dataset.append(flow_features,ignore_index=True);\n",
            "<ipython-input-31-5c7c19980f34>:16: FutureWarning: The frame.append method is deprecated and will be removed from pandas in a future version. Use pandas.concat instead.\n",
            "  dataset = dataset.append(flow_features,ignore_index=True);\n",
            "<ipython-input-31-5c7c19980f34>:16: FutureWarning: The frame.append method is deprecated and will be removed from pandas in a future version. Use pandas.concat instead.\n",
            "  dataset = dataset.append(flow_features,ignore_index=True);\n",
            "<ipython-input-31-5c7c19980f34>:16: FutureWarning: The frame.append method is deprecated and will be removed from pandas in a future version. Use pandas.concat instead.\n",
            "  dataset = dataset.append(flow_features,ignore_index=True);\n",
            "<ipython-input-31-5c7c19980f34>:16: FutureWarning: The frame.append method is deprecated and will be removed from pandas in a future version. Use pandas.concat instead.\n",
            "  dataset = dataset.append(flow_features,ignore_index=True);\n",
            "<ipython-input-31-5c7c19980f34>:16: FutureWarning: The frame.append method is deprecated and will be removed from pandas in a future version. Use pandas.concat instead.\n",
            "  dataset = dataset.append(flow_features,ignore_index=True);\n",
            "<ipython-input-31-5c7c19980f34>:16: FutureWarning: The frame.append method is deprecated and will be removed from pandas in a future version. Use pandas.concat instead.\n",
            "  dataset = dataset.append(flow_features,ignore_index=True);\n",
            "<ipython-input-31-5c7c19980f34>:16: FutureWarning: The frame.append method is deprecated and will be removed from pandas in a future version. Use pandas.concat instead.\n",
            "  dataset = dataset.append(flow_features,ignore_index=True);\n",
            "<ipython-input-31-5c7c19980f34>:16: FutureWarning: The frame.append method is deprecated and will be removed from pandas in a future version. Use pandas.concat instead.\n",
            "  dataset = dataset.append(flow_features,ignore_index=True);\n",
            "<ipython-input-31-5c7c19980f34>:16: FutureWarning: The frame.append method is deprecated and will be removed from pandas in a future version. Use pandas.concat instead.\n",
            "  dataset = dataset.append(flow_features,ignore_index=True);\n",
            "<ipython-input-31-5c7c19980f34>:16: FutureWarning: The frame.append method is deprecated and will be removed from pandas in a future version. Use pandas.concat instead.\n",
            "  dataset = dataset.append(flow_features,ignore_index=True);\n",
            "<ipython-input-31-5c7c19980f34>:16: FutureWarning: The frame.append method is deprecated and will be removed from pandas in a future version. Use pandas.concat instead.\n",
            "  dataset = dataset.append(flow_features,ignore_index=True);\n",
            "<ipython-input-31-5c7c19980f34>:16: FutureWarning: The frame.append method is deprecated and will be removed from pandas in a future version. Use pandas.concat instead.\n",
            "  dataset = dataset.append(flow_features,ignore_index=True);\n",
            "<ipython-input-31-5c7c19980f34>:16: FutureWarning: The frame.append method is deprecated and will be removed from pandas in a future version. Use pandas.concat instead.\n",
            "  dataset = dataset.append(flow_features,ignore_index=True);\n",
            "<ipython-input-31-5c7c19980f34>:16: FutureWarning: The frame.append method is deprecated and will be removed from pandas in a future version. Use pandas.concat instead.\n",
            "  dataset = dataset.append(flow_features,ignore_index=True);\n",
            "<ipython-input-31-5c7c19980f34>:16: FutureWarning: The frame.append method is deprecated and will be removed from pandas in a future version. Use pandas.concat instead.\n",
            "  dataset = dataset.append(flow_features,ignore_index=True);\n",
            "<ipython-input-31-5c7c19980f34>:16: FutureWarning: The frame.append method is deprecated and will be removed from pandas in a future version. Use pandas.concat instead.\n",
            "  dataset = dataset.append(flow_features,ignore_index=True);\n",
            "<ipython-input-31-5c7c19980f34>:16: FutureWarning: The frame.append method is deprecated and will be removed from pandas in a future version. Use pandas.concat instead.\n",
            "  dataset = dataset.append(flow_features,ignore_index=True);\n",
            "<ipython-input-31-5c7c19980f34>:16: FutureWarning: The frame.append method is deprecated and will be removed from pandas in a future version. Use pandas.concat instead.\n",
            "  dataset = dataset.append(flow_features,ignore_index=True);\n",
            "<ipython-input-31-5c7c19980f34>:16: FutureWarning: The frame.append method is deprecated and will be removed from pandas in a future version. Use pandas.concat instead.\n",
            "  dataset = dataset.append(flow_features,ignore_index=True);\n",
            "<ipython-input-31-5c7c19980f34>:16: FutureWarning: The frame.append method is deprecated and will be removed from pandas in a future version. Use pandas.concat instead.\n",
            "  dataset = dataset.append(flow_features,ignore_index=True);\n",
            "<ipython-input-31-5c7c19980f34>:16: FutureWarning: The frame.append method is deprecated and will be removed from pandas in a future version. Use pandas.concat instead.\n",
            "  dataset = dataset.append(flow_features,ignore_index=True);\n",
            "<ipython-input-31-5c7c19980f34>:16: FutureWarning: The frame.append method is deprecated and will be removed from pandas in a future version. Use pandas.concat instead.\n",
            "  dataset = dataset.append(flow_features,ignore_index=True);\n",
            "<ipython-input-31-5c7c19980f34>:16: FutureWarning: The frame.append method is deprecated and will be removed from pandas in a future version. Use pandas.concat instead.\n",
            "  dataset = dataset.append(flow_features,ignore_index=True);\n",
            "<ipython-input-31-5c7c19980f34>:16: FutureWarning: The frame.append method is deprecated and will be removed from pandas in a future version. Use pandas.concat instead.\n",
            "  dataset = dataset.append(flow_features,ignore_index=True);\n",
            "<ipython-input-31-5c7c19980f34>:16: FutureWarning: The frame.append method is deprecated and will be removed from pandas in a future version. Use pandas.concat instead.\n",
            "  dataset = dataset.append(flow_features,ignore_index=True);\n",
            "<ipython-input-31-5c7c19980f34>:16: FutureWarning: The frame.append method is deprecated and will be removed from pandas in a future version. Use pandas.concat instead.\n",
            "  dataset = dataset.append(flow_features,ignore_index=True);\n",
            "<ipython-input-31-5c7c19980f34>:16: FutureWarning: The frame.append method is deprecated and will be removed from pandas in a future version. Use pandas.concat instead.\n",
            "  dataset = dataset.append(flow_features,ignore_index=True);\n",
            "<ipython-input-31-5c7c19980f34>:16: FutureWarning: The frame.append method is deprecated and will be removed from pandas in a future version. Use pandas.concat instead.\n",
            "  dataset = dataset.append(flow_features,ignore_index=True);\n",
            "<ipython-input-31-5c7c19980f34>:16: FutureWarning: The frame.append method is deprecated and will be removed from pandas in a future version. Use pandas.concat instead.\n",
            "  dataset = dataset.append(flow_features,ignore_index=True);\n",
            "<ipython-input-31-5c7c19980f34>:16: FutureWarning: The frame.append method is deprecated and will be removed from pandas in a future version. Use pandas.concat instead.\n",
            "  dataset = dataset.append(flow_features,ignore_index=True);\n",
            "<ipython-input-31-5c7c19980f34>:16: FutureWarning: The frame.append method is deprecated and will be removed from pandas in a future version. Use pandas.concat instead.\n",
            "  dataset = dataset.append(flow_features,ignore_index=True);\n",
            "<ipython-input-31-5c7c19980f34>:16: FutureWarning: The frame.append method is deprecated and will be removed from pandas in a future version. Use pandas.concat instead.\n",
            "  dataset = dataset.append(flow_features,ignore_index=True);\n",
            "<ipython-input-31-5c7c19980f34>:16: FutureWarning: The frame.append method is deprecated and will be removed from pandas in a future version. Use pandas.concat instead.\n",
            "  dataset = dataset.append(flow_features,ignore_index=True);\n",
            "<ipython-input-31-5c7c19980f34>:16: FutureWarning: The frame.append method is deprecated and will be removed from pandas in a future version. Use pandas.concat instead.\n",
            "  dataset = dataset.append(flow_features,ignore_index=True);\n",
            "<ipython-input-31-5c7c19980f34>:16: FutureWarning: The frame.append method is deprecated and will be removed from pandas in a future version. Use pandas.concat instead.\n",
            "  dataset = dataset.append(flow_features,ignore_index=True);\n",
            "<ipython-input-31-5c7c19980f34>:16: FutureWarning: The frame.append method is deprecated and will be removed from pandas in a future version. Use pandas.concat instead.\n",
            "  dataset = dataset.append(flow_features,ignore_index=True);\n",
            "<ipython-input-31-5c7c19980f34>:16: FutureWarning: The frame.append method is deprecated and will be removed from pandas in a future version. Use pandas.concat instead.\n",
            "  dataset = dataset.append(flow_features,ignore_index=True);\n",
            "<ipython-input-31-5c7c19980f34>:16: FutureWarning: The frame.append method is deprecated and will be removed from pandas in a future version. Use pandas.concat instead.\n",
            "  dataset = dataset.append(flow_features,ignore_index=True);\n",
            "<ipython-input-31-5c7c19980f34>:16: FutureWarning: The frame.append method is deprecated and will be removed from pandas in a future version. Use pandas.concat instead.\n",
            "  dataset = dataset.append(flow_features,ignore_index=True);\n",
            "<ipython-input-31-5c7c19980f34>:16: FutureWarning: The frame.append method is deprecated and will be removed from pandas in a future version. Use pandas.concat instead.\n",
            "  dataset = dataset.append(flow_features,ignore_index=True);\n",
            "<ipython-input-31-5c7c19980f34>:16: FutureWarning: The frame.append method is deprecated and will be removed from pandas in a future version. Use pandas.concat instead.\n",
            "  dataset = dataset.append(flow_features,ignore_index=True);\n",
            "<ipython-input-31-5c7c19980f34>:16: FutureWarning: The frame.append method is deprecated and will be removed from pandas in a future version. Use pandas.concat instead.\n",
            "  dataset = dataset.append(flow_features,ignore_index=True);\n",
            "<ipython-input-31-5c7c19980f34>:16: FutureWarning: The frame.append method is deprecated and will be removed from pandas in a future version. Use pandas.concat instead.\n",
            "  dataset = dataset.append(flow_features,ignore_index=True);\n",
            "<ipython-input-31-5c7c19980f34>:16: FutureWarning: The frame.append method is deprecated and will be removed from pandas in a future version. Use pandas.concat instead.\n",
            "  dataset = dataset.append(flow_features,ignore_index=True);\n",
            "<ipython-input-31-5c7c19980f34>:16: FutureWarning: The frame.append method is deprecated and will be removed from pandas in a future version. Use pandas.concat instead.\n",
            "  dataset = dataset.append(flow_features,ignore_index=True);\n",
            "<ipython-input-31-5c7c19980f34>:16: FutureWarning: The frame.append method is deprecated and will be removed from pandas in a future version. Use pandas.concat instead.\n",
            "  dataset = dataset.append(flow_features,ignore_index=True);\n",
            "<ipython-input-31-5c7c19980f34>:16: FutureWarning: The frame.append method is deprecated and will be removed from pandas in a future version. Use pandas.concat instead.\n",
            "  dataset = dataset.append(flow_features,ignore_index=True);\n",
            "<ipython-input-31-5c7c19980f34>:16: FutureWarning: The frame.append method is deprecated and will be removed from pandas in a future version. Use pandas.concat instead.\n",
            "  dataset = dataset.append(flow_features,ignore_index=True);\n",
            "<ipython-input-31-5c7c19980f34>:16: FutureWarning: The frame.append method is deprecated and will be removed from pandas in a future version. Use pandas.concat instead.\n",
            "  dataset = dataset.append(flow_features,ignore_index=True);\n",
            "<ipython-input-31-5c7c19980f34>:16: FutureWarning: The frame.append method is deprecated and will be removed from pandas in a future version. Use pandas.concat instead.\n",
            "  dataset = dataset.append(flow_features,ignore_index=True);\n",
            "<ipython-input-31-5c7c19980f34>:16: FutureWarning: The frame.append method is deprecated and will be removed from pandas in a future version. Use pandas.concat instead.\n",
            "  dataset = dataset.append(flow_features,ignore_index=True);\n",
            "<ipython-input-31-5c7c19980f34>:16: FutureWarning: The frame.append method is deprecated and will be removed from pandas in a future version. Use pandas.concat instead.\n",
            "  dataset = dataset.append(flow_features,ignore_index=True);\n",
            "<ipython-input-31-5c7c19980f34>:16: FutureWarning: The frame.append method is deprecated and will be removed from pandas in a future version. Use pandas.concat instead.\n",
            "  dataset = dataset.append(flow_features,ignore_index=True);\n",
            "<ipython-input-31-5c7c19980f34>:16: FutureWarning: The frame.append method is deprecated and will be removed from pandas in a future version. Use pandas.concat instead.\n",
            "  dataset = dataset.append(flow_features,ignore_index=True);\n",
            "<ipython-input-31-5c7c19980f34>:16: FutureWarning: The frame.append method is deprecated and will be removed from pandas in a future version. Use pandas.concat instead.\n",
            "  dataset = dataset.append(flow_features,ignore_index=True);\n",
            "<ipython-input-31-5c7c19980f34>:16: FutureWarning: The frame.append method is deprecated and will be removed from pandas in a future version. Use pandas.concat instead.\n",
            "  dataset = dataset.append(flow_features,ignore_index=True);\n",
            "<ipython-input-31-5c7c19980f34>:16: FutureWarning: The frame.append method is deprecated and will be removed from pandas in a future version. Use pandas.concat instead.\n",
            "  dataset = dataset.append(flow_features,ignore_index=True);\n",
            "<ipython-input-31-5c7c19980f34>:16: FutureWarning: The frame.append method is deprecated and will be removed from pandas in a future version. Use pandas.concat instead.\n",
            "  dataset = dataset.append(flow_features,ignore_index=True);\n",
            "<ipython-input-31-5c7c19980f34>:16: FutureWarning: The frame.append method is deprecated and will be removed from pandas in a future version. Use pandas.concat instead.\n",
            "  dataset = dataset.append(flow_features,ignore_index=True);\n",
            "<ipython-input-31-5c7c19980f34>:16: FutureWarning: The frame.append method is deprecated and will be removed from pandas in a future version. Use pandas.concat instead.\n",
            "  dataset = dataset.append(flow_features,ignore_index=True);\n",
            "<ipython-input-31-5c7c19980f34>:16: FutureWarning: The frame.append method is deprecated and will be removed from pandas in a future version. Use pandas.concat instead.\n",
            "  dataset = dataset.append(flow_features,ignore_index=True);\n",
            "<ipython-input-31-5c7c19980f34>:16: FutureWarning: The frame.append method is deprecated and will be removed from pandas in a future version. Use pandas.concat instead.\n",
            "  dataset = dataset.append(flow_features,ignore_index=True);\n",
            "<ipython-input-31-5c7c19980f34>:16: FutureWarning: The frame.append method is deprecated and will be removed from pandas in a future version. Use pandas.concat instead.\n",
            "  dataset = dataset.append(flow_features,ignore_index=True);\n",
            "<ipython-input-31-5c7c19980f34>:16: FutureWarning: The frame.append method is deprecated and will be removed from pandas in a future version. Use pandas.concat instead.\n",
            "  dataset = dataset.append(flow_features,ignore_index=True);\n",
            "<ipython-input-31-5c7c19980f34>:16: FutureWarning: The frame.append method is deprecated and will be removed from pandas in a future version. Use pandas.concat instead.\n",
            "  dataset = dataset.append(flow_features,ignore_index=True);\n",
            "<ipython-input-31-5c7c19980f34>:16: FutureWarning: The frame.append method is deprecated and will be removed from pandas in a future version. Use pandas.concat instead.\n",
            "  dataset = dataset.append(flow_features,ignore_index=True);\n",
            "<ipython-input-31-5c7c19980f34>:16: FutureWarning: The frame.append method is deprecated and will be removed from pandas in a future version. Use pandas.concat instead.\n",
            "  dataset = dataset.append(flow_features,ignore_index=True);\n",
            "<ipython-input-31-5c7c19980f34>:16: FutureWarning: The frame.append method is deprecated and will be removed from pandas in a future version. Use pandas.concat instead.\n",
            "  dataset = dataset.append(flow_features,ignore_index=True);\n",
            "<ipython-input-31-5c7c19980f34>:16: FutureWarning: The frame.append method is deprecated and will be removed from pandas in a future version. Use pandas.concat instead.\n",
            "  dataset = dataset.append(flow_features,ignore_index=True);\n"
          ]
        },
        {
          "output_type": "display_data",
          "data": {
            "text/plain": [
              "    direction  num_packets  total_bytes  min_pkt_size  max_pkt_size  \\\n",
              "0    downlink           52       3542.0          52.0         569.0   \n",
              "1    downlink           61       4010.0          52.0         569.0   \n",
              "2    downlink           58       3854.0          52.0         569.0   \n",
              "3    downlink           60       3958.0          52.0         569.0   \n",
              "4    downlink           62       4062.0          52.0         569.0   \n",
              "..        ...          ...          ...           ...           ...   \n",
              "195  downlink          108     678098.0          52.0       24668.0   \n",
              "196  downlink          107     678045.0          52.0       26116.0   \n",
              "197  downlink          104     677890.0          52.0       26116.0   \n",
              "198  downlink          112     678283.0          52.0       24668.0   \n",
              "199  downlink          106     677993.0          52.0       24668.0   \n",
              "\n",
              "     mean_pkt_size  std_pkt_size   min_iat   max_iat  mean_iat   std_iat  \\\n",
              "0        68.115385     72.668912  0.000010  0.332121  0.013127  0.050105   \n",
              "1        65.737705     67.244802  0.000008  0.055097  0.002399  0.007365   \n",
              "2        66.448276     68.915960  0.000010  0.093800  0.003208  0.012474   \n",
              "3        65.966667     67.788296  0.000011  0.057102  0.002611  0.007803   \n",
              "4        65.516129     66.714155  0.000009  0.054921  0.002400  0.007319   \n",
              "..             ...           ...       ...       ...       ...       ...   \n",
              "195    6278.685185   5738.288764  0.000000  0.070249  0.002111  0.007534   \n",
              "196    6336.869159   5842.351197  0.000001  0.079774  0.002159  0.008157   \n",
              "197    6518.173077   6242.973928  0.000000  0.070340  0.001973  0.007282   \n",
              "198    6056.098214   5318.084340  0.000001  0.070897  0.002055  0.007319   \n",
              "199    6396.160377   5902.001706  0.000001  0.070770  0.001957  0.007241   \n",
              "\n",
              "          dur  dport  sport          app  \n",
              "0    0.669454    443  52686  expresscouk  \n",
              "1    0.143954    443  52692  expresscouk  \n",
              "2    0.182844    443  52698  expresscouk  \n",
              "3    0.154058    443  52714  expresscouk  \n",
              "4    0.146423    443  52730  expresscouk  \n",
              "..        ...    ...    ...          ...  \n",
              "195  0.225923  50772    443       news18  \n",
              "196  0.228887  50780    443       news18  \n",
              "197  0.203262  50784    443       news18  \n",
              "198  0.228084  50788    443       news18  \n",
              "199  0.205505  50802    443       news18  \n",
              "\n",
              "[200 rows x 15 columns]"
            ],
            "text/html": [
              "\n",
              "  <div id=\"df-a0d55f26-ec29-4520-a407-f59c486ea58e\" class=\"colab-df-container\">\n",
              "    <div>\n",
              "<style scoped>\n",
              "    .dataframe tbody tr th:only-of-type {\n",
              "        vertical-align: middle;\n",
              "    }\n",
              "\n",
              "    .dataframe tbody tr th {\n",
              "        vertical-align: top;\n",
              "    }\n",
              "\n",
              "    .dataframe thead th {\n",
              "        text-align: right;\n",
              "    }\n",
              "</style>\n",
              "<table border=\"1\" class=\"dataframe\">\n",
              "  <thead>\n",
              "    <tr style=\"text-align: right;\">\n",
              "      <th></th>\n",
              "      <th>direction</th>\n",
              "      <th>num_packets</th>\n",
              "      <th>total_bytes</th>\n",
              "      <th>min_pkt_size</th>\n",
              "      <th>max_pkt_size</th>\n",
              "      <th>mean_pkt_size</th>\n",
              "      <th>std_pkt_size</th>\n",
              "      <th>min_iat</th>\n",
              "      <th>max_iat</th>\n",
              "      <th>mean_iat</th>\n",
              "      <th>std_iat</th>\n",
              "      <th>dur</th>\n",
              "      <th>dport</th>\n",
              "      <th>sport</th>\n",
              "      <th>app</th>\n",
              "    </tr>\n",
              "  </thead>\n",
              "  <tbody>\n",
              "    <tr>\n",
              "      <th>0</th>\n",
              "      <td>downlink</td>\n",
              "      <td>52</td>\n",
              "      <td>3542.0</td>\n",
              "      <td>52.0</td>\n",
              "      <td>569.0</td>\n",
              "      <td>68.115385</td>\n",
              "      <td>72.668912</td>\n",
              "      <td>0.000010</td>\n",
              "      <td>0.332121</td>\n",
              "      <td>0.013127</td>\n",
              "      <td>0.050105</td>\n",
              "      <td>0.669454</td>\n",
              "      <td>443</td>\n",
              "      <td>52686</td>\n",
              "      <td>expresscouk</td>\n",
              "    </tr>\n",
              "    <tr>\n",
              "      <th>1</th>\n",
              "      <td>downlink</td>\n",
              "      <td>61</td>\n",
              "      <td>4010.0</td>\n",
              "      <td>52.0</td>\n",
              "      <td>569.0</td>\n",
              "      <td>65.737705</td>\n",
              "      <td>67.244802</td>\n",
              "      <td>0.000008</td>\n",
              "      <td>0.055097</td>\n",
              "      <td>0.002399</td>\n",
              "      <td>0.007365</td>\n",
              "      <td>0.143954</td>\n",
              "      <td>443</td>\n",
              "      <td>52692</td>\n",
              "      <td>expresscouk</td>\n",
              "    </tr>\n",
              "    <tr>\n",
              "      <th>2</th>\n",
              "      <td>downlink</td>\n",
              "      <td>58</td>\n",
              "      <td>3854.0</td>\n",
              "      <td>52.0</td>\n",
              "      <td>569.0</td>\n",
              "      <td>66.448276</td>\n",
              "      <td>68.915960</td>\n",
              "      <td>0.000010</td>\n",
              "      <td>0.093800</td>\n",
              "      <td>0.003208</td>\n",
              "      <td>0.012474</td>\n",
              "      <td>0.182844</td>\n",
              "      <td>443</td>\n",
              "      <td>52698</td>\n",
              "      <td>expresscouk</td>\n",
              "    </tr>\n",
              "    <tr>\n",
              "      <th>3</th>\n",
              "      <td>downlink</td>\n",
              "      <td>60</td>\n",
              "      <td>3958.0</td>\n",
              "      <td>52.0</td>\n",
              "      <td>569.0</td>\n",
              "      <td>65.966667</td>\n",
              "      <td>67.788296</td>\n",
              "      <td>0.000011</td>\n",
              "      <td>0.057102</td>\n",
              "      <td>0.002611</td>\n",
              "      <td>0.007803</td>\n",
              "      <td>0.154058</td>\n",
              "      <td>443</td>\n",
              "      <td>52714</td>\n",
              "      <td>expresscouk</td>\n",
              "    </tr>\n",
              "    <tr>\n",
              "      <th>4</th>\n",
              "      <td>downlink</td>\n",
              "      <td>62</td>\n",
              "      <td>4062.0</td>\n",
              "      <td>52.0</td>\n",
              "      <td>569.0</td>\n",
              "      <td>65.516129</td>\n",
              "      <td>66.714155</td>\n",
              "      <td>0.000009</td>\n",
              "      <td>0.054921</td>\n",
              "      <td>0.002400</td>\n",
              "      <td>0.007319</td>\n",
              "      <td>0.146423</td>\n",
              "      <td>443</td>\n",
              "      <td>52730</td>\n",
              "      <td>expresscouk</td>\n",
              "    </tr>\n",
              "    <tr>\n",
              "      <th>...</th>\n",
              "      <td>...</td>\n",
              "      <td>...</td>\n",
              "      <td>...</td>\n",
              "      <td>...</td>\n",
              "      <td>...</td>\n",
              "      <td>...</td>\n",
              "      <td>...</td>\n",
              "      <td>...</td>\n",
              "      <td>...</td>\n",
              "      <td>...</td>\n",
              "      <td>...</td>\n",
              "      <td>...</td>\n",
              "      <td>...</td>\n",
              "      <td>...</td>\n",
              "      <td>...</td>\n",
              "    </tr>\n",
              "    <tr>\n",
              "      <th>195</th>\n",
              "      <td>downlink</td>\n",
              "      <td>108</td>\n",
              "      <td>678098.0</td>\n",
              "      <td>52.0</td>\n",
              "      <td>24668.0</td>\n",
              "      <td>6278.685185</td>\n",
              "      <td>5738.288764</td>\n",
              "      <td>0.000000</td>\n",
              "      <td>0.070249</td>\n",
              "      <td>0.002111</td>\n",
              "      <td>0.007534</td>\n",
              "      <td>0.225923</td>\n",
              "      <td>50772</td>\n",
              "      <td>443</td>\n",
              "      <td>news18</td>\n",
              "    </tr>\n",
              "    <tr>\n",
              "      <th>196</th>\n",
              "      <td>downlink</td>\n",
              "      <td>107</td>\n",
              "      <td>678045.0</td>\n",
              "      <td>52.0</td>\n",
              "      <td>26116.0</td>\n",
              "      <td>6336.869159</td>\n",
              "      <td>5842.351197</td>\n",
              "      <td>0.000001</td>\n",
              "      <td>0.079774</td>\n",
              "      <td>0.002159</td>\n",
              "      <td>0.008157</td>\n",
              "      <td>0.228887</td>\n",
              "      <td>50780</td>\n",
              "      <td>443</td>\n",
              "      <td>news18</td>\n",
              "    </tr>\n",
              "    <tr>\n",
              "      <th>197</th>\n",
              "      <td>downlink</td>\n",
              "      <td>104</td>\n",
              "      <td>677890.0</td>\n",
              "      <td>52.0</td>\n",
              "      <td>26116.0</td>\n",
              "      <td>6518.173077</td>\n",
              "      <td>6242.973928</td>\n",
              "      <td>0.000000</td>\n",
              "      <td>0.070340</td>\n",
              "      <td>0.001973</td>\n",
              "      <td>0.007282</td>\n",
              "      <td>0.203262</td>\n",
              "      <td>50784</td>\n",
              "      <td>443</td>\n",
              "      <td>news18</td>\n",
              "    </tr>\n",
              "    <tr>\n",
              "      <th>198</th>\n",
              "      <td>downlink</td>\n",
              "      <td>112</td>\n",
              "      <td>678283.0</td>\n",
              "      <td>52.0</td>\n",
              "      <td>24668.0</td>\n",
              "      <td>6056.098214</td>\n",
              "      <td>5318.084340</td>\n",
              "      <td>0.000001</td>\n",
              "      <td>0.070897</td>\n",
              "      <td>0.002055</td>\n",
              "      <td>0.007319</td>\n",
              "      <td>0.228084</td>\n",
              "      <td>50788</td>\n",
              "      <td>443</td>\n",
              "      <td>news18</td>\n",
              "    </tr>\n",
              "    <tr>\n",
              "      <th>199</th>\n",
              "      <td>downlink</td>\n",
              "      <td>106</td>\n",
              "      <td>677993.0</td>\n",
              "      <td>52.0</td>\n",
              "      <td>24668.0</td>\n",
              "      <td>6396.160377</td>\n",
              "      <td>5902.001706</td>\n",
              "      <td>0.000001</td>\n",
              "      <td>0.070770</td>\n",
              "      <td>0.001957</td>\n",
              "      <td>0.007241</td>\n",
              "      <td>0.205505</td>\n",
              "      <td>50802</td>\n",
              "      <td>443</td>\n",
              "      <td>news18</td>\n",
              "    </tr>\n",
              "  </tbody>\n",
              "</table>\n",
              "<p>200 rows × 15 columns</p>\n",
              "</div>\n",
              "    <div class=\"colab-df-buttons\">\n",
              "\n",
              "  <div class=\"colab-df-container\">\n",
              "    <button class=\"colab-df-convert\" onclick=\"convertToInteractive('df-a0d55f26-ec29-4520-a407-f59c486ea58e')\"\n",
              "            title=\"Convert this dataframe to an interactive table.\"\n",
              "            style=\"display:none;\">\n",
              "\n",
              "  <svg xmlns=\"http://www.w3.org/2000/svg\" height=\"24px\" viewBox=\"0 -960 960 960\">\n",
              "    <path d=\"M120-120v-720h720v720H120Zm60-500h600v-160H180v160Zm220 220h160v-160H400v160Zm0 220h160v-160H400v160ZM180-400h160v-160H180v160Zm440 0h160v-160H620v160ZM180-180h160v-160H180v160Zm440 0h160v-160H620v160Z\"/>\n",
              "  </svg>\n",
              "    </button>\n",
              "\n",
              "  <style>\n",
              "    .colab-df-container {\n",
              "      display:flex;\n",
              "      gap: 12px;\n",
              "    }\n",
              "\n",
              "    .colab-df-convert {\n",
              "      background-color: #E8F0FE;\n",
              "      border: none;\n",
              "      border-radius: 50%;\n",
              "      cursor: pointer;\n",
              "      display: none;\n",
              "      fill: #1967D2;\n",
              "      height: 32px;\n",
              "      padding: 0 0 0 0;\n",
              "      width: 32px;\n",
              "    }\n",
              "\n",
              "    .colab-df-convert:hover {\n",
              "      background-color: #E2EBFA;\n",
              "      box-shadow: 0px 1px 2px rgba(60, 64, 67, 0.3), 0px 1px 3px 1px rgba(60, 64, 67, 0.15);\n",
              "      fill: #174EA6;\n",
              "    }\n",
              "\n",
              "    .colab-df-buttons div {\n",
              "      margin-bottom: 4px;\n",
              "    }\n",
              "\n",
              "    [theme=dark] .colab-df-convert {\n",
              "      background-color: #3B4455;\n",
              "      fill: #D2E3FC;\n",
              "    }\n",
              "\n",
              "    [theme=dark] .colab-df-convert:hover {\n",
              "      background-color: #434B5C;\n",
              "      box-shadow: 0px 1px 3px 1px rgba(0, 0, 0, 0.15);\n",
              "      filter: drop-shadow(0px 1px 2px rgba(0, 0, 0, 0.3));\n",
              "      fill: #FFFFFF;\n",
              "    }\n",
              "  </style>\n",
              "\n",
              "    <script>\n",
              "      const buttonEl =\n",
              "        document.querySelector('#df-a0d55f26-ec29-4520-a407-f59c486ea58e button.colab-df-convert');\n",
              "      buttonEl.style.display =\n",
              "        google.colab.kernel.accessAllowed ? 'block' : 'none';\n",
              "\n",
              "      async function convertToInteractive(key) {\n",
              "        const element = document.querySelector('#df-a0d55f26-ec29-4520-a407-f59c486ea58e');\n",
              "        const dataTable =\n",
              "          await google.colab.kernel.invokeFunction('convertToInteractive',\n",
              "                                                    [key], {});\n",
              "        if (!dataTable) return;\n",
              "\n",
              "        const docLinkHtml = 'Like what you see? Visit the ' +\n",
              "          '<a target=\"_blank\" href=https://colab.research.google.com/notebooks/data_table.ipynb>data table notebook</a>'\n",
              "          + ' to learn more about interactive tables.';\n",
              "        element.innerHTML = '';\n",
              "        dataTable['output_type'] = 'display_data';\n",
              "        await google.colab.output.renderOutput(dataTable, element);\n",
              "        const docLink = document.createElement('div');\n",
              "        docLink.innerHTML = docLinkHtml;\n",
              "        element.appendChild(docLink);\n",
              "      }\n",
              "    </script>\n",
              "  </div>\n",
              "\n",
              "\n",
              "<div id=\"df-b9d8123f-62d0-4b10-8466-ae9fc9a25cd8\">\n",
              "  <button class=\"colab-df-quickchart\" onclick=\"quickchart('df-b9d8123f-62d0-4b10-8466-ae9fc9a25cd8')\"\n",
              "            title=\"Suggest charts\"\n",
              "            style=\"display:none;\">\n",
              "\n",
              "<svg xmlns=\"http://www.w3.org/2000/svg\" height=\"24px\"viewBox=\"0 0 24 24\"\n",
              "     width=\"24px\">\n",
              "    <g>\n",
              "        <path d=\"M19 3H5c-1.1 0-2 .9-2 2v14c0 1.1.9 2 2 2h14c1.1 0 2-.9 2-2V5c0-1.1-.9-2-2-2zM9 17H7v-7h2v7zm4 0h-2V7h2v10zm4 0h-2v-4h2v4z\"/>\n",
              "    </g>\n",
              "</svg>\n",
              "  </button>\n",
              "\n",
              "<style>\n",
              "  .colab-df-quickchart {\n",
              "      --bg-color: #E8F0FE;\n",
              "      --fill-color: #1967D2;\n",
              "      --hover-bg-color: #E2EBFA;\n",
              "      --hover-fill-color: #174EA6;\n",
              "      --disabled-fill-color: #AAA;\n",
              "      --disabled-bg-color: #DDD;\n",
              "  }\n",
              "\n",
              "  [theme=dark] .colab-df-quickchart {\n",
              "      --bg-color: #3B4455;\n",
              "      --fill-color: #D2E3FC;\n",
              "      --hover-bg-color: #434B5C;\n",
              "      --hover-fill-color: #FFFFFF;\n",
              "      --disabled-bg-color: #3B4455;\n",
              "      --disabled-fill-color: #666;\n",
              "  }\n",
              "\n",
              "  .colab-df-quickchart {\n",
              "    background-color: var(--bg-color);\n",
              "    border: none;\n",
              "    border-radius: 50%;\n",
              "    cursor: pointer;\n",
              "    display: none;\n",
              "    fill: var(--fill-color);\n",
              "    height: 32px;\n",
              "    padding: 0;\n",
              "    width: 32px;\n",
              "  }\n",
              "\n",
              "  .colab-df-quickchart:hover {\n",
              "    background-color: var(--hover-bg-color);\n",
              "    box-shadow: 0 1px 2px rgba(60, 64, 67, 0.3), 0 1px 3px 1px rgba(60, 64, 67, 0.15);\n",
              "    fill: var(--button-hover-fill-color);\n",
              "  }\n",
              "\n",
              "  .colab-df-quickchart-complete:disabled,\n",
              "  .colab-df-quickchart-complete:disabled:hover {\n",
              "    background-color: var(--disabled-bg-color);\n",
              "    fill: var(--disabled-fill-color);\n",
              "    box-shadow: none;\n",
              "  }\n",
              "\n",
              "  .colab-df-spinner {\n",
              "    border: 2px solid var(--fill-color);\n",
              "    border-color: transparent;\n",
              "    border-bottom-color: var(--fill-color);\n",
              "    animation:\n",
              "      spin 1s steps(1) infinite;\n",
              "  }\n",
              "\n",
              "  @keyframes spin {\n",
              "    0% {\n",
              "      border-color: transparent;\n",
              "      border-bottom-color: var(--fill-color);\n",
              "      border-left-color: var(--fill-color);\n",
              "    }\n",
              "    20% {\n",
              "      border-color: transparent;\n",
              "      border-left-color: var(--fill-color);\n",
              "      border-top-color: var(--fill-color);\n",
              "    }\n",
              "    30% {\n",
              "      border-color: transparent;\n",
              "      border-left-color: var(--fill-color);\n",
              "      border-top-color: var(--fill-color);\n",
              "      border-right-color: var(--fill-color);\n",
              "    }\n",
              "    40% {\n",
              "      border-color: transparent;\n",
              "      border-right-color: var(--fill-color);\n",
              "      border-top-color: var(--fill-color);\n",
              "    }\n",
              "    60% {\n",
              "      border-color: transparent;\n",
              "      border-right-color: var(--fill-color);\n",
              "    }\n",
              "    80% {\n",
              "      border-color: transparent;\n",
              "      border-right-color: var(--fill-color);\n",
              "      border-bottom-color: var(--fill-color);\n",
              "    }\n",
              "    90% {\n",
              "      border-color: transparent;\n",
              "      border-bottom-color: var(--fill-color);\n",
              "    }\n",
              "  }\n",
              "</style>\n",
              "\n",
              "  <script>\n",
              "    async function quickchart(key) {\n",
              "      const quickchartButtonEl =\n",
              "        document.querySelector('#' + key + ' button');\n",
              "      quickchartButtonEl.disabled = true;  // To prevent multiple clicks.\n",
              "      quickchartButtonEl.classList.add('colab-df-spinner');\n",
              "      try {\n",
              "        const charts = await google.colab.kernel.invokeFunction(\n",
              "            'suggestCharts', [key], {});\n",
              "      } catch (error) {\n",
              "        console.error('Error during call to suggestCharts:', error);\n",
              "      }\n",
              "      quickchartButtonEl.classList.remove('colab-df-spinner');\n",
              "      quickchartButtonEl.classList.add('colab-df-quickchart-complete');\n",
              "    }\n",
              "    (() => {\n",
              "      let quickchartButtonEl =\n",
              "        document.querySelector('#df-b9d8123f-62d0-4b10-8466-ae9fc9a25cd8 button');\n",
              "      quickchartButtonEl.style.display =\n",
              "        google.colab.kernel.accessAllowed ? 'block' : 'none';\n",
              "    })();\n",
              "  </script>\n",
              "</div>\n",
              "    </div>\n",
              "  </div>\n"
            ],
            "application/vnd.google.colaboratory.intrinsic+json": {
              "type": "dataframe",
              "variable_name": "dataset",
              "summary": "{\n  \"name\": \"dataset\",\n  \"rows\": 200,\n  \"fields\": [\n    {\n      \"column\": \"direction\",\n      \"properties\": {\n        \"dtype\": \"category\",\n        \"num_unique_values\": 1,\n        \"samples\": [\n          \"downlink\"\n        ],\n        \"semantic_type\": \"\",\n        \"description\": \"\"\n      }\n    },\n    {\n      \"column\": \"num_packets\",\n      \"properties\": {\n        \"dtype\": \"number\",\n        \"std\": 81,\n        \"min\": 11,\n        \"max\": 274,\n        \"num_unique_values\": 77,\n        \"samples\": [\n          62\n        ],\n        \"semantic_type\": \"\",\n        \"description\": \"\"\n      }\n    },\n    {\n      \"column\": \"total_bytes\",\n      \"properties\": {\n        \"dtype\": \"number\",\n        \"std\": 656743.9346262452,\n        \"min\": 1439.0,\n        \"max\": 2304537.0,\n        \"num_unique_values\": 133,\n        \"samples\": [\n          6652.0\n        ],\n        \"semantic_type\": \"\",\n        \"description\": \"\"\n      }\n    },\n    {\n      \"column\": \"min_pkt_size\",\n      \"properties\": {\n        \"dtype\": \"number\",\n        \"std\": 6.015056485405026,\n        \"min\": 40.0,\n        \"max\": 52.0,\n        \"num_unique_values\": 2,\n        \"samples\": [\n          40.0\n        ],\n        \"semantic_type\": \"\",\n        \"description\": \"\"\n      }\n    },\n    {\n      \"column\": \"max_pkt_size\",\n      \"properties\": {\n        \"dtype\": \"number\",\n        \"std\": 14910.04863547858,\n        \"min\": 557.0,\n        \"max\": 56786.0,\n        \"num_unique_values\": 26,\n        \"samples\": [\n          2960.0\n        ],\n        \"semantic_type\": \"\",\n        \"description\": \"\"\n      }\n    },\n    {\n      \"column\": \"mean_pkt_size\",\n      \"properties\": {\n        \"dtype\": \"number\",\n        \"std\": 3512.459074399772,\n        \"min\": 54.98168498168498,\n        \"max\": 13670.67857142857,\n        \"num_unique_values\": 134,\n        \"samples\": [\n          5950.763157894737\n        ],\n        \"semantic_type\": \"\",\n        \"description\": \"\"\n      }\n    },\n    {\n      \"column\": \"std_pkt_size\",\n      \"properties\": {\n        \"dtype\": \"number\",\n        \"std\": 3645.386379560321,\n        \"min\": 32.235171489755224,\n        \"max\": 15979.411091982523,\n        \"num_unique_values\": 139,\n        \"samples\": [\n          5842.351197165485\n        ],\n        \"semantic_type\": \"\",\n        \"description\": \"\"\n      }\n    },\n    {\n      \"column\": \"min_iat\",\n      \"properties\": {\n        \"dtype\": \"number\",\n        \"std\": 3.911380123736609e-06,\n        \"min\": 0.0,\n        \"max\": 2.3e-05,\n        \"num_unique_values\": 19,\n        \"samples\": [\n          1e-05\n        ],\n        \"semantic_type\": \"\",\n        \"description\": \"\"\n      }\n    },\n    {\n      \"column\": \"max_iat\",\n      \"properties\": {\n        \"dtype\": \"number\",\n        \"std\": 2.8078052584155206,\n        \"min\": 0.053851,\n        \"max\": 10.678757,\n        \"num_unique_values\": 199,\n        \"samples\": [\n          0.093567\n        ],\n        \"semantic_type\": \"\",\n        \"description\": \"\"\n      }\n    },\n    {\n      \"column\": \"mean_iat\",\n      \"properties\": {\n        \"dtype\": \"number\",\n        \"std\": 0.015200368852797155,\n        \"min\": 0.001653432,\n        \"max\": 0.0666811038961039,\n        \"num_unique_values\": 200,\n        \"samples\": [\n          0.0022622242990654206\n        ],\n        \"semantic_type\": \"\",\n        \"description\": \"\"\n      }\n    },\n    {\n      \"column\": \"std_iat\",\n      \"properties\": {\n        \"dtype\": \"number\",\n        \"std\": 0.20152181713072406,\n        \"min\": 0.00577702232769006,\n        \"max\": 0.8067720368067567,\n        \"num_unique_values\": 200,\n        \"samples\": [\n          0.006427473846197659\n        ],\n        \"semantic_type\": \"\",\n        \"description\": \"\"\n      }\n    },\n    {\n      \"column\": \"dur\",\n      \"properties\": {\n        \"dtype\": \"number\",\n        \"std\": 2.8810102943187785,\n        \"min\": 0.10382600000000002,\n        \"max\": 12.033946999999998,\n        \"num_unique_values\": 200,\n        \"samples\": [\n          0.242058\n        ],\n        \"semantic_type\": \"\",\n        \"description\": \"\"\n      }\n    },\n    {\n      \"column\": \"dport\",\n      \"properties\": {\n        \"dtype\": \"number\",\n        \"std\": 24808,\n        \"min\": 443,\n        \"max\": 60812,\n        \"num_unique_values\": 99,\n        \"samples\": [\n          42710\n        ],\n        \"semantic_type\": \"\",\n        \"description\": \"\"\n      }\n    },\n    {\n      \"column\": \"sport\",\n      \"properties\": {\n        \"dtype\": \"number\",\n        \"std\": 24808,\n        \"min\": 443,\n        \"max\": 60812,\n        \"num_unique_values\": 99,\n        \"samples\": [\n          42712\n        ],\n        \"semantic_type\": \"\",\n        \"description\": \"\"\n      }\n    },\n    {\n      \"column\": \"app\",\n      \"properties\": {\n        \"dtype\": \"category\",\n        \"num_unique_values\": 10,\n        \"samples\": [\n          \"abcnetau\"\n        ],\n        \"semantic_type\": \"\",\n        \"description\": \"\"\n      }\n    }\n  ]\n}"
            }
          },
          "metadata": {}
        },
        {
          "output_type": "stream",
          "name": "stderr",
          "text": [
            "<ipython-input-31-5c7c19980f34>:19: FutureWarning: the 'line_terminator'' keyword is deprecated, use 'lineterminator' instead.\n",
            "  dataset.to_csv('traffic_classification_dataset.csv', index=False, line_terminator='\\n')\n"
          ]
        }
      ]
    },
    {
      "cell_type": "code",
      "source": [
        "X = dataset.drop(['direction','sport','dport'],axis=1).dropna();\n",
        "APP = X['app']\n",
        "X = X.drop(['app'],axis=1)\n",
        "\n",
        "idx = np.random.permutation(len(X))\n",
        "num_train_obs = np.floor(0.7*len(X))\n",
        "\n",
        "train_idx = idx[1:int(num_train_obs)]\n",
        "test_idx = idx[int(num_train_obs):]\n",
        "\n",
        "# normalization\n",
        "X_norm = pd.DataFrame()\n",
        "for key in X:\n",
        "  temp = X[key]\n",
        "  temp_norm = (temp-temp.mean())/temp.std();\n",
        "  X_norm[key] = temp_norm\n",
        "\n",
        "# split train / test\n",
        "X_norm_train = X_norm.iloc[train_idx]\n",
        "X_norm_test = X_norm.iloc[test_idx]\n",
        "\n",
        "APP_train = APP.iloc[train_idx]\n",
        "APP_test = APP.iloc[test_idx]\n",
        "\n",
        "#K-NN classifier: for each entry in the test set, search the closest entry in the train set and assign value!\n",
        "i = 0;\n",
        "accuracy = 0\n",
        "K = 10\n",
        "APP_test_predicted = []\n",
        "for index, row in X_norm_test.iterrows():\n",
        "  #test_entry = row.values.tolist()\n",
        "  distances = []\n",
        "  for ii, rr in X_norm_train.iterrows():\n",
        "    #train_entry = rr.values.tolist()\n",
        "    #distances.append(np.linalg.norm(np.array(test_entry)-np.array(train_entry)))\n",
        "    distances.append(np.linalg.norm(np.array(row.to_numpy() - rr.to_numpy())))\n",
        "\n",
        "  min_idx = np.argmin(distances)\n",
        "\n",
        "  #sorted_idx = np.argsort(distances)\n",
        "  #predicted_app = APP_train.iloc[sorted_idx[1:K+1]].mode()\n",
        "\n",
        "  predicted_app = APP_train.iloc[min_idx]\n",
        "  APP_test_predicted.append(predicted_app)\n",
        "  if(APP_test.iloc[i] == predicted_app):\n",
        "      accuracy = accuracy+1\n",
        "  i = i+1\n",
        "\n",
        "print(accuracy/len(APP_test))\n",
        "fig, ax = plt.subplots(figsize=(15, 15));\n",
        "ConfusionMatrixDisplay.from_predictions(APP_test_predicted, APP_test, ax=ax);\n"
      ],
      "metadata": {
        "colab": {
          "base_uri": "https://localhost:8080/",
          "height": 908
        },
        "id": "V7whYd8VP2-F",
        "outputId": "a1a07ec3-a05a-4112-db2d-5eb8fc81bac7"
      },
      "execution_count": 41,
      "outputs": [
        {
          "output_type": "stream",
          "name": "stdout",
          "text": [
            "0.7166666666666667\n"
          ]
        },
        {
          "output_type": "display_data",
          "data": {
            "text/plain": [
              "<Figure size 1500x1500 with 2 Axes>"
            ],
            "image/png": "[encoded data removed]"
          },
          "metadata": {}
        }
      ]
    }
  ]
}