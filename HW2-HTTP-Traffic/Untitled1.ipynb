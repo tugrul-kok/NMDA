{
  "nbformat": 4,
  "nbformat_minor": 0,
  "metadata": {
    "colab": {
      "provenance": []
    },
    "kernelspec": {
      "name": "python3",
      "display_name": "Python 3"
    },
    "language_info": {
      "name": "python"
    }
  },
  "cells": [
    {
      "cell_type": "code",
      "source": [
        "#!apt-get install net-tools # To see my interface\n",
        "!apt-get install tcpdump # To capture packages\n",
        "#!apt-get install dnsutils\n",
        "!apt-get install curl # To create traffic to websites\n",
        "!apt-get install tshark #"
      ],
      "metadata": {
        "id": "Kx7WOe8-7Ddh"
      },
      "execution_count": null,
      "outputs": []
    },
    {
      "cell_type": "code",
      "source": [
        "!pip install pyshark\n",
        "!pip install nest_asyncio"
      ],
      "metadata": {
        "id": "GTstq8RT7NzE",
        "colab": {
          "base_uri": "https://localhost:8080/"
        },
        "outputId": "c62b92b7-7e11-4f99-b4bc-3439b2dbae3e"
      },
      "execution_count": 2,
      "outputs": [
        {
          "output_type": "stream",
          "name": "stdout",
          "text": [
            "Collecting pyshark\n",
            "  Downloading pyshark-0.6-py3-none-any.whl (41 kB)\n",
            "\u001b[?25l     \u001b[90m━━━━━━━━━━━━━━━━━━━━━━━━━━━━━━━━━━━━━━━━\u001b[0m \u001b[32m0.0/41.4 kB\u001b[0m \u001b[31m?\u001b[0m eta \u001b[36m-:--:--\u001b[0m\r\u001b[2K     \u001b[90m━━━━━━━━━━━━━━━━━━━━━━━━━━━━━━━━━━━━━━━━\u001b[0m \u001b[32m41.4/41.4 kB\u001b[0m \u001b[31m1.5 MB/s\u001b[0m eta \u001b[36m0:00:00\u001b[0m\n",
            "\u001b[?25hRequirement already satisfied: lxml in /usr/local/lib/python3.10/dist-packages (from pyshark) (4.9.4)\n",
            "Requirement already satisfied: termcolor in /usr/local/lib/python3.10/dist-packages (from pyshark) (2.4.0)\n",
            "Requirement already satisfied: packaging in /usr/local/lib/python3.10/dist-packages (from pyshark) (24.0)\n",
            "Requirement already satisfied: appdirs in /usr/local/lib/python3.10/dist-packages (from pyshark) (1.4.4)\n",
            "Installing collected packages: pyshark\n",
            "Successfully installed pyshark-0.6\n",
            "Requirement already satisfied: nest_asyncio in /usr/local/lib/python3.10/dist-packages (1.6.0)\n"
          ]
        }
      ]
    },
    {
      "cell_type": "code",
      "source": [
        "import pyshark\n",
        "import os\n",
        "import pandas as pd\n",
        "import nest_asyncio\n",
        "from os import listdir\n",
        "from os.path import isfile, join\n",
        "import numpy as np\n",
        "import matplotlib.pyplot as plt\n",
        "from sklearn.metrics import ConfusionMatrixDisplay"
      ],
      "metadata": {
        "id": "HhuOp7kigolr"
      },
      "execution_count": 20,
      "outputs": []
    },
    {
      "cell_type": "code",
      "source": [
        "from google.colab import drive\n",
        "\n",
        "# Mount Google Drive\n",
        "drive.mount('/content/drive')\n",
        "path = \"/content/drive/MyDrive/NMDA/HW2\""
      ],
      "metadata": {
        "colab": {
          "base_uri": "https://localhost:8080/"
        },
        "id": "1Fna4agL692N",
        "outputId": "5aecc91d-469a-4846-9e5b-e3e52bf96919"
      },
      "execution_count": null,
      "outputs": [
        {
          "output_type": "stream",
          "name": "stdout",
          "text": [
            "Mounted at /content/drive\n"
          ]
        }
      ]
    },
    {
      "cell_type": "code",
      "source": [
        "! mkdir captures"
      ],
      "metadata": {
        "id": "QDXYaeepAHTQ"
      },
      "execution_count": 4,
      "outputs": []
    },
    {
      "cell_type": "code",
      "source": [
        "! rm captures/*\n",
        "! rm data/*\n",
        "! rm *.zip\n",
        "! rm *.csv"
      ],
      "metadata": {
        "id": "GzW_qNAoXqSd"
      },
      "execution_count": 42,
      "outputs": []
    },
    {
      "cell_type": "code",
      "source": [
        "import urllib\n",
        "import json\n",
        "def get_information(ip):\n",
        "        info = json.loads(urllib.request.urlopen('http://ip-api.com/json/'+ip).read())\n",
        "        country = info['country']\n",
        "        city = info['city']\n",
        "        latitude = info['lat']\n",
        "        longitude = info['lon']\n",
        "        return country, city, latitude, longitude\n",
        "\n",
        "api='https://api.ipify.org'\n",
        "my_ip = urllib.request.urlopen(api).read().decode('UTF-8')\n",
        "my_country, my_city, my_latitude, my_longitude =  get_information(my_ip)\n",
        "my_ip, my_country, my_city, my_latitude, my_longitude"
      ],
      "metadata": {
        "colab": {
          "base_uri": "https://localhost:8080/"
        },
        "id": "XmXN0992mfjO",
        "outputId": "1420077a-e6f4-44ce-af98-ce17b8c390c0"
      },
      "execution_count": 43,
      "outputs": [
        {
          "output_type": "execute_result",
          "data": {
            "text/plain": [
              "('34.106.175.237', 'United States', 'Salt Lake City', 40.7607, -111.891)"
            ]
          },
          "metadata": {},
          "execution_count": 43
        }
      ]
    },
    {
      "cell_type": "code",
      "source": [
        "! bash capture.sh captures capture \\\n",
        "    https://www.indiatimes.com \\\n",
        "    https://www.washingtonpost.com \\\n",
        "    https://www.ndtv.com \\\n",
        "    https://www.cnbc.com \\\n",
        "    https://www.timesofindia.com \\\n",
        "    https://www.express.co.uk \\\n",
        "    https://www.rt.com \\\n",
        "    https://www.news18.com \\\n",
        "    https://www.nypost.com \\\n",
        "    https://www.abc.net.au\n"
      ],
      "metadata": {
        "colab": {
          "base_uri": "https://localhost:8080/"
        },
        "id": "z9EC7HQEAROb",
        "outputId": "0265c414-b36a-4115-91a2-6bd8f1f3729b"
      },
      "execution_count": 44,
      "outputs": [
        {
          "output_type": "stream",
          "name": "stdout",
          "text": [
            "tcpdump: listening on eth0, link-type EN10MB (Ethernet), snapshot length 262144 bytes\n",
            "tcpdump: listening on eth0, link-type EN10MB (Ethernet), snapshot length 262144 bytes\n",
            "tcpdump: listening on eth0, link-type EN10MB (Ethernet), snapshot length 262144 bytes\n",
            "tcpdump: listening on eth0, link-type EN10MB (Ethernet), snapshot length 262144 bytes\n",
            "tcpdump: listening on eth0, link-type EN10MB (Ethernet), snapshot length 262144 bytes\n",
            "tcpdump: listening on eth0, link-type EN10MB (Ethernet), snapshot length 262144 bytes\n",
            "tcpdump: listening on eth0, link-type EN10MB (Ethernet), snapshot length 262144 bytes\n",
            "tcpdump: listening on eth0, link-type EN10MB (Ethernet), snapshot length 262144 bytes\n",
            "tcpdump: listening on eth0, link-type EN10MB (Ethernet), snapshot length 262144 bytes\n",
            "tcpdump: listening on eth0, link-type EN10MB (Ethernet), snapshot length 262144 bytes\n",
            "1844 packets captured3725 packets captured\n",
            "\n",
            "1844 packets received by filter3725 packets received by filter\n",
            "\n",
            "0 packets dropped by kernel0 packets dropped by kernel\n",
            "\n",
            "1159 packets captured\n",
            "1159 packets received by filter\n",
            "293 packets captured0 packets dropped by kernel\n",
            "\n",
            "293 packets received by filter\n",
            "0 packets dropped by kernel\n",
            "264 packets captured3084 packets captured\n",
            "\n",
            "264 packets received by filter3084 packets received by filter\n",
            "\n",
            "0 packets dropped by kernel0 packets dropped by kernel\n",
            "\n",
            "304 packets captured\n",
            "304 packets received by filter\n",
            "0 packets dropped by kernel\n",
            "3405 packets captured\n",
            "3405 packets received by filter\n",
            "0 packets dropped by kernel\n",
            "2070 packets captured\n",
            "2070 packets received by filter\n",
            "0 packets dropped by kernel\n",
            "312 packets captured\n",
            "312 packets received by filter\n",
            "0 packets dropped by kernel\n"
          ]
        }
      ]
    },
    {
      "cell_type": "code",
      "source": [
        "import zipfile\n",
        "directory_to_zip = \"/content/captures\"\n",
        "zip_file_name = \"captures.zip\"\n",
        "\n",
        "# Create a zipfile object in write mode\n",
        "with zipfile.ZipFile(zip_file_name, 'w') as zipf:\n",
        "    # Iterate over all the files and folders within the directory\n",
        "    for root, dirs, files in os.walk(directory_to_zip):\n",
        "        for file in files:\n",
        "            # Construct the full path of the file\n",
        "            file_path = os.path.join(root, file)\n",
        "            # Add the file to the zip\n",
        "            zipf.write(file_path, os.path.relpath(file_path, directory_to_zip))"
      ],
      "metadata": {
        "id": "cFyTAGXuqzUh"
      },
      "execution_count": 45,
      "outputs": []
    },
    {
      "cell_type": "code",
      "source": [
        "nest_asyncio.apply()\n",
        "\n",
        "# Directory containing the pcap files\n",
        "directory = 'captures'\n",
        "\n",
        "# Initialize CONVERSATIONS dictionary\n",
        "CONVERSATIONS = {'ip.src': [], 'ip.dst': [], 'tcp.srcport': [], 'tcp.dstport': [],\n",
        "                'bytes': [], 'packets': [], 'start': [], 'duration': [],\n",
        "                 'label': [], 'ip.proto':[], 'ip.len': [], 'frame.time': []}\n",
        "\n",
        "# Iterate over each file in the directory\n",
        "for filename in os.listdir(directory):\n",
        "    if filename.endswith(\".pcap\"):\n",
        "        filepath = os.path.join(directory, filename)\n",
        "        # Extract label from filename\n",
        "        label = filename.split('-')[-1].split('.')[0].replace('httpswww', '').replace('com', '')\n",
        "\n",
        "        # Read the pcap file using pyshark\n",
        "        cap = pyshark.FileCapture(filepath)\n",
        "\n",
        "        # Iterate over each packet in the pcap file\n",
        "        for packet in cap:\n",
        "            address_a = packet.ip.src\n",
        "            address_b = packet.ip.dst\n",
        "            tcp_srcport = packet.tcp.srcport\n",
        "            tcp_dstport = packet.tcp.dstport\n",
        "            packet_bytes = packet.length\n",
        "            packet_timestamp = packet.sniff_time\n",
        "            protocol = packet.ip.proto\n",
        "            d_a = tuple([address_a, address_b, tcp_srcport, tcp_dstport])\n",
        "            entry_a = hash(d_a)\n",
        "            ip_len = packet.ip.len\n",
        "            frame_time = packet.sniff_time.strftime(\"%Y-%m-%d %H:%M:%S.%f\")\n",
        "\n",
        "            d_b = tuple([address_a, address_b, tcp_srcport, tcp_dstport])\n",
        "            entry_b = hash(d_b)\n",
        "\n",
        "            if entry_a in CONVERSATIONS['start']:\n",
        "                loc = CONVERSATIONS['start'].index(entry_a)\n",
        "                CONVERSATIONS['bytes'][loc] += int(packet_bytes)\n",
        "                CONVERSATIONS['packets'][loc] += 1\n",
        "                CONVERSATIONS['duration'][loc] = (packet_timestamp - CONVERSATIONS['start'][loc]).total_seconds()\n",
        "                CONVERSATIONS['ip.proto'][loc] = protocol\n",
        "                CONVERSATIONS['ip.len'][loc] = ip_len\n",
        "                CONVERSATIONS['frame.time'][loc] = frame_time\n",
        "\n",
        "            elif entry_b in CONVERSATIONS['start']:\n",
        "                loc = CONVERSATIONS['start'].index(entry_b)\n",
        "                CONVERSATIONS['bytes'][loc] += int(packet_bytes)\n",
        "                CONVERSATIONS['packets'][loc] += 1\n",
        "                CONVERSATIONS['duration'][loc] = (packet_timestamp - CONVERSATIONS['start'][loc]).total_seconds()\n",
        "                CONVERSATIONS['ip.proto'][loc] = protocol\n",
        "                CONVERSATIONS['ip.len'][loc] = ip_len\n",
        "                CONVERSATIONS['frame.time'][loc] = frame_time\n",
        "\n",
        "            else:\n",
        "                CONVERSATIONS['ip.src'].append(address_a)\n",
        "                CONVERSATIONS['ip.dst'].append(address_b)\n",
        "                CONVERSATIONS['tcp.srcport'].append(tcp_srcport)\n",
        "                CONVERSATIONS['tcp.dstport'].append(tcp_dstport)\n",
        "                CONVERSATIONS['bytes'].append(int(packet_bytes))\n",
        "                CONVERSATIONS['start'].append(packet_timestamp)\n",
        "                CONVERSATIONS['packets'].append(1)\n",
        "                CONVERSATIONS['duration'].append(0)\n",
        "                CONVERSATIONS['label'].append(label)\n",
        "                CONVERSATIONS['ip.proto'].append(protocol)\n",
        "                CONVERSATIONS['ip.len'].append(ip_len)\n",
        "                CONVERSATIONS['frame.time'].append(frame_time)\n",
        "\n",
        "# Create DataFrame from CONVERSATIONS dictionary\n",
        "df = pd.DataFrame(CONVERSATIONS)\n",
        "\n",
        "# Display the DataFrame\n",
        "print(df)\n"
      ],
      "metadata": {
        "colab": {
          "base_uri": "https://localhost:8080/"
        },
        "id": "rjPcXsb1Dd7o",
        "outputId": "74f0d34e-3ca1-48e4-89b0-b48bfc7f12f7"
      },
      "execution_count": 46,
      "outputs": [
        {
          "output_type": "stream",
          "name": "stdout",
          "text": [
            "              ip.src         ip.dst tcp.srcport tcp.dstport  bytes  packets  \\\n",
            "0        172.28.0.12   23.55.124.91       47642         443     74        1   \n",
            "1       23.55.124.91    172.28.0.12         443       47642     74        1   \n",
            "2        172.28.0.12   23.55.124.91       47642         443     66        1   \n",
            "3        172.28.0.12   23.55.124.91       47642         443    583        1   \n",
            "4       23.55.124.91    172.28.0.12         443       47642     66        1   \n",
            "...              ...            ...         ...         ...    ...      ...   \n",
            "16455  23.205.196.91    172.28.0.12         443       34600     66        1   \n",
            "16456  23.205.196.91    172.28.0.12         443       34600     97        1   \n",
            "16457    172.28.0.12  23.205.196.91       34600         443     54        1   \n",
            "16458  23.205.196.91    172.28.0.12         443       34600     66        1   \n",
            "16459    172.28.0.12  23.205.196.91       34600         443     54        1   \n",
            "\n",
            "                           start  duration       label ip.proto ip.len  \\\n",
            "0     2024-03-25 22:43:27.365963         0    abcnetau        6     60   \n",
            "1     2024-03-25 22:43:27.402312         0    abcnetau        6     60   \n",
            "2     2024-03-25 22:43:27.402345         0    abcnetau        6     52   \n",
            "3     2024-03-25 22:43:27.458597         0    abcnetau        6    569   \n",
            "4     2024-03-25 22:43:27.494447         0    abcnetau        6     52   \n",
            "...                          ...       ...         ...      ...    ...   \n",
            "16455 2024-03-25 22:39:43.793698         0  indiatimes        6     52   \n",
            "16456 2024-03-25 22:39:43.814596         0  indiatimes        6     83   \n",
            "16457 2024-03-25 22:39:43.814619         0  indiatimes        6     40   \n",
            "16458 2024-03-25 22:39:43.814599         0  indiatimes        6     52   \n",
            "16459 2024-03-25 22:39:43.814630         0  indiatimes        6     40   \n",
            "\n",
            "                       frame.time  \n",
            "0      2024-03-25 22:43:27.365963  \n",
            "1      2024-03-25 22:43:27.402312  \n",
            "2      2024-03-25 22:43:27.402345  \n",
            "3      2024-03-25 22:43:27.458597  \n",
            "4      2024-03-25 22:43:27.494447  \n",
            "...                           ...  \n",
            "16455  2024-03-25 22:39:43.793698  \n",
            "16456  2024-03-25 22:39:43.814596  \n",
            "16457  2024-03-25 22:39:43.814619  \n",
            "16458  2024-03-25 22:39:43.814599  \n",
            "16459  2024-03-25 22:39:43.814630  \n",
            "\n",
            "[16460 rows x 12 columns]\n"
          ]
        }
      ]
    },
    {
      "cell_type": "code",
      "source": [
        "#much easier than looping over all packets!\n",
        "#df_tcp = df[df[\"ip.proto\"]=='6']\n",
        "#df_flows_tcp = df_tcp.groupby([\"address_a\",\"address_b\",\"port_a\",\"port_b\"])\n",
        "\n",
        "#for flow, df_flow in df_flows_tcp: #flow is a tuple representing the flow, df_flow is the dataframe with all packets of the flow\n",
        " # print(flow)\n",
        " # display(df_flow)"
      ],
      "metadata": {
        "id": "2WvFoSS7F-_X"
      },
      "execution_count": null,
      "outputs": []
    },
    {
      "cell_type": "code",
      "source": [
        "! mkdir data\n",
        "df.to_csv('data/df_flows_tcp.csv', index=False)\n"
      ],
      "metadata": {
        "id": "e6JvMY5KPX4G",
        "colab": {
          "base_uri": "https://localhost:8080/"
        },
        "outputId": "32149d43-8115-4837-9cfc-0e20de07bcde"
      },
      "execution_count": 47,
      "outputs": [
        {
          "output_type": "stream",
          "name": "stdout",
          "text": [
            "mkdir: cannot create directory ‘data’: File exists\n"
          ]
        }
      ]
    },
    {
      "cell_type": "code",
      "source": [
        "def extract_features(flow,df_flow):\n",
        "  #compute flow features:\n",
        "  flow_features = {}\n",
        "  if(flow[0].split('.')[0]=='10'):\n",
        "    flow_features['direction'] = 'uplink'\n",
        "  else:\n",
        "    flow_features['direction'] = 'downlink'\n",
        "\n",
        "  flow_features['num_packets'] = len(df_flow);\n",
        "  pkt_sizes = df_flow['ip.len'].astype(float)\n",
        "  flow_features['total_bytes'] = pkt_sizes.sum()\n",
        "  flow_features['min_pkt_size'] = pkt_sizes.min()\n",
        "  flow_features['max_pkt_size'] = pkt_sizes.max()\n",
        "  flow_features['mean_pkt_size'] = pkt_sizes.mean()\n",
        "  flow_features['std_pkt_size'] = pkt_sizes.std()\n",
        "  iat = pd.to_datetime(df_flow['frame.time']).diff(1).dt.total_seconds().iloc[1:] #\n",
        "  flow_features['min_iat'] = iat.min()\n",
        "  flow_features['max_iat'] = iat.max()\n",
        "  flow_features['mean_iat'] = iat.mean()\n",
        "  flow_features['std_iat'] = iat.std()\n",
        "  flow_features['dur'] = iat.sum()\n",
        "  flow_features['dport'] = flow[3]\n",
        "  flow_features['sport'] = flow[2]\n",
        "  return flow_features\n",
        "\n",
        "df_udp = df[df[\"ip.proto\"]=='17']\n",
        "df_tcp = df[df[\"ip.proto\"]=='6']\n",
        "\n",
        "#df_flows_udp = df_udp.groupby([\"ip.src\",\"ip.dst\",\"udp.srcport\",\"udp.dstport\"])\n",
        "df_flows_tcp = df_tcp.groupby([\"ip.src\",\"ip.dst\",\"tcp.srcport\",\"tcp.dstport\"])\n",
        "\n",
        "for flow,df_flow in df_flows_tcp: #flow is a tuple representing the flow, df_flow is the dataframe with all packets of the flow\n",
        "  flow_features = extract_features(flow,df_flow)\n",
        "  display(flow)\n",
        "  display(flow_features)\n",
        "\n",
        "\n"
      ],
      "metadata": {
        "id": "3nkCsKKHLAix",
        "colab": {
          "base_uri": "https://localhost:8080/",
          "height": 1000
        },
        "outputId": "7be1ec8a-348e-4b28-b035-c866d835c78e"
      },
      "execution_count": 48,
      "outputs": [
        {
          "output_type": "display_data",
          "data": {
            "text/plain": [
              "('172.28.0.12', '18.154.101.83', '38508', '443')"
            ]
          },
          "metadata": {}
        },
        {
          "output_type": "display_data",
          "data": {
            "text/plain": [
              "{'direction': 'downlink',\n",
              " 'num_packets': 63,\n",
              " 'total_bytes': 4114.0,\n",
              " 'min_pkt_size': 52.0,\n",
              " 'max_pkt_size': 569.0,\n",
              " 'mean_pkt_size': 65.3015873015873,\n",
              " 'std_pkt_size': 66.19585673629989,\n",
              " 'min_iat': 1.2e-05,\n",
              " 'max_iat': 0.342895,\n",
              " 'mean_iat': 0.009182806451612903,\n",
              " 'std_iat': 0.045113632478129724,\n",
              " 'dur': 0.569334,\n",
              " 'dport': '443',\n",
              " 'sport': '38508'}"
            ]
          },
          "metadata": {}
        },
        {
          "output_type": "display_data",
          "data": {
            "text/plain": [
              "('172.28.0.12', '18.154.101.83', '38510', '443')"
            ]
          },
          "metadata": {}
        },
        {
          "output_type": "display_data",
          "data": {
            "text/plain": [
              "{'direction': 'downlink',\n",
              " 'num_packets': 58,\n",
              " 'total_bytes': 3854.0,\n",
              " 'min_pkt_size': 52.0,\n",
              " 'max_pkt_size': 569.0,\n",
              " 'mean_pkt_size': 66.44827586206897,\n",
              " 'std_pkt_size': 68.91596011359563,\n",
              " 'min_iat': 1.3e-05,\n",
              " 'max_iat': 0.053929,\n",
              " 'mean_iat': 0.002423736842105263,\n",
              " 'std_iat': 0.00737733053135055,\n",
              " 'dur': 0.13815299999999997,\n",
              " 'dport': '443',\n",
              " 'sport': '38510'}"
            ]
          },
          "metadata": {}
        },
        {
          "output_type": "display_data",
          "data": {
            "text/plain": [
              "('172.28.0.12', '18.154.101.83', '38522', '443')"
            ]
          },
          "metadata": {}
        },
        {
          "output_type": "display_data",
          "data": {
            "text/plain": [
              "{'direction': 'downlink',\n",
              " 'num_packets': 64,\n",
              " 'total_bytes': 4166.0,\n",
              " 'min_pkt_size': 52.0,\n",
              " 'max_pkt_size': 569.0,\n",
              " 'mean_pkt_size': 65.09375,\n",
              " 'std_pkt_size': 65.68943737420562,\n",
              " 'min_iat': 1.1e-05,\n",
              " 'max_iat': 0.060288,\n",
              " 'mean_iat': 0.002299142857142857,\n",
              " 'std_iat': 0.007799620149677975,\n",
              " 'dur': 0.14484599999999997,\n",
              " 'dport': '443',\n",
              " 'sport': '38522'}"
            ]
          },
          "metadata": {}
        },
        {
          "output_type": "display_data",
          "data": {
            "text/plain": [
              "('172.28.0.12', '18.154.101.83', '38524', '443')"
            ]
          },
          "metadata": {}
        },
        {
          "output_type": "display_data",
          "data": {
            "text/plain": [
              "{'direction': 'downlink',\n",
              " 'num_packets': 61,\n",
              " 'total_bytes': 4010.0,\n",
              " 'min_pkt_size': 52.0,\n",
              " 'max_pkt_size': 569.0,\n",
              " 'mean_pkt_size': 65.73770491803279,\n",
              " 'std_pkt_size': 67.24480194021055,\n",
              " 'min_iat': 1.2e-05,\n",
              " 'max_iat': 0.064959,\n",
              " 'mean_iat': 0.0026274499999999995,\n",
              " 'std_iat': 0.008613654559004813,\n",
              " 'dur': 0.15764699999999998,\n",
              " 'dport': '443',\n",
              " 'sport': '38524'}"
            ]
          },
          "metadata": {}
        },
        {
          "output_type": "display_data",
          "data": {
            "text/plain": [
              "('172.28.0.12', '18.154.101.83', '38532', '443')"
            ]
          },
          "metadata": {}
        },
        {
          "output_type": "display_data",
          "data": {
            "text/plain": [
              "{'direction': 'downlink',\n",
              " 'num_packets': 61,\n",
              " 'total_bytes': 4010.0,\n",
              " 'min_pkt_size': 52.0,\n",
              " 'max_pkt_size': 569.0,\n",
              " 'mean_pkt_size': 65.73770491803279,\n",
              " 'std_pkt_size': 67.24480194021055,\n",
              " 'min_iat': 1.2e-05,\n",
              " 'max_iat': 0.05465,\n",
              " 'mean_iat': 0.0023938166666666663,\n",
              " 'std_iat': 0.007335432106301454,\n",
              " 'dur': 0.14362899999999998,\n",
              " 'dport': '443',\n",
              " 'sport': '38532'}"
            ]
          },
          "metadata": {}
        },
        {
          "output_type": "display_data",
          "data": {
            "text/plain": [
              "('172.28.0.12', '18.154.101.83', '38540', '443')"
            ]
          },
          "metadata": {}
        },
        {
          "output_type": "display_data",
          "data": {
            "text/plain": [
              "{'direction': 'downlink',\n",
              " 'num_packets': 57,\n",
              " 'total_bytes': 3802.0,\n",
              " 'min_pkt_size': 52.0,\n",
              " 'max_pkt_size': 569.0,\n",
              " 'mean_pkt_size': 66.70175438596492,\n",
              " 'std_pkt_size': 69.50127565948513,\n",
              " 'min_iat': 1.2e-05,\n",
              " 'max_iat': 0.055618,\n",
              " 'mean_iat': 0.002568892857142857,\n",
              " 'std_iat': 0.007654232135773756,\n",
              " 'dur': 0.14385799999999999,\n",
              " 'dport': '443',\n",
              " 'sport': '38540'}"
            ]
          },
          "metadata": {}
        },
        {
          "output_type": "display_data",
          "data": {
            "text/plain": [
              "('172.28.0.12', '18.154.101.83', '38542', '443')"
            ]
          },
          "metadata": {}
        },
        {
          "output_type": "display_data",
          "data": {
            "text/plain": [
              "{'direction': 'downlink',\n",
              " 'num_packets': 62,\n",
              " 'total_bytes': 4062.0,\n",
              " 'min_pkt_size': 52.0,\n",
              " 'max_pkt_size': 569.0,\n",
              " 'mean_pkt_size': 65.51612903225806,\n",
              " 'std_pkt_size': 66.71415460091077,\n",
              " 'min_iat': 9e-06,\n",
              " 'max_iat': 0.089143,\n",
              " 'mean_iat': 0.0029830000000000004,\n",
              " 'std_iat': 0.011525656131720513,\n",
              " 'dur': 0.181963,\n",
              " 'dport': '443',\n",
              " 'sport': '38542'}"
            ]
          },
          "metadata": {}
        },
        {
          "output_type": "display_data",
          "data": {
            "text/plain": [
              "('172.28.0.12', '18.154.101.83', '41112', '443')"
            ]
          },
          "metadata": {}
        },
        {
          "output_type": "display_data",
          "data": {
            "text/plain": [
              "{'direction': 'downlink',\n",
              " 'num_packets': 58,\n",
              " 'total_bytes': 3854.0,\n",
              " 'min_pkt_size': 52.0,\n",
              " 'max_pkt_size': 569.0,\n",
              " 'mean_pkt_size': 66.44827586206897,\n",
              " 'std_pkt_size': 68.91596011359563,\n",
              " 'min_iat': 1.1e-05,\n",
              " 'max_iat': 0.056032,\n",
              " 'mean_iat': 0.0024687894736842102,\n",
              " 'std_iat': 0.007644254555212512,\n",
              " 'dur': 0.14072099999999998,\n",
              " 'dport': '443',\n",
              " 'sport': '41112'}"
            ]
          },
          "metadata": {}
        },
        {
          "output_type": "display_data",
          "data": {
            "text/plain": [
              "('172.28.0.12', '18.154.101.83', '41124', '443')"
            ]
          },
          "metadata": {}
        },
        {
          "output_type": "display_data",
          "data": {
            "text/plain": [
              "{'direction': 'downlink',\n",
              " 'num_packets': 59,\n",
              " 'total_bytes': 3906.0,\n",
              " 'min_pkt_size': 52.0,\n",
              " 'max_pkt_size': 569.0,\n",
              " 'mean_pkt_size': 66.20338983050847,\n",
              " 'std_pkt_size': 68.34516345449234,\n",
              " 'min_iat': 1.2e-05,\n",
              " 'max_iat': 0.054627,\n",
              " 'mean_iat': 0.0023624827586206892,\n",
              " 'std_iat': 0.007410764828396782,\n",
              " 'dur': 0.13702399999999998,\n",
              " 'dport': '443',\n",
              " 'sport': '41124'}"
            ]
          },
          "metadata": {}
        },
        {
          "output_type": "display_data",
          "data": {
            "text/plain": [
              "('172.28.0.12', '18.154.101.83', '41132', '443')"
            ]
          },
          "metadata": {}
        },
        {
          "output_type": "display_data",
          "data": {
            "text/plain": [
              "{'direction': 'downlink',\n",
              " 'num_packets': 58,\n",
              " 'total_bytes': 3854.0,\n",
              " 'min_pkt_size': 52.0,\n",
              " 'max_pkt_size': 569.0,\n",
              " 'mean_pkt_size': 66.44827586206897,\n",
              " 'std_pkt_size': 68.91596011359563,\n",
              " 'min_iat': 1.2e-05,\n",
              " 'max_iat': 0.055309,\n",
              " 'mean_iat': 0.0025948947368421046,\n",
              " 'std_iat': 0.007621098935765222,\n",
              " 'dur': 0.14790899999999996,\n",
              " 'dport': '443',\n",
              " 'sport': '41132'}"
            ]
          },
          "metadata": {}
        },
        {
          "output_type": "display_data",
          "data": {
            "text/plain": [
              "('172.28.0.12', '184.24.54.28', '37610', '443')"
            ]
          },
          "metadata": {}
        },
        {
          "output_type": "display_data",
          "data": {
            "text/plain": [
              "{'direction': 'downlink',\n",
              " 'num_packets': 261,\n",
              " 'total_bytes': 14489.0,\n",
              " 'min_pkt_size': 40.0,\n",
              " 'max_pkt_size': 569.0,\n",
              " 'mean_pkt_size': 55.513409961685824,\n",
              " 'std_pkt_size': 33.009742330288695,\n",
              " 'min_iat': 4e-06,\n",
              " 'max_iat': 9.00011,\n",
              " 'mean_iat': 0.03645961538461538,\n",
              " 'std_iat': 0.5580788408949533,\n",
              " 'dur': 9.4795,\n",
              " 'dport': '443',\n",
              " 'sport': '37610'}"
            ]
          },
          "metadata": {}
        },
        {
          "output_type": "display_data",
          "data": {
            "text/plain": [
              "('172.28.0.12', '184.24.54.28', '47930', '443')"
            ]
          },
          "metadata": {}
        },
        {
          "output_type": "display_data",
          "data": {
            "text/plain": [
              "{'direction': 'downlink',\n",
              " 'num_packets': 256,\n",
              " 'total_bytes': 14133.0,\n",
              " 'min_pkt_size': 40.0,\n",
              " 'max_pkt_size': 569.0,\n",
              " 'mean_pkt_size': 55.20703125,\n",
              " 'std_pkt_size': 33.332550618874095,\n",
              " 'min_iat': 4e-06,\n",
              " 'max_iat': 10.008222,\n",
              " 'mean_iat': 0.041170294117647055,\n",
              " 'std_iat': 0.6266468409840735,\n",
              " 'dur': 10.498425,\n",
              " 'dport': '443',\n",
              " 'sport': '47930'}"
            ]
          },
          "metadata": {}
        },
        {
          "output_type": "display_data",
          "data": {
            "text/plain": [
              "('172.28.0.12', '184.24.54.28', '53794', '443')"
            ]
          },
          "metadata": {}
        },
        {
          "output_type": "display_data",
          "data": {
            "text/plain": [
              "{'direction': 'downlink',\n",
              " 'num_packets': 265,\n",
              " 'total_bytes': 14601.0,\n",
              " 'min_pkt_size': 40.0,\n",
              " 'max_pkt_size': 569.0,\n",
              " 'mean_pkt_size': 55.09811320754717,\n",
              " 'std_pkt_size': 32.764624831759086,\n",
              " 'min_iat': 5e-06,\n",
              " 'max_iat': 10.002545,\n",
              " 'mean_iat': 0.03986542803030303,\n",
              " 'std_iat': 0.6155237424258085,\n",
              " 'dur': 10.524473,\n",
              " 'dport': '443',\n",
              " 'sport': '53794'}"
            ]
          },
          "metadata": {}
        },
        {
          "output_type": "display_data",
          "data": {
            "text/plain": [
              "('172.28.0.12', '184.24.54.28', '55772', '443')"
            ]
          },
          "metadata": {}
        },
        {
          "output_type": "display_data",
          "data": {
            "text/plain": [
              "{'direction': 'downlink',\n",
              " 'num_packets': 254,\n",
              " 'total_bytes': 14137.0,\n",
              " 'min_pkt_size': 40.0,\n",
              " 'max_pkt_size': 569.0,\n",
              " 'mean_pkt_size': 55.65748031496063,\n",
              " 'std_pkt_size': 33.461393055977894,\n",
              " 'min_iat': 4e-06,\n",
              " 'max_iat': 10.020424,\n",
              " 'mean_iat': 0.041470667984189725,\n",
              " 'std_iat': 0.6298896596027251,\n",
              " 'dur': 10.492079,\n",
              " 'dport': '443',\n",
              " 'sport': '55772'}"
            ]
          },
          "metadata": {}
        },
        {
          "output_type": "display_data",
          "data": {
            "text/plain": [
              "('172.28.0.12', '184.24.57.145', '34452', '443')"
            ]
          },
          "metadata": {}
        },
        {
          "output_type": "display_data",
          "data": {
            "text/plain": [
              "{'direction': 'downlink',\n",
              " 'num_packets': 14,\n",
              " 'total_bytes': 1439.0,\n",
              " 'min_pkt_size': 40.0,\n",
              " 'max_pkt_size': 569.0,\n",
              " 'mean_pkt_size': 102.78571428571429,\n",
              " 'std_pkt_size': 138.6041283497876,\n",
              " 'min_iat': 6e-06,\n",
              " 'max_iat': 0.054559,\n",
              " 'mean_iat': 0.018807615384615388,\n",
              " 'std_iat': 0.020459389761746976,\n",
              " 'dur': 0.24449900000000002,\n",
              " 'dport': '443',\n",
              " 'sport': '34452'}"
            ]
          },
          "metadata": {}
        },
        {
          "output_type": "display_data",
          "data": {
            "text/plain": [
              "('172.28.0.12', '184.24.57.145', '34458', '443')"
            ]
          },
          "metadata": {}
        },
        {
          "output_type": "display_data",
          "data": {
            "text/plain": [
              "{'direction': 'downlink',\n",
              " 'num_packets': 15,\n",
              " 'total_bytes': 1479.0,\n",
              " 'min_pkt_size': 40.0,\n",
              " 'max_pkt_size': 569.0,\n",
              " 'mean_pkt_size': 98.6,\n",
              " 'std_pkt_size': 134.54250523267996,\n",
              " 'min_iat': 6e-06,\n",
              " 'max_iat': 0.055868,\n",
              " 'mean_iat': 0.017461285714285717,\n",
              " 'std_iat': 0.020435484069208077,\n",
              " 'dur': 0.24445800000000004,\n",
              " 'dport': '443',\n",
              " 'sport': '34458'}"
            ]
          },
          "metadata": {}
        },
        {
          "output_type": "display_data",
          "data": {
            "text/plain": [
              "('172.28.0.12', '184.24.57.145', '34472', '443')"
            ]
          },
          "metadata": {}
        },
        {
          "output_type": "display_data",
          "data": {
            "text/plain": [
              "{'direction': 'downlink',\n",
              " 'num_packets': 15,\n",
              " 'total_bytes': 1479.0,\n",
              " 'min_pkt_size': 40.0,\n",
              " 'max_pkt_size': 569.0,\n",
              " 'mean_pkt_size': 98.6,\n",
              " 'std_pkt_size': 134.54250523267996,\n",
              " 'min_iat': 8e-06,\n",
              " 'max_iat': 0.054752,\n",
              " 'mean_iat': 0.017421571428571432,\n",
              " 'std_iat': 0.020178474851699258,\n",
              " 'dur': 0.24390200000000004,\n",
              " 'dport': '443',\n",
              " 'sport': '34472'}"
            ]
          },
          "metadata": {}
        },
        {
          "output_type": "display_data",
          "data": {
            "text/plain": [
              "('172.28.0.12', '184.24.57.145', '34480', '443')"
            ]
          },
          "metadata": {}
        },
        {
          "output_type": "display_data",
          "data": {
            "text/plain": [
              "{'direction': 'downlink',\n",
              " 'num_packets': 14,\n",
              " 'total_bytes': 1439.0,\n",
              " 'min_pkt_size': 40.0,\n",
              " 'max_pkt_size': 569.0,\n",
              " 'mean_pkt_size': 102.78571428571429,\n",
              " 'std_pkt_size': 138.6041283497876,\n",
              " 'min_iat': 6e-06,\n",
              " 'max_iat': 0.065192,\n",
              " 'mean_iat': 0.019943615384615383,\n",
              " 'std_iat': 0.022529527138618416,\n",
              " 'dur': 0.25926699999999997,\n",
              " 'dport': '443',\n",
              " 'sport': '34480'}"
            ]
          },
          "metadata": {}
        },
        {
          "output_type": "display_data",
          "data": {
            "text/plain": [
              "('172.28.0.12', '184.24.57.145', '34496', '443')"
            ]
          },
          "metadata": {}
        },
        {
          "output_type": "display_data",
          "data": {
            "text/plain": [
              "{'direction': 'downlink',\n",
              " 'num_packets': 14,\n",
              " 'total_bytes': 1439.0,\n",
              " 'min_pkt_size': 40.0,\n",
              " 'max_pkt_size': 569.0,\n",
              " 'mean_pkt_size': 102.78571428571429,\n",
              " 'std_pkt_size': 138.6041283497876,\n",
              " 'min_iat': 5e-06,\n",
              " 'max_iat': 0.054484,\n",
              " 'mean_iat': 0.019146846153846153,\n",
              " 'std_iat': 0.02095441483254445,\n",
              " 'dur': 0.248909,\n",
              " 'dport': '443',\n",
              " 'sport': '34496'}"
            ]
          },
          "metadata": {}
        },
        {
          "output_type": "display_data",
          "data": {
            "text/plain": [
              "('172.28.0.12', '184.24.57.145', '34498', '443')"
            ]
          },
          "metadata": {}
        },
        {
          "output_type": "display_data",
          "data": {
            "text/plain": [
              "{'direction': 'downlink',\n",
              " 'num_packets': 15,\n",
              " 'total_bytes': 1479.0,\n",
              " 'min_pkt_size': 40.0,\n",
              " 'max_pkt_size': 569.0,\n",
              " 'mean_pkt_size': 98.6,\n",
              " 'std_pkt_size': 134.54250523267996,\n",
              " 'min_iat': 7e-06,\n",
              " 'max_iat': 0.055087,\n",
              " 'mean_iat': 0.01727642857142857,\n",
              " 'std_iat': 0.02012116976533111,\n",
              " 'dur': 0.24187,\n",
              " 'dport': '443',\n",
              " 'sport': '34498'}"
            ]
          },
          "metadata": {}
        },
        {
          "output_type": "display_data",
          "data": {
            "text/plain": [
              "('172.28.0.12', '184.24.57.145', '34506', '443')"
            ]
          },
          "metadata": {}
        },
        {
          "output_type": "display_data",
          "data": {
            "text/plain": [
              "{'direction': 'downlink',\n",
              " 'num_packets': 15,\n",
              " 'total_bytes': 1479.0,\n",
              " 'min_pkt_size': 40.0,\n",
              " 'max_pkt_size': 569.0,\n",
              " 'mean_pkt_size': 98.6,\n",
              " 'std_pkt_size': 134.54250523267996,\n",
              " 'min_iat': 1.1e-05,\n",
              " 'max_iat': 0.093618,\n",
              " 'mean_iat': 0.02003428571428571,\n",
              " 'std_iat': 0.02703540996951554,\n",
              " 'dur': 0.28047999999999995,\n",
              " 'dport': '443',\n",
              " 'sport': '34506'}"
            ]
          },
          "metadata": {}
        },
        {
          "output_type": "display_data",
          "data": {
            "text/plain": [
              "('172.28.0.12', '184.24.57.145', '34510', '443')"
            ]
          },
          "metadata": {}
        },
        {
          "output_type": "display_data",
          "data": {
            "text/plain": [
              "{'direction': 'downlink',\n",
              " 'num_packets': 15,\n",
              " 'total_bytes': 1479.0,\n",
              " 'min_pkt_size': 40.0,\n",
              " 'max_pkt_size': 569.0,\n",
              " 'mean_pkt_size': 98.6,\n",
              " 'std_pkt_size': 134.54250523267996,\n",
              " 'min_iat': 0.000103,\n",
              " 'max_iat': 0.054428,\n",
              " 'mean_iat': 0.01739207142857143,\n",
              " 'std_iat': 0.020245709594738964,\n",
              " 'dur': 0.243489,\n",
              " 'dport': '443',\n",
              " 'sport': '34510'}"
            ]
          },
          "metadata": {}
        },
        {
          "output_type": "display_data",
          "data": {
            "text/plain": [
              "('172.28.0.12', '184.24.57.145', '54166', '443')"
            ]
          },
          "metadata": {}
        },
        {
          "output_type": "display_data",
          "data": {
            "text/plain": [
              "{'direction': 'downlink',\n",
              " 'num_packets': 15,\n",
              " 'total_bytes': 1479.0,\n",
              " 'min_pkt_size': 40.0,\n",
              " 'max_pkt_size': 569.0,\n",
              " 'mean_pkt_size': 98.6,\n",
              " 'std_pkt_size': 134.54250523267996,\n",
              " 'min_iat': 8e-06,\n",
              " 'max_iat': 0.182311,\n",
              " 'mean_iat': 0.027811285714285715,\n",
              " 'std_iat': 0.04848912979917581,\n",
              " 'dur': 0.38935800000000004,\n",
              " 'dport': '443',\n",
              " 'sport': '54166'}"
            ]
          },
          "metadata": {}
        },
        {
          "output_type": "display_data",
          "data": {
            "text/plain": [
              "('172.28.0.12', '184.24.57.145', '54170', '443')"
            ]
          },
          "metadata": {}
        },
        {
          "output_type": "display_data",
          "data": {
            "text/plain": [
              "{'direction': 'downlink',\n",
              " 'num_packets': 14,\n",
              " 'total_bytes': 1439.0,\n",
              " 'min_pkt_size': 40.0,\n",
              " 'max_pkt_size': 569.0,\n",
              " 'mean_pkt_size': 102.78571428571429,\n",
              " 'std_pkt_size': 138.6041283497876,\n",
              " 'min_iat': 6e-06,\n",
              " 'max_iat': 0.056767,\n",
              " 'mean_iat': 0.019108,\n",
              " 'std_iat': 0.021127345751418943,\n",
              " 'dur': 0.24840399999999999,\n",
              " 'dport': '443',\n",
              " 'sport': '54170'}"
            ]
          },
          "metadata": {}
        },
        {
          "output_type": "display_data",
          "data": {
            "text/plain": [
              "('172.28.0.12', '192.0.66.32', '38300', '443')"
            ]
          },
          "metadata": {}
        },
        {
          "output_type": "display_data",
          "data": {
            "text/plain": [
              "{'direction': 'downlink',\n",
              " 'num_packets': 15,\n",
              " 'total_bytes': 1464.0,\n",
              " 'min_pkt_size': 40.0,\n",
              " 'max_pkt_size': 557.0,\n",
              " 'mean_pkt_size': 97.6,\n",
              " 'std_pkt_size': 129.68246935165467,\n",
              " 'min_iat': 8e-06,\n",
              " 'max_iat': 0.056054,\n",
              " 'mean_iat': 0.00844142857142857,\n",
              " 'std_iat': 0.015216753791661475,\n",
              " 'dur': 0.11818,\n",
              " 'dport': '443',\n",
              " 'sport': '38300'}"
            ]
          },
          "metadata": {}
        },
        {
          "output_type": "display_data",
          "data": {
            "text/plain": [
              "('172.28.0.12', '192.0.66.32', '38312', '443')"
            ]
          },
          "metadata": {}
        },
        {
          "output_type": "display_data",
          "data": {
            "text/plain": [
              "{'direction': 'downlink',\n",
              " 'num_packets': 16,\n",
              " 'total_bytes': 1504.0,\n",
              " 'min_pkt_size': 40.0,\n",
              " 'max_pkt_size': 557.0,\n",
              " 'mean_pkt_size': 94.0,\n",
              " 'std_pkt_size': 126.11000488991083,\n",
              " 'min_iat': 7e-06,\n",
              " 'max_iat': 0.054788,\n",
              " 'mean_iat': 0.007894466666666669,\n",
              " 'std_iat': 0.014581037984150448,\n",
              " 'dur': 0.11841700000000004,\n",
              " 'dport': '443',\n",
              " 'sport': '38312'}"
            ]
          },
          "metadata": {}
        },
        {
          "output_type": "display_data",
          "data": {
            "text/plain": [
              "('172.28.0.12', '192.0.66.32', '38324', '443')"
            ]
          },
          "metadata": {}
        },
        {
          "output_type": "display_data",
          "data": {
            "text/plain": [
              "{'direction': 'downlink',\n",
              " 'num_packets': 16,\n",
              " 'total_bytes': 1504.0,\n",
              " 'min_pkt_size': 40.0,\n",
              " 'max_pkt_size': 557.0,\n",
              " 'mean_pkt_size': 94.0,\n",
              " 'std_pkt_size': 126.11000488991083,\n",
              " 'min_iat': 6e-06,\n",
              " 'max_iat': 0.054719,\n",
              " 'mean_iat': 0.007863266666666667,\n",
              " 'std_iat': 0.014554034489577435,\n",
              " 'dur': 0.117949,\n",
              " 'dport': '443',\n",
              " 'sport': '38324'}"
            ]
          },
          "metadata": {}
        },
        {
          "output_type": "display_data",
          "data": {
            "text/plain": [
              "('172.28.0.12', '192.0.66.32', '38340', '443')"
            ]
          },
          "metadata": {}
        },
        {
          "output_type": "display_data",
          "data": {
            "text/plain": [
              "{'direction': 'downlink',\n",
              " 'num_packets': 16,\n",
              " 'total_bytes': 1504.0,\n",
              " 'min_pkt_size': 40.0,\n",
              " 'max_pkt_size': 557.0,\n",
              " 'mean_pkt_size': 94.0,\n",
              " 'std_pkt_size': 126.11000488991083,\n",
              " 'min_iat': 3e-06,\n",
              " 'max_iat': 0.065478,\n",
              " 'mean_iat': 0.008612666666666668,\n",
              " 'std_iat': 0.01707321398593492,\n",
              " 'dur': 0.12919000000000003,\n",
              " 'dport': '443',\n",
              " 'sport': '38340'}"
            ]
          },
          "metadata": {}
        },
        {
          "output_type": "display_data",
          "data": {
            "text/plain": [
              "('172.28.0.12', '192.0.66.32', '38352', '443')"
            ]
          },
          "metadata": {}
        },
        {
          "output_type": "display_data",
          "data": {
            "text/plain": [
              "{'direction': 'downlink',\n",
              " 'num_packets': 15,\n",
              " 'total_bytes': 1464.0,\n",
              " 'min_pkt_size': 40.0,\n",
              " 'max_pkt_size': 557.0,\n",
              " 'mean_pkt_size': 97.6,\n",
              " 'std_pkt_size': 129.68246935165467,\n",
              " 'min_iat': 5e-06,\n",
              " 'max_iat': 0.056199,\n",
              " 'mean_iat': 0.008823285714285716,\n",
              " 'std_iat': 0.0154046455851602,\n",
              " 'dur': 0.12352600000000001,\n",
              " 'dport': '443',\n",
              " 'sport': '38352'}"
            ]
          },
          "metadata": {}
        },
        {
          "output_type": "display_data",
          "data": {
            "text/plain": [
              "('172.28.0.12', '192.0.66.32', '38368', '443')"
            ]
          },
          "metadata": {}
        },
        {
          "output_type": "display_data",
          "data": {
            "text/plain": [
              "{'direction': 'downlink',\n",
              " 'num_packets': 16,\n",
              " 'total_bytes': 1504.0,\n",
              " 'min_pkt_size': 40.0,\n",
              " 'max_pkt_size': 557.0,\n",
              " 'mean_pkt_size': 94.0,\n",
              " 'std_pkt_size': 126.11000488991083,\n",
              " 'min_iat': 7e-06,\n",
              " 'max_iat': 0.056138,\n",
              " 'mean_iat': 0.008202733333333333,\n",
              " 'std_iat': 0.01501290540771347,\n",
              " 'dur': 0.123041,\n",
              " 'dport': '443',\n",
              " 'sport': '38368'}"
            ]
          },
          "metadata": {}
        },
        {
          "output_type": "display_data",
          "data": {
            "text/plain": [
              "('172.28.0.12', '192.0.66.32', '38382', '443')"
            ]
          },
          "metadata": {}
        },
        {
          "output_type": "display_data",
          "data": {
            "text/plain": [
              "{'direction': 'downlink',\n",
              " 'num_packets': 16,\n",
              " 'total_bytes': 1504.0,\n",
              " 'min_pkt_size': 40.0,\n",
              " 'max_pkt_size': 557.0,\n",
              " 'mean_pkt_size': 94.0,\n",
              " 'std_pkt_size': 126.11000488991083,\n",
              " 'min_iat': 5e-06,\n",
              " 'max_iat': 0.054042,\n",
              " 'mean_iat': 0.007983599999999999,\n",
              " 'std_iat': 0.014490536570958498,\n",
              " 'dur': 0.11975399999999999,\n",
              " 'dport': '443',\n",
              " 'sport': '38382'}"
            ]
          },
          "metadata": {}
        },
        {
          "output_type": "display_data",
          "data": {
            "text/plain": [
              "('172.28.0.12', '192.0.66.32', '38386', '443')"
            ]
          },
          "metadata": {}
        },
        {
          "output_type": "display_data",
          "data": {
            "text/plain": [
              "{'direction': 'downlink',\n",
              " 'num_packets': 16,\n",
              " 'total_bytes': 1504.0,\n",
              " 'min_pkt_size': 40.0,\n",
              " 'max_pkt_size': 557.0,\n",
              " 'mean_pkt_size': 94.0,\n",
              " 'std_pkt_size': 126.11000488991083,\n",
              " 'min_iat': 6e-06,\n",
              " 'max_iat': 0.092449,\n",
              " 'mean_iat': 0.010504733333333337,\n",
              " 'std_iat': 0.023648011406780873,\n",
              " 'dur': 0.15757100000000004,\n",
              " 'dport': '443',\n",
              " 'sport': '38386'}"
            ]
          },
          "metadata": {}
        },
        {
          "output_type": "display_data",
          "data": {
            "text/plain": [
              "('172.28.0.12', '192.0.66.32', '55264', '443')"
            ]
          },
          "metadata": {}
        },
        {
          "output_type": "display_data",
          "data": {
            "text/plain": [
              "{'direction': 'downlink',\n",
              " 'num_packets': 16,\n",
              " 'total_bytes': 1504.0,\n",
              " 'min_pkt_size': 40.0,\n",
              " 'max_pkt_size': 557.0,\n",
              " 'mean_pkt_size': 94.0,\n",
              " 'std_pkt_size': 126.11000488991083,\n",
              " 'min_iat': 4e-06,\n",
              " 'max_iat': 0.054202,\n",
              " 'mean_iat': 0.008254133333333333,\n",
              " 'std_iat': 0.014659292576318107,\n",
              " 'dur': 0.123812,\n",
              " 'dport': '443',\n",
              " 'sport': '55264'}"
            ]
          },
          "metadata": {}
        },
        {
          "output_type": "display_data",
          "data": {
            "text/plain": [
              "('172.28.0.12', '192.0.66.32', '55268', '443')"
            ]
          },
          "metadata": {}
        },
        {
          "output_type": "display_data",
          "data": {
            "text/plain": [
              "{'direction': 'downlink',\n",
              " 'num_packets': 15,\n",
              " 'total_bytes': 1464.0,\n",
              " 'min_pkt_size': 40.0,\n",
              " 'max_pkt_size': 557.0,\n",
              " 'mean_pkt_size': 97.6,\n",
              " 'std_pkt_size': 129.68246935165467,\n",
              " 'min_iat': 8e-06,\n",
              " 'max_iat': 0.055761,\n",
              " 'mean_iat': 0.008383714285714286,\n",
              " 'std_iat': 0.01514018357488834,\n",
              " 'dur': 0.117372,\n",
              " 'dport': '443',\n",
              " 'sport': '55268'}"
            ]
          },
          "metadata": {}
        },
        {
          "output_type": "display_data",
          "data": {
            "text/plain": [
              "('172.28.0.12', '23.205.196.91', '34554', '443')"
            ]
          },
          "metadata": {}
        },
        {
          "output_type": "display_data",
          "data": {
            "text/plain": [
              "{'direction': 'downlink',\n",
              " 'num_packets': 16,\n",
              " 'total_bytes': 1750.0,\n",
              " 'min_pkt_size': 40.0,\n",
              " 'max_pkt_size': 569.0,\n",
              " 'mean_pkt_size': 109.375,\n",
              " 'std_pkt_size': 128.06294025465237,\n",
              " 'min_iat': 1.2e-05,\n",
              " 'max_iat': 0.058563,\n",
              " 'mean_iat': 0.011104,\n",
              " 'std_iat': 0.016532207898523416,\n",
              " 'dur': 0.16655999999999999,\n",
              " 'dport': '443',\n",
              " 'sport': '34554'}"
            ]
          },
          "metadata": {}
        },
        {
          "output_type": "display_data",
          "data": {
            "text/plain": [
              "('172.28.0.12', '23.205.196.91', '34558', '443')"
            ]
          },
          "metadata": {}
        },
        {
          "output_type": "display_data",
          "data": {
            "text/plain": [
              "{'direction': 'downlink',\n",
              " 'num_packets': 17,\n",
              " 'total_bytes': 1790.0,\n",
              " 'min_pkt_size': 40.0,\n",
              " 'max_pkt_size': 569.0,\n",
              " 'mean_pkt_size': 105.29411764705883,\n",
              " 'std_pkt_size': 125.13281179704744,\n",
              " 'min_iat': 4e-06,\n",
              " 'max_iat': 0.054599,\n",
              " 'mean_iat': 0.008913375000000001,\n",
              " 'std_iat': 0.014342773366751636,\n",
              " 'dur': 0.14261400000000002,\n",
              " 'dport': '443',\n",
              " 'sport': '34558'}"
            ]
          },
          "metadata": {}
        },
        {
          "output_type": "display_data",
          "data": {
            "text/plain": [
              "('172.28.0.12', '23.205.196.91', '34560', '443')"
            ]
          },
          "metadata": {}
        },
        {
          "output_type": "display_data",
          "data": {
            "text/plain": [
              "{'direction': 'downlink',\n",
              " 'num_packets': 16,\n",
              " 'total_bytes': 1750.0,\n",
              " 'min_pkt_size': 40.0,\n",
              " 'max_pkt_size': 569.0,\n",
              " 'mean_pkt_size': 109.375,\n",
              " 'std_pkt_size': 128.06294025465237,\n",
              " 'min_iat': 5e-06,\n",
              " 'max_iat': 0.07921,\n",
              " 'mean_iat': 0.013876866666666666,\n",
              " 'std_iat': 0.023276997602988316,\n",
              " 'dur': 0.208153,\n",
              " 'dport': '443',\n",
              " 'sport': '34560'}"
            ]
          },
          "metadata": {}
        },
        {
          "output_type": "display_data",
          "data": {
            "text/plain": [
              "('172.28.0.12', '23.205.196.91', '34574', '443')"
            ]
          },
          "metadata": {}
        },
        {
          "output_type": "display_data",
          "data": {
            "text/plain": [
              "{'direction': 'downlink',\n",
              " 'num_packets': 17,\n",
              " 'total_bytes': 1790.0,\n",
              " 'min_pkt_size': 40.0,\n",
              " 'max_pkt_size': 569.0,\n",
              " 'mean_pkt_size': 105.29411764705883,\n",
              " 'std_pkt_size': 125.13281179704744,\n",
              " 'min_iat': 4e-06,\n",
              " 'max_iat': 0.056001,\n",
              " 'mean_iat': 0.008788875,\n",
              " 'std_iat': 0.014558931974908047,\n",
              " 'dur': 0.140622,\n",
              " 'dport': '443',\n",
              " 'sport': '34574'}"
            ]
          },
          "metadata": {}
        },
        {
          "output_type": "display_data",
          "data": {
            "text/plain": [
              "('172.28.0.12', '23.205.196.91', '34582', '443')"
            ]
          },
          "metadata": {}
        },
        {
          "output_type": "display_data",
          "data": {
            "text/plain": [
              "{'direction': 'downlink',\n",
              " 'num_packets': 17,\n",
              " 'total_bytes': 1790.0,\n",
              " 'min_pkt_size': 40.0,\n",
              " 'max_pkt_size': 569.0,\n",
              " 'mean_pkt_size': 105.29411764705883,\n",
              " 'std_pkt_size': 125.13281179704744,\n",
              " 'min_iat': 5e-06,\n",
              " 'max_iat': 0.05564,\n",
              " 'mean_iat': 0.00902975,\n",
              " 'std_iat': 0.014563902167116248,\n",
              " 'dur': 0.144476,\n",
              " 'dport': '443',\n",
              " 'sport': '34582'}"
            ]
          },
          "metadata": {}
        },
        {
          "output_type": "display_data",
          "data": {
            "text/plain": [
              "('172.28.0.12', '23.205.196.91', '34584', '443')"
            ]
          },
          "metadata": {}
        },
        {
          "output_type": "display_data",
          "data": {
            "text/plain": [
              "{'direction': 'downlink',\n",
              " 'num_packets': 18,\n",
              " 'total_bytes': 1842.0,\n",
              " 'min_pkt_size': 40.0,\n",
              " 'max_pkt_size': 569.0,\n",
              " 'mean_pkt_size': 102.33333333333333,\n",
              " 'std_pkt_size': 122.04483264960703,\n",
              " 'min_iat': 4e-06,\n",
              " 'max_iat': 0.057585,\n",
              " 'mean_iat': 0.008365882352941176,\n",
              " 'std_iat': 0.014360890305280314,\n",
              " 'dur': 0.14221999999999999,\n",
              " 'dport': '443',\n",
              " 'sport': '34584'}"
            ]
          },
          "metadata": {}
        },
        {
          "output_type": "display_data",
          "data": {
            "text/plain": [
              "('172.28.0.12', '23.205.196.91', '34600', '443')"
            ]
          },
          "metadata": {}
        },
        {
          "output_type": "display_data",
          "data": {
            "text/plain": [
              "{'direction': 'downlink',\n",
              " 'num_packets': 17,\n",
              " 'total_bytes': 1802.0,\n",
              " 'min_pkt_size': 40.0,\n",
              " 'max_pkt_size': 569.0,\n",
              " 'mean_pkt_size': 106.0,\n",
              " 'std_pkt_size': 124.7747971346778,\n",
              " 'min_iat': 5e-06,\n",
              " 'max_iat': 0.088518,\n",
              " 'mean_iat': 0.0131583125,\n",
              " 'std_iat': 0.023329525983807872,\n",
              " 'dur': 0.210533,\n",
              " 'dport': '443',\n",
              " 'sport': '34600'}"
            ]
          },
          "metadata": {}
        },
        {
          "output_type": "display_data",
          "data": {
            "text/plain": [
              "('172.28.0.12', '23.205.196.91', '44920', '443')"
            ]
          },
          "metadata": {}
        },
        {
          "output_type": "display_data",
          "data": {
            "text/plain": [
              "{'direction': 'downlink',\n",
              " 'num_packets': 16,\n",
              " 'total_bytes': 1750.0,\n",
              " 'min_pkt_size': 40.0,\n",
              " 'max_pkt_size': 569.0,\n",
              " 'mean_pkt_size': 109.375,\n",
              " 'std_pkt_size': 128.06294025465237,\n",
              " 'min_iat': 5e-06,\n",
              " 'max_iat': 0.054745,\n",
              " 'mean_iat': 0.010151066666666668,\n",
              " 'std_iat': 0.015170736692097469,\n",
              " 'dur': 0.152266,\n",
              " 'dport': '443',\n",
              " 'sport': '44920'}"
            ]
          },
          "metadata": {}
        },
        {
          "output_type": "display_data",
          "data": {
            "text/plain": [
              "('172.28.0.12', '23.205.196.91', '44932', '443')"
            ]
          },
          "metadata": {}
        },
        {
          "output_type": "display_data",
          "data": {
            "text/plain": [
              "{'direction': 'downlink',\n",
              " 'num_packets': 16,\n",
              " 'total_bytes': 1750.0,\n",
              " 'min_pkt_size': 40.0,\n",
              " 'max_pkt_size': 569.0,\n",
              " 'mean_pkt_size': 109.375,\n",
              " 'std_pkt_size': 128.06294025465237,\n",
              " 'min_iat': 4e-06,\n",
              " 'max_iat': 0.057874,\n",
              " 'mean_iat': 0.012190266666666666,\n",
              " 'std_iat': 0.018345002302949928,\n",
              " 'dur': 0.182854,\n",
              " 'dport': '443',\n",
              " 'sport': '44932'}"
            ]
          },
          "metadata": {}
        },
        {
          "output_type": "display_data",
          "data": {
            "text/plain": [
              "('172.28.0.12', '23.205.196.91', '44934', '443')"
            ]
          },
          "metadata": {}
        },
        {
          "output_type": "display_data",
          "data": {
            "text/plain": [
              "{'direction': 'downlink',\n",
              " 'num_packets': 17,\n",
              " 'total_bytes': 1873.0,\n",
              " 'min_pkt_size': 40.0,\n",
              " 'max_pkt_size': 569.0,\n",
              " 'mean_pkt_size': 110.17647058823529,\n",
              " 'std_pkt_size': 124.04043458390778,\n",
              " 'min_iat': 5e-06,\n",
              " 'max_iat': 0.055159,\n",
              " 'mean_iat': 0.0127934375,\n",
              " 'std_iat': 0.01708861527828299,\n",
              " 'dur': 0.204695,\n",
              " 'dport': '443',\n",
              " 'sport': '44934'}"
            ]
          },
          "metadata": {}
        },
        {
          "output_type": "display_data",
          "data": {
            "text/plain": [
              "('172.28.0.12', '23.222.168.136', '36656', '443')"
            ]
          },
          "metadata": {}
        },
        {
          "output_type": "display_data",
          "data": {
            "text/plain": [
              "{'direction': 'downlink',\n",
              " 'num_packets': 165,\n",
              " 'total_bytes': 9394.0,\n",
              " 'min_pkt_size': 40.0,\n",
              " 'max_pkt_size': 569.0,\n",
              " 'mean_pkt_size': 56.93333333333333,\n",
              " 'std_pkt_size': 41.39696780066663,\n",
              " 'min_iat': 4e-06,\n",
              " 'max_iat': 0.054515,\n",
              " 'mean_iat': 0.001512487804878049,\n",
              " 'std_iat': 0.004919193117395447,\n",
              " 'dur': 0.24804800000000005,\n",
              " 'dport': '443',\n",
              " 'sport': '36656'}"
            ]
          },
          "metadata": {}
        },
        {
          "output_type": "display_data",
          "data": {
            "text/plain": [
              "('172.28.0.12', '23.222.168.136', '36658', '443')"
            ]
          },
          "metadata": {}
        },
        {
          "output_type": "display_data",
          "data": {
            "text/plain": [
              "{'direction': 'downlink',\n",
              " 'num_packets': 175,\n",
              " 'total_bytes': 9914.0,\n",
              " 'min_pkt_size': 40.0,\n",
              " 'max_pkt_size': 569.0,\n",
              " 'mean_pkt_size': 56.651428571428575,\n",
              " 'std_pkt_size': 40.206202496776804,\n",
              " 'min_iat': 8e-06,\n",
              " 'max_iat': 0.089102,\n",
              " 'mean_iat': 0.0020218333333333334,\n",
              " 'std_iat': 0.007429446717808487,\n",
              " 'dur': 0.35179900000000003,\n",
              " 'dport': '443',\n",
              " 'sport': '36658'}"
            ]
          },
          "metadata": {}
        },
        {
          "output_type": "display_data",
          "data": {
            "text/plain": [
              "('172.28.0.12', '23.222.168.136', '36666', '443')"
            ]
          },
          "metadata": {}
        },
        {
          "output_type": "display_data",
          "data": {
            "text/plain": [
              "{'direction': 'downlink',\n",
              " 'num_packets': 171,\n",
              " 'total_bytes': 9706.0,\n",
              " 'min_pkt_size': 40.0,\n",
              " 'max_pkt_size': 569.0,\n",
              " 'mean_pkt_size': 56.760233918128655,\n",
              " 'std_pkt_size': 40.67006194694679,\n",
              " 'min_iat': 5e-06,\n",
              " 'max_iat': 0.089581,\n",
              " 'mean_iat': 0.0016371941176470588,\n",
              " 'std_iat': 0.007223730657151177,\n",
              " 'dur': 0.278323,\n",
              " 'dport': '443',\n",
              " 'sport': '36666'}"
            ]
          },
          "metadata": {}
        },
        {
          "output_type": "display_data",
          "data": {
            "text/plain": [
              "('172.28.0.12', '23.222.168.136', '36680', '443')"
            ]
          },
          "metadata": {}
        },
        {
          "output_type": "display_data",
          "data": {
            "text/plain": [
              "{'direction': 'downlink',\n",
              " 'num_packets': 160,\n",
              " 'total_bytes': 9146.0,\n",
              " 'min_pkt_size': 40.0,\n",
              " 'max_pkt_size': 569.0,\n",
              " 'mean_pkt_size': 57.1625,\n",
              " 'std_pkt_size': 42.01345808639606,\n",
              " 'min_iat': 5e-06,\n",
              " 'max_iat': 0.054354,\n",
              " 'mean_iat': 0.0016200000000000001,\n",
              " 'std_iat': 0.005480890127975264,\n",
              " 'dur': 0.25758000000000003,\n",
              " 'dport': '443',\n",
              " 'sport': '36680'}"
            ]
          },
          "metadata": {}
        },
        {
          "output_type": "display_data",
          "data": {
            "text/plain": [
              "('172.28.0.12', '23.222.168.136', '36696', '443')"
            ]
          },
          "metadata": {}
        },
        {
          "output_type": "display_data",
          "data": {
            "text/plain": [
              "{'direction': 'downlink',\n",
              " 'num_packets': 186,\n",
              " 'total_bytes': 10486.0,\n",
              " 'min_pkt_size': 40.0,\n",
              " 'max_pkt_size': 569.0,\n",
              " 'mean_pkt_size': 56.376344086021504,\n",
              " 'std_pkt_size': 39.008083425208056,\n",
              " 'min_iat': 5e-06,\n",
              " 'max_iat': 0.057586,\n",
              " 'mean_iat': 0.0017886270270270272,\n",
              " 'std_iat': 0.006034670786950542,\n",
              " 'dur': 0.330896,\n",
              " 'dport': '443',\n",
              " 'sport': '36696'}"
            ]
          },
          "metadata": {}
        },
        {
          "output_type": "display_data",
          "data": {
            "text/plain": [
              "('172.28.0.12', '23.222.168.136', '36710', '443')"
            ]
          },
          "metadata": {}
        },
        {
          "output_type": "display_data",
          "data": {
            "text/plain": [
              "{'direction': 'downlink',\n",
              " 'num_packets': 164,\n",
              " 'total_bytes': 9354.0,\n",
              " 'min_pkt_size': 40.0,\n",
              " 'max_pkt_size': 569.0,\n",
              " 'mean_pkt_size': 57.03658536585366,\n",
              " 'std_pkt_size': 41.50244138637482,\n",
              " 'min_iat': 5e-06,\n",
              " 'max_iat': 0.05413,\n",
              " 'mean_iat': 0.0014876441717791412,\n",
              " 'std_iat': 0.005014474102727593,\n",
              " 'dur': 0.242486,\n",
              " 'dport': '443',\n",
              " 'sport': '36710'}"
            ]
          },
          "metadata": {}
        },
        {
          "output_type": "display_data",
          "data": {
            "text/plain": [
              "('172.28.0.12', '23.222.168.136', '40702', '443')"
            ]
          },
          "metadata": {}
        },
        {
          "output_type": "display_data",
          "data": {
            "text/plain": [
              "{'direction': 'downlink',\n",
              " 'num_packets': 179,\n",
              " 'total_bytes': 10122.0,\n",
              " 'min_pkt_size': 40.0,\n",
              " 'max_pkt_size': 569.0,\n",
              " 'mean_pkt_size': 56.547486033519554,\n",
              " 'std_pkt_size': 39.75785883507919,\n",
              " 'min_iat': 5e-06,\n",
              " 'max_iat': 0.0572,\n",
              " 'mean_iat': 0.0016477977528089889,\n",
              " 'std_iat': 0.005536300149801806,\n",
              " 'dur': 0.293308,\n",
              " 'dport': '443',\n",
              " 'sport': '40702'}"
            ]
          },
          "metadata": {}
        },
        {
          "output_type": "display_data",
          "data": {
            "text/plain": [
              "('172.28.0.12', '23.222.168.136', '40704', '443')"
            ]
          },
          "metadata": {}
        },
        {
          "output_type": "display_data",
          "data": {
            "text/plain": [
              "{'direction': 'downlink',\n",
              " 'num_packets': 162,\n",
              " 'total_bytes': 9250.0,\n",
              " 'min_pkt_size': 40.0,\n",
              " 'max_pkt_size': 569.0,\n",
              " 'mean_pkt_size': 57.098765432098766,\n",
              " 'std_pkt_size': 41.755605102460024,\n",
              " 'min_iat': 5e-06,\n",
              " 'max_iat': 0.055783,\n",
              " 'mean_iat': 0.0015051614906832298,\n",
              " 'std_iat': 0.005098807225592841,\n",
              " 'dur': 0.242331,\n",
              " 'dport': '443',\n",
              " 'sport': '40704'}"
            ]
          },
          "metadata": {}
        },
        {
          "output_type": "display_data",
          "data": {
            "text/plain": [
              "('172.28.0.12', '23.222.168.136', '40716', '443')"
            ]
          },
          "metadata": {}
        },
        {
          "output_type": "display_data",
          "data": {
            "text/plain": [
              "{'direction': 'downlink',\n",
              " 'num_packets': 165,\n",
              " 'total_bytes': 9466.0,\n",
              " 'min_pkt_size': 40.0,\n",
              " 'max_pkt_size': 569.0,\n",
              " 'mean_pkt_size': 57.36969696969697,\n",
              " 'std_pkt_size': 41.59638003750671,\n",
              " 'min_iat': 4e-06,\n",
              " 'max_iat': 0.054455,\n",
              " 'mean_iat': 0.0019354390243902437,\n",
              " 'std_iat': 0.0061250829869876995,\n",
              " 'dur': 0.31741199999999997,\n",
              " 'dport': '443',\n",
              " 'sport': '40716'}"
            ]
          },
          "metadata": {}
        },
        {
          "output_type": "display_data",
          "data": {
            "text/plain": [
              "('172.28.0.12', '23.222.168.136', '40726', '443')"
            ]
          },
          "metadata": {}
        },
        {
          "output_type": "display_data",
          "data": {
            "text/plain": [
              "{'direction': 'downlink',\n",
              " 'num_packets': 169,\n",
              " 'total_bytes': 9602.0,\n",
              " 'min_pkt_size': 40.0,\n",
              " 'max_pkt_size': 569.0,\n",
              " 'mean_pkt_size': 56.81656804733728,\n",
              " 'std_pkt_size': 40.90809339016251,\n",
              " 'min_iat': 5e-06,\n",
              " 'max_iat': 0.054719,\n",
              " 'mean_iat': 0.0015017738095238096,\n",
              " 'std_iat': 0.005072976218060809,\n",
              " 'dur': 0.252298,\n",
              " 'dport': '443',\n",
              " 'sport': '40726'}"
            ]
          },
          "metadata": {}
        },
        {
          "output_type": "display_data",
          "data": {
            "text/plain": [
              "('172.28.0.12', '23.47.202.17', '38170', '443')"
            ]
          },
          "metadata": {}
        },
        {
          "output_type": "display_data",
          "data": {
            "text/plain": [
              "{'direction': 'downlink',\n",
              " 'num_packets': 190,\n",
              " 'total_bytes': 10696.0,\n",
              " 'min_pkt_size': 40.0,\n",
              " 'max_pkt_size': 569.0,\n",
              " 'mean_pkt_size': 56.294736842105266,\n",
              " 'std_pkt_size': 38.61377709673599,\n",
              " 'min_iat': 6e-06,\n",
              " 'max_iat': 0.248878,\n",
              " 'mean_iat': 0.003832328042328042,\n",
              " 'std_iat': 0.019450627200911466,\n",
              " 'dur': 0.7243099999999999,\n",
              " 'dport': '443',\n",
              " 'sport': '38170'}"
            ]
          },
          "metadata": {}
        },
        {
          "output_type": "display_data",
          "data": {
            "text/plain": [
              "('172.28.0.12', '23.47.202.17', '38178', '443')"
            ]
          },
          "metadata": {}
        },
        {
          "output_type": "display_data",
          "data": {
            "text/plain": [
              "{'direction': 'downlink',\n",
              " 'num_packets': 188,\n",
              " 'total_bytes': 10592.0,\n",
              " 'min_pkt_size': 40.0,\n",
              " 'max_pkt_size': 569.0,\n",
              " 'mean_pkt_size': 56.340425531914896,\n",
              " 'std_pkt_size': 38.81715073600591,\n",
              " 'min_iat': 5e-06,\n",
              " 'max_iat': 0.067821,\n",
              " 'mean_iat': 0.002599561497326203,\n",
              " 'std_iat': 0.00826679386111481,\n",
              " 'dur': 0.48611799999999994,\n",
              " 'dport': '443',\n",
              " 'sport': '38178'}"
            ]
          },
          "metadata": {}
        },
        {
          "output_type": "display_data",
          "data": {
            "text/plain": [
              "('172.28.0.12', '23.47.202.17', '38194', '443')"
            ]
          },
          "metadata": {}
        },
        {
          "output_type": "display_data",
          "data": {
            "text/plain": [
              "{'direction': 'downlink',\n",
              " 'num_packets': 188,\n",
              " 'total_bytes': 10592.0,\n",
              " 'min_pkt_size': 40.0,\n",
              " 'max_pkt_size': 569.0,\n",
              " 'mean_pkt_size': 56.340425531914896,\n",
              " 'std_pkt_size': 38.81715073600591,\n",
              " 'min_iat': 8e-06,\n",
              " 'max_iat': 0.090764,\n",
              " 'mean_iat': 0.002803689839572193,\n",
              " 'std_iat': 0.009182712981411443,\n",
              " 'dur': 0.52429,\n",
              " 'dport': '443',\n",
              " 'sport': '38194'}"
            ]
          },
          "metadata": {}
        },
        {
          "output_type": "display_data",
          "data": {
            "text/plain": [
              "('172.28.0.12', '23.47.202.17', '38208', '443')"
            ]
          },
          "metadata": {}
        },
        {
          "output_type": "display_data",
          "data": {
            "text/plain": [
              "{'direction': 'downlink',\n",
              " 'num_packets': 177,\n",
              " 'total_bytes': 10032.0,\n",
              " 'min_pkt_size': 40.0,\n",
              " 'max_pkt_size': 569.0,\n",
              " 'mean_pkt_size': 56.67796610169491,\n",
              " 'std_pkt_size': 39.97802266045377,\n",
              " 'min_iat': 6e-06,\n",
              " 'max_iat': 0.124082,\n",
              " 'mean_iat': 0.0032408522727272724,\n",
              " 'std_iat': 0.012030722190924152,\n",
              " 'dur': 0.57039,\n",
              " 'dport': '443',\n",
              " 'sport': '38208'}"
            ]
          },
          "metadata": {}
        },
        {
          "output_type": "display_data",
          "data": {
            "text/plain": [
              "('172.28.0.12', '23.47.202.17', '38218', '443')"
            ]
          },
          "metadata": {}
        },
        {
          "output_type": "display_data",
          "data": {
            "text/plain": [
              "{'direction': 'downlink',\n",
              " 'num_packets': 184,\n",
              " 'total_bytes': 10396.0,\n",
              " 'min_pkt_size': 40.0,\n",
              " 'max_pkt_size': 569.0,\n",
              " 'mean_pkt_size': 56.5,\n",
              " 'std_pkt_size': 39.2162283794096,\n",
              " 'min_iat': 6e-06,\n",
              " 'max_iat': 0.075303,\n",
              " 'mean_iat': 0.0026946557377049178,\n",
              " 'std_iat': 0.0087157938928723,\n",
              " 'dur': 0.49312199999999995,\n",
              " 'dport': '443',\n",
              " 'sport': '38218'}"
            ]
          },
          "metadata": {}
        },
        {
          "output_type": "display_data",
          "data": {
            "text/plain": [
              "('172.28.0.12', '23.47.202.17', '38224', '443')"
            ]
          },
          "metadata": {}
        },
        {
          "output_type": "display_data",
          "data": {
            "text/plain": [
              "{'direction': 'downlink',\n",
              " 'num_packets': 188,\n",
              " 'total_bytes': 10604.0,\n",
              " 'min_pkt_size': 40.0,\n",
              " 'max_pkt_size': 569.0,\n",
              " 'mean_pkt_size': 56.40425531914894,\n",
              " 'std_pkt_size': 38.79999976540496,\n",
              " 'min_iat': 5e-06,\n",
              " 'max_iat': 0.070992,\n",
              " 'mean_iat': 0.003216973262032086,\n",
              " 'std_iat': 0.009808539432025738,\n",
              " 'dur': 0.601574,\n",
              " 'dport': '443',\n",
              " 'sport': '38224'}"
            ]
          },
          "metadata": {}
        },
        {
          "output_type": "display_data",
          "data": {
            "text/plain": [
              "('172.28.0.12', '23.47.202.17', '38232', '443')"
            ]
          },
          "metadata": {}
        },
        {
          "output_type": "display_data",
          "data": {
            "text/plain": [
              "{'direction': 'downlink',\n",
              " 'num_packets': 180,\n",
              " 'total_bytes': 10176.0,\n",
              " 'min_pkt_size': 40.0,\n",
              " 'max_pkt_size': 569.0,\n",
              " 'mean_pkt_size': 56.53333333333333,\n",
              " 'std_pkt_size': 39.66400786044035,\n",
              " 'min_iat': 6e-06,\n",
              " 'max_iat': 0.054383,\n",
              " 'mean_iat': 0.0027677988826815647,\n",
              " 'std_iat': 0.007837801423252303,\n",
              " 'dur': 0.49543600000000004,\n",
              " 'dport': '443',\n",
              " 'sport': '38232'}"
            ]
          },
          "metadata": {}
        },
        {
          "output_type": "display_data",
          "data": {
            "text/plain": [
              "('172.28.0.12', '23.47.202.17', '47254', '443')"
            ]
          },
          "metadata": {}
        },
        {
          "output_type": "display_data",
          "data": {
            "text/plain": [
              "{'direction': 'downlink',\n",
              " 'num_packets': 181,\n",
              " 'total_bytes': 10228.0,\n",
              " 'min_pkt_size': 40.0,\n",
              " 'max_pkt_size': 569.0,\n",
              " 'mean_pkt_size': 56.50828729281768,\n",
              " 'std_pkt_size': 39.555111874240374,\n",
              " 'min_iat': 6e-06,\n",
              " 'max_iat': 0.055024,\n",
              " 'mean_iat': 0.0026934833333333336,\n",
              " 'std_iat': 0.00792786008907192,\n",
              " 'dur': 0.484827,\n",
              " 'dport': '443',\n",
              " 'sport': '47254'}"
            ]
          },
          "metadata": {}
        },
        {
          "output_type": "display_data",
          "data": {
            "text/plain": [
              "('172.28.0.12', '23.47.202.17', '47270', '443')"
            ]
          },
          "metadata": {}
        },
        {
          "output_type": "display_data",
          "data": {
            "text/plain": [
              "{'direction': 'downlink',\n",
              " 'num_packets': 191,\n",
              " 'total_bytes': 10748.0,\n",
              " 'min_pkt_size': 40.0,\n",
              " 'max_pkt_size': 569.0,\n",
              " 'mean_pkt_size': 56.27225130890052,\n",
              " 'std_pkt_size': 38.51328157319901,\n",
              " 'min_iat': 6e-06,\n",
              " 'max_iat': 0.055338,\n",
              " 'mean_iat': 0.0025267210526315792,\n",
              " 'std_iat': 0.007570332634146133,\n",
              " 'dur': 0.48007700000000003,\n",
              " 'dport': '443',\n",
              " 'sport': '47270'}"
            ]
          },
          "metadata": {}
        },
        {
          "output_type": "display_data",
          "data": {
            "text/plain": [
              "('172.28.0.12', '23.47.202.17', '47276', '443')"
            ]
          },
          "metadata": {}
        },
        {
          "output_type": "display_data",
          "data": {
            "text/plain": [
              "{'direction': 'downlink',\n",
              " 'num_packets': 201,\n",
              " 'total_bytes': 11280.0,\n",
              " 'min_pkt_size': 40.0,\n",
              " 'max_pkt_size': 569.0,\n",
              " 'mean_pkt_size': 56.11940298507463,\n",
              " 'std_pkt_size': 37.53352730082522,\n",
              " 'min_iat': 6e-06,\n",
              " 'max_iat': 0.055311,\n",
              " 'mean_iat': 0.00288862,\n",
              " 'std_iat': 0.008368936400641956,\n",
              " 'dur': 0.577724,\n",
              " 'dport': '443',\n",
              " 'sport': '47276'}"
            ]
          },
          "metadata": {}
        },
        {
          "output_type": "display_data",
          "data": {
            "text/plain": [
              "('172.28.0.12', '23.55.124.91', '47642', '443')"
            ]
          },
          "metadata": {}
        },
        {
          "output_type": "display_data",
          "data": {
            "text/plain": [
              "{'direction': 'downlink',\n",
              " 'num_packets': 97,\n",
              " 'total_bytes': 5872.0,\n",
              " 'min_pkt_size': 40.0,\n",
              " 'max_pkt_size': 569.0,\n",
              " 'mean_pkt_size': 60.5360824742268,\n",
              " 'std_pkt_size': 53.82225025018115,\n",
              " 'min_iat': 4e-06,\n",
              " 'max_iat': 0.069849,\n",
              " 'mean_iat': 0.006174229166666666,\n",
              " 'std_iat': 0.013220482946413249,\n",
              " 'dur': 0.592726,\n",
              " 'dport': '443',\n",
              " 'sport': '47642'}"
            ]
          },
          "metadata": {}
        },
        {
          "output_type": "display_data",
          "data": {
            "text/plain": [
              "('172.28.0.12', '23.55.124.91', '47644', '443')"
            ]
          },
          "metadata": {}
        },
        {
          "output_type": "display_data",
          "data": {
            "text/plain": [
              "{'direction': 'downlink',\n",
              " 'num_packets': 91,\n",
              " 'total_bytes': 5560.0,\n",
              " 'min_pkt_size': 40.0,\n",
              " 'max_pkt_size': 569.0,\n",
              " 'mean_pkt_size': 61.0989010989011,\n",
              " 'std_pkt_size': 55.540786803744496,\n",
              " 'min_iat': 4e-06,\n",
              " 'max_iat': 0.100299,\n",
              " 'mean_iat': 0.004490622222222222,\n",
              " 'std_iat': 0.013492492024241472,\n",
              " 'dur': 0.40415599999999996,\n",
              " 'dport': '443',\n",
              " 'sport': '47644'}"
            ]
          },
          "metadata": {}
        },
        {
          "output_type": "display_data",
          "data": {
            "text/plain": [
              "('172.28.0.12', '23.55.124.91', '47654', '443')"
            ]
          },
          "metadata": {}
        },
        {
          "output_type": "display_data",
          "data": {
            "text/plain": [
              "{'direction': 'downlink',\n",
              " 'num_packets': 89,\n",
              " 'total_bytes': 5456.0,\n",
              " 'min_pkt_size': 40.0,\n",
              " 'max_pkt_size': 569.0,\n",
              " 'mean_pkt_size': 61.30337078651685,\n",
              " 'std_pkt_size': 56.15125767521759,\n",
              " 'min_iat': 5e-06,\n",
              " 'max_iat': 0.054228,\n",
              " 'mean_iat': 0.0037807840909090907,\n",
              " 'std_iat': 0.009307305887520939,\n",
              " 'dur': 0.332709,\n",
              " 'dport': '443',\n",
              " 'sport': '47654'}"
            ]
          },
          "metadata": {}
        },
        {
          "output_type": "display_data",
          "data": {
            "text/plain": [
              "('172.28.0.12', '23.55.124.91', '47662', '443')"
            ]
          },
          "metadata": {}
        },
        {
          "output_type": "display_data",
          "data": {
            "text/plain": [
              "{'direction': 'downlink',\n",
              " 'num_packets': 95,\n",
              " 'total_bytes': 5768.0,\n",
              " 'min_pkt_size': 40.0,\n",
              " 'max_pkt_size': 569.0,\n",
              " 'mean_pkt_size': 60.71578947368421,\n",
              " 'std_pkt_size': 54.377260414331026,\n",
              " 'min_iat': 5e-06,\n",
              " 'max_iat': 0.066251,\n",
              " 'mean_iat': 0.004608223404255319,\n",
              " 'std_iat': 0.011097801598780634,\n",
              " 'dur': 0.43317300000000003,\n",
              " 'dport': '443',\n",
              " 'sport': '47662'}"
            ]
          },
          "metadata": {}
        },
        {
          "output_type": "display_data",
          "data": {
            "text/plain": [
              "('172.28.0.12', '23.55.124.91', '47672', '443')"
            ]
          },
          "metadata": {}
        },
        {
          "output_type": "display_data",
          "data": {
            "text/plain": [
              "{'direction': 'downlink',\n",
              " 'num_packets': 90,\n",
              " 'total_bytes': 5496.0,\n",
              " 'min_pkt_size': 40.0,\n",
              " 'max_pkt_size': 569.0,\n",
              " 'mean_pkt_size': 61.06666666666667,\n",
              " 'std_pkt_size': 55.880048096623,\n",
              " 'min_iat': 7e-06,\n",
              " 'max_iat': 0.055626,\n",
              " 'mean_iat': 0.003947775280898877,\n",
              " 'std_iat': 0.009511462719401462,\n",
              " 'dur': 0.351352,\n",
              " 'dport': '443',\n",
              " 'sport': '47672'}"
            ]
          },
          "metadata": {}
        },
        {
          "output_type": "display_data",
          "data": {
            "text/plain": [
              "('172.28.0.12', '23.55.124.91', '47674', '443')"
            ]
          },
          "metadata": {}
        },
        {
          "output_type": "display_data",
          "data": {
            "text/plain": [
              "{'direction': 'downlink',\n",
              " 'num_packets': 91,\n",
              " 'total_bytes': 5560.0,\n",
              " 'min_pkt_size': 40.0,\n",
              " 'max_pkt_size': 569.0,\n",
              " 'mean_pkt_size': 61.0989010989011,\n",
              " 'std_pkt_size': 55.540786803744496,\n",
              " 'min_iat': 8e-06,\n",
              " 'max_iat': 0.108157,\n",
              " 'mean_iat': 0.005125266666666667,\n",
              " 'std_iat': 0.014435175741643564,\n",
              " 'dur': 0.461274,\n",
              " 'dport': '443',\n",
              " 'sport': '47674'}"
            ]
          },
          "metadata": {}
        },
        {
          "output_type": "display_data",
          "data": {
            "text/plain": [
              "('172.28.0.12', '23.55.124.91', '47688', '443')"
            ]
          },
          "metadata": {}
        },
        {
          "output_type": "display_data",
          "data": {
            "text/plain": [
              "{'direction': 'downlink',\n",
              " 'num_packets': 91,\n",
              " 'total_bytes': 5560.0,\n",
              " 'min_pkt_size': 40.0,\n",
              " 'max_pkt_size': 569.0,\n",
              " 'mean_pkt_size': 61.0989010989011,\n",
              " 'std_pkt_size': 55.540786803744496,\n",
              " 'min_iat': 5e-06,\n",
              " 'max_iat': 0.08716,\n",
              " 'mean_iat': 0.004649455555555555,\n",
              " 'std_iat': 0.012175747893565531,\n",
              " 'dur': 0.41845099999999996,\n",
              " 'dport': '443',\n",
              " 'sport': '47688'}"
            ]
          },
          "metadata": {}
        },
        {
          "output_type": "display_data",
          "data": {
            "text/plain": [
              "('172.28.0.12', '23.55.124.91', '51724', '443')"
            ]
          },
          "metadata": {}
        },
        {
          "output_type": "display_data",
          "data": {
            "text/plain": [
              "{'direction': 'downlink',\n",
              " 'num_packets': 90,\n",
              " 'total_bytes': 5508.0,\n",
              " 'min_pkt_size': 40.0,\n",
              " 'max_pkt_size': 569.0,\n",
              " 'mean_pkt_size': 61.2,\n",
              " 'std_pkt_size': 55.84352134674618,\n",
              " 'min_iat': 4e-06,\n",
              " 'max_iat': 0.05575,\n",
              " 'mean_iat': 0.004791820224719101,\n",
              " 'std_iat': 0.011038691517650951,\n",
              " 'dur': 0.426472,\n",
              " 'dport': '443',\n",
              " 'sport': '51724'}"
            ]
          },
          "metadata": {}
        },
        {
          "output_type": "display_data",
          "data": {
            "text/plain": [
              "('172.28.0.12', '23.55.124.91', '51736', '443')"
            ]
          },
          "metadata": {}
        },
        {
          "output_type": "display_data",
          "data": {
            "text/plain": [
              "{'direction': 'downlink',\n",
              " 'num_packets': 93,\n",
              " 'total_bytes': 5652.0,\n",
              " 'min_pkt_size': 40.0,\n",
              " 'max_pkt_size': 569.0,\n",
              " 'mean_pkt_size': 60.774193548387096,\n",
              " 'std_pkt_size': 54.98500369315297,\n",
              " 'min_iat': 9e-06,\n",
              " 'max_iat': 0.055058,\n",
              " 'mean_iat': 0.004447445652173913,\n",
              " 'std_iat': 0.01000481428109546,\n",
              " 'dur': 0.40916500000000006,\n",
              " 'dport': '443',\n",
              " 'sport': '51736'}"
            ]
          },
          "metadata": {}
        },
        {
          "output_type": "display_data",
          "data": {
            "text/plain": [
              "('172.28.0.12', '23.55.124.91', '51748', '443')"
            ]
          },
          "metadata": {}
        },
        {
          "output_type": "display_data",
          "data": {
            "text/plain": [
              "{'direction': 'downlink',\n",
              " 'num_packets': 92,\n",
              " 'total_bytes': 5600.0,\n",
              " 'min_pkt_size': 40.0,\n",
              " 'max_pkt_size': 569.0,\n",
              " 'mean_pkt_size': 60.869565217391305,\n",
              " 'std_pkt_size': 55.2785588048852,\n",
              " 'min_iat': 6e-06,\n",
              " 'max_iat': 0.054729,\n",
              " 'mean_iat': 0.0041428241758241745,\n",
              " 'std_iat': 0.00975168759023951,\n",
              " 'dur': 0.3769969999999999,\n",
              " 'dport': '443',\n",
              " 'sport': '51748'}"
            ]
          },
          "metadata": {}
        },
        {
          "output_type": "display_data",
          "data": {
            "text/plain": [
              "('172.28.0.12', '23.63.209.133', '35578', '443')"
            ]
          },
          "metadata": {}
        },
        {
          "output_type": "display_data",
          "data": {
            "text/plain": [
              "{'direction': 'downlink',\n",
              " 'num_packets': 16,\n",
              " 'total_bytes': 1659.0,\n",
              " 'min_pkt_size': 40.0,\n",
              " 'max_pkt_size': 569.0,\n",
              " 'mean_pkt_size': 103.6875,\n",
              " 'std_pkt_size': 127.09456780943341,\n",
              " 'min_iat': 7e-06,\n",
              " 'max_iat': 0.054637,\n",
              " 'mean_iat': 0.0140466,\n",
              " 'std_iat': 0.019507035686058067,\n",
              " 'dur': 0.210699,\n",
              " 'dport': '443',\n",
              " 'sport': '35578'}"
            ]
          },
          "metadata": {}
        },
        {
          "output_type": "display_data",
          "data": {
            "text/plain": [
              "('172.28.0.12', '23.63.209.133', '58698', '443')"
            ]
          },
          "metadata": {}
        },
        {
          "output_type": "display_data",
          "data": {
            "text/plain": [
              "{'direction': 'downlink',\n",
              " 'num_packets': 17,\n",
              " 'total_bytes': 1711.0,\n",
              " 'min_pkt_size': 40.0,\n",
              " 'max_pkt_size': 569.0,\n",
              " 'mean_pkt_size': 100.6470588235294,\n",
              " 'std_pkt_size': 123.69566543359078,\n",
              " 'min_iat': 5e-06,\n",
              " 'max_iat': 0.054556,\n",
              " 'mean_iat': 0.0119094375,\n",
              " 'std_iat': 0.018673962900140756,\n",
              " 'dur': 0.190551,\n",
              " 'dport': '443',\n",
              " 'sport': '58698'}"
            ]
          },
          "metadata": {}
        },
        {
          "output_type": "display_data",
          "data": {
            "text/plain": [
              "('172.28.0.12', '23.63.209.133', '58704', '443')"
            ]
          },
          "metadata": {}
        },
        {
          "output_type": "display_data",
          "data": {
            "text/plain": [
              "{'direction': 'downlink',\n",
              " 'num_packets': 17,\n",
              " 'total_bytes': 1711.0,\n",
              " 'min_pkt_size': 40.0,\n",
              " 'max_pkt_size': 569.0,\n",
              " 'mean_pkt_size': 100.6470588235294,\n",
              " 'std_pkt_size': 123.69566543359078,\n",
              " 'min_iat': 5e-06,\n",
              " 'max_iat': 0.05799,\n",
              " 'mean_iat': 0.009484125,\n",
              " 'std_iat': 0.017249876323711232,\n",
              " 'dur': 0.151746,\n",
              " 'dport': '443',\n",
              " 'sport': '58704'}"
            ]
          },
          "metadata": {}
        },
        {
          "output_type": "display_data",
          "data": {
            "text/plain": [
              "('172.28.0.12', '23.63.209.133', '58712', '443')"
            ]
          },
          "metadata": {}
        },
        {
          "output_type": "display_data",
          "data": {
            "text/plain": [
              "{'direction': 'downlink',\n",
              " 'num_packets': 17,\n",
              " 'total_bytes': 1699.0,\n",
              " 'min_pkt_size': 40.0,\n",
              " 'max_pkt_size': 569.0,\n",
              " 'mean_pkt_size': 99.94117647058823,\n",
              " 'std_pkt_size': 124.02442833381419,\n",
              " 'min_iat': 1e-05,\n",
              " 'max_iat': 0.088388,\n",
              " 'mean_iat': 0.00992075,\n",
              " 'std_iat': 0.02198371762767465,\n",
              " 'dur': 0.158732,\n",
              " 'dport': '443',\n",
              " 'sport': '58712'}"
            ]
          },
          "metadata": {}
        },
        {
          "output_type": "display_data",
          "data": {
            "text/plain": [
              "('172.28.0.12', '23.63.209.133', '58720', '443')"
            ]
          },
          "metadata": {}
        },
        {
          "output_type": "display_data",
          "data": {
            "text/plain": [
              "{'direction': 'downlink',\n",
              " 'num_packets': 17,\n",
              " 'total_bytes': 1699.0,\n",
              " 'min_pkt_size': 40.0,\n",
              " 'max_pkt_size': 569.0,\n",
              " 'mean_pkt_size': 99.94117647058823,\n",
              " 'std_pkt_size': 124.02442833381419,\n",
              " 'min_iat': 2.3e-05,\n",
              " 'max_iat': 0.088925,\n",
              " 'mean_iat': 0.010380625000000001,\n",
              " 'std_iat': 0.02223125918423576,\n",
              " 'dur': 0.16609000000000002,\n",
              " 'dport': '443',\n",
              " 'sport': '58720'}"
            ]
          },
          "metadata": {}
        },
        {
          "output_type": "display_data",
          "data": {
            "text/plain": [
              "('172.28.0.12', '23.63.209.133', '58736', '443')"
            ]
          },
          "metadata": {}
        },
        {
          "output_type": "display_data",
          "data": {
            "text/plain": [
              "{'direction': 'downlink',\n",
              " 'num_packets': 17,\n",
              " 'total_bytes': 1711.0,\n",
              " 'min_pkt_size': 40.0,\n",
              " 'max_pkt_size': 569.0,\n",
              " 'mean_pkt_size': 100.6470588235294,\n",
              " 'std_pkt_size': 123.69566543359078,\n",
              " 'min_iat': 6e-06,\n",
              " 'max_iat': 0.056712,\n",
              " 'mean_iat': 0.012009875,\n",
              " 'std_iat': 0.01850188577010462,\n",
              " 'dur': 0.192158,\n",
              " 'dport': '443',\n",
              " 'sport': '58736'}"
            ]
          },
          "metadata": {}
        },
        {
          "output_type": "display_data",
          "data": {
            "text/plain": [
              "('172.28.0.12', '23.63.209.133', '58748', '443')"
            ]
          },
          "metadata": {}
        },
        {
          "output_type": "display_data",
          "data": {
            "text/plain": [
              "{'direction': 'downlink',\n",
              " 'num_packets': 16,\n",
              " 'total_bytes': 1659.0,\n",
              " 'min_pkt_size': 40.0,\n",
              " 'max_pkt_size': 569.0,\n",
              " 'mean_pkt_size': 103.6875,\n",
              " 'std_pkt_size': 127.09456780943341,\n",
              " 'min_iat': 5e-06,\n",
              " 'max_iat': 0.054025,\n",
              " 'mean_iat': 0.010650999999999999,\n",
              " 'std_iat': 0.016063657415776412,\n",
              " 'dur': 0.159765,\n",
              " 'dport': '443',\n",
              " 'sport': '58748'}"
            ]
          },
          "metadata": {}
        },
        {
          "output_type": "display_data",
          "data": {
            "text/plain": [
              "('172.28.0.12', '23.63.209.133', '58760', '443')"
            ]
          },
          "metadata": {}
        },
        {
          "output_type": "display_data",
          "data": {
            "text/plain": [
              "{'direction': 'downlink',\n",
              " 'num_packets': 18,\n",
              " 'total_bytes': 1824.0,\n",
              " 'min_pkt_size': 40.0,\n",
              " 'max_pkt_size': 569.0,\n",
              " 'mean_pkt_size': 101.33333333333333,\n",
              " 'std_pkt_size': 120.03773916368723,\n",
              " 'min_iat': 6e-06,\n",
              " 'max_iat': 0.054532,\n",
              " 'mean_iat': 0.011778411764705883,\n",
              " 'std_iat': 0.017604320194411167,\n",
              " 'dur': 0.200233,\n",
              " 'dport': '443',\n",
              " 'sport': '58760'}"
            ]
          },
          "metadata": {}
        },
        {
          "output_type": "display_data",
          "data": {
            "text/plain": [
              "('172.28.0.12', '23.63.209.133', '58764', '443')"
            ]
          },
          "metadata": {}
        },
        {
          "output_type": "display_data",
          "data": {
            "text/plain": [
              "{'direction': 'downlink',\n",
              " 'num_packets': 16,\n",
              " 'total_bytes': 1659.0,\n",
              " 'min_pkt_size': 40.0,\n",
              " 'max_pkt_size': 569.0,\n",
              " 'mean_pkt_size': 103.6875,\n",
              " 'std_pkt_size': 127.09456780943341,\n",
              " 'min_iat': 6e-06,\n",
              " 'max_iat': 0.053781,\n",
              " 'mean_iat': 0.009666466666666668,\n",
              " 'std_iat': 0.016418708609678284,\n",
              " 'dur': 0.14499700000000001,\n",
              " 'dport': '443',\n",
              " 'sport': '58764'}"
            ]
          },
          "metadata": {}
        },
        {
          "output_type": "display_data",
          "data": {
            "text/plain": [
              "('172.28.0.12', '23.63.209.133', '58768', '443')"
            ]
          },
          "metadata": {}
        },
        {
          "output_type": "display_data",
          "data": {
            "text/plain": [
              "{'direction': 'downlink',\n",
              " 'num_packets': 16,\n",
              " 'total_bytes': 1659.0,\n",
              " 'min_pkt_size': 40.0,\n",
              " 'max_pkt_size': 569.0,\n",
              " 'mean_pkt_size': 103.6875,\n",
              " 'std_pkt_size': 127.09456780943341,\n",
              " 'min_iat': 5e-06,\n",
              " 'max_iat': 0.057345,\n",
              " 'mean_iat': 0.0118054,\n",
              " 'std_iat': 0.01932427757585187,\n",
              " 'dur': 0.17708100000000002,\n",
              " 'dport': '443',\n",
              " 'sport': '58768'}"
            ]
          },
          "metadata": {}
        },
        {
          "output_type": "display_data",
          "data": {
            "text/plain": [
              "('172.28.0.12', '91.215.41.4', '44414', '443')"
            ]
          },
          "metadata": {}
        },
        {
          "output_type": "display_data",
          "data": {
            "text/plain": [
              "{'direction': 'downlink',\n",
              " 'num_packets': 154,\n",
              " 'total_bytes': 8817.0,\n",
              " 'min_pkt_size': 40.0,\n",
              " 'max_pkt_size': 569.0,\n",
              " 'mean_pkt_size': 57.253246753246756,\n",
              " 'std_pkt_size': 42.645148018507506,\n",
              " 'min_iat': 7e-06,\n",
              " 'max_iat': 0.128369,\n",
              " 'mean_iat': 0.007945058823529413,\n",
              " 'std_iat': 0.021714958580990863,\n",
              " 'dur': 1.215594,\n",
              " 'dport': '443',\n",
              " 'sport': '44414'}"
            ]
          },
          "metadata": {}
        },
        {
          "output_type": "display_data",
          "data": {
            "text/plain": [
              "('172.28.0.12', '91.215.41.4', '44426', '443')"
            ]
          },
          "metadata": {}
        },
        {
          "output_type": "display_data",
          "data": {
            "text/plain": [
              "{'direction': 'downlink',\n",
              " 'num_packets': 160,\n",
              " 'total_bytes': 9117.0,\n",
              " 'min_pkt_size': 40.0,\n",
              " 'max_pkt_size': 569.0,\n",
              " 'mean_pkt_size': 56.98125,\n",
              " 'std_pkt_size': 41.86463238783489,\n",
              " 'min_iat': 7e-06,\n",
              " 'max_iat': 0.12755,\n",
              " 'mean_iat': 0.007540345911949685,\n",
              " 'std_iat': 0.020588092596126435,\n",
              " 'dur': 1.198915,\n",
              " 'dport': '443',\n",
              " 'sport': '44426'}"
            ]
          },
          "metadata": {}
        },
        {
          "output_type": "display_data",
          "data": {
            "text/plain": [
              "('172.28.0.12', '91.215.41.4', '44442', '443')"
            ]
          },
          "metadata": {}
        },
        {
          "output_type": "display_data",
          "data": {
            "text/plain": [
              "{'direction': 'downlink',\n",
              " 'num_packets': 157,\n",
              " 'total_bytes': 8973.0,\n",
              " 'min_pkt_size': 40.0,\n",
              " 'max_pkt_size': 569.0,\n",
              " 'mean_pkt_size': 57.152866242038215,\n",
              " 'std_pkt_size': 42.23927046358753,\n",
              " 'min_iat': 7e-06,\n",
              " 'max_iat': 0.131081,\n",
              " 'mean_iat': 0.007422448717948718,\n",
              " 'std_iat': 0.020780833059241464,\n",
              " 'dur': 1.157902,\n",
              " 'dport': '443',\n",
              " 'sport': '44442'}"
            ]
          },
          "metadata": {}
        },
        {
          "output_type": "display_data",
          "data": {
            "text/plain": [
              "('172.28.0.12', '91.215.41.4', '44454', '443')"
            ]
          },
          "metadata": {}
        },
        {
          "output_type": "display_data",
          "data": {
            "text/plain": [
              "{'direction': 'downlink',\n",
              " 'num_packets': 156,\n",
              " 'total_bytes': 8909.0,\n",
              " 'min_pkt_size': 40.0,\n",
              " 'max_pkt_size': 569.0,\n",
              " 'mean_pkt_size': 57.10897435897436,\n",
              " 'std_pkt_size': 42.393635206691684,\n",
              " 'min_iat': 7e-06,\n",
              " 'max_iat': 0.12735,\n",
              " 'mean_iat': 0.007597387096774193,\n",
              " 'std_iat': 0.02077750253556516,\n",
              " 'dur': 1.177595,\n",
              " 'dport': '443',\n",
              " 'sport': '44454'}"
            ]
          },
          "metadata": {}
        },
        {
          "output_type": "display_data",
          "data": {
            "text/plain": [
              "('172.28.0.12', '91.215.41.4', '53368', '443')"
            ]
          },
          "metadata": {}
        },
        {
          "output_type": "display_data",
          "data": {
            "text/plain": [
              "{'direction': 'downlink',\n",
              " 'num_packets': 154,\n",
              " 'total_bytes': 8817.0,\n",
              " 'min_pkt_size': 40.0,\n",
              " 'max_pkt_size': 569.0,\n",
              " 'mean_pkt_size': 57.253246753246756,\n",
              " 'std_pkt_size': 42.645148018507506,\n",
              " 'min_iat': 8e-06,\n",
              " 'max_iat': 0.130517,\n",
              " 'mean_iat': 0.007616666666666667,\n",
              " 'std_iat': 0.02113116254897143,\n",
              " 'dur': 1.16535,\n",
              " 'dport': '443',\n",
              " 'sport': '53368'}"
            ]
          },
          "metadata": {}
        },
        {
          "output_type": "display_data",
          "data": {
            "text/plain": [
              "('172.28.0.12', '91.215.41.4', '53384', '443')"
            ]
          },
          "metadata": {}
        },
        {
          "output_type": "display_data",
          "data": {
            "text/plain": [
              "{'direction': 'downlink',\n",
              " 'num_packets': 160,\n",
              " 'total_bytes': 9117.0,\n",
              " 'min_pkt_size': 40.0,\n",
              " 'max_pkt_size': 569.0,\n",
              " 'mean_pkt_size': 56.98125,\n",
              " 'std_pkt_size': 41.86463238783489,\n",
              " 'min_iat': 1.1e-05,\n",
              " 'max_iat': 0.128308,\n",
              " 'mean_iat': 0.007619987421383648,\n",
              " 'std_iat': 0.02138077958874806,\n",
              " 'dur': 1.211578,\n",
              " 'dport': '443',\n",
              " 'sport': '53384'}"
            ]
          },
          "metadata": {}
        },
        {
          "output_type": "display_data",
          "data": {
            "text/plain": [
              "('172.28.0.12', '91.215.41.4', '53390', '443')"
            ]
          },
          "metadata": {}
        },
        {
          "output_type": "display_data",
          "data": {
            "text/plain": [
              "{'direction': 'downlink',\n",
              " 'num_packets': 157,\n",
              " 'total_bytes': 8961.0,\n",
              " 'min_pkt_size': 40.0,\n",
              " 'max_pkt_size': 569.0,\n",
              " 'mean_pkt_size': 57.07643312101911,\n",
              " 'std_pkt_size': 42.25950680498942,\n",
              " 'min_iat': 7e-06,\n",
              " 'max_iat': 0.127854,\n",
              " 'mean_iat': 0.007538416666666667,\n",
              " 'std_iat': 0.020731345865452413,\n",
              " 'dur': 1.175993,\n",
              " 'dport': '443',\n",
              " 'sport': '53390'}"
            ]
          },
          "metadata": {}
        },
        {
          "output_type": "display_data",
          "data": {
            "text/plain": [
              "('172.28.0.12', '91.215.41.4', '53392', '443')"
            ]
          },
          "metadata": {}
        },
        {
          "output_type": "display_data",
          "data": {
            "text/plain": [
              "{'direction': 'downlink',\n",
              " 'num_packets': 155,\n",
              " 'total_bytes': 8869.0,\n",
              " 'min_pkt_size': 40.0,\n",
              " 'max_pkt_size': 569.0,\n",
              " 'mean_pkt_size': 57.21935483870968,\n",
              " 'std_pkt_size': 42.50855849162154,\n",
              " 'min_iat': 7e-06,\n",
              " 'max_iat': 0.127849,\n",
              " 'mean_iat': 0.007651948051948051,\n",
              " 'std_iat': 0.020987229475783107,\n",
              " 'dur': 1.1784,\n",
              " 'dport': '443',\n",
              " 'sport': '53392'}"
            ]
          },
          "metadata": {}
        },
        {
          "output_type": "display_data",
          "data": {
            "text/plain": [
              "('172.28.0.12', '91.215.41.4', '60116', '443')"
            ]
          },
          "metadata": {}
        },
        {
          "output_type": "display_data",
          "data": {
            "text/plain": [
              "{'direction': 'downlink',\n",
              " 'num_packets': 155,\n",
              " 'total_bytes': 8857.0,\n",
              " 'min_pkt_size': 40.0,\n",
              " 'max_pkt_size': 569.0,\n",
              " 'mean_pkt_size': 57.14193548387097,\n",
              " 'std_pkt_size': 42.529048699007646,\n",
              " 'min_iat': 6e-06,\n",
              " 'max_iat': 0.127926,\n",
              " 'mean_iat': 0.00794674025974026,\n",
              " 'std_iat': 0.021923500790532662,\n",
              " 'dur': 1.223798,\n",
              " 'dport': '443',\n",
              " 'sport': '60116'}"
            ]
          },
          "metadata": {}
        },
        {
          "output_type": "display_data",
          "data": {
            "text/plain": [
              "('172.28.0.12', '91.215.41.4', '60120', '443')"
            ]
          },
          "metadata": {}
        },
        {
          "output_type": "display_data",
          "data": {
            "text/plain": [
              "{'direction': 'downlink',\n",
              " 'num_packets': 155,\n",
              " 'total_bytes': 8857.0,\n",
              " 'min_pkt_size': 40.0,\n",
              " 'max_pkt_size': 569.0,\n",
              " 'mean_pkt_size': 57.14193548387097,\n",
              " 'std_pkt_size': 42.529048699007646,\n",
              " 'min_iat': 7e-06,\n",
              " 'max_iat': 0.128603,\n",
              " 'mean_iat': 0.007963519480519482,\n",
              " 'std_iat': 0.021916136536411352,\n",
              " 'dur': 1.2263820000000003,\n",
              " 'dport': '443',\n",
              " 'sport': '60120'}"
            ]
          },
          "metadata": {}
        },
        {
          "output_type": "display_data",
          "data": {
            "text/plain": [
              "('18.154.101.83', '172.28.0.12', '443', '38508')"
            ]
          },
          "metadata": {}
        },
        {
          "output_type": "display_data",
          "data": {
            "text/plain": [
              "{'direction': 'downlink',\n",
              " 'num_packets': 61,\n",
              " 'total_bytes': 450401.0,\n",
              " 'min_pkt_size': 52.0,\n",
              " 'max_pkt_size': 27184.0,\n",
              " 'mean_pkt_size': 7383.622950819672,\n",
              " 'std_pkt_size': 7299.999304027215,\n",
              " 'min_iat': 1e-06,\n",
              " 'max_iat': 0.290127,\n",
              " 'mean_iat': 0.009331200000000003,\n",
              " 'std_iat': 0.04004940068947901,\n",
              " 'dur': 0.5598720000000001,\n",
              " 'dport': '38508',\n",
              " 'sport': '443'}"
            ]
          },
          "metadata": {}
        },
        {
          "output_type": "display_data",
          "data": {
            "text/plain": [
              "('18.154.101.83', '172.28.0.12', '443', '38510')"
            ]
          },
          "metadata": {}
        },
        {
          "output_type": "display_data",
          "data": {
            "text/plain": [
              "{'direction': 'downlink',\n",
              " 'num_packets': 57,\n",
              " 'total_bytes': 449606.0,\n",
              " 'min_pkt_size': 52.0,\n",
              " 'max_pkt_size': 25756.0,\n",
              " 'mean_pkt_size': 7887.824561403509,\n",
              " 'std_pkt_size': 6897.293045936849,\n",
              " 'min_iat': 1e-06,\n",
              " 'max_iat': 0.063964,\n",
              " 'mean_iat': 0.0023003571428571426,\n",
              " 'std_iat': 0.00865097537207867,\n",
              " 'dur': 0.12882,\n",
              " 'dport': '38510',\n",
              " 'sport': '443'}"
            ]
          },
          "metadata": {}
        },
        {
          "output_type": "display_data",
          "data": {
            "text/plain": [
              "('18.154.101.83', '172.28.0.12', '443', '38522')"
            ]
          },
          "metadata": {}
        },
        {
          "output_type": "display_data",
          "data": {
            "text/plain": [
              "{'direction': 'downlink',\n",
              " 'num_packets': 60,\n",
              " 'total_bytes': 449818.0,\n",
              " 'min_pkt_size': 52.0,\n",
              " 'max_pkt_size': 25756.0,\n",
              " 'mean_pkt_size': 7496.966666666666,\n",
              " 'std_pkt_size': 5777.817284679504,\n",
              " 'min_iat': 1e-06,\n",
              " 'max_iat': 0.070414,\n",
              " 'mean_iat': 0.002298135593220339,\n",
              " 'std_iat': 0.00925331176028462,\n",
              " 'dur': 0.13559,\n",
              " 'dport': '38522',\n",
              " 'sport': '443'}"
            ]
          },
          "metadata": {}
        },
        {
          "output_type": "display_data",
          "data": {
            "text/plain": [
              "('18.154.101.83', '172.28.0.12', '443', '38524')"
            ]
          },
          "metadata": {}
        },
        {
          "output_type": "display_data",
          "data": {
            "text/plain": [
              "{'direction': 'downlink',\n",
              " 'num_packets': 57,\n",
              " 'total_bytes': 449607.0,\n",
              " 'min_pkt_size': 52.0,\n",
              " 'max_pkt_size': 21472.0,\n",
              " 'mean_pkt_size': 7887.8421052631575,\n",
              " 'std_pkt_size': 5665.722535531021,\n",
              " 'min_iat': 1e-06,\n",
              " 'max_iat': 0.075538,\n",
              " 'mean_iat': 0.0026346785714285712,\n",
              " 'std_iat': 0.010198869406337767,\n",
              " 'dur': 0.14754199999999998,\n",
              " 'dport': '38524',\n",
              " 'sport': '443'}"
            ]
          },
          "metadata": {}
        },
        {
          "output_type": "display_data",
          "data": {
            "text/plain": [
              "('18.154.101.83', '172.28.0.12', '443', '38532')"
            ]
          },
          "metadata": {}
        },
        {
          "output_type": "display_data",
          "data": {
            "text/plain": [
              "{'direction': 'downlink',\n",
              " 'num_packets': 55,\n",
              " 'total_bytes': 449503.0,\n",
              " 'min_pkt_size': 52.0,\n",
              " 'max_pkt_size': 22900.0,\n",
              " 'mean_pkt_size': 8172.781818181818,\n",
              " 'std_pkt_size': 5714.438631872869,\n",
              " 'min_iat': 1e-06,\n",
              " 'max_iat': 0.064899,\n",
              " 'mean_iat': 0.002481759259259259,\n",
              " 'std_iat': 0.008953151265474062,\n",
              " 'dur': 0.134015,\n",
              " 'dport': '38532',\n",
              " 'sport': '443'}"
            ]
          },
          "metadata": {}
        },
        {
          "output_type": "display_data",
          "data": {
            "text/plain": [
              "('18.154.101.83', '172.28.0.12', '443', '38540')"
            ]
          },
          "metadata": {}
        },
        {
          "output_type": "display_data",
          "data": {
            "text/plain": [
              "{'direction': 'downlink',\n",
              " 'num_packets': 51,\n",
              " 'total_bytes': 449325.0,\n",
              " 'min_pkt_size': 52.0,\n",
              " 'max_pkt_size': 24328.0,\n",
              " 'mean_pkt_size': 8810.29411764706,\n",
              " 'std_pkt_size': 6311.077284565979,\n",
              " 'min_iat': 2.2e-05,\n",
              " 'max_iat': 0.065849,\n",
              " 'mean_iat': 0.0026898200000000008,\n",
              " 'std_iat': 0.009404807630078118,\n",
              " 'dur': 0.13449100000000003,\n",
              " 'dport': '38540',\n",
              " 'sport': '443'}"
            ]
          },
          "metadata": {}
        },
        {
          "output_type": "display_data",
          "data": {
            "text/plain": [
              "('18.154.101.83', '172.28.0.12', '443', '38542')"
            ]
          },
          "metadata": {}
        },
        {
          "output_type": "display_data",
          "data": {
            "text/plain": [
              "{'direction': 'downlink',\n",
              " 'num_packets': 56,\n",
              " 'total_bytes': 449532.0,\n",
              " 'min_pkt_size': 52.0,\n",
              " 'max_pkt_size': 22900.0,\n",
              " 'mean_pkt_size': 8027.357142857143,\n",
              " 'std_pkt_size': 6060.555232375606,\n",
              " 'min_iat': 2e-06,\n",
              " 'max_iat': 0.099448,\n",
              " 'mean_iat': 0.0031388909090909094,\n",
              " 'std_iat': 0.0134751288465945,\n",
              " 'dur': 0.17263900000000001,\n",
              " 'dport': '38542',\n",
              " 'sport': '443'}"
            ]
          },
          "metadata": {}
        },
        {
          "output_type": "display_data",
          "data": {
            "text/plain": [
              "('18.154.101.83', '172.28.0.12', '443', '41112')"
            ]
          },
          "metadata": {}
        },
        {
          "output_type": "display_data",
          "data": {
            "text/plain": [
              "{'direction': 'downlink',\n",
              " 'num_packets': 52,\n",
              " 'total_bytes': 449354.0,\n",
              " 'min_pkt_size': 52.0,\n",
              " 'max_pkt_size': 24328.0,\n",
              " 'mean_pkt_size': 8641.423076923076,\n",
              " 'std_pkt_size': 6633.073218900885,\n",
              " 'min_iat': 1.8e-05,\n",
              " 'max_iat': 0.065966,\n",
              " 'mean_iat': 0.0025692352941176465,\n",
              " 'std_iat': 0.009334001998260415,\n",
              " 'dur': 0.13103099999999998,\n",
              " 'dport': '41112',\n",
              " 'sport': '443'}"
            ]
          },
          "metadata": {}
        },
        {
          "output_type": "display_data",
          "data": {
            "text/plain": [
              "('18.154.101.83', '172.28.0.12', '443', '41124')"
            ]
          },
          "metadata": {}
        },
        {
          "output_type": "display_data",
          "data": {
            "text/plain": [
              "{'direction': 'downlink',\n",
              " 'num_packets': 55,\n",
              " 'total_bytes': 449471.0,\n",
              " 'min_pkt_size': 52.0,\n",
              " 'max_pkt_size': 25756.0,\n",
              " 'mean_pkt_size': 8172.2,\n",
              " 'std_pkt_size': 6528.989937762763,\n",
              " 'min_iat': 1e-06,\n",
              " 'max_iat': 0.064621,\n",
              " 'mean_iat': 0.002365018518518519,\n",
              " 'std_iat': 0.00889824717420434,\n",
              " 'dur': 0.12771100000000002,\n",
              " 'dport': '41124',\n",
              " 'sport': '443'}"
            ]
          },
          "metadata": {}
        },
        {
          "output_type": "display_data",
          "data": {
            "text/plain": [
              "('18.154.101.83', '172.28.0.12', '443', '41132')"
            ]
          },
          "metadata": {}
        },
        {
          "output_type": "display_data",
          "data": {
            "text/plain": [
              "{'direction': 'downlink',\n",
              " 'num_packets': 54,\n",
              " 'total_bytes': 449563.0,\n",
              " 'min_pkt_size': 52.0,\n",
              " 'max_pkt_size': 22900.0,\n",
              " 'mean_pkt_size': 8325.24074074074,\n",
              " 'std_pkt_size': 5708.489034250475,\n",
              " 'min_iat': 1.9e-05,\n",
              " 'max_iat': 0.065616,\n",
              " 'mean_iat': 0.0026106603773584903,\n",
              " 'std_iat': 0.009154154437159195,\n",
              " 'dur': 0.138365,\n",
              " 'dport': '41132',\n",
              " 'sport': '443'}"
            ]
          },
          "metadata": {}
        },
        {
          "output_type": "display_data",
          "data": {
            "text/plain": [
              "('184.24.54.28', '172.28.0.12', '443', '37610')"
            ]
          },
          "metadata": {}
        },
        {
          "output_type": "display_data",
          "data": {
            "text/plain": [
              "{'direction': 'downlink',\n",
              " 'num_packets': 259,\n",
              " 'total_bytes': 2325249.0,\n",
              " 'min_pkt_size': 52.0,\n",
              " 'max_pkt_size': 42044.0,\n",
              " 'mean_pkt_size': 8977.795366795366,\n",
              " 'std_pkt_size': 9301.036216789233,\n",
              " 'min_iat': 1e-06,\n",
              " 'max_iat': 8.921253,\n",
              " 'mean_iat': 0.03660068992248063,\n",
              " 'std_iat': 0.5553481606975367,\n",
              " 'dur': 9.442978000000004,\n",
              " 'dport': '37610',\n",
              " 'sport': '443'}"
            ]
          },
          "metadata": {}
        },
        {
          "output_type": "display_data",
          "data": {
            "text/plain": [
              "('184.24.54.28', '172.28.0.12', '443', '47930')"
            ]
          },
          "metadata": {}
        },
        {
          "output_type": "display_data",
          "data": {
            "text/plain": [
              "{'direction': 'downlink',\n",
              " 'num_packets': 258,\n",
              " 'total_bytes': 2319595.0,\n",
              " 'min_pkt_size': 52.0,\n",
              " 'max_pkt_size': 47836.0,\n",
              " 'mean_pkt_size': 8990.678294573643,\n",
              " 'std_pkt_size': 10208.816589057773,\n",
              " 'min_iat': 1e-06,\n",
              " 'max_iat': 9.932035,\n",
              " 'mean_iat': 0.040711961089494174,\n",
              " 'std_iat': 0.6194693222671322,\n",
              " 'dur': 10.462974000000003,\n",
              " 'dport': '47930',\n",
              " 'sport': '443'}"
            ]
          },
          "metadata": {}
        },
        {
          "output_type": "display_data",
          "data": {
            "text/plain": [
              "('184.24.54.28', '172.28.0.12', '443', '53794')"
            ]
          },
          "metadata": {}
        },
        {
          "output_type": "display_data",
          "data": {
            "text/plain": [
              "{'direction': 'downlink',\n",
              " 'num_packets': 266,\n",
              " 'total_bytes': 2321453.0,\n",
              " 'min_pkt_size': 52.0,\n",
              " 'max_pkt_size': 43492.0,\n",
              " 'mean_pkt_size': 8727.266917293233,\n",
              " 'std_pkt_size': 8689.462589728873,\n",
              " 'min_iat': 1e-06,\n",
              " 'max_iat': 9.925553,\n",
              " 'mean_iat': 0.03957633962264151,\n",
              " 'std_iat': 0.6096499511145144,\n",
              " 'dur': 10.48773,\n",
              " 'dport': '53794',\n",
              " 'sport': '443'}"
            ]
          },
          "metadata": {}
        },
        {
          "output_type": "display_data",
          "data": {
            "text/plain": [
              "('184.24.54.28', '172.28.0.12', '443', '55772')"
            ]
          },
          "metadata": {}
        },
        {
          "output_type": "display_data",
          "data": {
            "text/plain": [
              "{'direction': 'downlink',\n",
              " 'num_packets': 251,\n",
              " 'total_bytes': 2323480.0,\n",
              " 'min_pkt_size': 52.0,\n",
              " 'max_pkt_size': 43492.0,\n",
              " 'mean_pkt_size': 9256.892430278884,\n",
              " 'std_pkt_size': 9345.17334073491,\n",
              " 'min_iat': 1e-06,\n",
              " 'max_iat': 9.942027,\n",
              " 'mean_iat': 0.041825996000000004,\n",
              " 'std_iat': 0.6287152229519833,\n",
              " 'dur': 10.456499,\n",
              " 'dport': '55772',\n",
              " 'sport': '443'}"
            ]
          },
          "metadata": {}
        },
        {
          "output_type": "display_data",
          "data": {
            "text/plain": [
              "('184.24.57.145', '172.28.0.12', '443', '34452')"
            ]
          },
          "metadata": {}
        },
        {
          "output_type": "display_data",
          "data": {
            "text/plain": [
              "{'direction': 'downlink',\n",
              " 'num_packets': 11,\n",
              " 'total_bytes': 7479.0,\n",
              " 'min_pkt_size': 52.0,\n",
              " 'max_pkt_size': 2948.0,\n",
              " 'mean_pkt_size': 679.9090909090909,\n",
              " 'std_pkt_size': 901.8351794585809,\n",
              " 'min_iat': 2e-06,\n",
              " 'max_iat': 0.090661,\n",
              " 'mean_iat': 0.0208454,\n",
              " 'std_iat': 0.02975907503490882,\n",
              " 'dur': 0.208454,\n",
              " 'dport': '34452',\n",
              " 'sport': '443'}"
            ]
          },
          "metadata": {}
        },
        {
          "output_type": "display_data",
          "data": {
            "text/plain": [
              "('184.24.57.145', '172.28.0.12', '443', '34458')"
            ]
          },
          "metadata": {}
        },
        {
          "output_type": "display_data",
          "data": {
            "text/plain": [
              "{'direction': 'downlink',\n",
              " 'num_packets': 12,\n",
              " 'total_bytes': 7532.0,\n",
              " 'min_pkt_size': 52.0,\n",
              " 'max_pkt_size': 2948.0,\n",
              " 'mean_pkt_size': 627.6666666666666,\n",
              " 'std_pkt_size': 878.7207989027246,\n",
              " 'min_iat': 1e-06,\n",
              " 'max_iat': 0.092164,\n",
              " 'mean_iat': 0.018929818181818183,\n",
              " 'std_iat': 0.029231889845913763,\n",
              " 'dur': 0.20822800000000002,\n",
              " 'dport': '34458',\n",
              " 'sport': '443'}"
            ]
          },
          "metadata": {}
        },
        {
          "output_type": "display_data",
          "data": {
            "text/plain": [
              "('184.24.57.145', '172.28.0.12', '443', '34472')"
            ]
          },
          "metadata": {}
        },
        {
          "output_type": "display_data",
          "data": {
            "text/plain": [
              "{'direction': 'downlink',\n",
              " 'num_packets': 12,\n",
              " 'total_bytes': 7531.0,\n",
              " 'min_pkt_size': 52.0,\n",
              " 'max_pkt_size': 2948.0,\n",
              " 'mean_pkt_size': 627.5833333333334,\n",
              " 'std_pkt_size': 878.7636416459137,\n",
              " 'min_iat': 1e-06,\n",
              " 'max_iat': 0.090881,\n",
              " 'mean_iat': 0.018890545454545455,\n",
              " 'std_iat': 0.02885497013120491,\n",
              " 'dur': 0.207796,\n",
              " 'dport': '34472',\n",
              " 'sport': '443'}"
            ]
          },
          "metadata": {}
        },
        {
          "output_type": "display_data",
          "data": {
            "text/plain": [
              "('184.24.57.145', '172.28.0.12', '443', '34480')"
            ]
          },
          "metadata": {}
        },
        {
          "output_type": "display_data",
          "data": {
            "text/plain": [
              "{'direction': 'downlink',\n",
              " 'num_packets': 11,\n",
              " 'total_bytes': 7478.0,\n",
              " 'min_pkt_size': 52.0,\n",
              " 'max_pkt_size': 2948.0,\n",
              " 'mean_pkt_size': 679.8181818181819,\n",
              " 'std_pkt_size': 901.8870015896467,\n",
              " 'min_iat': 1e-06,\n",
              " 'max_iat': 0.10109,\n",
              " 'mean_iat': 0.0223473,\n",
              " 'std_iat': 0.0328645629551548,\n",
              " 'dur': 0.223473,\n",
              " 'dport': '34480',\n",
              " 'sport': '443'}"
            ]
          },
          "metadata": {}
        },
        {
          "output_type": "display_data",
          "data": {
            "text/plain": [
              "('184.24.57.145', '172.28.0.12', '443', '34496')"
            ]
          },
          "metadata": {}
        },
        {
          "output_type": "display_data",
          "data": {
            "text/plain": [
              "{'direction': 'downlink',\n",
              " 'num_packets': 11,\n",
              " 'total_bytes': 7479.0,\n",
              " 'min_pkt_size': 52.0,\n",
              " 'max_pkt_size': 2948.0,\n",
              " 'mean_pkt_size': 679.9090909090909,\n",
              " 'std_pkt_size': 901.8351794585809,\n",
              " 'min_iat': 1e-06,\n",
              " 'max_iat': 0.090795,\n",
              " 'mean_iat': 0.021266100000000003,\n",
              " 'std_iat': 0.03021334617699786,\n",
              " 'dur': 0.21266100000000002,\n",
              " 'dport': '34496',\n",
              " 'sport': '443'}"
            ]
          },
          "metadata": {}
        },
        {
          "output_type": "display_data",
          "data": {
            "text/plain": [
              "('184.24.57.145', '172.28.0.12', '443', '34498')"
            ]
          },
          "metadata": {}
        },
        {
          "output_type": "display_data",
          "data": {
            "text/plain": [
              "{'direction': 'downlink',\n",
              " 'num_packets': 12,\n",
              " 'total_bytes': 7531.0,\n",
              " 'min_pkt_size': 52.0,\n",
              " 'max_pkt_size': 2948.0,\n",
              " 'mean_pkt_size': 627.5833333333334,\n",
              " 'std_pkt_size': 878.7636416459137,\n",
              " 'min_iat': 1e-06,\n",
              " 'max_iat': 0.090895,\n",
              " 'mean_iat': 0.018741,\n",
              " 'std_iat': 0.02881120503207042,\n",
              " 'dur': 0.206151,\n",
              " 'dport': '34498',\n",
              " 'sport': '443'}"
            ]
          },
          "metadata": {}
        },
        {
          "output_type": "display_data",
          "data": {
            "text/plain": [
              "('184.24.57.145', '172.28.0.12', '443', '34506')"
            ]
          },
          "metadata": {}
        },
        {
          "output_type": "display_data",
          "data": {
            "text/plain": [
              "{'direction': 'downlink',\n",
              " 'num_packets': 12,\n",
              " 'total_bytes': 7531.0,\n",
              " 'min_pkt_size': 52.0,\n",
              " 'max_pkt_size': 2948.0,\n",
              " 'mean_pkt_size': 627.5833333333334,\n",
              " 'std_pkt_size': 878.7636416459137,\n",
              " 'min_iat': 2e-06,\n",
              " 'max_iat': 0.129488,\n",
              " 'mean_iat': 0.022248454545454547,\n",
              " 'std_iat': 0.039000064031649066,\n",
              " 'dur': 0.24473300000000003,\n",
              " 'dport': '34506',\n",
              " 'sport': '443'}"
            ]
          },
          "metadata": {}
        },
        {
          "output_type": "display_data",
          "data": {
            "text/plain": [
              "('184.24.57.145', '172.28.0.12', '443', '34510')"
            ]
          },
          "metadata": {}
        },
        {
          "output_type": "display_data",
          "data": {
            "text/plain": [
              "{'direction': 'downlink',\n",
              " 'num_packets': 12,\n",
              " 'total_bytes': 7531.0,\n",
              " 'min_pkt_size': 52.0,\n",
              " 'max_pkt_size': 2948.0,\n",
              " 'mean_pkt_size': 627.5833333333334,\n",
              " 'std_pkt_size': 878.7636416459137,\n",
              " 'min_iat': 3.4e-05,\n",
              " 'max_iat': 0.090858,\n",
              " 'mean_iat': 0.01883,\n",
              " 'std_iat': 0.02890145157946223,\n",
              " 'dur': 0.20712999999999998,\n",
              " 'dport': '34510',\n",
              " 'sport': '443'}"
            ]
          },
          "metadata": {}
        },
        {
          "output_type": "display_data",
          "data": {
            "text/plain": [
              "('184.24.57.145', '172.28.0.12', '443', '54166')"
            ]
          },
          "metadata": {}
        },
        {
          "output_type": "display_data",
          "data": {
            "text/plain": [
              "{'direction': 'downlink',\n",
              " 'num_packets': 14,\n",
              " 'total_bytes': 7635.0,\n",
              " 'min_pkt_size': 52.0,\n",
              " 'max_pkt_size': 2948.0,\n",
              " 'mean_pkt_size': 545.3571428571429,\n",
              " 'std_pkt_size': 834.9305459039789,\n",
              " 'min_iat': 2e-06,\n",
              " 'max_iat': 0.146197,\n",
              " 'mean_iat': 0.027139615384615384,\n",
              " 'std_iat': 0.044602236908661996,\n",
              " 'dur': 0.352815,\n",
              " 'dport': '54166',\n",
              " 'sport': '443'}"
            ]
          },
          "metadata": {}
        },
        {
          "output_type": "display_data",
          "data": {
            "text/plain": [
              "('184.24.57.145', '172.28.0.12', '443', '54170')"
            ]
          },
          "metadata": {}
        },
        {
          "output_type": "display_data",
          "data": {
            "text/plain": [
              "{'direction': 'downlink',\n",
              " 'num_packets': 11,\n",
              " 'total_bytes': 7478.0,\n",
              " 'min_pkt_size': 52.0,\n",
              " 'max_pkt_size': 2948.0,\n",
              " 'mean_pkt_size': 679.8181818181819,\n",
              " 'std_pkt_size': 901.8870015896467,\n",
              " 'min_iat': 1e-06,\n",
              " 'max_iat': 0.092379,\n",
              " 'mean_iat': 0.021285400000000003,\n",
              " 'std_iat': 0.030580099553649445,\n",
              " 'dur': 0.21285400000000002,\n",
              " 'dport': '54170',\n",
              " 'sport': '443'}"
            ]
          },
          "metadata": {}
        },
        {
          "output_type": "display_data",
          "data": {
            "text/plain": [
              "('192.0.66.32', '172.28.0.12', '443', '38300')"
            ]
          },
          "metadata": {}
        },
        {
          "output_type": "display_data",
          "data": {
            "text/plain": [
              "{'direction': 'downlink',\n",
              " 'num_packets': 14,\n",
              " 'total_bytes': 5872.0,\n",
              " 'min_pkt_size': 40.0,\n",
              " 'max_pkt_size': 2960.0,\n",
              " 'mean_pkt_size': 419.42857142857144,\n",
              " 'std_pkt_size': 799.1922570547488,\n",
              " 'min_iat': 1e-06,\n",
              " 'max_iat': 0.070686,\n",
              " 'mean_iat': 0.008017307692307692,\n",
              " 'std_iat': 0.01971678451381215,\n",
              " 'dur': 0.104225,\n",
              " 'dport': '38300',\n",
              " 'sport': '443'}"
            ]
          },
          "metadata": {}
        },
        {
          "output_type": "display_data",
          "data": {
            "text/plain": [
              "('192.0.66.32', '172.28.0.12', '443', '38312')"
            ]
          },
          "metadata": {}
        },
        {
          "output_type": "display_data",
          "data": {
            "text/plain": [
              "{'direction': 'downlink',\n",
              " 'num_packets': 13,\n",
              " 'total_bytes': 5810.0,\n",
              " 'min_pkt_size': 40.0,\n",
              " 'max_pkt_size': 2960.0,\n",
              " 'mean_pkt_size': 446.9230769230769,\n",
              " 'std_pkt_size': 824.9416607189527,\n",
              " 'min_iat': 1e-06,\n",
              " 'max_iat': 0.069719,\n",
              " 'mean_iat': 0.008682583333333332,\n",
              " 'std_iat': 0.020167766160423303,\n",
              " 'dur': 0.10419099999999999,\n",
              " 'dport': '38312',\n",
              " 'sport': '443'}"
            ]
          },
          "metadata": {}
        },
        {
          "output_type": "display_data",
          "data": {
            "text/plain": [
              "('192.0.66.32', '172.28.0.12', '443', '38324')"
            ]
          },
          "metadata": {}
        },
        {
          "output_type": "display_data",
          "data": {
            "text/plain": [
              "{'direction': 'downlink',\n",
              " 'num_packets': 14,\n",
              " 'total_bytes': 5872.0,\n",
              " 'min_pkt_size': 40.0,\n",
              " 'max_pkt_size': 2960.0,\n",
              " 'mean_pkt_size': 419.42857142857144,\n",
              " 'std_pkt_size': 799.1922570547488,\n",
              " 'min_iat': 1e-06,\n",
              " 'max_iat': 0.069594,\n",
              " 'mean_iat': 0.007971230769230769,\n",
              " 'std_iat': 0.01943539792129233,\n",
              " 'dur': 0.103626,\n",
              " 'dport': '38324',\n",
              " 'sport': '443'}"
            ]
          },
          "metadata": {}
        },
        {
          "output_type": "display_data",
          "data": {
            "text/plain": [
              "('192.0.66.32', '172.28.0.12', '443', '38340')"
            ]
          },
          "metadata": {}
        },
        {
          "output_type": "display_data",
          "data": {
            "text/plain": [
              "{'direction': 'downlink',\n",
              " 'num_packets': 14,\n",
              " 'total_bytes': 5849.0,\n",
              " 'min_pkt_size': 40.0,\n",
              " 'max_pkt_size': 2960.0,\n",
              " 'mean_pkt_size': 417.7857142857143,\n",
              " 'std_pkt_size': 800.03655479671,\n",
              " 'min_iat': 1e-06,\n",
              " 'max_iat': 0.080374,\n",
              " 'mean_iat': 0.008837307692307693,\n",
              " 'std_iat': 0.022293778169348112,\n",
              " 'dur': 0.11488500000000001,\n",
              " 'dport': '38340',\n",
              " 'sport': '443'}"
            ]
          },
          "metadata": {}
        },
        {
          "output_type": "display_data",
          "data": {
            "text/plain": [
              "('192.0.66.32', '172.28.0.12', '443', '38352')"
            ]
          },
          "metadata": {}
        },
        {
          "output_type": "display_data",
          "data": {
            "text/plain": [
              "{'direction': 'downlink',\n",
              " 'num_packets': 13,\n",
              " 'total_bytes': 5832.0,\n",
              " 'min_pkt_size': 40.0,\n",
              " 'max_pkt_size': 2960.0,\n",
              " 'mean_pkt_size': 448.61538461538464,\n",
              " 'std_pkt_size': 824.0230112544936,\n",
              " 'min_iat': 1e-06,\n",
              " 'max_iat': 0.072023,\n",
              " 'mean_iat': 0.009041083333333333,\n",
              " 'std_iat': 0.020875247567212804,\n",
              " 'dur': 0.108493,\n",
              " 'dport': '38352',\n",
              " 'sport': '443'}"
            ]
          },
          "metadata": {}
        },
        {
          "output_type": "display_data",
          "data": {
            "text/plain": [
              "('192.0.66.32', '172.28.0.12', '443', '38368')"
            ]
          },
          "metadata": {}
        },
        {
          "output_type": "display_data",
          "data": {
            "text/plain": [
              "{'direction': 'downlink',\n",
              " 'num_packets': 14,\n",
              " 'total_bytes': 5870.0,\n",
              " 'min_pkt_size': 40.0,\n",
              " 'max_pkt_size': 2960.0,\n",
              " 'mean_pkt_size': 419.2857142857143,\n",
              " 'std_pkt_size': 799.2558489544583,\n",
              " 'min_iat': 1e-06,\n",
              " 'max_iat': 0.07187,\n",
              " 'mean_iat': 0.008296384615384615,\n",
              " 'std_iat': 0.020085541452076347,\n",
              " 'dur': 0.10785299999999999,\n",
              " 'dport': '38368',\n",
              " 'sport': '443'}"
            ]
          },
          "metadata": {}
        },
        {
          "output_type": "display_data",
          "data": {
            "text/plain": [
              "('192.0.66.32', '172.28.0.12', '443', '38382')"
            ]
          },
          "metadata": {}
        },
        {
          "output_type": "display_data",
          "data": {
            "text/plain": [
              "{'direction': 'downlink',\n",
              " 'num_packets': 13,\n",
              " 'total_bytes': 5809.0,\n",
              " 'min_pkt_size': 40.0,\n",
              " 'max_pkt_size': 2960.0,\n",
              " 'mean_pkt_size': 446.84615384615387,\n",
              " 'std_pkt_size': 824.9777619380462,\n",
              " 'min_iat': 1e-06,\n",
              " 'max_iat': 0.06962,\n",
              " 'mean_iat': 0.008738916666666667,\n",
              " 'std_iat': 0.020206694486811377,\n",
              " 'dur': 0.104867,\n",
              " 'dport': '38382',\n",
              " 'sport': '443'}"
            ]
          },
          "metadata": {}
        },
        {
          "output_type": "display_data",
          "data": {
            "text/plain": [
              "('192.0.66.32', '172.28.0.12', '443', '38386')"
            ]
          },
          "metadata": {}
        },
        {
          "output_type": "display_data",
          "data": {
            "text/plain": [
              "{'direction': 'downlink',\n",
              " 'num_packets': 14,\n",
              " 'total_bytes': 5871.0,\n",
              " 'min_pkt_size': 40.0,\n",
              " 'max_pkt_size': 2960.0,\n",
              " 'mean_pkt_size': 419.35714285714283,\n",
              " 'std_pkt_size': 799.2240089508801,\n",
              " 'min_iat': 1e-06,\n",
              " 'max_iat': 0.107801,\n",
              " 'mean_iat': 0.011029846153846152,\n",
              " 'std_iat': 0.029705808087662346,\n",
              " 'dur': 0.143388,\n",
              " 'dport': '38386',\n",
              " 'sport': '443'}"
            ]
          },
          "metadata": {}
        },
        {
          "output_type": "display_data",
          "data": {
            "text/plain": [
              "('192.0.66.32', '172.28.0.12', '443', '55264')"
            ]
          },
          "metadata": {}
        },
        {
          "output_type": "display_data",
          "data": {
            "text/plain": [
              "{'direction': 'downlink',\n",
              " 'num_packets': 13,\n",
              " 'total_bytes': 5808.0,\n",
              " 'min_pkt_size': 40.0,\n",
              " 'max_pkt_size': 2960.0,\n",
              " 'mean_pkt_size': 446.7692307692308,\n",
              " 'std_pkt_size': 825.0139548159325,\n",
              " 'min_iat': 1e-06,\n",
              " 'max_iat': 0.070563,\n",
              " 'mean_iat': 0.008989416666666668,\n",
              " 'std_iat': 0.0205018056431327,\n",
              " 'dur': 0.10787300000000002,\n",
              " 'dport': '55264',\n",
              " 'sport': '443'}"
            ]
          },
          "metadata": {}
        },
        {
          "output_type": "display_data",
          "data": {
            "text/plain": [
              "('192.0.66.32', '172.28.0.12', '443', '55268')"
            ]
          },
          "metadata": {}
        },
        {
          "output_type": "display_data",
          "data": {
            "text/plain": [
              "{'direction': 'downlink',\n",
              " 'num_packets': 14,\n",
              " 'total_bytes': 5871.0,\n",
              " 'min_pkt_size': 40.0,\n",
              " 'max_pkt_size': 2960.0,\n",
              " 'mean_pkt_size': 419.35714285714283,\n",
              " 'std_pkt_size': 799.2240089508801,\n",
              " 'min_iat': 1e-06,\n",
              " 'max_iat': 0.070136,\n",
              " 'mean_iat': 0.007972384615384616,\n",
              " 'std_iat': 0.019525189604450547,\n",
              " 'dur': 0.10364100000000001,\n",
              " 'dport': '55268',\n",
              " 'sport': '443'}"
            ]
          },
          "metadata": {}
        },
        {
          "output_type": "display_data",
          "data": {
            "text/plain": [
              "('23.205.196.91', '172.28.0.12', '443', '34554')"
            ]
          },
          "metadata": {}
        },
        {
          "output_type": "display_data",
          "data": {
            "text/plain": [
              "{'direction': 'downlink',\n",
              " 'num_packets': 14,\n",
              " 'total_bytes': 7323.0,\n",
              " 'min_pkt_size': 52.0,\n",
              " 'max_pkt_size': 2948.0,\n",
              " 'mean_pkt_size': 523.0714285714286,\n",
              " 'std_pkt_size': 832.2371577940911,\n",
              " 'min_iat': 1e-06,\n",
              " 'max_iat': 0.073849,\n",
              " 'mean_iat': 0.011644999999999997,\n",
              " 'std_iat': 0.02139428621930008,\n",
              " 'dur': 0.15138499999999996,\n",
              " 'dport': '34554',\n",
              " 'sport': '443'}"
            ]
          },
          "metadata": {}
        },
        {
          "output_type": "display_data",
          "data": {
            "text/plain": [
              "('23.205.196.91', '172.28.0.12', '443', '34558')"
            ]
          },
          "metadata": {}
        },
        {
          "output_type": "display_data",
          "data": {
            "text/plain": [
              "{'direction': 'downlink',\n",
              " 'num_packets': 15,\n",
              " 'total_bytes': 7375.0,\n",
              " 'min_pkt_size': 52.0,\n",
              " 'max_pkt_size': 2948.0,\n",
              " 'mean_pkt_size': 491.6666666666667,\n",
              " 'std_pkt_size': 811.1348898449688,\n",
              " 'min_iat': 1e-06,\n",
              " 'max_iat': 0.07028,\n",
              " 'mean_iat': 0.009068999999999999,\n",
              " 'std_iat': 0.018936436737350886,\n",
              " 'dur': 0.126966,\n",
              " 'dport': '34558',\n",
              " 'sport': '443'}"
            ]
          },
          "metadata": {}
        },
        {
          "output_type": "display_data",
          "data": {
            "text/plain": [
              "('23.205.196.91', '172.28.0.12', '443', '34560')"
            ]
          },
          "metadata": {}
        },
        {
          "output_type": "display_data",
          "data": {
            "text/plain": [
              "{'direction': 'downlink',\n",
              " 'num_packets': 14,\n",
              " 'total_bytes': 7319.0,\n",
              " 'min_pkt_size': 52.0,\n",
              " 'max_pkt_size': 2948.0,\n",
              " 'mean_pkt_size': 522.7857142857143,\n",
              " 'std_pkt_size': 832.26042323777,\n",
              " 'min_iat': 0.0,\n",
              " 'max_iat': 0.06967,\n",
              " 'mean_iat': 0.014842999999999999,\n",
              " 'std_iat': 0.024060761691323627,\n",
              " 'dur': 0.192959,\n",
              " 'dport': '34560',\n",
              " 'sport': '443'}"
            ]
          },
          "metadata": {}
        },
        {
          "output_type": "display_data",
          "data": {
            "text/plain": [
              "('23.205.196.91', '172.28.0.12', '443', '34574')"
            ]
          },
          "metadata": {}
        },
        {
          "output_type": "display_data",
          "data": {
            "text/plain": [
              "{'direction': 'downlink',\n",
              " 'num_packets': 15,\n",
              " 'total_bytes': 7375.0,\n",
              " 'min_pkt_size': 52.0,\n",
              " 'max_pkt_size': 2948.0,\n",
              " 'mean_pkt_size': 491.6666666666667,\n",
              " 'std_pkt_size': 811.1348898449688,\n",
              " 'min_iat': 0.0,\n",
              " 'max_iat': 0.070571,\n",
              " 'mean_iat': 0.00900157142857143,\n",
              " 'std_iat': 0.018993947966145935,\n",
              " 'dur': 0.12602200000000002,\n",
              " 'dport': '34574',\n",
              " 'sport': '443'}"
            ]
          },
          "metadata": {}
        },
        {
          "output_type": "display_data",
          "data": {
            "text/plain": [
              "('23.205.196.91', '172.28.0.12', '443', '34582')"
            ]
          },
          "metadata": {}
        },
        {
          "output_type": "display_data",
          "data": {
            "text/plain": [
              "{'direction': 'downlink',\n",
              " 'num_packets': 15,\n",
              " 'total_bytes': 7375.0,\n",
              " 'min_pkt_size': 52.0,\n",
              " 'max_pkt_size': 2948.0,\n",
              " 'mean_pkt_size': 491.6666666666667,\n",
              " 'std_pkt_size': 811.1348898449688,\n",
              " 'min_iat': 1e-06,\n",
              " 'max_iat': 0.070895,\n",
              " 'mean_iat': 0.009239357142857145,\n",
              " 'std_iat': 0.019144791324604126,\n",
              " 'dur': 0.12935100000000002,\n",
              " 'dport': '34582',\n",
              " 'sport': '443'}"
            ]
          },
          "metadata": {}
        },
        {
          "output_type": "display_data",
          "data": {
            "text/plain": [
              "('23.205.196.91', '172.28.0.12', '443', '34584')"
            ]
          },
          "metadata": {}
        },
        {
          "output_type": "display_data",
          "data": {
            "text/plain": [
              "{'direction': 'downlink',\n",
              " 'num_packets': 15,\n",
              " 'total_bytes': 7371.0,\n",
              " 'min_pkt_size': 52.0,\n",
              " 'max_pkt_size': 2948.0,\n",
              " 'mean_pkt_size': 491.4,\n",
              " 'std_pkt_size': 811.1459970753899,\n",
              " 'min_iat': 1e-06,\n",
              " 'max_iat': 0.072685,\n",
              " 'mean_iat': 0.009083428571428572,\n",
              " 'std_iat': 0.01947253279608242,\n",
              " 'dur': 0.127168,\n",
              " 'dport': '34584',\n",
              " 'sport': '443'}"
            ]
          },
          "metadata": {}
        },
        {
          "output_type": "display_data",
          "data": {
            "text/plain": [
              "('23.205.196.91', '172.28.0.12', '443', '34600')"
            ]
          },
          "metadata": {}
        },
        {
          "output_type": "display_data",
          "data": {
            "text/plain": [
              "{'direction': 'downlink',\n",
              " 'num_packets': 14,\n",
              " 'total_bytes': 7323.0,\n",
              " 'min_pkt_size': 52.0,\n",
              " 'max_pkt_size': 2948.0,\n",
              " 'mean_pkt_size': 523.0714285714286,\n",
              " 'std_pkt_size': 832.2371577940911,\n",
              " 'min_iat': 2e-06,\n",
              " 'max_iat': 0.102846,\n",
              " 'mean_iat': 0.015095461538461539,\n",
              " 'std_iat': 0.02821036664837764,\n",
              " 'dur': 0.196241,\n",
              " 'dport': '34600',\n",
              " 'sport': '443'}"
            ]
          },
          "metadata": {}
        },
        {
          "output_type": "display_data",
          "data": {
            "text/plain": [
              "('23.205.196.91', '172.28.0.12', '443', '44920')"
            ]
          },
          "metadata": {}
        },
        {
          "output_type": "display_data",
          "data": {
            "text/plain": [
              "{'direction': 'downlink',\n",
              " 'num_packets': 14,\n",
              " 'total_bytes': 7319.0,\n",
              " 'min_pkt_size': 52.0,\n",
              " 'max_pkt_size': 2948.0,\n",
              " 'mean_pkt_size': 522.7857142857143,\n",
              " 'std_pkt_size': 832.26042323777,\n",
              " 'min_iat': 1e-06,\n",
              " 'max_iat': 0.070246,\n",
              " 'mean_iat': 0.010487384615384617,\n",
              " 'std_iat': 0.019897028385910887,\n",
              " 'dur': 0.136336,\n",
              " 'dport': '44920',\n",
              " 'sport': '443'}"
            ]
          },
          "metadata": {}
        },
        {
          "output_type": "display_data",
          "data": {
            "text/plain": [
              "('23.205.196.91', '172.28.0.12', '443', '44932')"
            ]
          },
          "metadata": {}
        },
        {
          "output_type": "display_data",
          "data": {
            "text/plain": [
              "{'direction': 'downlink',\n",
              " 'num_packets': 14,\n",
              " 'total_bytes': 7319.0,\n",
              " 'min_pkt_size': 52.0,\n",
              " 'max_pkt_size': 2948.0,\n",
              " 'mean_pkt_size': 522.7857142857143,\n",
              " 'std_pkt_size': 832.26042323777,\n",
              " 'min_iat': 1e-06,\n",
              " 'max_iat': 0.073191,\n",
              " 'mean_iat': 0.012896692307692305,\n",
              " 'std_iat': 0.020847223693594534,\n",
              " 'dur': 0.16765699999999997,\n",
              " 'dport': '44932',\n",
              " 'sport': '443'}"
            ]
          },
          "metadata": {}
        },
        {
          "output_type": "display_data",
          "data": {
            "text/plain": [
              "('23.205.196.91', '172.28.0.12', '443', '44934')"
            ]
          },
          "metadata": {}
        },
        {
          "output_type": "display_data",
          "data": {
            "text/plain": [
              "{'direction': 'downlink',\n",
              " 'num_packets': 15,\n",
              " 'total_bytes': 7387.0,\n",
              " 'min_pkt_size': 52.0,\n",
              " 'max_pkt_size': 2948.0,\n",
              " 'mean_pkt_size': 492.46666666666664,\n",
              " 'std_pkt_size': 810.6760729404162,\n",
              " 'min_iat': 1e-06,\n",
              " 'max_iat': 0.070687,\n",
              " 'mean_iat': 0.013510357142857143,\n",
              " 'std_iat': 0.02166334530458568,\n",
              " 'dur': 0.189145,\n",
              " 'dport': '44934',\n",
              " 'sport': '443'}"
            ]
          },
          "metadata": {}
        },
        {
          "output_type": "display_data",
          "data": {
            "text/plain": [
              "('23.222.168.136', '172.28.0.12', '443', '36656')"
            ]
          },
          "metadata": {}
        },
        {
          "output_type": "display_data",
          "data": {
            "text/plain": [
              "{'direction': 'downlink',\n",
              " 'num_packets': 166,\n",
              " 'total_bytes': 2081931.0,\n",
              " 'min_pkt_size': 52.0,\n",
              " 'max_pkt_size': 56524.0,\n",
              " 'mean_pkt_size': 12541.753012048193,\n",
              " 'std_pkt_size': 14429.687406025014,\n",
              " 'min_iat': 1e-06,\n",
              " 'max_iat': 0.070522,\n",
              " 'mean_iat': 0.0014065090909090908,\n",
              " 'std_iat': 0.005779454073317616,\n",
              " 'dur': 0.23207399999999997,\n",
              " 'dport': '36656',\n",
              " 'sport': '443'}"
            ]
          },
          "metadata": {}
        },
        {
          "output_type": "display_data",
          "data": {
            "text/plain": [
              "('23.222.168.136', '172.28.0.12', '443', '36658')"
            ]
          },
          "metadata": {}
        },
        {
          "output_type": "display_data",
          "data": {
            "text/plain": [
              "{'direction': 'downlink',\n",
              " 'num_packets': 181,\n",
              " 'total_bytes': 2082713.0,\n",
              " 'min_pkt_size': 52.0,\n",
              " 'max_pkt_size': 56524.0,\n",
              " 'mean_pkt_size': 11506.701657458563,\n",
              " 'std_pkt_size': 13060.622699951837,\n",
              " 'min_iat': 1e-06,\n",
              " 'max_iat': 0.105041,\n",
              " 'mean_iat': 0.001865816666666667,\n",
              " 'std_iat': 0.00827972151818617,\n",
              " 'dur': 0.33584700000000006,\n",
              " 'dport': '36658',\n",
              " 'sport': '443'}"
            ]
          },
          "metadata": {}
        },
        {
          "output_type": "display_data",
          "data": {
            "text/plain": [
              "('23.222.168.136', '172.28.0.12', '443', '36666')"
            ]
          },
          "metadata": {}
        },
        {
          "output_type": "display_data",
          "data": {
            "text/plain": [
              "{'direction': 'downlink',\n",
              " 'num_packets': 169,\n",
              " 'total_bytes': 2082090.0,\n",
              " 'min_pkt_size': 52.0,\n",
              " 'max_pkt_size': 56524.0,\n",
              " 'mean_pkt_size': 12320.059171597633,\n",
              " 'std_pkt_size': 15370.740382725373,\n",
              " 'min_iat': 1e-06,\n",
              " 'max_iat': 0.104999,\n",
              " 'mean_iat': 0.001565345238095238,\n",
              " 'std_iat': 0.008265276995976402,\n",
              " 'dur': 0.262978,\n",
              " 'dport': '36666',\n",
              " 'sport': '443'}"
            ]
          },
          "metadata": {}
        },
        {
          "output_type": "display_data",
          "data": {
            "text/plain": [
              "('23.222.168.136', '172.28.0.12', '443', '36680')"
            ]
          },
          "metadata": {}
        },
        {
          "output_type": "display_data",
          "data": {
            "text/plain": [
              "{'direction': 'downlink',\n",
              " 'num_packets': 157,\n",
              " 'total_bytes': 2081465.0,\n",
              " 'min_pkt_size': 52.0,\n",
              " 'max_pkt_size': 56524.0,\n",
              " 'mean_pkt_size': 13257.738853503184,\n",
              " 'std_pkt_size': 15095.913243090125,\n",
              " 'min_iat': 1e-06,\n",
              " 'max_iat': 0.069667,\n",
              " 'mean_iat': 0.0015532948717948715,\n",
              " 'std_iat': 0.006289303876775645,\n",
              " 'dur': 0.24231399999999997,\n",
              " 'dport': '36680',\n",
              " 'sport': '443'}"
            ]
          },
          "metadata": {}
        },
        {
          "output_type": "display_data",
          "data": {
            "text/plain": [
              "('23.222.168.136', '172.28.0.12', '443', '36696')"
            ]
          },
          "metadata": {}
        },
        {
          "output_type": "display_data",
          "data": {
            "text/plain": [
              "{'direction': 'downlink',\n",
              " 'num_packets': 197,\n",
              " 'total_bytes': 2083546.0,\n",
              " 'min_pkt_size': 52.0,\n",
              " 'max_pkt_size': 56524.0,\n",
              " 'mean_pkt_size': 10576.375634517766,\n",
              " 'std_pkt_size': 12540.79367142284,\n",
              " 'min_iat': 1e-06,\n",
              " 'max_iat': 0.072973,\n",
              " 'mean_iat': 0.0016101836734693877,\n",
              " 'std_iat': 0.0065278267657804595,\n",
              " 'dur': 0.315596,\n",
              " 'dport': '36696',\n",
              " 'sport': '443'}"
            ]
          },
          "metadata": {}
        },
        {
          "output_type": "display_data",
          "data": {
            "text/plain": [
              "('23.222.168.136', '172.28.0.12', '443', '36710')"
            ]
          },
          "metadata": {}
        },
        {
          "output_type": "display_data",
          "data": {
            "text/plain": [
              "{'direction': 'downlink',\n",
              " 'num_packets': 161,\n",
              " 'total_bytes': 2081673.0,\n",
              " 'min_pkt_size': 52.0,\n",
              " 'max_pkt_size': 56524.0,\n",
              " 'mean_pkt_size': 12929.645962732919,\n",
              " 'std_pkt_size': 15461.813010369264,\n",
              " 'min_iat': 1e-06,\n",
              " 'max_iat': 0.069495,\n",
              " 'mean_iat': 0.0014196,\n",
              " 'std_iat': 0.0059316938667046785,\n",
              " 'dur': 0.227136,\n",
              " 'dport': '36710',\n",
              " 'sport': '443'}"
            ]
          },
          "metadata": {}
        },
        {
          "output_type": "display_data",
          "data": {
            "text/plain": [
              "('23.222.168.136', '172.28.0.12', '443', '40702')"
            ]
          },
          "metadata": {}
        },
        {
          "output_type": "display_data",
          "data": {
            "text/plain": [
              "{'direction': 'downlink',\n",
              " 'num_packets': 177,\n",
              " 'total_bytes': 2082506.0,\n",
              " 'min_pkt_size': 52.0,\n",
              " 'max_pkt_size': 56524.0,\n",
              " 'mean_pkt_size': 11765.570621468927,\n",
              " 'std_pkt_size': 14457.868220627865,\n",
              " 'min_iat': 1e-06,\n",
              " 'max_iat': 0.072732,\n",
              " 'mean_iat': 0.0015788238636363638,\n",
              " 'std_iat': 0.006337311009541495,\n",
              " 'dur': 0.27787300000000004,\n",
              " 'dport': '40702',\n",
              " 'sport': '443'}"
            ]
          },
          "metadata": {}
        },
        {
          "output_type": "display_data",
          "data": {
            "text/plain": [
              "('23.222.168.136', '172.28.0.12', '443', '40704')"
            ]
          },
          "metadata": {}
        },
        {
          "output_type": "display_data",
          "data": {
            "text/plain": [
              "{'direction': 'downlink',\n",
              " 'num_packets': 160,\n",
              " 'total_bytes': 2081621.0,\n",
              " 'min_pkt_size': 52.0,\n",
              " 'max_pkt_size': 56524.0,\n",
              " 'mean_pkt_size': 13010.13125,\n",
              " 'std_pkt_size': 15202.226493304666,\n",
              " 'min_iat': 1e-06,\n",
              " 'max_iat': 0.071163,\n",
              " 'mean_iat': 0.001427427672955975,\n",
              " 'std_iat': 0.006017890663994014,\n",
              " 'dur': 0.22696100000000002,\n",
              " 'dport': '40704',\n",
              " 'sport': '443'}"
            ]
          },
          "metadata": {}
        },
        {
          "output_type": "display_data",
          "data": {
            "text/plain": [
              "('23.222.168.136', '172.28.0.12', '443', '40716')"
            ]
          },
          "metadata": {}
        },
        {
          "output_type": "display_data",
          "data": {
            "text/plain": [
              "{'direction': 'downlink',\n",
              " 'num_packets': 172,\n",
              " 'total_bytes': 2082256.0,\n",
              " 'min_pkt_size': 52.0,\n",
              " 'max_pkt_size': 56524.0,\n",
              " 'mean_pkt_size': 12106.139534883721,\n",
              " 'std_pkt_size': 15008.934139109013,\n",
              " 'min_iat': 1e-06,\n",
              " 'max_iat': 0.069527,\n",
              " 'mean_iat': 0.0017678070175438595,\n",
              " 'std_iat': 0.006710262836366915,\n",
              " 'dur': 0.302295,\n",
              " 'dport': '40716',\n",
              " 'sport': '443'}"
            ]
          },
          "metadata": {}
        },
        {
          "output_type": "display_data",
          "data": {
            "text/plain": [
              "('23.222.168.136', '172.28.0.12', '443', '40726')"
            ]
          },
          "metadata": {}
        },
        {
          "output_type": "display_data",
          "data": {
            "text/plain": [
              "{'direction': 'downlink',\n",
              " 'num_packets': 169,\n",
              " 'total_bytes': 2082089.0,\n",
              " 'min_pkt_size': 52.0,\n",
              " 'max_pkt_size': 56524.0,\n",
              " 'mean_pkt_size': 12320.05325443787,\n",
              " 'std_pkt_size': 14393.988555602431,\n",
              " 'min_iat': 0.0,\n",
              " 'max_iat': 0.070789,\n",
              " 'mean_iat': 0.0013818988095238096,\n",
              " 'std_iat': 0.005854790376688872,\n",
              " 'dur': 0.232159,\n",
              " 'dport': '40726',\n",
              " 'sport': '443'}"
            ]
          },
          "metadata": {}
        },
        {
          "output_type": "display_data",
          "data": {
            "text/plain": [
              "('23.47.202.17', '172.28.0.12', '443', '38170')"
            ]
          },
          "metadata": {}
        },
        {
          "output_type": "display_data",
          "data": {
            "text/plain": [
              "{'direction': 'downlink',\n",
              " 'num_packets': 192,\n",
              " 'total_bytes': 682474.0,\n",
              " 'min_pkt_size': 52.0,\n",
              " 'max_pkt_size': 8740.0,\n",
              " 'mean_pkt_size': 3554.5520833333335,\n",
              " 'std_pkt_size': 1954.8918255568885,\n",
              " 'min_iat': 1e-06,\n",
              " 'max_iat': 0.163909,\n",
              " 'mean_iat': 0.003560214659685863,\n",
              " 'std_iat': 0.015672303804415266,\n",
              " 'dur': 0.6800009999999999,\n",
              " 'dport': '38170',\n",
              " 'sport': '443'}"
            ]
          },
          "metadata": {}
        },
        {
          "output_type": "display_data",
          "data": {
            "text/plain": [
              "('23.47.202.17', '172.28.0.12', '443', '38178')"
            ]
          },
          "metadata": {}
        },
        {
          "output_type": "display_data",
          "data": {
            "text/plain": [
              "{'direction': 'downlink',\n",
              " 'num_packets': 186,\n",
              " 'total_bytes': 682153.0,\n",
              " 'min_pkt_size': 52.0,\n",
              " 'max_pkt_size': 10188.0,\n",
              " 'mean_pkt_size': 3667.489247311828,\n",
              " 'std_pkt_size': 1933.0913548951173,\n",
              " 'min_iat': 1e-06,\n",
              " 'max_iat': 0.097754,\n",
              " 'mean_iat': 0.0023971675675675676,\n",
              " 'std_iat': 0.009337238092422973,\n",
              " 'dur': 0.443476,\n",
              " 'dport': '38178',\n",
              " 'sport': '443'}"
            ]
          },
          "metadata": {}
        },
        {
          "output_type": "display_data",
          "data": {
            "text/plain": [
              "('23.47.202.17', '172.28.0.12', '443', '38194')"
            ]
          },
          "metadata": {}
        },
        {
          "output_type": "display_data",
          "data": {
            "text/plain": [
              "{'direction': 'downlink',\n",
              " 'num_packets': 186,\n",
              " 'total_bytes': 682132.0,\n",
              " 'min_pkt_size': 52.0,\n",
              " 'max_pkt_size': 8740.0,\n",
              " 'mean_pkt_size': 3667.3763440860216,\n",
              " 'std_pkt_size': 2020.2776390092072,\n",
              " 'min_iat': 2e-06,\n",
              " 'max_iat': 0.132478,\n",
              " 'mean_iat': 0.0026087891891891893,\n",
              " 'std_iat': 0.01092020009043332,\n",
              " 'dur': 0.482626,\n",
              " 'dport': '38194',\n",
              " 'sport': '443'}"
            ]
          },
          "metadata": {}
        },
        {
          "output_type": "display_data",
          "data": {
            "text/plain": [
              "('23.47.202.17', '172.28.0.12', '443', '38208')"
            ]
          },
          "metadata": {}
        },
        {
          "output_type": "display_data",
          "data": {
            "text/plain": [
              "{'direction': 'downlink',\n",
              " 'num_packets': 175,\n",
              " 'total_bytes': 681582.0,\n",
              " 'min_pkt_size': 52.0,\n",
              " 'max_pkt_size': 10188.0,\n",
              " 'mean_pkt_size': 3894.7542857142857,\n",
              " 'std_pkt_size': 2102.3742987753317,\n",
              " 'min_iat': 0.0,\n",
              " 'max_iat': 0.104637,\n",
              " 'mean_iat': 0.0030350287356321836,\n",
              " 'std_iat': 0.011404190749053083,\n",
              " 'dur': 0.528095,\n",
              " 'dport': '38208',\n",
              " 'sport': '443'}"
            ]
          },
          "metadata": {}
        },
        {
          "output_type": "display_data",
          "data": {
            "text/plain": [
              "('23.47.202.17', '172.28.0.12', '443', '38218')"
            ]
          },
          "metadata": {}
        },
        {
          "output_type": "display_data",
          "data": {
            "text/plain": [
              "{'direction': 'downlink',\n",
              " 'num_packets': 183,\n",
              " 'total_bytes': 681998.0,\n",
              " 'min_pkt_size': 52.0,\n",
              " 'max_pkt_size': 10188.0,\n",
              " 'mean_pkt_size': 3726.7650273224044,\n",
              " 'std_pkt_size': 2077.6496056950787,\n",
              " 'min_iat': 1e-06,\n",
              " 'max_iat': 0.097401,\n",
              " 'mean_iat': 0.002473906593406594,\n",
              " 'std_iat': 0.00971057245822125,\n",
              " 'dur': 0.45025100000000007,\n",
              " 'dport': '38218',\n",
              " 'sport': '443'}"
            ]
          },
          "metadata": {}
        },
        {
          "output_type": "display_data",
          "data": {
            "text/plain": [
              "('23.47.202.17', '172.28.0.12', '443', '38224')"
            ]
          },
          "metadata": {}
        },
        {
          "output_type": "display_data",
          "data": {
            "text/plain": [
              "{'direction': 'downlink',\n",
              " 'num_packets': 186,\n",
              " 'total_bytes': 682131.0,\n",
              " 'min_pkt_size': 52.0,\n",
              " 'max_pkt_size': 8740.0,\n",
              " 'mean_pkt_size': 3667.3709677419356,\n",
              " 'std_pkt_size': 1936.417058332533,\n",
              " 'min_iat': 1e-06,\n",
              " 'max_iat': 0.098076,\n",
              " 'mean_iat': 0.003027313513513513,\n",
              " 'std_iat': 0.01182379111842072,\n",
              " 'dur': 0.5600529999999999,\n",
              " 'dport': '38224',\n",
              " 'sport': '443'}"
            ]
          },
          "metadata": {}
        },
        {
          "output_type": "display_data",
          "data": {
            "text/plain": [
              "('23.47.202.17', '172.28.0.12', '443', '38232')"
            ]
          },
          "metadata": {}
        },
        {
          "output_type": "display_data",
          "data": {
            "text/plain": [
              "{'direction': 'downlink',\n",
              " 'num_packets': 180,\n",
              " 'total_bytes': 681841.0,\n",
              " 'min_pkt_size': 52.0,\n",
              " 'max_pkt_size': 11636.0,\n",
              " 'mean_pkt_size': 3788.0055555555555,\n",
              " 'std_pkt_size': 2036.5640345955412,\n",
              " 'min_iat': 1e-06,\n",
              " 'max_iat': 0.098813,\n",
              " 'mean_iat': 0.002519754189944134,\n",
              " 'std_iat': 0.008923045647346606,\n",
              " 'dur': 0.451036,\n",
              " 'dport': '38232',\n",
              " 'sport': '443'}"
            ]
          },
          "metadata": {}
        },
        {
          "output_type": "display_data",
          "data": {
            "text/plain": [
              "('23.47.202.17', '172.28.0.12', '443', '47254')"
            ]
          },
          "metadata": {}
        },
        {
          "output_type": "display_data",
          "data": {
            "text/plain": [
              "{'direction': 'downlink',\n",
              " 'num_packets': 180,\n",
              " 'total_bytes': 681840.0,\n",
              " 'min_pkt_size': 52.0,\n",
              " 'max_pkt_size': 10188.0,\n",
              " 'mean_pkt_size': 3788.0,\n",
              " 'std_pkt_size': 1999.6863022140672,\n",
              " 'min_iat': 1e-06,\n",
              " 'max_iat': 0.099674,\n",
              " 'mean_iat': 0.0024590614525139666,\n",
              " 'std_iat': 0.009042837480484185,\n",
              " 'dur': 0.44017200000000006,\n",
              " 'dport': '47254',\n",
              " 'sport': '443'}"
            ]
          },
          "metadata": {}
        },
        {
          "output_type": "display_data",
          "data": {
            "text/plain": [
              "('23.47.202.17', '172.28.0.12', '443', '47270')"
            ]
          },
          "metadata": {}
        },
        {
          "output_type": "display_data",
          "data": {
            "text/plain": [
              "{'direction': 'downlink',\n",
              " 'num_packets': 190,\n",
              " 'total_bytes': 682362.0,\n",
              " 'min_pkt_size': 52.0,\n",
              " 'max_pkt_size': 10188.0,\n",
              " 'mean_pkt_size': 3591.378947368421,\n",
              " 'std_pkt_size': 1837.9281191012376,\n",
              " 'min_iat': 1e-06,\n",
              " 'max_iat': 0.099758,\n",
              " 'mean_iat': 0.0023052116402116404,\n",
              " 'std_iat': 0.008680596887732468,\n",
              " 'dur': 0.435685,\n",
              " 'dport': '47270',\n",
              " 'sport': '443'}"
            ]
          },
          "metadata": {}
        },
        {
          "output_type": "display_data",
          "data": {
            "text/plain": [
              "('23.47.202.17', '172.28.0.12', '443', '47276')"
            ]
          },
          "metadata": {}
        },
        {
          "output_type": "display_data",
          "data": {
            "text/plain": [
              "{'direction': 'downlink',\n",
              " 'num_packets': 199,\n",
              " 'total_bytes': 682838.0,\n",
              " 'min_pkt_size': 52.0,\n",
              " 'max_pkt_size': 8740.0,\n",
              " 'mean_pkt_size': 3431.3467336683416,\n",
              " 'std_pkt_size': 1936.9189256711586,\n",
              " 'min_iat': 1e-06,\n",
              " 'max_iat': 0.097404,\n",
              " 'mean_iat': 0.0027055101010101004,\n",
              " 'std_iat': 0.010217786772353304,\n",
              " 'dur': 0.5356909999999999,\n",
              " 'dport': '47276',\n",
              " 'sport': '443'}"
            ]
          },
          "metadata": {}
        },
        {
          "output_type": "display_data",
          "data": {
            "text/plain": [
              "('23.55.124.91', '172.28.0.12', '443', '47642')"
            ]
          },
          "metadata": {}
        },
        {
          "output_type": "display_data",
          "data": {
            "text/plain": [
              "{'direction': 'downlink',\n",
              " 'num_packets': 96,\n",
              " 'total_bytes': 233168.0,\n",
              " 'min_pkt_size': 52.0,\n",
              " 'max_pkt_size': 2948.0,\n",
              " 'mean_pkt_size': 2428.8333333333335,\n",
              " 'std_pkt_size': 971.2212460464042,\n",
              " 'min_iat': 1e-06,\n",
              " 'max_iat': 0.092135,\n",
              " 'mean_iat': 0.005856536842105263,\n",
              " 'std_iat': 0.015175590295792645,\n",
              " 'dur': 0.556371,\n",
              " 'dport': '47642',\n",
              " 'sport': '443'}"
            ]
          },
          "metadata": {}
        },
        {
          "output_type": "display_data",
          "data": {
            "text/plain": [
              "('23.55.124.91', '172.28.0.12', '443', '47644')"
            ]
          },
          "metadata": {}
        },
        {
          "output_type": "display_data",
          "data": {
            "text/plain": [
              "{'direction': 'downlink',\n",
              " 'num_packets': 91,\n",
              " 'total_bytes': 232897.0,\n",
              " 'min_pkt_size': 52.0,\n",
              " 'max_pkt_size': 4396.0,\n",
              " 'mean_pkt_size': 2559.3076923076924,\n",
              " 'std_pkt_size': 1001.8445509526438,\n",
              " 'min_iat': 0.0,\n",
              " 'max_iat': 0.092125,\n",
              " 'mean_iat': 0.004082777777777778,\n",
              " 'std_iat': 0.01337712405377413,\n",
              " 'dur': 0.36745,\n",
              " 'dport': '47644',\n",
              " 'sport': '443'}"
            ]
          },
          "metadata": {}
        },
        {
          "output_type": "display_data",
          "data": {
            "text/plain": [
              "('23.55.124.91', '172.28.0.12', '443', '47654')"
            ]
          },
          "metadata": {}
        },
        {
          "output_type": "display_data",
          "data": {
            "text/plain": [
              "{'direction': 'downlink',\n",
              " 'num_packets': 88,\n",
              " 'total_bytes': 232743.0,\n",
              " 'min_pkt_size': 52.0,\n",
              " 'max_pkt_size': 4396.0,\n",
              " 'mean_pkt_size': 2644.806818181818,\n",
              " 'std_pkt_size': 1034.8945846472907,\n",
              " 'min_iat': 0.0,\n",
              " 'max_iat': 0.089734,\n",
              " 'mean_iat': 0.0034166551724137944,\n",
              " 'std_iat': 0.011050280790736944,\n",
              " 'dur': 0.2972490000000001,\n",
              " 'dport': '47654',\n",
              " 'sport': '443'}"
            ]
          },
          "metadata": {}
        },
        {
          "output_type": "display_data",
          "data": {
            "text/plain": [
              "('23.55.124.91', '172.28.0.12', '443', '47662')"
            ]
          },
          "metadata": {}
        },
        {
          "output_type": "display_data",
          "data": {
            "text/plain": [
              "{'direction': 'downlink',\n",
              " 'num_packets': 93,\n",
              " 'total_bytes': 233012.0,\n",
              " 'min_pkt_size': 52.0,\n",
              " 'max_pkt_size': 2948.0,\n",
              " 'mean_pkt_size': 2505.505376344086,\n",
              " 'std_pkt_size': 954.4929068410676,\n",
              " 'min_iat': 1e-06,\n",
              " 'max_iat': 0.091117,\n",
              " 'mean_iat': 0.004306771739130434,\n",
              " 'std_iat': 0.012634788932344964,\n",
              " 'dur': 0.39622299999999994,\n",
              " 'dport': '47662',\n",
              " 'sport': '443'}"
            ]
          },
          "metadata": {}
        },
        {
          "output_type": "display_data",
          "data": {
            "text/plain": [
              "('23.55.124.91', '172.28.0.12', '443', '47672')"
            ]
          },
          "metadata": {}
        },
        {
          "output_type": "display_data",
          "data": {
            "text/plain": [
              "{'direction': 'downlink',\n",
              " 'num_packets': 89,\n",
              " 'total_bytes': 232803.0,\n",
              " 'min_pkt_size': 52.0,\n",
              " 'max_pkt_size': 4396.0,\n",
              " 'mean_pkt_size': 2615.7640449438204,\n",
              " 'std_pkt_size': 1091.3249976568507,\n",
              " 'min_iat': 1e-06,\n",
              " 'max_iat': 0.091969,\n",
              " 'mean_iat': 0.003579897727272728,\n",
              " 'std_iat': 0.011281857660721324,\n",
              " 'dur': 0.31503100000000006,\n",
              " 'dport': '47672',\n",
              " 'sport': '443'}"
            ]
          },
          "metadata": {}
        },
        {
          "output_type": "display_data",
          "data": {
            "text/plain": [
              "('23.55.124.91', '172.28.0.12', '443', '47674')"
            ]
          },
          "metadata": {}
        },
        {
          "output_type": "display_data",
          "data": {
            "text/plain": [
              "{'direction': 'downlink',\n",
              " 'num_packets': 94,\n",
              " 'total_bytes': 233063.0,\n",
              " 'min_pkt_size': 52.0,\n",
              " 'max_pkt_size': 2948.0,\n",
              " 'mean_pkt_size': 2479.3936170212764,\n",
              " 'std_pkt_size': 1008.2450122316511,\n",
              " 'min_iat': 1e-06,\n",
              " 'max_iat': 0.095586,\n",
              " 'mean_iat': 0.0045752258064516126,\n",
              " 'std_iat': 0.013670379848360368,\n",
              " 'dur': 0.425496,\n",
              " 'dport': '47674',\n",
              " 'sport': '443'}"
            ]
          },
          "metadata": {}
        },
        {
          "output_type": "display_data",
          "data": {
            "text/plain": [
              "('23.55.124.91', '172.28.0.12', '443', '47688')"
            ]
          },
          "metadata": {}
        },
        {
          "output_type": "display_data",
          "data": {
            "text/plain": [
              "{'direction': 'downlink',\n",
              " 'num_packets': 94,\n",
              " 'total_bytes': 233063.0,\n",
              " 'min_pkt_size': 52.0,\n",
              " 'max_pkt_size': 2948.0,\n",
              " 'mean_pkt_size': 2479.3936170212764,\n",
              " 'std_pkt_size': 994.1676068432595,\n",
              " 'min_iat': 1e-06,\n",
              " 'max_iat': 0.123051,\n",
              " 'mean_iat': 0.004114645161290322,\n",
              " 'std_iat': 0.014235059735252225,\n",
              " 'dur': 0.382662,\n",
              " 'dport': '47688',\n",
              " 'sport': '443'}"
            ]
          },
          "metadata": {}
        },
        {
          "output_type": "display_data",
          "data": {
            "text/plain": [
              "('23.55.124.91', '172.28.0.12', '443', '51724')"
            ]
          },
          "metadata": {}
        },
        {
          "output_type": "display_data",
          "data": {
            "text/plain": [
              "{'direction': 'downlink',\n",
              " 'num_packets': 93,\n",
              " 'total_bytes': 233013.0,\n",
              " 'min_pkt_size': 52.0,\n",
              " 'max_pkt_size': 2948.0,\n",
              " 'mean_pkt_size': 2505.516129032258,\n",
              " 'std_pkt_size': 965.9536132181507,\n",
              " 'min_iat': 1e-06,\n",
              " 'max_iat': 0.090607,\n",
              " 'mean_iat': 0.0042404782608695644,\n",
              " 'std_iat': 0.012274780108572532,\n",
              " 'dur': 0.3901239999999999,\n",
              " 'dport': '51724',\n",
              " 'sport': '443'}"
            ]
          },
          "metadata": {}
        },
        {
          "output_type": "display_data",
          "data": {
            "text/plain": [
              "('23.55.124.91', '172.28.0.12', '443', '51736')"
            ]
          },
          "metadata": {}
        },
        {
          "output_type": "display_data",
          "data": {
            "text/plain": [
              "{'direction': 'downlink',\n",
              " 'num_packets': 94,\n",
              " 'total_bytes': 233063.0,\n",
              " 'min_pkt_size': 52.0,\n",
              " 'max_pkt_size': 2948.0,\n",
              " 'mean_pkt_size': 2479.3936170212764,\n",
              " 'std_pkt_size': 986.09503803885,\n",
              " 'min_iat': 1e-06,\n",
              " 'max_iat': 0.091379,\n",
              " 'mean_iat': 0.004010365591397849,\n",
              " 'std_iat': 0.011468065972407853,\n",
              " 'dur': 0.37296399999999996,\n",
              " 'dport': '51736',\n",
              " 'sport': '443'}"
            ]
          },
          "metadata": {}
        },
        {
          "output_type": "display_data",
          "data": {
            "text/plain": [
              "('23.55.124.91', '172.28.0.12', '443', '51748')"
            ]
          },
          "metadata": {}
        },
        {
          "output_type": "display_data",
          "data": {
            "text/plain": [
              "{'direction': 'downlink',\n",
              " 'num_packets': 93,\n",
              " 'total_bytes': 233013.0,\n",
              " 'min_pkt_size': 52.0,\n",
              " 'max_pkt_size': 2948.0,\n",
              " 'mean_pkt_size': 2505.516129032258,\n",
              " 'std_pkt_size': 978.2611415926068,\n",
              " 'min_iat': 1e-06,\n",
              " 'max_iat': 0.09082,\n",
              " 'mean_iat': 0.0037059565217391296,\n",
              " 'std_iat': 0.011253369089575832,\n",
              " 'dur': 0.3409479999999999,\n",
              " 'dport': '51748',\n",
              " 'sport': '443'}"
            ]
          },
          "metadata": {}
        },
        {
          "output_type": "display_data",
          "data": {
            "text/plain": [
              "('23.63.209.133', '172.28.0.12', '443', '35578')"
            ]
          },
          "metadata": {}
        },
        {
          "output_type": "display_data",
          "data": {
            "text/plain": [
              "{'direction': 'downlink',\n",
              " 'num_packets': 13,\n",
              " 'total_bytes': 5620.0,\n",
              " 'min_pkt_size': 52.0,\n",
              " 'max_pkt_size': 2948.0,\n",
              " 'mean_pkt_size': 432.3076923076923,\n",
              " 'std_pkt_size': 787.4361756798013,\n",
              " 'min_iat': 1e-06,\n",
              " 'max_iat': 0.070958,\n",
              " 'mean_iat': 0.016205166666666666,\n",
              " 'std_iat': 0.022978052053024754,\n",
              " 'dur': 0.194462,\n",
              " 'dport': '35578',\n",
              " 'sport': '443'}"
            ]
          },
          "metadata": {}
        },
        {
          "output_type": "display_data",
          "data": {
            "text/plain": [
              "('23.63.209.133', '172.28.0.12', '443', '58698')"
            ]
          },
          "metadata": {}
        },
        {
          "output_type": "display_data",
          "data": {
            "text/plain": [
              "{'direction': 'downlink',\n",
              " 'num_packets': 15,\n",
              " 'total_bytes': 5737.0,\n",
              " 'min_pkt_size': 52.0,\n",
              " 'max_pkt_size': 2948.0,\n",
              " 'mean_pkt_size': 382.46666666666664,\n",
              " 'std_pkt_size': 740.8719637472232,\n",
              " 'min_iat': 1e-06,\n",
              " 'max_iat': 0.069832,\n",
              " 'mean_iat': 0.012528285714285714,\n",
              " 'std_iat': 0.022053071237109156,\n",
              " 'dur': 0.175396,\n",
              " 'dport': '58698',\n",
              " 'sport': '443'}"
            ]
          },
          "metadata": {}
        },
        {
          "output_type": "display_data",
          "data": {
            "text/plain": [
              "('23.63.209.133', '172.28.0.12', '443', '58704')"
            ]
          },
          "metadata": {}
        },
        {
          "output_type": "display_data",
          "data": {
            "text/plain": [
              "{'direction': 'downlink',\n",
              " 'num_packets': 14,\n",
              " 'total_bytes': 5672.0,\n",
              " 'min_pkt_size': 52.0,\n",
              " 'max_pkt_size': 2948.0,\n",
              " 'mean_pkt_size': 405.14285714285717,\n",
              " 'std_pkt_size': 763.3414254893623,\n",
              " 'min_iat': 0.0,\n",
              " 'max_iat': 0.073274,\n",
              " 'mean_iat': 0.01049953846153846,\n",
              " 'std_iat': 0.02084904693111648,\n",
              " 'dur': 0.13649399999999998,\n",
              " 'dport': '58704',\n",
              " 'sport': '443'}"
            ]
          },
          "metadata": {}
        },
        {
          "output_type": "display_data",
          "data": {
            "text/plain": [
              "('23.63.209.133', '172.28.0.12', '443', '58712')"
            ]
          },
          "metadata": {}
        },
        {
          "output_type": "display_data",
          "data": {
            "text/plain": [
              "{'direction': 'downlink',\n",
              " 'num_packets': 15,\n",
              " 'total_bytes': 5725.0,\n",
              " 'min_pkt_size': 52.0,\n",
              " 'max_pkt_size': 2948.0,\n",
              " 'mean_pkt_size': 381.6666666666667,\n",
              " 'std_pkt_size': 741.2467939383007,\n",
              " 'min_iat': 2e-06,\n",
              " 'max_iat': 0.104393,\n",
              " 'mean_iat': 0.010203499999999999,\n",
              " 'std_iat': 0.02780899013946611,\n",
              " 'dur': 0.14284899999999998,\n",
              " 'dport': '58712',\n",
              " 'sport': '443'}"
            ]
          },
          "metadata": {}
        },
        {
          "output_type": "display_data",
          "data": {
            "text/plain": [
              "('23.63.209.133', '172.28.0.12', '443', '58720')"
            ]
          },
          "metadata": {}
        },
        {
          "output_type": "display_data",
          "data": {
            "text/plain": [
              "{'direction': 'downlink',\n",
              " 'num_packets': 14,\n",
              " 'total_bytes': 5674.0,\n",
              " 'min_pkt_size': 52.0,\n",
              " 'max_pkt_size': 2948.0,\n",
              " 'mean_pkt_size': 405.2857142857143,\n",
              " 'std_pkt_size': 763.4262272122988,\n",
              " 'min_iat': 1e-06,\n",
              " 'max_iat': 0.105095,\n",
              " 'mean_iat': 0.01152753846153846,\n",
              " 'std_iat': 0.02910197124942852,\n",
              " 'dur': 0.149858,\n",
              " 'dport': '58720',\n",
              " 'sport': '443'}"
            ]
          },
          "metadata": {}
        },
        {
          "output_type": "display_data",
          "data": {
            "text/plain": [
              "('23.63.209.133', '172.28.0.12', '443', '58736')"
            ]
          },
          "metadata": {}
        },
        {
          "output_type": "display_data",
          "data": {
            "text/plain": [
              "{'direction': 'downlink',\n",
              " 'num_packets': 13,\n",
              " 'total_bytes': 5633.0,\n",
              " 'min_pkt_size': 52.0,\n",
              " 'max_pkt_size': 2948.0,\n",
              " 'mean_pkt_size': 433.3076923076923,\n",
              " 'std_pkt_size': 787.0016290342505,\n",
              " 'min_iat': 1e-06,\n",
              " 'max_iat': 0.072713,\n",
              " 'mean_iat': 0.014685416666666666,\n",
              " 'std_iat': 0.024606012083000933,\n",
              " 'dur': 0.176225,\n",
              " 'dport': '58736',\n",
              " 'sport': '443'}"
            ]
          },
          "metadata": {}
        },
        {
          "output_type": "display_data",
          "data": {
            "text/plain": [
              "('23.63.209.133', '172.28.0.12', '443', '58748')"
            ]
          },
          "metadata": {}
        },
        {
          "output_type": "display_data",
          "data": {
            "text/plain": [
              "{'direction': 'downlink',\n",
              " 'num_packets': 13,\n",
              " 'total_bytes': 5621.0,\n",
              " 'min_pkt_size': 52.0,\n",
              " 'max_pkt_size': 2948.0,\n",
              " 'mean_pkt_size': 432.38461538461536,\n",
              " 'std_pkt_size': 787.4777815343468,\n",
              " 'min_iat': 0.0,\n",
              " 'max_iat': 0.069004,\n",
              " 'mean_iat': 0.012063000000000003,\n",
              " 'std_iat': 0.021451206738676835,\n",
              " 'dur': 0.14475600000000002,\n",
              " 'dport': '58748',\n",
              " 'sport': '443'}"
            ]
          },
          "metadata": {}
        },
        {
          "output_type": "display_data",
          "data": {
            "text/plain": [
              "('23.63.209.133', '172.28.0.12', '443', '58760')"
            ]
          },
          "metadata": {}
        },
        {
          "output_type": "display_data",
          "data": {
            "text/plain": [
              "{'direction': 'downlink',\n",
              " 'num_packets': 14,\n",
              " 'total_bytes': 5686.0,\n",
              " 'min_pkt_size': 52.0,\n",
              " 'max_pkt_size': 2948.0,\n",
              " 'mean_pkt_size': 406.14285714285717,\n",
              " 'std_pkt_size': 763.0056817151956,\n",
              " 'min_iat': 1e-06,\n",
              " 'max_iat': 0.069715,\n",
              " 'mean_iat': 0.01423853846153846,\n",
              " 'std_iat': 0.02285119761856179,\n",
              " 'dur': 0.185101,\n",
              " 'dport': '58760',\n",
              " 'sport': '443'}"
            ]
          },
          "metadata": {}
        },
        {
          "output_type": "display_data",
          "data": {
            "text/plain": [
              "('23.63.209.133', '172.28.0.12', '443', '58764')"
            ]
          },
          "metadata": {}
        },
        {
          "output_type": "display_data",
          "data": {
            "text/plain": [
              "{'direction': 'downlink',\n",
              " 'num_packets': 13,\n",
              " 'total_bytes': 5621.0,\n",
              " 'min_pkt_size': 52.0,\n",
              " 'max_pkt_size': 2948.0,\n",
              " 'mean_pkt_size': 432.38461538461536,\n",
              " 'std_pkt_size': 787.4777815343468,\n",
              " 'min_iat': 1e-06,\n",
              " 'max_iat': 0.069063,\n",
              " 'mean_iat': 0.010819416666666666,\n",
              " 'std_iat': 0.020229429432740864,\n",
              " 'dur': 0.129833,\n",
              " 'dport': '58764',\n",
              " 'sport': '443'}"
            ]
          },
          "metadata": {}
        },
        {
          "output_type": "display_data",
          "data": {
            "text/plain": [
              "('23.63.209.133', '172.28.0.12', '443', '58768')"
            ]
          },
          "metadata": {}
        },
        {
          "output_type": "display_data",
          "data": {
            "text/plain": [
              "{'direction': 'downlink',\n",
              " 'num_packets': 13,\n",
              " 'total_bytes': 5622.0,\n",
              " 'min_pkt_size': 52.0,\n",
              " 'max_pkt_size': 2948.0,\n",
              " 'mean_pkt_size': 432.46153846153845,\n",
              " 'std_pkt_size': 787.5194828684786,\n",
              " 'min_iat': 0.0,\n",
              " 'max_iat': 0.070166,\n",
              " 'mean_iat': 0.013427583333333333,\n",
              " 'std_iat': 0.021601749337657117,\n",
              " 'dur': 0.161131,\n",
              " 'dport': '58768',\n",
              " 'sport': '443'}"
            ]
          },
          "metadata": {}
        },
        {
          "output_type": "display_data",
          "data": {
            "text/plain": [
              "('91.215.41.4', '172.28.0.12', '443', '44414')"
            ]
          },
          "metadata": {}
        },
        {
          "output_type": "display_data",
          "data": {
            "text/plain": [
              "{'direction': 'downlink',\n",
              " 'num_packets': 149,\n",
              " 'total_bytes': 397464.0,\n",
              " 'min_pkt_size': 52.0,\n",
              " 'max_pkt_size': 2828.0,\n",
              " 'mean_pkt_size': 2667.5436241610737,\n",
              " 'std_pkt_size': 616.1295327482807,\n",
              " 'min_iat': 1e-06,\n",
              " 'max_iat': 0.21838,\n",
              " 'mean_iat': 0.0073545337837837834,\n",
              " 'std_iat': 0.023583177870716322,\n",
              " 'dur': 1.088471,\n",
              " 'dport': '44414',\n",
              " 'sport': '443'}"
            ]
          },
          "metadata": {}
        },
        {
          "output_type": "display_data",
          "data": {
            "text/plain": [
              "('91.215.41.4', '172.28.0.12', '443', '44426')"
            ]
          },
          "metadata": {}
        },
        {
          "output_type": "display_data",
          "data": {
            "text/plain": [
              "{'direction': 'downlink',\n",
              " 'num_packets': 154,\n",
              " 'total_bytes': 397725.0,\n",
              " 'min_pkt_size': 52.0,\n",
              " 'max_pkt_size': 2828.0,\n",
              " 'mean_pkt_size': 2582.62987012987,\n",
              " 'std_pkt_size': 746.4337955425702,\n",
              " 'min_iat': 1e-06,\n",
              " 'max_iat': 0.182639,\n",
              " 'mean_iat': 0.007009209150326797,\n",
              " 'std_iat': 0.021500012760906125,\n",
              " 'dur': 1.072409,\n",
              " 'dport': '44426',\n",
              " 'sport': '443'}"
            ]
          },
          "metadata": {}
        },
        {
          "output_type": "display_data",
          "data": {
            "text/plain": [
              "('91.215.41.4', '172.28.0.12', '443', '44442')"
            ]
          },
          "metadata": {}
        },
        {
          "output_type": "display_data",
          "data": {
            "text/plain": [
              "{'direction': 'downlink',\n",
              " 'num_packets': 152,\n",
              " 'total_bytes': 397663.0,\n",
              " 'min_pkt_size': 52.0,\n",
              " 'max_pkt_size': 2828.0,\n",
              " 'mean_pkt_size': 2616.2039473684213,\n",
              " 'std_pkt_size': 691.5356875365385,\n",
              " 'min_iat': 1e-06,\n",
              " 'max_iat': 0.180993,\n",
              " 'mean_iat': 0.006825973509933776,\n",
              " 'std_iat': 0.02104544585540128,\n",
              " 'dur': 1.0307220000000001,\n",
              " 'dport': '44442',\n",
              " 'sport': '443'}"
            ]
          },
          "metadata": {}
        },
        {
          "output_type": "display_data",
          "data": {
            "text/plain": [
              "('91.215.41.4', '172.28.0.12', '443', '44454')"
            ]
          },
          "metadata": {}
        },
        {
          "output_type": "display_data",
          "data": {
            "text/plain": [
              "{'direction': 'downlink',\n",
              " 'num_packets': 151,\n",
              " 'total_bytes': 397569.0,\n",
              " 'min_pkt_size': 52.0,\n",
              " 'max_pkt_size': 2828.0,\n",
              " 'mean_pkt_size': 2632.907284768212,\n",
              " 'std_pkt_size': 662.4634163584018,\n",
              " 'min_iat': 1e-06,\n",
              " 'max_iat': 0.180581,\n",
              " 'mean_iat': 0.007005506666666667,\n",
              " 'std_iat': 0.021197763267704603,\n",
              " 'dur': 1.050826,\n",
              " 'dport': '44454',\n",
              " 'sport': '443'}"
            ]
          },
          "metadata": {}
        },
        {
          "output_type": "display_data",
          "data": {
            "text/plain": [
              "('91.215.41.4', '172.28.0.12', '443', '53368')"
            ]
          },
          "metadata": {}
        },
        {
          "output_type": "display_data",
          "data": {
            "text/plain": [
              "{'direction': 'downlink',\n",
              " 'num_packets': 151,\n",
              " 'total_bytes': 397568.0,\n",
              " 'min_pkt_size': 52.0,\n",
              " 'max_pkt_size': 2828.0,\n",
              " 'mean_pkt_size': 2632.900662251656,\n",
              " 'std_pkt_size': 680.5826989177913,\n",
              " 'min_iat': 1e-06,\n",
              " 'max_iat': 0.182819,\n",
              " 'mean_iat': 0.006922233333333333,\n",
              " 'std_iat': 0.02127174504234508,\n",
              " 'dur': 1.038335,\n",
              " 'dport': '53368',\n",
              " 'sport': '443'}"
            ]
          },
          "metadata": {}
        },
        {
          "output_type": "display_data",
          "data": {
            "text/plain": [
              "('91.215.41.4', '172.28.0.12', '443', '53384')"
            ]
          },
          "metadata": {}
        },
        {
          "output_type": "display_data",
          "data": {
            "text/plain": [
              "{'direction': 'downlink',\n",
              " 'num_packets': 153,\n",
              " 'total_bytes': 397694.0,\n",
              " 'min_pkt_size': 52.0,\n",
              " 'max_pkt_size': 2828.0,\n",
              " 'mean_pkt_size': 2599.3071895424837,\n",
              " 'std_pkt_size': 719.5348760890583,\n",
              " 'min_iat': 2e-06,\n",
              " 'max_iat': 0.217648,\n",
              " 'mean_iat': 0.007138427631578947,\n",
              " 'std_iat': 0.023227970318288917,\n",
              " 'dur': 1.085041,\n",
              " 'dport': '53384',\n",
              " 'sport': '443'}"
            ]
          },
          "metadata": {}
        },
        {
          "output_type": "display_data",
          "data": {
            "text/plain": [
              "('91.215.41.4', '172.28.0.12', '443', '53390')"
            ]
          },
          "metadata": {}
        },
        {
          "output_type": "display_data",
          "data": {
            "text/plain": [
              "{'direction': 'downlink',\n",
              " 'num_packets': 151,\n",
              " 'total_bytes': 397568.0,\n",
              " 'min_pkt_size': 52.0,\n",
              " 'max_pkt_size': 2828.0,\n",
              " 'mean_pkt_size': 2632.900662251656,\n",
              " 'std_pkt_size': 662.4748423396104,\n",
              " 'min_iat': 1e-06,\n",
              " 'max_iat': 0.181638,\n",
              " 'mean_iat': 0.006995306666666667,\n",
              " 'std_iat': 0.021264117756738424,\n",
              " 'dur': 1.049296,\n",
              " 'dport': '53390',\n",
              " 'sport': '443'}"
            ]
          },
          "metadata": {}
        },
        {
          "output_type": "display_data",
          "data": {
            "text/plain": [
              "('91.215.41.4', '172.28.0.12', '443', '53392')"
            ]
          },
          "metadata": {}
        },
        {
          "output_type": "display_data",
          "data": {
            "text/plain": [
              "{'direction': 'downlink',\n",
              " 'num_packets': 152,\n",
              " 'total_bytes': 397643.0,\n",
              " 'min_pkt_size': 52.0,\n",
              " 'max_pkt_size': 2828.0,\n",
              " 'mean_pkt_size': 2616.0723684210525,\n",
              " 'std_pkt_size': 727.2588751946039,\n",
              " 'min_iat': 1e-06,\n",
              " 'max_iat': 0.183038,\n",
              " 'mean_iat': 0.006964470198675496,\n",
              " 'std_iat': 0.02123805127808982,\n",
              " 'dur': 1.0516349999999999,\n",
              " 'dport': '53392',\n",
              " 'sport': '443'}"
            ]
          },
          "metadata": {}
        },
        {
          "output_type": "display_data",
          "data": {
            "text/plain": [
              "('91.215.41.4', '172.28.0.12', '443', '60116')"
            ]
          },
          "metadata": {}
        },
        {
          "output_type": "display_data",
          "data": {
            "text/plain": [
              "{'direction': 'downlink',\n",
              " 'num_packets': 152,\n",
              " 'total_bytes': 397598.0,\n",
              " 'min_pkt_size': 52.0,\n",
              " 'max_pkt_size': 2828.0,\n",
              " 'mean_pkt_size': 2615.7763157894738,\n",
              " 'std_pkt_size': 711.0805339713353,\n",
              " 'min_iat': 1e-06,\n",
              " 'max_iat': 0.182065,\n",
              " 'mean_iat': 0.0072601589403973495,\n",
              " 'std_iat': 0.021654306373588512,\n",
              " 'dur': 1.0962839999999998,\n",
              " 'dport': '60116',\n",
              " 'sport': '443'}"
            ]
          },
          "metadata": {}
        },
        {
          "output_type": "display_data",
          "data": {
            "text/plain": [
              "('91.215.41.4', '172.28.0.12', '443', '60120')"
            ]
          },
          "metadata": {}
        },
        {
          "output_type": "display_data",
          "data": {
            "text/plain": [
              "{'direction': 'downlink',\n",
              " 'num_packets': 156,\n",
              " 'total_bytes': 397806.0,\n",
              " 'min_pkt_size': 52.0,\n",
              " 'max_pkt_size': 2828.0,\n",
              " 'mean_pkt_size': 2550.0384615384614,\n",
              " 'std_pkt_size': 747.2800561918764,\n",
              " 'min_iat': 1e-06,\n",
              " 'max_iat': 0.183203,\n",
              " 'mean_iat': 0.00709094193548387,\n",
              " 'std_iat': 0.021451789826104482,\n",
              " 'dur': 1.0990959999999999,\n",
              " 'dport': '60120',\n",
              " 'sport': '443'}"
            ]
          },
          "metadata": {}
        }
      ]
    },
    {
      "cell_type": "code",
      "source": [
        "path = 'data/'\n",
        "tcpdumpfiles = [f for f in listdir(path) if isfile(join(path, f))]\n",
        "apps = np.unique([f.split('_')[0] for f in tcpdumpfiles])\n",
        "print(apps, len(apps), len(tcpdumpfiles))\n",
        "\n",
        "dataset = pd.DataFrame()\n",
        "for f in tcpdumpfiles:\n",
        "  print('Processing file  ', f)\n",
        "  df = pd.read_csv(join(path,f))\n",
        "  df_tcp = df[df[\"ip.proto\"]==6]\n",
        "  df_flows_tcp = df_tcp.groupby([\"ip.src\",\"ip.dst\",\"tcp.srcport\",\"tcp.dstport\"])\n",
        "  for flow,df_flow in df_flows_tcp: #flow is a tuple representing the flow, df_flow is the dataframe with all packets of the flow\n",
        "    flow_features = extract_features(flow,df_flow)\n",
        "    flow_features['app'] = df_flow['label'].iloc[0] ;\n",
        "    if(flow_features['direction']=='downlink'):\n",
        "      dataset = dataset.append(flow_features,ignore_index=True);\n",
        "\n",
        "display(dataset)\n",
        "dataset.to_csv('traffic_classification_dataset.csv', index=False, line_terminator='\\n')"
      ],
      "metadata": {
        "id": "1oJbWuY3NVi0",
        "colab": {
          "base_uri": "https://localhost:8080/",
          "height": 1000
        },
        "outputId": "23e9ccab-25ce-402d-ed5b-ba3be6f6f4e9"
      },
      "execution_count": 49,
      "outputs": [
        {
          "output_type": "stream",
          "name": "stdout",
          "text": [
            "['df'] 1 1\n",
            "Processing file   df_flows_tcp.csv\n"
          ]
        },
        {
          "output_type": "stream",
          "name": "stderr",
          "text": [
            "<ipython-input-49-5c7c19980f34>:16: FutureWarning: The frame.append method is deprecated and will be removed from pandas in a future version. Use pandas.concat instead.\n",
            "  dataset = dataset.append(flow_features,ignore_index=True);\n",
            "<ipython-input-49-5c7c19980f34>:16: FutureWarning: The frame.append method is deprecated and will be removed from pandas in a future version. Use pandas.concat instead.\n",
            "  dataset = dataset.append(flow_features,ignore_index=True);\n",
            "<ipython-input-49-5c7c19980f34>:16: FutureWarning: The frame.append method is deprecated and will be removed from pandas in a future version. Use pandas.concat instead.\n",
            "  dataset = dataset.append(flow_features,ignore_index=True);\n",
            "<ipython-input-49-5c7c19980f34>:16: FutureWarning: The frame.append method is deprecated and will be removed from pandas in a future version. Use pandas.concat instead.\n",
            "  dataset = dataset.append(flow_features,ignore_index=True);\n",
            "<ipython-input-49-5c7c19980f34>:16: FutureWarning: The frame.append method is deprecated and will be removed from pandas in a future version. Use pandas.concat instead.\n",
            "  dataset = dataset.append(flow_features,ignore_index=True);\n",
            "<ipython-input-49-5c7c19980f34>:16: FutureWarning: The frame.append method is deprecated and will be removed from pandas in a future version. Use pandas.concat instead.\n",
            "  dataset = dataset.append(flow_features,ignore_index=True);\n",
            "<ipython-input-49-5c7c19980f34>:16: FutureWarning: The frame.append method is deprecated and will be removed from pandas in a future version. Use pandas.concat instead.\n",
            "  dataset = dataset.append(flow_features,ignore_index=True);\n",
            "<ipython-input-49-5c7c19980f34>:16: FutureWarning: The frame.append method is deprecated and will be removed from pandas in a future version. Use pandas.concat instead.\n",
            "  dataset = dataset.append(flow_features,ignore_index=True);\n",
            "<ipython-input-49-5c7c19980f34>:16: FutureWarning: The frame.append method is deprecated and will be removed from pandas in a future version. Use pandas.concat instead.\n",
            "  dataset = dataset.append(flow_features,ignore_index=True);\n",
            "<ipython-input-49-5c7c19980f34>:16: FutureWarning: The frame.append method is deprecated and will be removed from pandas in a future version. Use pandas.concat instead.\n",
            "  dataset = dataset.append(flow_features,ignore_index=True);\n",
            "<ipython-input-49-5c7c19980f34>:16: FutureWarning: The frame.append method is deprecated and will be removed from pandas in a future version. Use pandas.concat instead.\n",
            "  dataset = dataset.append(flow_features,ignore_index=True);\n",
            "<ipython-input-49-5c7c19980f34>:16: FutureWarning: The frame.append method is deprecated and will be removed from pandas in a future version. Use pandas.concat instead.\n",
            "  dataset = dataset.append(flow_features,ignore_index=True);\n",
            "<ipython-input-49-5c7c19980f34>:16: FutureWarning: The frame.append method is deprecated and will be removed from pandas in a future version. Use pandas.concat instead.\n",
            "  dataset = dataset.append(flow_features,ignore_index=True);\n",
            "<ipython-input-49-5c7c19980f34>:16: FutureWarning: The frame.append method is deprecated and will be removed from pandas in a future version. Use pandas.concat instead.\n",
            "  dataset = dataset.append(flow_features,ignore_index=True);\n",
            "<ipython-input-49-5c7c19980f34>:16: FutureWarning: The frame.append method is deprecated and will be removed from pandas in a future version. Use pandas.concat instead.\n",
            "  dataset = dataset.append(flow_features,ignore_index=True);\n",
            "<ipython-input-49-5c7c19980f34>:16: FutureWarning: The frame.append method is deprecated and will be removed from pandas in a future version. Use pandas.concat instead.\n",
            "  dataset = dataset.append(flow_features,ignore_index=True);\n",
            "<ipython-input-49-5c7c19980f34>:16: FutureWarning: The frame.append method is deprecated and will be removed from pandas in a future version. Use pandas.concat instead.\n",
            "  dataset = dataset.append(flow_features,ignore_index=True);\n",
            "<ipython-input-49-5c7c19980f34>:16: FutureWarning: The frame.append method is deprecated and will be removed from pandas in a future version. Use pandas.concat instead.\n",
            "  dataset = dataset.append(flow_features,ignore_index=True);\n",
            "<ipython-input-49-5c7c19980f34>:16: FutureWarning: The frame.append method is deprecated and will be removed from pandas in a future version. Use pandas.concat instead.\n",
            "  dataset = dataset.append(flow_features,ignore_index=True);\n",
            "<ipython-input-49-5c7c19980f34>:16: FutureWarning: The frame.append method is deprecated and will be removed from pandas in a future version. Use pandas.concat instead.\n",
            "  dataset = dataset.append(flow_features,ignore_index=True);\n",
            "<ipython-input-49-5c7c19980f34>:16: FutureWarning: The frame.append method is deprecated and will be removed from pandas in a future version. Use pandas.concat instead.\n",
            "  dataset = dataset.append(flow_features,ignore_index=True);\n",
            "<ipython-input-49-5c7c19980f34>:16: FutureWarning: The frame.append method is deprecated and will be removed from pandas in a future version. Use pandas.concat instead.\n",
            "  dataset = dataset.append(flow_features,ignore_index=True);\n",
            "<ipython-input-49-5c7c19980f34>:16: FutureWarning: The frame.append method is deprecated and will be removed from pandas in a future version. Use pandas.concat instead.\n",
            "  dataset = dataset.append(flow_features,ignore_index=True);\n",
            "<ipython-input-49-5c7c19980f34>:16: FutureWarning: The frame.append method is deprecated and will be removed from pandas in a future version. Use pandas.concat instead.\n",
            "  dataset = dataset.append(flow_features,ignore_index=True);\n",
            "<ipython-input-49-5c7c19980f34>:16: FutureWarning: The frame.append method is deprecated and will be removed from pandas in a future version. Use pandas.concat instead.\n",
            "  dataset = dataset.append(flow_features,ignore_index=True);\n",
            "<ipython-input-49-5c7c19980f34>:16: FutureWarning: The frame.append method is deprecated and will be removed from pandas in a future version. Use pandas.concat instead.\n",
            "  dataset = dataset.append(flow_features,ignore_index=True);\n",
            "<ipython-input-49-5c7c19980f34>:16: FutureWarning: The frame.append method is deprecated and will be removed from pandas in a future version. Use pandas.concat instead.\n",
            "  dataset = dataset.append(flow_features,ignore_index=True);\n",
            "<ipython-input-49-5c7c19980f34>:16: FutureWarning: The frame.append method is deprecated and will be removed from pandas in a future version. Use pandas.concat instead.\n",
            "  dataset = dataset.append(flow_features,ignore_index=True);\n",
            "<ipython-input-49-5c7c19980f34>:16: FutureWarning: The frame.append method is deprecated and will be removed from pandas in a future version. Use pandas.concat instead.\n",
            "  dataset = dataset.append(flow_features,ignore_index=True);\n",
            "<ipython-input-49-5c7c19980f34>:16: FutureWarning: The frame.append method is deprecated and will be removed from pandas in a future version. Use pandas.concat instead.\n",
            "  dataset = dataset.append(flow_features,ignore_index=True);\n",
            "<ipython-input-49-5c7c19980f34>:16: FutureWarning: The frame.append method is deprecated and will be removed from pandas in a future version. Use pandas.concat instead.\n",
            "  dataset = dataset.append(flow_features,ignore_index=True);\n",
            "<ipython-input-49-5c7c19980f34>:16: FutureWarning: The frame.append method is deprecated and will be removed from pandas in a future version. Use pandas.concat instead.\n",
            "  dataset = dataset.append(flow_features,ignore_index=True);\n",
            "<ipython-input-49-5c7c19980f34>:16: FutureWarning: The frame.append method is deprecated and will be removed from pandas in a future version. Use pandas.concat instead.\n",
            "  dataset = dataset.append(flow_features,ignore_index=True);\n",
            "<ipython-input-49-5c7c19980f34>:16: FutureWarning: The frame.append method is deprecated and will be removed from pandas in a future version. Use pandas.concat instead.\n",
            "  dataset = dataset.append(flow_features,ignore_index=True);\n",
            "<ipython-input-49-5c7c19980f34>:16: FutureWarning: The frame.append method is deprecated and will be removed from pandas in a future version. Use pandas.concat instead.\n",
            "  dataset = dataset.append(flow_features,ignore_index=True);\n",
            "<ipython-input-49-5c7c19980f34>:16: FutureWarning: The frame.append method is deprecated and will be removed from pandas in a future version. Use pandas.concat instead.\n",
            "  dataset = dataset.append(flow_features,ignore_index=True);\n",
            "<ipython-input-49-5c7c19980f34>:16: FutureWarning: The frame.append method is deprecated and will be removed from pandas in a future version. Use pandas.concat instead.\n",
            "  dataset = dataset.append(flow_features,ignore_index=True);\n",
            "<ipython-input-49-5c7c19980f34>:16: FutureWarning: The frame.append method is deprecated and will be removed from pandas in a future version. Use pandas.concat instead.\n",
            "  dataset = dataset.append(flow_features,ignore_index=True);\n",
            "<ipython-input-49-5c7c19980f34>:16: FutureWarning: The frame.append method is deprecated and will be removed from pandas in a future version. Use pandas.concat instead.\n",
            "  dataset = dataset.append(flow_features,ignore_index=True);\n",
            "<ipython-input-49-5c7c19980f34>:16: FutureWarning: The frame.append method is deprecated and will be removed from pandas in a future version. Use pandas.concat instead.\n",
            "  dataset = dataset.append(flow_features,ignore_index=True);\n",
            "<ipython-input-49-5c7c19980f34>:16: FutureWarning: The frame.append method is deprecated and will be removed from pandas in a future version. Use pandas.concat instead.\n",
            "  dataset = dataset.append(flow_features,ignore_index=True);\n",
            "<ipython-input-49-5c7c19980f34>:16: FutureWarning: The frame.append method is deprecated and will be removed from pandas in a future version. Use pandas.concat instead.\n",
            "  dataset = dataset.append(flow_features,ignore_index=True);\n",
            "<ipython-input-49-5c7c19980f34>:16: FutureWarning: The frame.append method is deprecated and will be removed from pandas in a future version. Use pandas.concat instead.\n",
            "  dataset = dataset.append(flow_features,ignore_index=True);\n",
            "<ipython-input-49-5c7c19980f34>:16: FutureWarning: The frame.append method is deprecated and will be removed from pandas in a future version. Use pandas.concat instead.\n",
            "  dataset = dataset.append(flow_features,ignore_index=True);\n",
            "<ipython-input-49-5c7c19980f34>:16: FutureWarning: The frame.append method is deprecated and will be removed from pandas in a future version. Use pandas.concat instead.\n",
            "  dataset = dataset.append(flow_features,ignore_index=True);\n",
            "<ipython-input-49-5c7c19980f34>:16: FutureWarning: The frame.append method is deprecated and will be removed from pandas in a future version. Use pandas.concat instead.\n",
            "  dataset = dataset.append(flow_features,ignore_index=True);\n",
            "<ipython-input-49-5c7c19980f34>:16: FutureWarning: The frame.append method is deprecated and will be removed from pandas in a future version. Use pandas.concat instead.\n",
            "  dataset = dataset.append(flow_features,ignore_index=True);\n",
            "<ipython-input-49-5c7c19980f34>:16: FutureWarning: The frame.append method is deprecated and will be removed from pandas in a future version. Use pandas.concat instead.\n",
            "  dataset = dataset.append(flow_features,ignore_index=True);\n",
            "<ipython-input-49-5c7c19980f34>:16: FutureWarning: The frame.append method is deprecated and will be removed from pandas in a future version. Use pandas.concat instead.\n",
            "  dataset = dataset.append(flow_features,ignore_index=True);\n",
            "<ipython-input-49-5c7c19980f34>:16: FutureWarning: The frame.append method is deprecated and will be removed from pandas in a future version. Use pandas.concat instead.\n",
            "  dataset = dataset.append(flow_features,ignore_index=True);\n",
            "<ipython-input-49-5c7c19980f34>:16: FutureWarning: The frame.append method is deprecated and will be removed from pandas in a future version. Use pandas.concat instead.\n",
            "  dataset = dataset.append(flow_features,ignore_index=True);\n",
            "<ipython-input-49-5c7c19980f34>:16: FutureWarning: The frame.append method is deprecated and will be removed from pandas in a future version. Use pandas.concat instead.\n",
            "  dataset = dataset.append(flow_features,ignore_index=True);\n",
            "<ipython-input-49-5c7c19980f34>:16: FutureWarning: The frame.append method is deprecated and will be removed from pandas in a future version. Use pandas.concat instead.\n",
            "  dataset = dataset.append(flow_features,ignore_index=True);\n",
            "<ipython-input-49-5c7c19980f34>:16: FutureWarning: The frame.append method is deprecated and will be removed from pandas in a future version. Use pandas.concat instead.\n",
            "  dataset = dataset.append(flow_features,ignore_index=True);\n",
            "<ipython-input-49-5c7c19980f34>:16: FutureWarning: The frame.append method is deprecated and will be removed from pandas in a future version. Use pandas.concat instead.\n",
            "  dataset = dataset.append(flow_features,ignore_index=True);\n",
            "<ipython-input-49-5c7c19980f34>:16: FutureWarning: The frame.append method is deprecated and will be removed from pandas in a future version. Use pandas.concat instead.\n",
            "  dataset = dataset.append(flow_features,ignore_index=True);\n",
            "<ipython-input-49-5c7c19980f34>:16: FutureWarning: The frame.append method is deprecated and will be removed from pandas in a future version. Use pandas.concat instead.\n",
            "  dataset = dataset.append(flow_features,ignore_index=True);\n",
            "<ipython-input-49-5c7c19980f34>:16: FutureWarning: The frame.append method is deprecated and will be removed from pandas in a future version. Use pandas.concat instead.\n",
            "  dataset = dataset.append(flow_features,ignore_index=True);\n",
            "<ipython-input-49-5c7c19980f34>:16: FutureWarning: The frame.append method is deprecated and will be removed from pandas in a future version. Use pandas.concat instead.\n",
            "  dataset = dataset.append(flow_features,ignore_index=True);\n",
            "<ipython-input-49-5c7c19980f34>:16: FutureWarning: The frame.append method is deprecated and will be removed from pandas in a future version. Use pandas.concat instead.\n",
            "  dataset = dataset.append(flow_features,ignore_index=True);\n",
            "<ipython-input-49-5c7c19980f34>:16: FutureWarning: The frame.append method is deprecated and will be removed from pandas in a future version. Use pandas.concat instead.\n",
            "  dataset = dataset.append(flow_features,ignore_index=True);\n",
            "<ipython-input-49-5c7c19980f34>:16: FutureWarning: The frame.append method is deprecated and will be removed from pandas in a future version. Use pandas.concat instead.\n",
            "  dataset = dataset.append(flow_features,ignore_index=True);\n",
            "<ipython-input-49-5c7c19980f34>:16: FutureWarning: The frame.append method is deprecated and will be removed from pandas in a future version. Use pandas.concat instead.\n",
            "  dataset = dataset.append(flow_features,ignore_index=True);\n",
            "<ipython-input-49-5c7c19980f34>:16: FutureWarning: The frame.append method is deprecated and will be removed from pandas in a future version. Use pandas.concat instead.\n",
            "  dataset = dataset.append(flow_features,ignore_index=True);\n",
            "<ipython-input-49-5c7c19980f34>:16: FutureWarning: The frame.append method is deprecated and will be removed from pandas in a future version. Use pandas.concat instead.\n",
            "  dataset = dataset.append(flow_features,ignore_index=True);\n",
            "<ipython-input-49-5c7c19980f34>:16: FutureWarning: The frame.append method is deprecated and will be removed from pandas in a future version. Use pandas.concat instead.\n",
            "  dataset = dataset.append(flow_features,ignore_index=True);\n",
            "<ipython-input-49-5c7c19980f34>:16: FutureWarning: The frame.append method is deprecated and will be removed from pandas in a future version. Use pandas.concat instead.\n",
            "  dataset = dataset.append(flow_features,ignore_index=True);\n",
            "<ipython-input-49-5c7c19980f34>:16: FutureWarning: The frame.append method is deprecated and will be removed from pandas in a future version. Use pandas.concat instead.\n",
            "  dataset = dataset.append(flow_features,ignore_index=True);\n",
            "<ipython-input-49-5c7c19980f34>:16: FutureWarning: The frame.append method is deprecated and will be removed from pandas in a future version. Use pandas.concat instead.\n",
            "  dataset = dataset.append(flow_features,ignore_index=True);\n",
            "<ipython-input-49-5c7c19980f34>:16: FutureWarning: The frame.append method is deprecated and will be removed from pandas in a future version. Use pandas.concat instead.\n",
            "  dataset = dataset.append(flow_features,ignore_index=True);\n",
            "<ipython-input-49-5c7c19980f34>:16: FutureWarning: The frame.append method is deprecated and will be removed from pandas in a future version. Use pandas.concat instead.\n",
            "  dataset = dataset.append(flow_features,ignore_index=True);\n",
            "<ipython-input-49-5c7c19980f34>:16: FutureWarning: The frame.append method is deprecated and will be removed from pandas in a future version. Use pandas.concat instead.\n",
            "  dataset = dataset.append(flow_features,ignore_index=True);\n",
            "<ipython-input-49-5c7c19980f34>:16: FutureWarning: The frame.append method is deprecated and will be removed from pandas in a future version. Use pandas.concat instead.\n",
            "  dataset = dataset.append(flow_features,ignore_index=True);\n",
            "<ipython-input-49-5c7c19980f34>:16: FutureWarning: The frame.append method is deprecated and will be removed from pandas in a future version. Use pandas.concat instead.\n",
            "  dataset = dataset.append(flow_features,ignore_index=True);\n",
            "<ipython-input-49-5c7c19980f34>:16: FutureWarning: The frame.append method is deprecated and will be removed from pandas in a future version. Use pandas.concat instead.\n",
            "  dataset = dataset.append(flow_features,ignore_index=True);\n",
            "<ipython-input-49-5c7c19980f34>:16: FutureWarning: The frame.append method is deprecated and will be removed from pandas in a future version. Use pandas.concat instead.\n",
            "  dataset = dataset.append(flow_features,ignore_index=True);\n",
            "<ipython-input-49-5c7c19980f34>:16: FutureWarning: The frame.append method is deprecated and will be removed from pandas in a future version. Use pandas.concat instead.\n",
            "  dataset = dataset.append(flow_features,ignore_index=True);\n",
            "<ipython-input-49-5c7c19980f34>:16: FutureWarning: The frame.append method is deprecated and will be removed from pandas in a future version. Use pandas.concat instead.\n",
            "  dataset = dataset.append(flow_features,ignore_index=True);\n",
            "<ipython-input-49-5c7c19980f34>:16: FutureWarning: The frame.append method is deprecated and will be removed from pandas in a future version. Use pandas.concat instead.\n",
            "  dataset = dataset.append(flow_features,ignore_index=True);\n",
            "<ipython-input-49-5c7c19980f34>:16: FutureWarning: The frame.append method is deprecated and will be removed from pandas in a future version. Use pandas.concat instead.\n",
            "  dataset = dataset.append(flow_features,ignore_index=True);\n",
            "<ipython-input-49-5c7c19980f34>:16: FutureWarning: The frame.append method is deprecated and will be removed from pandas in a future version. Use pandas.concat instead.\n",
            "  dataset = dataset.append(flow_features,ignore_index=True);\n",
            "<ipython-input-49-5c7c19980f34>:16: FutureWarning: The frame.append method is deprecated and will be removed from pandas in a future version. Use pandas.concat instead.\n",
            "  dataset = dataset.append(flow_features,ignore_index=True);\n",
            "<ipython-input-49-5c7c19980f34>:16: FutureWarning: The frame.append method is deprecated and will be removed from pandas in a future version. Use pandas.concat instead.\n",
            "  dataset = dataset.append(flow_features,ignore_index=True);\n",
            "<ipython-input-49-5c7c19980f34>:16: FutureWarning: The frame.append method is deprecated and will be removed from pandas in a future version. Use pandas.concat instead.\n",
            "  dataset = dataset.append(flow_features,ignore_index=True);\n",
            "<ipython-input-49-5c7c19980f34>:16: FutureWarning: The frame.append method is deprecated and will be removed from pandas in a future version. Use pandas.concat instead.\n",
            "  dataset = dataset.append(flow_features,ignore_index=True);\n",
            "<ipython-input-49-5c7c19980f34>:16: FutureWarning: The frame.append method is deprecated and will be removed from pandas in a future version. Use pandas.concat instead.\n",
            "  dataset = dataset.append(flow_features,ignore_index=True);\n",
            "<ipython-input-49-5c7c19980f34>:16: FutureWarning: The frame.append method is deprecated and will be removed from pandas in a future version. Use pandas.concat instead.\n",
            "  dataset = dataset.append(flow_features,ignore_index=True);\n",
            "<ipython-input-49-5c7c19980f34>:16: FutureWarning: The frame.append method is deprecated and will be removed from pandas in a future version. Use pandas.concat instead.\n",
            "  dataset = dataset.append(flow_features,ignore_index=True);\n",
            "<ipython-input-49-5c7c19980f34>:16: FutureWarning: The frame.append method is deprecated and will be removed from pandas in a future version. Use pandas.concat instead.\n",
            "  dataset = dataset.append(flow_features,ignore_index=True);\n",
            "<ipython-input-49-5c7c19980f34>:16: FutureWarning: The frame.append method is deprecated and will be removed from pandas in a future version. Use pandas.concat instead.\n",
            "  dataset = dataset.append(flow_features,ignore_index=True);\n",
            "<ipython-input-49-5c7c19980f34>:16: FutureWarning: The frame.append method is deprecated and will be removed from pandas in a future version. Use pandas.concat instead.\n",
            "  dataset = dataset.append(flow_features,ignore_index=True);\n",
            "<ipython-input-49-5c7c19980f34>:16: FutureWarning: The frame.append method is deprecated and will be removed from pandas in a future version. Use pandas.concat instead.\n",
            "  dataset = dataset.append(flow_features,ignore_index=True);\n",
            "<ipython-input-49-5c7c19980f34>:16: FutureWarning: The frame.append method is deprecated and will be removed from pandas in a future version. Use pandas.concat instead.\n",
            "  dataset = dataset.append(flow_features,ignore_index=True);\n",
            "<ipython-input-49-5c7c19980f34>:16: FutureWarning: The frame.append method is deprecated and will be removed from pandas in a future version. Use pandas.concat instead.\n",
            "  dataset = dataset.append(flow_features,ignore_index=True);\n",
            "<ipython-input-49-5c7c19980f34>:16: FutureWarning: The frame.append method is deprecated and will be removed from pandas in a future version. Use pandas.concat instead.\n",
            "  dataset = dataset.append(flow_features,ignore_index=True);\n",
            "<ipython-input-49-5c7c19980f34>:16: FutureWarning: The frame.append method is deprecated and will be removed from pandas in a future version. Use pandas.concat instead.\n",
            "  dataset = dataset.append(flow_features,ignore_index=True);\n",
            "<ipython-input-49-5c7c19980f34>:16: FutureWarning: The frame.append method is deprecated and will be removed from pandas in a future version. Use pandas.concat instead.\n",
            "  dataset = dataset.append(flow_features,ignore_index=True);\n",
            "<ipython-input-49-5c7c19980f34>:16: FutureWarning: The frame.append method is deprecated and will be removed from pandas in a future version. Use pandas.concat instead.\n",
            "  dataset = dataset.append(flow_features,ignore_index=True);\n",
            "<ipython-input-49-5c7c19980f34>:16: FutureWarning: The frame.append method is deprecated and will be removed from pandas in a future version. Use pandas.concat instead.\n",
            "  dataset = dataset.append(flow_features,ignore_index=True);\n",
            "<ipython-input-49-5c7c19980f34>:16: FutureWarning: The frame.append method is deprecated and will be removed from pandas in a future version. Use pandas.concat instead.\n",
            "  dataset = dataset.append(flow_features,ignore_index=True);\n",
            "<ipython-input-49-5c7c19980f34>:16: FutureWarning: The frame.append method is deprecated and will be removed from pandas in a future version. Use pandas.concat instead.\n",
            "  dataset = dataset.append(flow_features,ignore_index=True);\n",
            "<ipython-input-49-5c7c19980f34>:16: FutureWarning: The frame.append method is deprecated and will be removed from pandas in a future version. Use pandas.concat instead.\n",
            "  dataset = dataset.append(flow_features,ignore_index=True);\n",
            "<ipython-input-49-5c7c19980f34>:16: FutureWarning: The frame.append method is deprecated and will be removed from pandas in a future version. Use pandas.concat instead.\n",
            "  dataset = dataset.append(flow_features,ignore_index=True);\n",
            "<ipython-input-49-5c7c19980f34>:16: FutureWarning: The frame.append method is deprecated and will be removed from pandas in a future version. Use pandas.concat instead.\n",
            "  dataset = dataset.append(flow_features,ignore_index=True);\n",
            "<ipython-input-49-5c7c19980f34>:16: FutureWarning: The frame.append method is deprecated and will be removed from pandas in a future version. Use pandas.concat instead.\n",
            "  dataset = dataset.append(flow_features,ignore_index=True);\n",
            "<ipython-input-49-5c7c19980f34>:16: FutureWarning: The frame.append method is deprecated and will be removed from pandas in a future version. Use pandas.concat instead.\n",
            "  dataset = dataset.append(flow_features,ignore_index=True);\n",
            "<ipython-input-49-5c7c19980f34>:16: FutureWarning: The frame.append method is deprecated and will be removed from pandas in a future version. Use pandas.concat instead.\n",
            "  dataset = dataset.append(flow_features,ignore_index=True);\n",
            "<ipython-input-49-5c7c19980f34>:16: FutureWarning: The frame.append method is deprecated and will be removed from pandas in a future version. Use pandas.concat instead.\n",
            "  dataset = dataset.append(flow_features,ignore_index=True);\n",
            "<ipython-input-49-5c7c19980f34>:16: FutureWarning: The frame.append method is deprecated and will be removed from pandas in a future version. Use pandas.concat instead.\n",
            "  dataset = dataset.append(flow_features,ignore_index=True);\n",
            "<ipython-input-49-5c7c19980f34>:16: FutureWarning: The frame.append method is deprecated and will be removed from pandas in a future version. Use pandas.concat instead.\n",
            "  dataset = dataset.append(flow_features,ignore_index=True);\n",
            "<ipython-input-49-5c7c19980f34>:16: FutureWarning: The frame.append method is deprecated and will be removed from pandas in a future version. Use pandas.concat instead.\n",
            "  dataset = dataset.append(flow_features,ignore_index=True);\n",
            "<ipython-input-49-5c7c19980f34>:16: FutureWarning: The frame.append method is deprecated and will be removed from pandas in a future version. Use pandas.concat instead.\n",
            "  dataset = dataset.append(flow_features,ignore_index=True);\n",
            "<ipython-input-49-5c7c19980f34>:16: FutureWarning: The frame.append method is deprecated and will be removed from pandas in a future version. Use pandas.concat instead.\n",
            "  dataset = dataset.append(flow_features,ignore_index=True);\n",
            "<ipython-input-49-5c7c19980f34>:16: FutureWarning: The frame.append method is deprecated and will be removed from pandas in a future version. Use pandas.concat instead.\n",
            "  dataset = dataset.append(flow_features,ignore_index=True);\n",
            "<ipython-input-49-5c7c19980f34>:16: FutureWarning: The frame.append method is deprecated and will be removed from pandas in a future version. Use pandas.concat instead.\n",
            "  dataset = dataset.append(flow_features,ignore_index=True);\n",
            "<ipython-input-49-5c7c19980f34>:16: FutureWarning: The frame.append method is deprecated and will be removed from pandas in a future version. Use pandas.concat instead.\n",
            "  dataset = dataset.append(flow_features,ignore_index=True);\n",
            "<ipython-input-49-5c7c19980f34>:16: FutureWarning: The frame.append method is deprecated and will be removed from pandas in a future version. Use pandas.concat instead.\n",
            "  dataset = dataset.append(flow_features,ignore_index=True);\n",
            "<ipython-input-49-5c7c19980f34>:16: FutureWarning: The frame.append method is deprecated and will be removed from pandas in a future version. Use pandas.concat instead.\n",
            "  dataset = dataset.append(flow_features,ignore_index=True);\n",
            "<ipython-input-49-5c7c19980f34>:16: FutureWarning: The frame.append method is deprecated and will be removed from pandas in a future version. Use pandas.concat instead.\n",
            "  dataset = dataset.append(flow_features,ignore_index=True);\n",
            "<ipython-input-49-5c7c19980f34>:16: FutureWarning: The frame.append method is deprecated and will be removed from pandas in a future version. Use pandas.concat instead.\n",
            "  dataset = dataset.append(flow_features,ignore_index=True);\n",
            "<ipython-input-49-5c7c19980f34>:16: FutureWarning: The frame.append method is deprecated and will be removed from pandas in a future version. Use pandas.concat instead.\n",
            "  dataset = dataset.append(flow_features,ignore_index=True);\n",
            "<ipython-input-49-5c7c19980f34>:16: FutureWarning: The frame.append method is deprecated and will be removed from pandas in a future version. Use pandas.concat instead.\n",
            "  dataset = dataset.append(flow_features,ignore_index=True);\n",
            "<ipython-input-49-5c7c19980f34>:16: FutureWarning: The frame.append method is deprecated and will be removed from pandas in a future version. Use pandas.concat instead.\n",
            "  dataset = dataset.append(flow_features,ignore_index=True);\n",
            "<ipython-input-49-5c7c19980f34>:16: FutureWarning: The frame.append method is deprecated and will be removed from pandas in a future version. Use pandas.concat instead.\n",
            "  dataset = dataset.append(flow_features,ignore_index=True);\n",
            "<ipython-input-49-5c7c19980f34>:16: FutureWarning: The frame.append method is deprecated and will be removed from pandas in a future version. Use pandas.concat instead.\n",
            "  dataset = dataset.append(flow_features,ignore_index=True);\n",
            "<ipython-input-49-5c7c19980f34>:16: FutureWarning: The frame.append method is deprecated and will be removed from pandas in a future version. Use pandas.concat instead.\n",
            "  dataset = dataset.append(flow_features,ignore_index=True);\n",
            "<ipython-input-49-5c7c19980f34>:16: FutureWarning: The frame.append method is deprecated and will be removed from pandas in a future version. Use pandas.concat instead.\n",
            "  dataset = dataset.append(flow_features,ignore_index=True);\n",
            "<ipython-input-49-5c7c19980f34>:16: FutureWarning: The frame.append method is deprecated and will be removed from pandas in a future version. Use pandas.concat instead.\n",
            "  dataset = dataset.append(flow_features,ignore_index=True);\n",
            "<ipython-input-49-5c7c19980f34>:16: FutureWarning: The frame.append method is deprecated and will be removed from pandas in a future version. Use pandas.concat instead.\n",
            "  dataset = dataset.append(flow_features,ignore_index=True);\n",
            "<ipython-input-49-5c7c19980f34>:16: FutureWarning: The frame.append method is deprecated and will be removed from pandas in a future version. Use pandas.concat instead.\n",
            "  dataset = dataset.append(flow_features,ignore_index=True);\n",
            "<ipython-input-49-5c7c19980f34>:16: FutureWarning: The frame.append method is deprecated and will be removed from pandas in a future version. Use pandas.concat instead.\n",
            "  dataset = dataset.append(flow_features,ignore_index=True);\n",
            "<ipython-input-49-5c7c19980f34>:16: FutureWarning: The frame.append method is deprecated and will be removed from pandas in a future version. Use pandas.concat instead.\n",
            "  dataset = dataset.append(flow_features,ignore_index=True);\n",
            "<ipython-input-49-5c7c19980f34>:16: FutureWarning: The frame.append method is deprecated and will be removed from pandas in a future version. Use pandas.concat instead.\n",
            "  dataset = dataset.append(flow_features,ignore_index=True);\n",
            "<ipython-input-49-5c7c19980f34>:16: FutureWarning: The frame.append method is deprecated and will be removed from pandas in a future version. Use pandas.concat instead.\n",
            "  dataset = dataset.append(flow_features,ignore_index=True);\n",
            "<ipython-input-49-5c7c19980f34>:16: FutureWarning: The frame.append method is deprecated and will be removed from pandas in a future version. Use pandas.concat instead.\n",
            "  dataset = dataset.append(flow_features,ignore_index=True);\n",
            "<ipython-input-49-5c7c19980f34>:16: FutureWarning: The frame.append method is deprecated and will be removed from pandas in a future version. Use pandas.concat instead.\n",
            "  dataset = dataset.append(flow_features,ignore_index=True);\n",
            "<ipython-input-49-5c7c19980f34>:16: FutureWarning: The frame.append method is deprecated and will be removed from pandas in a future version. Use pandas.concat instead.\n",
            "  dataset = dataset.append(flow_features,ignore_index=True);\n",
            "<ipython-input-49-5c7c19980f34>:16: FutureWarning: The frame.append method is deprecated and will be removed from pandas in a future version. Use pandas.concat instead.\n",
            "  dataset = dataset.append(flow_features,ignore_index=True);\n",
            "<ipython-input-49-5c7c19980f34>:16: FutureWarning: The frame.append method is deprecated and will be removed from pandas in a future version. Use pandas.concat instead.\n",
            "  dataset = dataset.append(flow_features,ignore_index=True);\n",
            "<ipython-input-49-5c7c19980f34>:16: FutureWarning: The frame.append method is deprecated and will be removed from pandas in a future version. Use pandas.concat instead.\n",
            "  dataset = dataset.append(flow_features,ignore_index=True);\n",
            "<ipython-input-49-5c7c19980f34>:16: FutureWarning: The frame.append method is deprecated and will be removed from pandas in a future version. Use pandas.concat instead.\n",
            "  dataset = dataset.append(flow_features,ignore_index=True);\n",
            "<ipython-input-49-5c7c19980f34>:16: FutureWarning: The frame.append method is deprecated and will be removed from pandas in a future version. Use pandas.concat instead.\n",
            "  dataset = dataset.append(flow_features,ignore_index=True);\n",
            "<ipython-input-49-5c7c19980f34>:16: FutureWarning: The frame.append method is deprecated and will be removed from pandas in a future version. Use pandas.concat instead.\n",
            "  dataset = dataset.append(flow_features,ignore_index=True);\n",
            "<ipython-input-49-5c7c19980f34>:16: FutureWarning: The frame.append method is deprecated and will be removed from pandas in a future version. Use pandas.concat instead.\n",
            "  dataset = dataset.append(flow_features,ignore_index=True);\n",
            "<ipython-input-49-5c7c19980f34>:16: FutureWarning: The frame.append method is deprecated and will be removed from pandas in a future version. Use pandas.concat instead.\n",
            "  dataset = dataset.append(flow_features,ignore_index=True);\n",
            "<ipython-input-49-5c7c19980f34>:16: FutureWarning: The frame.append method is deprecated and will be removed from pandas in a future version. Use pandas.concat instead.\n",
            "  dataset = dataset.append(flow_features,ignore_index=True);\n",
            "<ipython-input-49-5c7c19980f34>:16: FutureWarning: The frame.append method is deprecated and will be removed from pandas in a future version. Use pandas.concat instead.\n",
            "  dataset = dataset.append(flow_features,ignore_index=True);\n",
            "<ipython-input-49-5c7c19980f34>:16: FutureWarning: The frame.append method is deprecated and will be removed from pandas in a future version. Use pandas.concat instead.\n",
            "  dataset = dataset.append(flow_features,ignore_index=True);\n",
            "<ipython-input-49-5c7c19980f34>:16: FutureWarning: The frame.append method is deprecated and will be removed from pandas in a future version. Use pandas.concat instead.\n",
            "  dataset = dataset.append(flow_features,ignore_index=True);\n",
            "<ipython-input-49-5c7c19980f34>:16: FutureWarning: The frame.append method is deprecated and will be removed from pandas in a future version. Use pandas.concat instead.\n",
            "  dataset = dataset.append(flow_features,ignore_index=True);\n",
            "<ipython-input-49-5c7c19980f34>:16: FutureWarning: The frame.append method is deprecated and will be removed from pandas in a future version. Use pandas.concat instead.\n",
            "  dataset = dataset.append(flow_features,ignore_index=True);\n",
            "<ipython-input-49-5c7c19980f34>:16: FutureWarning: The frame.append method is deprecated and will be removed from pandas in a future version. Use pandas.concat instead.\n",
            "  dataset = dataset.append(flow_features,ignore_index=True);\n",
            "<ipython-input-49-5c7c19980f34>:16: FutureWarning: The frame.append method is deprecated and will be removed from pandas in a future version. Use pandas.concat instead.\n",
            "  dataset = dataset.append(flow_features,ignore_index=True);\n",
            "<ipython-input-49-5c7c19980f34>:16: FutureWarning: The frame.append method is deprecated and will be removed from pandas in a future version. Use pandas.concat instead.\n",
            "  dataset = dataset.append(flow_features,ignore_index=True);\n",
            "<ipython-input-49-5c7c19980f34>:16: FutureWarning: The frame.append method is deprecated and will be removed from pandas in a future version. Use pandas.concat instead.\n",
            "  dataset = dataset.append(flow_features,ignore_index=True);\n",
            "<ipython-input-49-5c7c19980f34>:16: FutureWarning: The frame.append method is deprecated and will be removed from pandas in a future version. Use pandas.concat instead.\n",
            "  dataset = dataset.append(flow_features,ignore_index=True);\n",
            "<ipython-input-49-5c7c19980f34>:16: FutureWarning: The frame.append method is deprecated and will be removed from pandas in a future version. Use pandas.concat instead.\n",
            "  dataset = dataset.append(flow_features,ignore_index=True);\n",
            "<ipython-input-49-5c7c19980f34>:16: FutureWarning: The frame.append method is deprecated and will be removed from pandas in a future version. Use pandas.concat instead.\n",
            "  dataset = dataset.append(flow_features,ignore_index=True);\n",
            "<ipython-input-49-5c7c19980f34>:16: FutureWarning: The frame.append method is deprecated and will be removed from pandas in a future version. Use pandas.concat instead.\n",
            "  dataset = dataset.append(flow_features,ignore_index=True);\n",
            "<ipython-input-49-5c7c19980f34>:16: FutureWarning: The frame.append method is deprecated and will be removed from pandas in a future version. Use pandas.concat instead.\n",
            "  dataset = dataset.append(flow_features,ignore_index=True);\n",
            "<ipython-input-49-5c7c19980f34>:16: FutureWarning: The frame.append method is deprecated and will be removed from pandas in a future version. Use pandas.concat instead.\n",
            "  dataset = dataset.append(flow_features,ignore_index=True);\n",
            "<ipython-input-49-5c7c19980f34>:16: FutureWarning: The frame.append method is deprecated and will be removed from pandas in a future version. Use pandas.concat instead.\n",
            "  dataset = dataset.append(flow_features,ignore_index=True);\n",
            "<ipython-input-49-5c7c19980f34>:16: FutureWarning: The frame.append method is deprecated and will be removed from pandas in a future version. Use pandas.concat instead.\n",
            "  dataset = dataset.append(flow_features,ignore_index=True);\n",
            "<ipython-input-49-5c7c19980f34>:16: FutureWarning: The frame.append method is deprecated and will be removed from pandas in a future version. Use pandas.concat instead.\n",
            "  dataset = dataset.append(flow_features,ignore_index=True);\n",
            "<ipython-input-49-5c7c19980f34>:16: FutureWarning: The frame.append method is deprecated and will be removed from pandas in a future version. Use pandas.concat instead.\n",
            "  dataset = dataset.append(flow_features,ignore_index=True);\n",
            "<ipython-input-49-5c7c19980f34>:16: FutureWarning: The frame.append method is deprecated and will be removed from pandas in a future version. Use pandas.concat instead.\n",
            "  dataset = dataset.append(flow_features,ignore_index=True);\n",
            "<ipython-input-49-5c7c19980f34>:16: FutureWarning: The frame.append method is deprecated and will be removed from pandas in a future version. Use pandas.concat instead.\n",
            "  dataset = dataset.append(flow_features,ignore_index=True);\n",
            "<ipython-input-49-5c7c19980f34>:16: FutureWarning: The frame.append method is deprecated and will be removed from pandas in a future version. Use pandas.concat instead.\n",
            "  dataset = dataset.append(flow_features,ignore_index=True);\n",
            "<ipython-input-49-5c7c19980f34>:16: FutureWarning: The frame.append method is deprecated and will be removed from pandas in a future version. Use pandas.concat instead.\n",
            "  dataset = dataset.append(flow_features,ignore_index=True);\n",
            "<ipython-input-49-5c7c19980f34>:16: FutureWarning: The frame.append method is deprecated and will be removed from pandas in a future version. Use pandas.concat instead.\n",
            "  dataset = dataset.append(flow_features,ignore_index=True);\n",
            "<ipython-input-49-5c7c19980f34>:16: FutureWarning: The frame.append method is deprecated and will be removed from pandas in a future version. Use pandas.concat instead.\n",
            "  dataset = dataset.append(flow_features,ignore_index=True);\n",
            "<ipython-input-49-5c7c19980f34>:16: FutureWarning: The frame.append method is deprecated and will be removed from pandas in a future version. Use pandas.concat instead.\n",
            "  dataset = dataset.append(flow_features,ignore_index=True);\n",
            "<ipython-input-49-5c7c19980f34>:16: FutureWarning: The frame.append method is deprecated and will be removed from pandas in a future version. Use pandas.concat instead.\n",
            "  dataset = dataset.append(flow_features,ignore_index=True);\n",
            "<ipython-input-49-5c7c19980f34>:16: FutureWarning: The frame.append method is deprecated and will be removed from pandas in a future version. Use pandas.concat instead.\n",
            "  dataset = dataset.append(flow_features,ignore_index=True);\n",
            "<ipython-input-49-5c7c19980f34>:16: FutureWarning: The frame.append method is deprecated and will be removed from pandas in a future version. Use pandas.concat instead.\n",
            "  dataset = dataset.append(flow_features,ignore_index=True);\n",
            "<ipython-input-49-5c7c19980f34>:16: FutureWarning: The frame.append method is deprecated and will be removed from pandas in a future version. Use pandas.concat instead.\n",
            "  dataset = dataset.append(flow_features,ignore_index=True);\n",
            "<ipython-input-49-5c7c19980f34>:16: FutureWarning: The frame.append method is deprecated and will be removed from pandas in a future version. Use pandas.concat instead.\n",
            "  dataset = dataset.append(flow_features,ignore_index=True);\n",
            "<ipython-input-49-5c7c19980f34>:16: FutureWarning: The frame.append method is deprecated and will be removed from pandas in a future version. Use pandas.concat instead.\n",
            "  dataset = dataset.append(flow_features,ignore_index=True);\n",
            "<ipython-input-49-5c7c19980f34>:16: FutureWarning: The frame.append method is deprecated and will be removed from pandas in a future version. Use pandas.concat instead.\n",
            "  dataset = dataset.append(flow_features,ignore_index=True);\n",
            "<ipython-input-49-5c7c19980f34>:16: FutureWarning: The frame.append method is deprecated and will be removed from pandas in a future version. Use pandas.concat instead.\n",
            "  dataset = dataset.append(flow_features,ignore_index=True);\n",
            "<ipython-input-49-5c7c19980f34>:16: FutureWarning: The frame.append method is deprecated and will be removed from pandas in a future version. Use pandas.concat instead.\n",
            "  dataset = dataset.append(flow_features,ignore_index=True);\n",
            "<ipython-input-49-5c7c19980f34>:16: FutureWarning: The frame.append method is deprecated and will be removed from pandas in a future version. Use pandas.concat instead.\n",
            "  dataset = dataset.append(flow_features,ignore_index=True);\n",
            "<ipython-input-49-5c7c19980f34>:16: FutureWarning: The frame.append method is deprecated and will be removed from pandas in a future version. Use pandas.concat instead.\n",
            "  dataset = dataset.append(flow_features,ignore_index=True);\n",
            "<ipython-input-49-5c7c19980f34>:16: FutureWarning: The frame.append method is deprecated and will be removed from pandas in a future version. Use pandas.concat instead.\n",
            "  dataset = dataset.append(flow_features,ignore_index=True);\n",
            "<ipython-input-49-5c7c19980f34>:16: FutureWarning: The frame.append method is deprecated and will be removed from pandas in a future version. Use pandas.concat instead.\n",
            "  dataset = dataset.append(flow_features,ignore_index=True);\n",
            "<ipython-input-49-5c7c19980f34>:16: FutureWarning: The frame.append method is deprecated and will be removed from pandas in a future version. Use pandas.concat instead.\n",
            "  dataset = dataset.append(flow_features,ignore_index=True);\n",
            "<ipython-input-49-5c7c19980f34>:16: FutureWarning: The frame.append method is deprecated and will be removed from pandas in a future version. Use pandas.concat instead.\n",
            "  dataset = dataset.append(flow_features,ignore_index=True);\n",
            "<ipython-input-49-5c7c19980f34>:16: FutureWarning: The frame.append method is deprecated and will be removed from pandas in a future version. Use pandas.concat instead.\n",
            "  dataset = dataset.append(flow_features,ignore_index=True);\n"
          ]
        },
        {
          "output_type": "display_data",
          "data": {
            "text/plain": [
              "    direction  num_packets  total_bytes  min_pkt_size  max_pkt_size  \\\n",
              "0    downlink           63       4114.0          52.0         569.0   \n",
              "1    downlink           58       3854.0          52.0         569.0   \n",
              "2    downlink           64       4166.0          52.0         569.0   \n",
              "3    downlink           61       4010.0          52.0         569.0   \n",
              "4    downlink           61       4010.0          52.0         569.0   \n",
              "..        ...          ...          ...           ...           ...   \n",
              "183  downlink          153     397694.0          52.0        2828.0   \n",
              "184  downlink          151     397568.0          52.0        2828.0   \n",
              "185  downlink          152     397643.0          52.0        2828.0   \n",
              "186  downlink          152     397598.0          52.0        2828.0   \n",
              "187  downlink          156     397806.0          52.0        2828.0   \n",
              "\n",
              "     mean_pkt_size  std_pkt_size   min_iat   max_iat  mean_iat   std_iat  \\\n",
              "0        65.301587     66.195857  0.000012  0.342895  0.009183  0.045114   \n",
              "1        66.448276     68.915960  0.000013  0.053929  0.002424  0.007377   \n",
              "2        65.093750     65.689437  0.000011  0.060288  0.002299  0.007800   \n",
              "3        65.737705     67.244802  0.000012  0.064959  0.002627  0.008614   \n",
              "4        65.737705     67.244802  0.000012  0.054650  0.002394  0.007335   \n",
              "..             ...           ...       ...       ...       ...       ...   \n",
              "183    2599.307190    719.534876  0.000002  0.217648  0.007138  0.023228   \n",
              "184    2632.900662    662.474842  0.000001  0.181638  0.006995  0.021264   \n",
              "185    2616.072368    727.258875  0.000001  0.183038  0.006964  0.021238   \n",
              "186    2615.776316    711.080534  0.000001  0.182065  0.007260  0.021654   \n",
              "187    2550.038462    747.280056  0.000001  0.183203  0.007091  0.021452   \n",
              "\n",
              "          dur  dport  sport          app  \n",
              "0    0.569334    443  38508  expresscouk  \n",
              "1    0.138153    443  38510  expresscouk  \n",
              "2    0.144846    443  38522  expresscouk  \n",
              "3    0.157647    443  38524  expresscouk  \n",
              "4    0.143629    443  38532  expresscouk  \n",
              "..        ...    ...    ...          ...  \n",
              "183  1.085041  53384    443           rt  \n",
              "184  1.049296  53390    443           rt  \n",
              "185  1.051635  53392    443           rt  \n",
              "186  1.096284  60116    443           rt  \n",
              "187  1.099096  60120    443           rt  \n",
              "\n",
              "[188 rows x 15 columns]"
            ],
            "text/html": [
              "\n",
              "  <div id=\"df-0e61f9d3-4686-4df9-93be-2ebb00573600\" class=\"colab-df-container\">\n",
              "    <div>\n",
              "<style scoped>\n",
              "    .dataframe tbody tr th:only-of-type {\n",
              "        vertical-align: middle;\n",
              "    }\n",
              "\n",
              "    .dataframe tbody tr th {\n",
              "        vertical-align: top;\n",
              "    }\n",
              "\n",
              "    .dataframe thead th {\n",
              "        text-align: right;\n",
              "    }\n",
              "</style>\n",
              "<table border=\"1\" class=\"dataframe\">\n",
              "  <thead>\n",
              "    <tr style=\"text-align: right;\">\n",
              "      <th></th>\n",
              "      <th>direction</th>\n",
              "      <th>num_packets</th>\n",
              "      <th>total_bytes</th>\n",
              "      <th>min_pkt_size</th>\n",
              "      <th>max_pkt_size</th>\n",
              "      <th>mean_pkt_size</th>\n",
              "      <th>std_pkt_size</th>\n",
              "      <th>min_iat</th>\n",
              "      <th>max_iat</th>\n",
              "      <th>mean_iat</th>\n",
              "      <th>std_iat</th>\n",
              "      <th>dur</th>\n",
              "      <th>dport</th>\n",
              "      <th>sport</th>\n",
              "      <th>app</th>\n",
              "    </tr>\n",
              "  </thead>\n",
              "  <tbody>\n",
              "    <tr>\n",
              "      <th>0</th>\n",
              "      <td>downlink</td>\n",
              "      <td>63</td>\n",
              "      <td>4114.0</td>\n",
              "      <td>52.0</td>\n",
              "      <td>569.0</td>\n",
              "      <td>65.301587</td>\n",
              "      <td>66.195857</td>\n",
              "      <td>0.000012</td>\n",
              "      <td>0.342895</td>\n",
              "      <td>0.009183</td>\n",
              "      <td>0.045114</td>\n",
              "      <td>0.569334</td>\n",
              "      <td>443</td>\n",
              "      <td>38508</td>\n",
              "      <td>expresscouk</td>\n",
              "    </tr>\n",
              "    <tr>\n",
              "      <th>1</th>\n",
              "      <td>downlink</td>\n",
              "      <td>58</td>\n",
              "      <td>3854.0</td>\n",
              "      <td>52.0</td>\n",
              "      <td>569.0</td>\n",
              "      <td>66.448276</td>\n",
              "      <td>68.915960</td>\n",
              "      <td>0.000013</td>\n",
              "      <td>0.053929</td>\n",
              "      <td>0.002424</td>\n",
              "      <td>0.007377</td>\n",
              "      <td>0.138153</td>\n",
              "      <td>443</td>\n",
              "      <td>38510</td>\n",
              "      <td>expresscouk</td>\n",
              "    </tr>\n",
              "    <tr>\n",
              "      <th>2</th>\n",
              "      <td>downlink</td>\n",
              "      <td>64</td>\n",
              "      <td>4166.0</td>\n",
              "      <td>52.0</td>\n",
              "      <td>569.0</td>\n",
              "      <td>65.093750</td>\n",
              "      <td>65.689437</td>\n",
              "      <td>0.000011</td>\n",
              "      <td>0.060288</td>\n",
              "      <td>0.002299</td>\n",
              "      <td>0.007800</td>\n",
              "      <td>0.144846</td>\n",
              "      <td>443</td>\n",
              "      <td>38522</td>\n",
              "      <td>expresscouk</td>\n",
              "    </tr>\n",
              "    <tr>\n",
              "      <th>3</th>\n",
              "      <td>downlink</td>\n",
              "      <td>61</td>\n",
              "      <td>4010.0</td>\n",
              "      <td>52.0</td>\n",
              "      <td>569.0</td>\n",
              "      <td>65.737705</td>\n",
              "      <td>67.244802</td>\n",
              "      <td>0.000012</td>\n",
              "      <td>0.064959</td>\n",
              "      <td>0.002627</td>\n",
              "      <td>0.008614</td>\n",
              "      <td>0.157647</td>\n",
              "      <td>443</td>\n",
              "      <td>38524</td>\n",
              "      <td>expresscouk</td>\n",
              "    </tr>\n",
              "    <tr>\n",
              "      <th>4</th>\n",
              "      <td>downlink</td>\n",
              "      <td>61</td>\n",
              "      <td>4010.0</td>\n",
              "      <td>52.0</td>\n",
              "      <td>569.0</td>\n",
              "      <td>65.737705</td>\n",
              "      <td>67.244802</td>\n",
              "      <td>0.000012</td>\n",
              "      <td>0.054650</td>\n",
              "      <td>0.002394</td>\n",
              "      <td>0.007335</td>\n",
              "      <td>0.143629</td>\n",
              "      <td>443</td>\n",
              "      <td>38532</td>\n",
              "      <td>expresscouk</td>\n",
              "    </tr>\n",
              "    <tr>\n",
              "      <th>...</th>\n",
              "      <td>...</td>\n",
              "      <td>...</td>\n",
              "      <td>...</td>\n",
              "      <td>...</td>\n",
              "      <td>...</td>\n",
              "      <td>...</td>\n",
              "      <td>...</td>\n",
              "      <td>...</td>\n",
              "      <td>...</td>\n",
              "      <td>...</td>\n",
              "      <td>...</td>\n",
              "      <td>...</td>\n",
              "      <td>...</td>\n",
              "      <td>...</td>\n",
              "      <td>...</td>\n",
              "    </tr>\n",
              "    <tr>\n",
              "      <th>183</th>\n",
              "      <td>downlink</td>\n",
              "      <td>153</td>\n",
              "      <td>397694.0</td>\n",
              "      <td>52.0</td>\n",
              "      <td>2828.0</td>\n",
              "      <td>2599.307190</td>\n",
              "      <td>719.534876</td>\n",
              "      <td>0.000002</td>\n",
              "      <td>0.217648</td>\n",
              "      <td>0.007138</td>\n",
              "      <td>0.023228</td>\n",
              "      <td>1.085041</td>\n",
              "      <td>53384</td>\n",
              "      <td>443</td>\n",
              "      <td>rt</td>\n",
              "    </tr>\n",
              "    <tr>\n",
              "      <th>184</th>\n",
              "      <td>downlink</td>\n",
              "      <td>151</td>\n",
              "      <td>397568.0</td>\n",
              "      <td>52.0</td>\n",
              "      <td>2828.0</td>\n",
              "      <td>2632.900662</td>\n",
              "      <td>662.474842</td>\n",
              "      <td>0.000001</td>\n",
              "      <td>0.181638</td>\n",
              "      <td>0.006995</td>\n",
              "      <td>0.021264</td>\n",
              "      <td>1.049296</td>\n",
              "      <td>53390</td>\n",
              "      <td>443</td>\n",
              "      <td>rt</td>\n",
              "    </tr>\n",
              "    <tr>\n",
              "      <th>185</th>\n",
              "      <td>downlink</td>\n",
              "      <td>152</td>\n",
              "      <td>397643.0</td>\n",
              "      <td>52.0</td>\n",
              "      <td>2828.0</td>\n",
              "      <td>2616.072368</td>\n",
              "      <td>727.258875</td>\n",
              "      <td>0.000001</td>\n",
              "      <td>0.183038</td>\n",
              "      <td>0.006964</td>\n",
              "      <td>0.021238</td>\n",
              "      <td>1.051635</td>\n",
              "      <td>53392</td>\n",
              "      <td>443</td>\n",
              "      <td>rt</td>\n",
              "    </tr>\n",
              "    <tr>\n",
              "      <th>186</th>\n",
              "      <td>downlink</td>\n",
              "      <td>152</td>\n",
              "      <td>397598.0</td>\n",
              "      <td>52.0</td>\n",
              "      <td>2828.0</td>\n",
              "      <td>2615.776316</td>\n",
              "      <td>711.080534</td>\n",
              "      <td>0.000001</td>\n",
              "      <td>0.182065</td>\n",
              "      <td>0.007260</td>\n",
              "      <td>0.021654</td>\n",
              "      <td>1.096284</td>\n",
              "      <td>60116</td>\n",
              "      <td>443</td>\n",
              "      <td>rt</td>\n",
              "    </tr>\n",
              "    <tr>\n",
              "      <th>187</th>\n",
              "      <td>downlink</td>\n",
              "      <td>156</td>\n",
              "      <td>397806.0</td>\n",
              "      <td>52.0</td>\n",
              "      <td>2828.0</td>\n",
              "      <td>2550.038462</td>\n",
              "      <td>747.280056</td>\n",
              "      <td>0.000001</td>\n",
              "      <td>0.183203</td>\n",
              "      <td>0.007091</td>\n",
              "      <td>0.021452</td>\n",
              "      <td>1.099096</td>\n",
              "      <td>60120</td>\n",
              "      <td>443</td>\n",
              "      <td>rt</td>\n",
              "    </tr>\n",
              "  </tbody>\n",
              "</table>\n",
              "<p>188 rows × 15 columns</p>\n",
              "</div>\n",
              "    <div class=\"colab-df-buttons\">\n",
              "\n",
              "  <div class=\"colab-df-container\">\n",
              "    <button class=\"colab-df-convert\" onclick=\"convertToInteractive('df-0e61f9d3-4686-4df9-93be-2ebb00573600')\"\n",
              "            title=\"Convert this dataframe to an interactive table.\"\n",
              "            style=\"display:none;\">\n",
              "\n",
              "  <svg xmlns=\"http://www.w3.org/2000/svg\" height=\"24px\" viewBox=\"0 -960 960 960\">\n",
              "    <path d=\"M120-120v-720h720v720H120Zm60-500h600v-160H180v160Zm220 220h160v-160H400v160Zm0 220h160v-160H400v160ZM180-400h160v-160H180v160Zm440 0h160v-160H620v160ZM180-180h160v-160H180v160Zm440 0h160v-160H620v160Z\"/>\n",
              "  </svg>\n",
              "    </button>\n",
              "\n",
              "  <style>\n",
              "    .colab-df-container {\n",
              "      display:flex;\n",
              "      gap: 12px;\n",
              "    }\n",
              "\n",
              "    .colab-df-convert {\n",
              "      background-color: #E8F0FE;\n",
              "      border: none;\n",
              "      border-radius: 50%;\n",
              "      cursor: pointer;\n",
              "      display: none;\n",
              "      fill: #1967D2;\n",
              "      height: 32px;\n",
              "      padding: 0 0 0 0;\n",
              "      width: 32px;\n",
              "    }\n",
              "\n",
              "    .colab-df-convert:hover {\n",
              "      background-color: #E2EBFA;\n",
              "      box-shadow: 0px 1px 2px rgba(60, 64, 67, 0.3), 0px 1px 3px 1px rgba(60, 64, 67, 0.15);\n",
              "      fill: #174EA6;\n",
              "    }\n",
              "\n",
              "    .colab-df-buttons div {\n",
              "      margin-bottom: 4px;\n",
              "    }\n",
              "\n",
              "    [theme=dark] .colab-df-convert {\n",
              "      background-color: #3B4455;\n",
              "      fill: #D2E3FC;\n",
              "    }\n",
              "\n",
              "    [theme=dark] .colab-df-convert:hover {\n",
              "      background-color: #434B5C;\n",
              "      box-shadow: 0px 1px 3px 1px rgba(0, 0, 0, 0.15);\n",
              "      filter: drop-shadow(0px 1px 2px rgba(0, 0, 0, 0.3));\n",
              "      fill: #FFFFFF;\n",
              "    }\n",
              "  </style>\n",
              "\n",
              "    <script>\n",
              "      const buttonEl =\n",
              "        document.querySelector('#df-0e61f9d3-4686-4df9-93be-2ebb00573600 button.colab-df-convert');\n",
              "      buttonEl.style.display =\n",
              "        google.colab.kernel.accessAllowed ? 'block' : 'none';\n",
              "\n",
              "      async function convertToInteractive(key) {\n",
              "        const element = document.querySelector('#df-0e61f9d3-4686-4df9-93be-2ebb00573600');\n",
              "        const dataTable =\n",
              "          await google.colab.kernel.invokeFunction('convertToInteractive',\n",
              "                                                    [key], {});\n",
              "        if (!dataTable) return;\n",
              "\n",
              "        const docLinkHtml = 'Like what you see? Visit the ' +\n",
              "          '<a target=\"_blank\" href=https://colab.research.google.com/notebooks/data_table.ipynb>data table notebook</a>'\n",
              "          + ' to learn more about interactive tables.';\n",
              "        element.innerHTML = '';\n",
              "        dataTable['output_type'] = 'display_data';\n",
              "        await google.colab.output.renderOutput(dataTable, element);\n",
              "        const docLink = document.createElement('div');\n",
              "        docLink.innerHTML = docLinkHtml;\n",
              "        element.appendChild(docLink);\n",
              "      }\n",
              "    </script>\n",
              "  </div>\n",
              "\n",
              "\n",
              "<div id=\"df-0b7b0e55-4540-4da9-9945-003c0c71506d\">\n",
              "  <button class=\"colab-df-quickchart\" onclick=\"quickchart('df-0b7b0e55-4540-4da9-9945-003c0c71506d')\"\n",
              "            title=\"Suggest charts\"\n",
              "            style=\"display:none;\">\n",
              "\n",
              "<svg xmlns=\"http://www.w3.org/2000/svg\" height=\"24px\"viewBox=\"0 0 24 24\"\n",
              "     width=\"24px\">\n",
              "    <g>\n",
              "        <path d=\"M19 3H5c-1.1 0-2 .9-2 2v14c0 1.1.9 2 2 2h14c1.1 0 2-.9 2-2V5c0-1.1-.9-2-2-2zM9 17H7v-7h2v7zm4 0h-2V7h2v10zm4 0h-2v-4h2v4z\"/>\n",
              "    </g>\n",
              "</svg>\n",
              "  </button>\n",
              "\n",
              "<style>\n",
              "  .colab-df-quickchart {\n",
              "      --bg-color: #E8F0FE;\n",
              "      --fill-color: #1967D2;\n",
              "      --hover-bg-color: #E2EBFA;\n",
              "      --hover-fill-color: #174EA6;\n",
              "      --disabled-fill-color: #AAA;\n",
              "      --disabled-bg-color: #DDD;\n",
              "  }\n",
              "\n",
              "  [theme=dark] .colab-df-quickchart {\n",
              "      --bg-color: #3B4455;\n",
              "      --fill-color: #D2E3FC;\n",
              "      --hover-bg-color: #434B5C;\n",
              "      --hover-fill-color: #FFFFFF;\n",
              "      --disabled-bg-color: #3B4455;\n",
              "      --disabled-fill-color: #666;\n",
              "  }\n",
              "\n",
              "  .colab-df-quickchart {\n",
              "    background-color: var(--bg-color);\n",
              "    border: none;\n",
              "    border-radius: 50%;\n",
              "    cursor: pointer;\n",
              "    display: none;\n",
              "    fill: var(--fill-color);\n",
              "    height: 32px;\n",
              "    padding: 0;\n",
              "    width: 32px;\n",
              "  }\n",
              "\n",
              "  .colab-df-quickchart:hover {\n",
              "    background-color: var(--hover-bg-color);\n",
              "    box-shadow: 0 1px 2px rgba(60, 64, 67, 0.3), 0 1px 3px 1px rgba(60, 64, 67, 0.15);\n",
              "    fill: var(--button-hover-fill-color);\n",
              "  }\n",
              "\n",
              "  .colab-df-quickchart-complete:disabled,\n",
              "  .colab-df-quickchart-complete:disabled:hover {\n",
              "    background-color: var(--disabled-bg-color);\n",
              "    fill: var(--disabled-fill-color);\n",
              "    box-shadow: none;\n",
              "  }\n",
              "\n",
              "  .colab-df-spinner {\n",
              "    border: 2px solid var(--fill-color);\n",
              "    border-color: transparent;\n",
              "    border-bottom-color: var(--fill-color);\n",
              "    animation:\n",
              "      spin 1s steps(1) infinite;\n",
              "  }\n",
              "\n",
              "  @keyframes spin {\n",
              "    0% {\n",
              "      border-color: transparent;\n",
              "      border-bottom-color: var(--fill-color);\n",
              "      border-left-color: var(--fill-color);\n",
              "    }\n",
              "    20% {\n",
              "      border-color: transparent;\n",
              "      border-left-color: var(--fill-color);\n",
              "      border-top-color: var(--fill-color);\n",
              "    }\n",
              "    30% {\n",
              "      border-color: transparent;\n",
              "      border-left-color: var(--fill-color);\n",
              "      border-top-color: var(--fill-color);\n",
              "      border-right-color: var(--fill-color);\n",
              "    }\n",
              "    40% {\n",
              "      border-color: transparent;\n",
              "      border-right-color: var(--fill-color);\n",
              "      border-top-color: var(--fill-color);\n",
              "    }\n",
              "    60% {\n",
              "      border-color: transparent;\n",
              "      border-right-color: var(--fill-color);\n",
              "    }\n",
              "    80% {\n",
              "      border-color: transparent;\n",
              "      border-right-color: var(--fill-color);\n",
              "      border-bottom-color: var(--fill-color);\n",
              "    }\n",
              "    90% {\n",
              "      border-color: transparent;\n",
              "      border-bottom-color: var(--fill-color);\n",
              "    }\n",
              "  }\n",
              "</style>\n",
              "\n",
              "  <script>\n",
              "    async function quickchart(key) {\n",
              "      const quickchartButtonEl =\n",
              "        document.querySelector('#' + key + ' button');\n",
              "      quickchartButtonEl.disabled = true;  // To prevent multiple clicks.\n",
              "      quickchartButtonEl.classList.add('colab-df-spinner');\n",
              "      try {\n",
              "        const charts = await google.colab.kernel.invokeFunction(\n",
              "            'suggestCharts', [key], {});\n",
              "      } catch (error) {\n",
              "        console.error('Error during call to suggestCharts:', error);\n",
              "      }\n",
              "      quickchartButtonEl.classList.remove('colab-df-spinner');\n",
              "      quickchartButtonEl.classList.add('colab-df-quickchart-complete');\n",
              "    }\n",
              "    (() => {\n",
              "      let quickchartButtonEl =\n",
              "        document.querySelector('#df-0b7b0e55-4540-4da9-9945-003c0c71506d button');\n",
              "      quickchartButtonEl.style.display =\n",
              "        google.colab.kernel.accessAllowed ? 'block' : 'none';\n",
              "    })();\n",
              "  </script>\n",
              "</div>\n",
              "    </div>\n",
              "  </div>\n"
            ],
            "application/vnd.google.colaboratory.intrinsic+json": {
              "type": "dataframe",
              "variable_name": "dataset",
              "summary": "{\n  \"name\": \"dataset\",\n  \"rows\": 188,\n  \"fields\": [\n    {\n      \"column\": \"direction\",\n      \"properties\": {\n        \"dtype\": \"category\",\n        \"num_unique_values\": 1,\n        \"samples\": [\n          \"downlink\"\n        ],\n        \"semantic_type\": \"\",\n        \"description\": \"\"\n      }\n    },\n    {\n      \"column\": \"num_packets\",\n      \"properties\": {\n        \"dtype\": \"number\",\n        \"std\": 76,\n        \"min\": 11,\n        \"max\": 266,\n        \"num_unique_values\": 71,\n        \"samples\": [\n          179\n        ],\n        \"semantic_type\": \"\",\n        \"description\": \"\"\n      }\n    },\n    {\n      \"column\": \"total_bytes\",\n      \"properties\": {\n        \"dtype\": \"number\",\n        \"std\": 572165.3218761208,\n        \"min\": 1439.0,\n        \"max\": 2325249.0,\n        \"num_unique_values\": 134,\n        \"samples\": [\n          397663.0\n        ],\n        \"semantic_type\": \"\",\n        \"description\": \"\"\n      }\n    },\n    {\n      \"column\": \"min_pkt_size\",\n      \"properties\": {\n        \"dtype\": \"number\",\n        \"std\": 6.016021390336304,\n        \"min\": 40.0,\n        \"max\": 52.0,\n        \"num_unique_values\": 2,\n        \"samples\": [\n          40.0\n        ],\n        \"semantic_type\": \"\",\n        \"description\": \"\"\n      }\n    },\n    {\n      \"column\": \"max_pkt_size\",\n      \"properties\": {\n        \"dtype\": \"number\",\n        \"std\": 14265.45554912311,\n        \"min\": 557.0,\n        \"max\": 56524.0,\n        \"num_unique_values\": 18,\n        \"samples\": [\n          569.0\n        ],\n        \"semantic_type\": \"\",\n        \"description\": \"\"\n      }\n    },\n    {\n      \"column\": \"mean_pkt_size\",\n      \"properties\": {\n        \"dtype\": \"number\",\n        \"std\": 3343.597407233396,\n        \"min\": 55.09811320754717,\n        \"max\": 13257.738853503184,\n        \"num_unique_values\": 135,\n        \"samples\": [\n          12106.139534883721\n        ],\n        \"semantic_type\": \"\",\n        \"description\": \"\"\n      }\n    },\n    {\n      \"column\": \"std_pkt_size\",\n      \"properties\": {\n        \"dtype\": \"number\",\n        \"std\": 3574.262590638016,\n        \"min\": 32.764624831759086,\n        \"max\": 15461.813010369264,\n        \"num_unique_values\": 139,\n        \"samples\": [\n          662.4748423396104\n        ],\n        \"semantic_type\": \"\",\n        \"description\": \"\"\n      }\n    },\n    {\n      \"column\": \"min_iat\",\n      \"properties\": {\n        \"dtype\": \"number\",\n        \"std\": 8.542790167886773e-06,\n        \"min\": 0.0,\n        \"max\": 0.000103,\n        \"num_unique_values\": 20,\n        \"samples\": [\n          1.2e-05\n        ],\n        \"semantic_type\": \"\",\n        \"description\": \"\"\n      }\n    },\n    {\n      \"column\": \"max_iat\",\n      \"properties\": {\n        \"dtype\": \"number\",\n        \"std\": 1.9517434814375947,\n        \"min\": 0.053781,\n        \"max\": 10.020424,\n        \"num_unique_values\": 187,\n        \"samples\": [\n          0.182065\n        ],\n        \"semantic_type\": \"\",\n        \"description\": \"\"\n      }\n    },\n    {\n      \"column\": \"mean_iat\",\n      \"properties\": {\n        \"dtype\": \"number\",\n        \"std\": 0.008585849081996132,\n        \"min\": 0.0013818988095238096,\n        \"max\": 0.041825996000000004,\n        \"num_unique_values\": 188,\n        \"samples\": [\n          0.007138427631578947\n        ],\n        \"semantic_type\": \"\",\n        \"description\": \"\"\n      }\n    },\n    {\n      \"column\": \"std_iat\",\n      \"properties\": {\n        \"dtype\": \"number\",\n        \"std\": 0.11958760462259252,\n        \"min\": 0.004919193117395447,\n        \"max\": 0.6298896596027251,\n        \"num_unique_values\": 188,\n        \"samples\": [\n          0.023227970318288917\n        ],\n        \"semantic_type\": \"\",\n        \"description\": \"\"\n      }\n    },\n    {\n      \"column\": \"dur\",\n      \"properties\": {\n        \"dtype\": \"number\",\n        \"std\": 2.022937622457624,\n        \"min\": 0.103626,\n        \"max\": 10.524473,\n        \"num_unique_values\": 188,\n        \"samples\": [\n          1.085041\n        ],\n        \"semantic_type\": \"\",\n        \"description\": \"\"\n      }\n    },\n    {\n      \"column\": \"dport\",\n      \"properties\": {\n        \"dtype\": \"number\",\n        \"std\": 22539,\n        \"min\": 443,\n        \"max\": 60120,\n        \"num_unique_values\": 95,\n        \"samples\": [\n          47662\n        ],\n        \"semantic_type\": \"\",\n        \"description\": \"\"\n      }\n    },\n    {\n      \"column\": \"sport\",\n      \"properties\": {\n        \"dtype\": \"number\",\n        \"std\": 22539,\n        \"min\": 443,\n        \"max\": 60120,\n        \"num_unique_values\": 95,\n        \"samples\": [\n          47672\n        ],\n        \"semantic_type\": \"\",\n        \"description\": \"\"\n      }\n    },\n    {\n      \"column\": \"app\",\n      \"properties\": {\n        \"dtype\": \"category\",\n        \"num_unique_values\": 10,\n        \"samples\": [\n          \"ndtv\"\n        ],\n        \"semantic_type\": \"\",\n        \"description\": \"\"\n      }\n    }\n  ]\n}"
            }
          },
          "metadata": {}
        },
        {
          "output_type": "stream",
          "name": "stderr",
          "text": [
            "<ipython-input-49-5c7c19980f34>:19: FutureWarning: the 'line_terminator'' keyword is deprecated, use 'lineterminator' instead.\n",
            "  dataset.to_csv('traffic_classification_dataset.csv', index=False, line_terminator='\\n')\n"
          ]
        }
      ]
    },
    {
      "cell_type": "code",
      "source": [
        "import numpy as np\n",
        "import matplotlib.pyplot as plt\n",
        "from sklearn.metrics import ConfusionMatrixDisplay\n",
        "X = dataset.drop(['direction','sport','dport'],axis=1).dropna();\n",
        "APP = X['app']\n",
        "X = X.drop(['app'],axis=1)\n",
        "\n",
        "\n",
        "accuracies = np.array([])\n",
        "for K in range(1,11):\n",
        "\n",
        "  idx = np.random.permutation(len(X))\n",
        "  num_train_obs = np.floor(0.7*len(X))\n",
        "  train_idx = idx[1:int(num_train_obs)]\n",
        "  test_idx = idx[int(num_train_obs):]\n",
        "\n",
        "  # normalization\n",
        "  X_norm = pd.DataFrame()\n",
        "  for key in X:\n",
        "    temp = X[key]\n",
        "    temp_norm = (temp-temp.mean())/temp.std();\n",
        "    X_norm[key] = temp_norm\n",
        "  # split train / test\n",
        "  X_norm_train = X_norm.iloc[train_idx]\n",
        "  X_norm_test = X_norm.iloc[test_idx]\n",
        "  APP_train = APP.iloc[train_idx]\n",
        "  APP_test = APP.iloc[test_idx]\n",
        "\n",
        "  #K-NN classifier: for each entry in the test set, search the closest entry in the train set and assign value!\n",
        "  i = 0;\n",
        "  accuracy = 0\n",
        "  APP_test_predicted = []\n",
        "  for index, row in X_norm_test.iterrows():\n",
        "    #test_entry = row.values.tolist()\n",
        "    distances = []\n",
        "    for ii, rr in X_norm_train.iterrows():\n",
        "      #train_entry = rr.values.tolist()\n",
        "      #distances.append(np.linalg.norm(np.array(test_entry)-np.array(train_entry)))\n",
        "      distances.append(np.linalg.norm(np.array(row.to_numpy() - rr.to_numpy())))\n",
        "\n",
        "    min_idx = np.argmin(distances)\n",
        "\n",
        "    #sorted_idx = np.argsort(distances)\n",
        "    #predicted_app = APP_train.iloc[sorted_idx[1:K+1]].mode()\n",
        "\n",
        "    predicted_app = APP_train.iloc[min_idx]\n",
        "    APP_test_predicted.append(predicted_app)\n",
        "    if(APP_test.iloc[i] == predicted_app):\n",
        "        accuracy = accuracy+1\n",
        "    i = i+1\n",
        "\n",
        "  accuracies = np.append(accuracies, accuracy/len(APP_test))\n",
        "\n",
        "plt.plot(accuracies)\n",
        "\n",
        "# Adding labels and title\n",
        "plt.xlabel('K')\n",
        "plt.ylabel('Accuracy')\n",
        "plt.title('Accuracy vs. K')\n",
        "\n",
        "# Displaying the plot\n",
        "plt.show()#fig, ax = plt.subplots(figsize=(15, 15));\n",
        "#ConfusionMatrixDisplay.from_predictions(APP_test_predicted, APP_test, ax=ax);\n"
      ],
      "metadata": {
        "colab": {
          "base_uri": "https://localhost:8080/"
        },
        "id": "V7whYd8VP2-F",
        "outputId": "0c5c7c6f-6332-41f1-ce39-0eadff2485b8"
      },
      "execution_count": 86,
      "outputs": [
        {
          "output_type": "stream",
          "name": "stdout",
          "text": [
            "[0.80701754 0.84210526 0.84210526 0.8245614  0.85964912 0.84210526\n",
            " 0.85964912 0.8245614  0.77192982 0.84210526]\n"
          ]
        }
      ]
    },
    {
      "cell_type": "code",
      "source": [
        "K = np.argmax(accuracies) + 1\n",
        "print(\"max accuracy is at K = \",K, \"with value = \", accuracies[K-1])\n",
        "\n",
        "# Assuming accuracies is already populated with accuracy values\n",
        "K_values = np.arange(1, len(accuracies) + 1)\n",
        "\n",
        "# Plotting the accuracies against K+1\n",
        "plt.plot(K_values, accuracies)\n",
        "\n",
        "# Adding labels and title\n",
        "plt.xlabel('K')\n",
        "plt.ylabel('Accuracy')\n",
        "plt.title('Accuracy vs. K')\n",
        "\n",
        "# Displaying the plot\n",
        "plt.show()\n",
        "\n",
        "# Displaying the plot\n",
        "plt.show()\n",
        "\n",
        "\n"
      ],
      "metadata": {
        "colab": {
          "base_uri": "https://localhost:8080/",
          "height": 489
        },
        "id": "nExJvTMo4H4D",
        "outputId": "3c2e77a4-19d9-494b-a047-e66ff3cee98c"
      },
      "execution_count": 92,
      "outputs": [
        {
          "output_type": "stream",
          "name": "stdout",
          "text": [
            "max accuracy is at K =  5 with value =  0.8596491228070176\n"
          ]
        },
        {
          "output_type": "display_data",
          "data": {
            "text/plain": [
              "<Figure size 640x480 with 1 Axes>"
            ],
            "image/png": "[encoded data removed]"
          },
          "metadata": {}
        }
      ]
    },
    {
      "cell_type": "code",
      "source": [
        "idx = np.random.permutation(len(X))\n",
        "num_train_obs = np.floor(0.7*len(X))\n",
        "\n",
        "train_idx = idx[1:int(num_train_obs)]\n",
        "test_idx = idx[int(num_train_obs):]\n",
        "\n",
        "# normalization\n",
        "X_norm = pd.DataFrame()\n",
        "for key in X:\n",
        "  temp = X[key]\n",
        "  temp_norm = (temp-temp.mean())/temp.std();\n",
        "  X_norm[key] = temp_norm\n",
        "\n",
        "# split train / test\n",
        "X_norm_train = X_norm.iloc[train_idx]\n",
        "X_norm_test = X_norm.iloc[test_idx]\n",
        "\n",
        "APP_train = APP.iloc[train_idx]\n",
        "APP_test = APP.iloc[test_idx]\n",
        "\n",
        "#K-NN classifier: for each entry in the test set, search the closest entry in the train set and assign value!\n",
        "i = 0;\n",
        "accuracy = 0\n",
        "APP_test_predicted = []\n",
        "for index, row in X_norm_test.iterrows():\n",
        "  #test_entry = row.values.tolist()\n",
        "  distances = []\n",
        "  for ii, rr in X_norm_train.iterrows():\n",
        "    #train_entry = rr.values.tolist()\n",
        "    #distances.append(np.linalg.norm(np.array(test_entry)-np.array(train_entry)))\n",
        "    distances.append(np.linalg.norm(np.array(row.to_numpy() - rr.to_numpy())))\n",
        "\n",
        "  min_idx = np.argmin(distances)\n",
        "\n",
        "  #sorted_idx = np.argsort(distances)\n",
        "  #predicted_app = APP_train.iloc[sorted_idx[1:K+1]].mode()\n",
        "\n",
        "  predicted_app = APP_train.iloc[min_idx]\n",
        "  APP_test_predicted.append(predicted_app)\n",
        "  if(APP_test.iloc[i] == predicted_app):\n",
        "      accuracy = accuracy+1\n",
        "  i = i+1\n",
        "\n",
        "print(accuracy/len(APP_test))\n",
        "fig, ax = plt.subplots(figsize=(15, 15));\n",
        "ConfusionMatrixDisplay.from_predictions(APP_test_predicted, APP_test, ax=ax);\n"
      ],
      "metadata": {
        "colab": {
          "base_uri": "https://localhost:8080/",
          "height": 902
        },
        "id": "kGgvjWQxYzHz",
        "outputId": "a16cc598-48a9-41e7-a1b4-d18002393f2b"
      },
      "execution_count": 93,
      "outputs": [
        {
          "output_type": "stream",
          "name": "stdout",
          "text": [
            "0.8947368421052632\n"
          ]
        },
        {
          "output_type": "display_data",
          "data": {
            "text/plain": [
              "<Figure size 1500x1500 with 2 Axes>"
            ],
            "image/png": "[encoded data removed]"
          },
          "metadata": {}
        }
      ]
    }
  ]
}