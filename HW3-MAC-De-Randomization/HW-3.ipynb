{
 "cells": [
  {
   "cell_type": "markdown",
   "metadata": {},
   "source": [
    "# HW3 MAC De-Randomization"
   ]
  },
  {
   "cell_type": "markdown",
   "metadata": {},
   "source": [
    "### Importing Necessary Packages"
   ]
  },
  {
   "cell_type": "code",
   "execution_count": 531,
   "metadata": {},
   "outputs": [],
   "source": [
    "import pandas as pd # To read the data and process it\n",
    "import os # To read the files in the directory\n",
    "from sklearn.preprocessing import LabelEncoder # To encode the labels\n",
    "import matplotlib.pyplot as plt # For heatmap\n",
    "import seaborn as sns # For heatmap\n",
    "from sklearn.metrics import homogeneity_completeness_v_measure # To calculate the metrics\n",
    "import numpy as np # To generate random indices for the second part of the assignment\n"
   ]
  },
  {
   "cell_type": "markdown",
   "metadata": {},
   "source": [
    "### Reading The Data & Creating a Data Frame"
   ]
  },
  {
   "cell_type": "code",
   "execution_count": 560,
   "metadata": {},
   "outputs": [],
   "source": [
    "# Directory path\n",
    "directory = 'lecture-dataset'\n",
    "\n",
    "# Getting the list of CSV files in the directory\n",
    "csv_files = [file for file in os.listdir(directory) if file.endswith('.csv')]\n",
    "\n",
    "# Creating an empty dataframe\n",
    "df = pd.DataFrame()\n",
    "\n",
    "# Reading each CSV file and append it to the dataframe\n",
    "for file in csv_files:\n",
    "    file_path = os.path.join(directory, file)\n",
    "    df_temp = pd.read_csv(file_path)\n",
    "    df = pd.concat([df, df_temp], ignore_index=True)\n"
   ]
  },
  {
   "cell_type": "markdown",
   "metadata": {},
   "source": [
    "### Pre-Processing and Examining Data"
   ]
  },
  {
   "cell_type": "markdown",
   "metadata": {},
   "source": [
    "The data consist of 4988 probe requests and 14 columns. Further investigation is done in the next cells."
   ]
  },
  {
   "cell_type": "code",
   "execution_count": 566,
   "metadata": {},
   "outputs": [
    {
     "data": {
      "text/html": [
       "<div>\n",
       "<style scoped>\n",
       "    .dataframe tbody tr th:only-of-type {\n",
       "        vertical-align: middle;\n",
       "    }\n",
       "\n",
       "    .dataframe tbody tr th {\n",
       "        vertical-align: top;\n",
       "    }\n",
       "\n",
       "    .dataframe thead th {\n",
       "        text-align: right;\n",
       "    }\n",
       "</style>\n",
       "<table border=\"1\" class=\"dataframe\">\n",
       "  <thead>\n",
       "    <tr style=\"text-align: right;\">\n",
       "      <th></th>\n",
       "      <th>Timestamp</th>\n",
       "      <th>MAC Address</th>\n",
       "      <th>Channel</th>\n",
       "      <th>DS Channel</th>\n",
       "      <th>HT Capabilities</th>\n",
       "      <th>Extended Capabilities</th>\n",
       "      <th>Vendor Specific Tags</th>\n",
       "      <th>SSID</th>\n",
       "      <th>Supported Rates</th>\n",
       "      <th>Extended Supported Rates</th>\n",
       "      <th>VHT Capabilities</th>\n",
       "      <th>HE Capabilities</th>\n",
       "      <th>Length</th>\n",
       "      <th>Label</th>\n",
       "    </tr>\n",
       "  </thead>\n",
       "  <tbody>\n",
       "    <tr>\n",
       "      <th>0</th>\n",
       "      <td>1.684589e+09</td>\n",
       "      <td>76:f7:2b:0e:35:f3</td>\n",
       "      <td>1</td>\n",
       "      <td>1.0</td>\n",
       "      <td>2d001bffff000000000000000000000000000000000000...</td>\n",
       "      <td>4.004880e+18</td>\n",
       "      <td>00904c0408bf0c7678910ffaff0000faff0020</td>\n",
       "      <td>NaN</td>\n",
       "      <td>82848b96</td>\n",
       "      <td>0c1218243048606c</td>\n",
       "      <td>NaN</td>\n",
       "      <td>020014</td>\n",
       "      <td>193</td>\n",
       "      <td>S21Ultra-M_a</td>\n",
       "    </tr>\n",
       "    <tr>\n",
       "      <th>1</th>\n",
       "      <td>1.684589e+09</td>\n",
       "      <td>76:f7:2b:0e:35:f3</td>\n",
       "      <td>1</td>\n",
       "      <td>1.0</td>\n",
       "      <td>2d001bffff000000000000000000000000000000000000...</td>\n",
       "      <td>4.004880e+18</td>\n",
       "      <td>00904c0408bf0c7678910ffaff0000faff0020</td>\n",
       "      <td>NaN</td>\n",
       "      <td>82848b96</td>\n",
       "      <td>0c1218243048606c</td>\n",
       "      <td>NaN</td>\n",
       "      <td>020014</td>\n",
       "      <td>193</td>\n",
       "      <td>S21Ultra-M_a</td>\n",
       "    </tr>\n",
       "    <tr>\n",
       "      <th>2</th>\n",
       "      <td>1.684589e+09</td>\n",
       "      <td>76:f7:2b:0e:35:f3</td>\n",
       "      <td>6</td>\n",
       "      <td>6.0</td>\n",
       "      <td>2d001bffff000000000000000000000000000000000000...</td>\n",
       "      <td>4.004880e+18</td>\n",
       "      <td>00904c0408bf0c7678910ffaff0000faff0020</td>\n",
       "      <td>NaN</td>\n",
       "      <td>82848b96</td>\n",
       "      <td>0c1218243048606c</td>\n",
       "      <td>NaN</td>\n",
       "      <td>020014</td>\n",
       "      <td>193</td>\n",
       "      <td>S21Ultra-M_a</td>\n",
       "    </tr>\n",
       "    <tr>\n",
       "      <th>3</th>\n",
       "      <td>1.684589e+09</td>\n",
       "      <td>76:f7:2b:0e:35:f3</td>\n",
       "      <td>6</td>\n",
       "      <td>6.0</td>\n",
       "      <td>2d001bffff000000000000000000000000000000000000...</td>\n",
       "      <td>4.004880e+18</td>\n",
       "      <td>00904c0408bf0c7678910ffaff0000faff0020</td>\n",
       "      <td>NaN</td>\n",
       "      <td>82848b96</td>\n",
       "      <td>0c1218243048606c</td>\n",
       "      <td>NaN</td>\n",
       "      <td>020014</td>\n",
       "      <td>193</td>\n",
       "      <td>S21Ultra-M_a</td>\n",
       "    </tr>\n",
       "    <tr>\n",
       "      <th>4</th>\n",
       "      <td>1.684589e+09</td>\n",
       "      <td>76:f7:2b:0e:35:f3</td>\n",
       "      <td>11</td>\n",
       "      <td>11.0</td>\n",
       "      <td>2d001bffff000000000000000000000000000000000000...</td>\n",
       "      <td>4.004880e+18</td>\n",
       "      <td>00904c0408bf0c7678910ffaff0000faff0020</td>\n",
       "      <td>NaN</td>\n",
       "      <td>82848b96</td>\n",
       "      <td>0c1218243048606c</td>\n",
       "      <td>NaN</td>\n",
       "      <td>020014</td>\n",
       "      <td>193</td>\n",
       "      <td>S21Ultra-M_a</td>\n",
       "    </tr>\n",
       "    <tr>\n",
       "      <th>...</th>\n",
       "      <td>...</td>\n",
       "      <td>...</td>\n",
       "      <td>...</td>\n",
       "      <td>...</td>\n",
       "      <td>...</td>\n",
       "      <td>...</td>\n",
       "      <td>...</td>\n",
       "      <td>...</td>\n",
       "      <td>...</td>\n",
       "      <td>...</td>\n",
       "      <td>...</td>\n",
       "      <td>...</td>\n",
       "      <td>...</td>\n",
       "      <td>...</td>\n",
       "    </tr>\n",
       "    <tr>\n",
       "      <th>4983</th>\n",
       "      <td>1.622477e+09</td>\n",
       "      <td>22:45:43:e4:c8:fd</td>\n",
       "      <td>1</td>\n",
       "      <td>1.0</td>\n",
       "      <td>214017ff00000000000000000000000000000000000000...</td>\n",
       "      <td>4.000884e+14</td>\n",
       "      <td>0017f20a00010400000000</td>\n",
       "      <td>NaN</td>\n",
       "      <td>02040b16</td>\n",
       "      <td>0c1218243048606c</td>\n",
       "      <td>NaN</td>\n",
       "      <td>NaN</td>\n",
       "      <td>144</td>\n",
       "      <td>iPhone6_N</td>\n",
       "    </tr>\n",
       "    <tr>\n",
       "      <th>4984</th>\n",
       "      <td>1.622477e+09</td>\n",
       "      <td>22:45:43:e4:c8:fd</td>\n",
       "      <td>6</td>\n",
       "      <td>4.0</td>\n",
       "      <td>214017ff00000000000000000000000000000000000000...</td>\n",
       "      <td>4.000884e+14</td>\n",
       "      <td>0017f20a00010400000000</td>\n",
       "      <td>NaN</td>\n",
       "      <td>02040b16</td>\n",
       "      <td>0c1218243048606c</td>\n",
       "      <td>NaN</td>\n",
       "      <td>NaN</td>\n",
       "      <td>156</td>\n",
       "      <td>iPhone6_N</td>\n",
       "    </tr>\n",
       "    <tr>\n",
       "      <th>4985</th>\n",
       "      <td>1.622477e+09</td>\n",
       "      <td>22:45:43:e4:c8:fd</td>\n",
       "      <td>6</td>\n",
       "      <td>4.0</td>\n",
       "      <td>214017ff00000000000000000000000000000000000000...</td>\n",
       "      <td>4.000884e+14</td>\n",
       "      <td>0017f20a00010400000000</td>\n",
       "      <td>NaN</td>\n",
       "      <td>02040b16</td>\n",
       "      <td>0c1218243048606c</td>\n",
       "      <td>NaN</td>\n",
       "      <td>NaN</td>\n",
       "      <td>156</td>\n",
       "      <td>iPhone6_N</td>\n",
       "    </tr>\n",
       "    <tr>\n",
       "      <th>4986</th>\n",
       "      <td>1.622477e+09</td>\n",
       "      <td>22:45:43:e4:c8:fd</td>\n",
       "      <td>6</td>\n",
       "      <td>5.0</td>\n",
       "      <td>214017ff00000000000000000000000000000000000000...</td>\n",
       "      <td>4.000884e+14</td>\n",
       "      <td>0017f20a00010400000000</td>\n",
       "      <td>NaN</td>\n",
       "      <td>02040b16</td>\n",
       "      <td>0c1218243048606c</td>\n",
       "      <td>NaN</td>\n",
       "      <td>NaN</td>\n",
       "      <td>156</td>\n",
       "      <td>iPhone6_N</td>\n",
       "    </tr>\n",
       "    <tr>\n",
       "      <th>4987</th>\n",
       "      <td>1.622477e+09</td>\n",
       "      <td>22:45:43:e4:c8:fd</td>\n",
       "      <td>6</td>\n",
       "      <td>5.0</td>\n",
       "      <td>214017ff00000000000000000000000000000000000000...</td>\n",
       "      <td>4.000884e+14</td>\n",
       "      <td>0017f20a00010400000000</td>\n",
       "      <td>NaN</td>\n",
       "      <td>02040b16</td>\n",
       "      <td>0c1218243048606c</td>\n",
       "      <td>NaN</td>\n",
       "      <td>NaN</td>\n",
       "      <td>156</td>\n",
       "      <td>iPhone6_N</td>\n",
       "    </tr>\n",
       "  </tbody>\n",
       "</table>\n",
       "<p>4988 rows × 14 columns</p>\n",
       "</div>"
      ],
      "text/plain": [
       "         Timestamp        MAC Address  Channel  DS Channel  \\\n",
       "0     1.684589e+09  76:f7:2b:0e:35:f3        1         1.0   \n",
       "1     1.684589e+09  76:f7:2b:0e:35:f3        1         1.0   \n",
       "2     1.684589e+09  76:f7:2b:0e:35:f3        6         6.0   \n",
       "3     1.684589e+09  76:f7:2b:0e:35:f3        6         6.0   \n",
       "4     1.684589e+09  76:f7:2b:0e:35:f3       11        11.0   \n",
       "...            ...                ...      ...         ...   \n",
       "4983  1.622477e+09  22:45:43:e4:c8:fd        1         1.0   \n",
       "4984  1.622477e+09  22:45:43:e4:c8:fd        6         4.0   \n",
       "4985  1.622477e+09  22:45:43:e4:c8:fd        6         4.0   \n",
       "4986  1.622477e+09  22:45:43:e4:c8:fd        6         5.0   \n",
       "4987  1.622477e+09  22:45:43:e4:c8:fd        6         5.0   \n",
       "\n",
       "                                        HT Capabilities  \\\n",
       "0     2d001bffff000000000000000000000000000000000000...   \n",
       "1     2d001bffff000000000000000000000000000000000000...   \n",
       "2     2d001bffff000000000000000000000000000000000000...   \n",
       "3     2d001bffff000000000000000000000000000000000000...   \n",
       "4     2d001bffff000000000000000000000000000000000000...   \n",
       "...                                                 ...   \n",
       "4983  214017ff00000000000000000000000000000000000000...   \n",
       "4984  214017ff00000000000000000000000000000000000000...   \n",
       "4985  214017ff00000000000000000000000000000000000000...   \n",
       "4986  214017ff00000000000000000000000000000000000000...   \n",
       "4987  214017ff00000000000000000000000000000000000000...   \n",
       "\n",
       "      Extended Capabilities                    Vendor Specific Tags SSID  \\\n",
       "0              4.004880e+18  00904c0408bf0c7678910ffaff0000faff0020  NaN   \n",
       "1              4.004880e+18  00904c0408bf0c7678910ffaff0000faff0020  NaN   \n",
       "2              4.004880e+18  00904c0408bf0c7678910ffaff0000faff0020  NaN   \n",
       "3              4.004880e+18  00904c0408bf0c7678910ffaff0000faff0020  NaN   \n",
       "4              4.004880e+18  00904c0408bf0c7678910ffaff0000faff0020  NaN   \n",
       "...                     ...                                     ...  ...   \n",
       "4983           4.000884e+14                  0017f20a00010400000000  NaN   \n",
       "4984           4.000884e+14                  0017f20a00010400000000  NaN   \n",
       "4985           4.000884e+14                  0017f20a00010400000000  NaN   \n",
       "4986           4.000884e+14                  0017f20a00010400000000  NaN   \n",
       "4987           4.000884e+14                  0017f20a00010400000000  NaN   \n",
       "\n",
       "     Supported Rates Extended Supported Rates  VHT Capabilities  \\\n",
       "0           82848b96         0c1218243048606c               NaN   \n",
       "1           82848b96         0c1218243048606c               NaN   \n",
       "2           82848b96         0c1218243048606c               NaN   \n",
       "3           82848b96         0c1218243048606c               NaN   \n",
       "4           82848b96         0c1218243048606c               NaN   \n",
       "...              ...                      ...               ...   \n",
       "4983        02040b16         0c1218243048606c               NaN   \n",
       "4984        02040b16         0c1218243048606c               NaN   \n",
       "4985        02040b16         0c1218243048606c               NaN   \n",
       "4986        02040b16         0c1218243048606c               NaN   \n",
       "4987        02040b16         0c1218243048606c               NaN   \n",
       "\n",
       "     HE Capabilities  Length         Label  \n",
       "0             020014     193  S21Ultra-M_a  \n",
       "1             020014     193  S21Ultra-M_a  \n",
       "2             020014     193  S21Ultra-M_a  \n",
       "3             020014     193  S21Ultra-M_a  \n",
       "4             020014     193  S21Ultra-M_a  \n",
       "...              ...     ...           ...  \n",
       "4983             NaN     144     iPhone6_N  \n",
       "4984             NaN     156     iPhone6_N  \n",
       "4985             NaN     156     iPhone6_N  \n",
       "4986             NaN     156     iPhone6_N  \n",
       "4987             NaN     156     iPhone6_N  \n",
       "\n",
       "[4988 rows x 14 columns]"
      ]
     },
     "metadata": {},
     "output_type": "display_data"
    }
   ],
   "source": [
    "display(df)"
   ]
  },
  {
   "cell_type": "markdown",
   "metadata": {},
   "source": [
    "As a first step, we convert timestamps to datetime, in case a numerical operation is needed for timestamps"
   ]
  },
  {
   "cell_type": "code",
   "execution_count": null,
   "metadata": {},
   "outputs": [],
   "source": [
    "# Converting the timestamp to datetime\n",
    "df['Timestamp']=pd.to_datetime(df['Timestamp'], unit='s')"
   ]
  },
  {
   "cell_type": "markdown",
   "metadata": {},
   "source": [
    "In the next part, the dataframe is cleaned by removing columns that have more than 60% missing or NaN values."
   ]
  },
  {
   "cell_type": "code",
   "execution_count": 557,
   "metadata": {},
   "outputs": [
    {
     "name": "stdout",
     "output_type": "stream",
     "text": [
      "Timestamp                     0.000000\n",
      "MAC Address                   0.000000\n",
      "Channel                       0.000000\n",
      "DS Channel                    0.581395\n",
      "HT Capabilities               0.020048\n",
      "Extended Capabilities         0.020048\n",
      "Vendor Specific Tags         18.905373\n",
      "SSID                         91.439455\n",
      "Supported Rates               0.000000\n",
      "Extended Supported Rates      0.020048\n",
      "VHT Capabilities            100.000000\n",
      "HE Capabilities              81.295108\n",
      "Length                        0.000000\n",
      "Label                         0.000000\n",
      "dtype: float64\n",
      "Dropped columns are:  ['SSID', 'VHT Capabilities', 'HE Capabilities']\n"
     ]
    }
   ],
   "source": [
    "nan_sum = df.isna().sum() # The number of NaN values in each column\n",
    "nan_percentage = (nan_sum/len(df))*100 # The percentage of NaN values in each column\n",
    "\n",
    "print(nan_percentage)\n",
    "\n",
    "col_drop = [] # List of columns to be dropped\n",
    "\n",
    "# Dropping the columns with more than 60% NaN values\n",
    "for i in range(0,len(nan_percentage)):\n",
    "  if nan_percentage.iloc[i] > 60:\n",
    "    col_drop.append(nan_percentage.index[i])\n",
    "  \n",
    "clean_df = df.drop(col_drop, axis=1)\n",
    "del df # Deleting the original dataframe to free up memory\n",
    "\n",
    "print(\"Dropped columns are: \", col_drop)\n",
    "\n"
   ]
  },
  {
   "cell_type": "markdown",
   "metadata": {},
   "source": [
    "As it can be seen from the results of the cell in the upside, 'SSID', 'VHT Capabilities', 'HE Capabilities' columns has missing values higher than 60%. Therefore, dropping those columns will help to get better and more general results."
   ]
  },
  {
   "cell_type": "markdown",
   "metadata": {},
   "source": [
    "In the next cell the unique number of values in the columns are examined. If there are too much unique values, it is not a good feature to be clustered. If there are less than 20 unique values in a columns, the column name is saved as a feature for future usage"
   ]
  },
  {
   "cell_type": "code",
   "execution_count": 535,
   "metadata": {},
   "outputs": [
    {
     "name": "stdout",
     "output_type": "stream",
     "text": [
      "Timestamp                   4988\n",
      "MAC Address                  718\n",
      "Channel                        3\n",
      "DS Channel                    13\n",
      "HT Capabilities                8\n",
      "Extended Capabilities          7\n",
      "Vendor Specific Tags           5\n",
      "Supported Rates                4\n",
      "Extended Supported Rates       2\n",
      "Length                        16\n",
      "Label                          7\n",
      "dtype: int64\n",
      "['Channel', 'DS Channel', 'HT Capabilities', 'Extended Capabilities', 'Vendor Specific Tags', 'Supported Rates', 'Extended Supported Rates', 'Length']\n"
     ]
    },
    {
     "name": "stderr",
     "output_type": "stream",
     "text": [
      "/var/folders/wf/h4cmwskx1rxch7ts3ytb_7cr0000gn/T/ipykernel_19419/4178496395.py:8: FutureWarning: Series.__getitem__ treating keys as positions is deprecated. In a future version, integer keys will always be treated as labels (consistent with DataFrame behavior). To access a value by position, use `ser.iloc[pos]`\n",
      "  if unique_elem[i] < 20:\n"
     ]
    }
   ],
   "source": [
    "# Finding number of unique elements in each column\n",
    "unique_elem = clean_df.nunique()\n",
    "\n",
    "print(unique_elem)\n",
    "\n",
    "features = []\n",
    "\n",
    "# Selecting the columns with less than 20 unique elements\n",
    "for i in range(0,len(unique_elem)-1):\n",
    "  if unique_elem[i] < 20:\n",
    "    features.append(unique_elem.index[i])\n",
    "\n",
    "print(features)"
   ]
  },
  {
   "cell_type": "markdown",
   "metadata": {},
   "source": [
    "Although there are too many unique MAC Addresses, they are very important during the clustering because same random MAC Addresses mean that they are from the same device since having same randomazed MAC Address is very low probability and if it happened, there will be also problems during the routing. Therefore, it should also handled in the routing part. \n",
    "\n",
    "In this case, in the MAC Addresses are used in the online clustering algorithm."
   ]
  },
  {
   "cell_type": "markdown",
   "metadata": {},
   "source": [
    "Encoder function is defined in the next cell. The purpose of this function is to encode categorical features in the DataFrame into numerical values, which allows to use these features in clustering.\n",
    "\n",
    "An instance of LabelEncoder is created, and the fit_transform method is called on the feature data. This method fits the encoder to the data (i.e., determines the unique categories and assigns a numerical value to each) and then transforms the data into the numerical encoding. The transformed data is then used to replace the original feature data in the DataFrame copy.\n",
    "\n",
    "After all the features have been processed, the function converts the data type of the features in the DataFrame copy to float. This is done using the astype method of the DataFrame, which converts the data type of the DataFrame or a series."
   ]
  },
  {
   "cell_type": "code",
   "execution_count": 537,
   "metadata": {},
   "outputs": [],
   "source": [
    "def encoder(df,features):\n",
    "  df_tmp = df.copy() # To avoid modifying the original data\n",
    "  for elem in features:\n",
    "    if elem != 'Lenght' and elem != 'Channel' and elem != 'DS Channel': \n",
    "      label_encoder = LabelEncoder()\n",
    "      df_tmp[elem] = label_encoder.fit_transform(df_tmp[elem].astype(str))\n",
    "\n",
    "  df_tmp[features]=df_tmp[features].astype(float)\n",
    "  return df_tmp\n"
   ]
  },
  {
   "cell_type": "code",
   "execution_count": 538,
   "metadata": {},
   "outputs": [
    {
     "data": {
      "text/html": [
       "<div>\n",
       "<style scoped>\n",
       "    .dataframe tbody tr th:only-of-type {\n",
       "        vertical-align: middle;\n",
       "    }\n",
       "\n",
       "    .dataframe tbody tr th {\n",
       "        vertical-align: top;\n",
       "    }\n",
       "\n",
       "    .dataframe thead th {\n",
       "        text-align: right;\n",
       "    }\n",
       "</style>\n",
       "<table border=\"1\" class=\"dataframe\">\n",
       "  <thead>\n",
       "    <tr style=\"text-align: right;\">\n",
       "      <th></th>\n",
       "      <th>MAC Address</th>\n",
       "      <th>Channel</th>\n",
       "      <th>DS Channel</th>\n",
       "      <th>HT Capabilities</th>\n",
       "      <th>Extended Capabilities</th>\n",
       "      <th>Vendor Specific Tags</th>\n",
       "      <th>Supported Rates</th>\n",
       "      <th>Extended Supported Rates</th>\n",
       "      <th>Length</th>\n",
       "      <th>Label</th>\n",
       "    </tr>\n",
       "  </thead>\n",
       "  <tbody>\n",
       "    <tr>\n",
       "      <th>0</th>\n",
       "      <td>76:f7:2b:0e:35:f3</td>\n",
       "      <td>1.0</td>\n",
       "      <td>1.0</td>\n",
       "      <td>4.0</td>\n",
       "      <td>1.0</td>\n",
       "      <td>4.0</td>\n",
       "      <td>1.0</td>\n",
       "      <td>0.0</td>\n",
       "      <td>12.0</td>\n",
       "      <td>S21Ultra-M_a</td>\n",
       "    </tr>\n",
       "    <tr>\n",
       "      <th>1</th>\n",
       "      <td>76:f7:2b:0e:35:f3</td>\n",
       "      <td>1.0</td>\n",
       "      <td>1.0</td>\n",
       "      <td>4.0</td>\n",
       "      <td>1.0</td>\n",
       "      <td>4.0</td>\n",
       "      <td>1.0</td>\n",
       "      <td>0.0</td>\n",
       "      <td>12.0</td>\n",
       "      <td>S21Ultra-M_a</td>\n",
       "    </tr>\n",
       "    <tr>\n",
       "      <th>2</th>\n",
       "      <td>76:f7:2b:0e:35:f3</td>\n",
       "      <td>6.0</td>\n",
       "      <td>6.0</td>\n",
       "      <td>4.0</td>\n",
       "      <td>1.0</td>\n",
       "      <td>4.0</td>\n",
       "      <td>1.0</td>\n",
       "      <td>0.0</td>\n",
       "      <td>12.0</td>\n",
       "      <td>S21Ultra-M_a</td>\n",
       "    </tr>\n",
       "    <tr>\n",
       "      <th>3</th>\n",
       "      <td>76:f7:2b:0e:35:f3</td>\n",
       "      <td>6.0</td>\n",
       "      <td>6.0</td>\n",
       "      <td>4.0</td>\n",
       "      <td>1.0</td>\n",
       "      <td>4.0</td>\n",
       "      <td>1.0</td>\n",
       "      <td>0.0</td>\n",
       "      <td>12.0</td>\n",
       "      <td>S21Ultra-M_a</td>\n",
       "    </tr>\n",
       "    <tr>\n",
       "      <th>4</th>\n",
       "      <td>76:f7:2b:0e:35:f3</td>\n",
       "      <td>11.0</td>\n",
       "      <td>11.0</td>\n",
       "      <td>4.0</td>\n",
       "      <td>1.0</td>\n",
       "      <td>4.0</td>\n",
       "      <td>1.0</td>\n",
       "      <td>0.0</td>\n",
       "      <td>12.0</td>\n",
       "      <td>S21Ultra-M_a</td>\n",
       "    </tr>\n",
       "    <tr>\n",
       "      <th>...</th>\n",
       "      <td>...</td>\n",
       "      <td>...</td>\n",
       "      <td>...</td>\n",
       "      <td>...</td>\n",
       "      <td>...</td>\n",
       "      <td>...</td>\n",
       "      <td>...</td>\n",
       "      <td>...</td>\n",
       "      <td>...</td>\n",
       "      <td>...</td>\n",
       "    </tr>\n",
       "    <tr>\n",
       "      <th>4983</th>\n",
       "      <td>22:45:43:e4:c8:fd</td>\n",
       "      <td>1.0</td>\n",
       "      <td>1.0</td>\n",
       "      <td>2.0</td>\n",
       "      <td>2.0</td>\n",
       "      <td>1.0</td>\n",
       "      <td>0.0</td>\n",
       "      <td>0.0</td>\n",
       "      <td>7.0</td>\n",
       "      <td>iPhone6_N</td>\n",
       "    </tr>\n",
       "    <tr>\n",
       "      <th>4984</th>\n",
       "      <td>22:45:43:e4:c8:fd</td>\n",
       "      <td>6.0</td>\n",
       "      <td>4.0</td>\n",
       "      <td>2.0</td>\n",
       "      <td>2.0</td>\n",
       "      <td>1.0</td>\n",
       "      <td>0.0</td>\n",
       "      <td>0.0</td>\n",
       "      <td>9.0</td>\n",
       "      <td>iPhone6_N</td>\n",
       "    </tr>\n",
       "    <tr>\n",
       "      <th>4985</th>\n",
       "      <td>22:45:43:e4:c8:fd</td>\n",
       "      <td>6.0</td>\n",
       "      <td>4.0</td>\n",
       "      <td>2.0</td>\n",
       "      <td>2.0</td>\n",
       "      <td>1.0</td>\n",
       "      <td>0.0</td>\n",
       "      <td>0.0</td>\n",
       "      <td>9.0</td>\n",
       "      <td>iPhone6_N</td>\n",
       "    </tr>\n",
       "    <tr>\n",
       "      <th>4986</th>\n",
       "      <td>22:45:43:e4:c8:fd</td>\n",
       "      <td>6.0</td>\n",
       "      <td>5.0</td>\n",
       "      <td>2.0</td>\n",
       "      <td>2.0</td>\n",
       "      <td>1.0</td>\n",
       "      <td>0.0</td>\n",
       "      <td>0.0</td>\n",
       "      <td>9.0</td>\n",
       "      <td>iPhone6_N</td>\n",
       "    </tr>\n",
       "    <tr>\n",
       "      <th>4987</th>\n",
       "      <td>22:45:43:e4:c8:fd</td>\n",
       "      <td>6.0</td>\n",
       "      <td>5.0</td>\n",
       "      <td>2.0</td>\n",
       "      <td>2.0</td>\n",
       "      <td>1.0</td>\n",
       "      <td>0.0</td>\n",
       "      <td>0.0</td>\n",
       "      <td>9.0</td>\n",
       "      <td>iPhone6_N</td>\n",
       "    </tr>\n",
       "  </tbody>\n",
       "</table>\n",
       "<p>4988 rows × 10 columns</p>\n",
       "</div>"
      ],
      "text/plain": [
       "            MAC Address  Channel  DS Channel  HT Capabilities  \\\n",
       "0     76:f7:2b:0e:35:f3      1.0         1.0              4.0   \n",
       "1     76:f7:2b:0e:35:f3      1.0         1.0              4.0   \n",
       "2     76:f7:2b:0e:35:f3      6.0         6.0              4.0   \n",
       "3     76:f7:2b:0e:35:f3      6.0         6.0              4.0   \n",
       "4     76:f7:2b:0e:35:f3     11.0        11.0              4.0   \n",
       "...                 ...      ...         ...              ...   \n",
       "4983  22:45:43:e4:c8:fd      1.0         1.0              2.0   \n",
       "4984  22:45:43:e4:c8:fd      6.0         4.0              2.0   \n",
       "4985  22:45:43:e4:c8:fd      6.0         4.0              2.0   \n",
       "4986  22:45:43:e4:c8:fd      6.0         5.0              2.0   \n",
       "4987  22:45:43:e4:c8:fd      6.0         5.0              2.0   \n",
       "\n",
       "      Extended Capabilities  Vendor Specific Tags  Supported Rates  \\\n",
       "0                       1.0                   4.0              1.0   \n",
       "1                       1.0                   4.0              1.0   \n",
       "2                       1.0                   4.0              1.0   \n",
       "3                       1.0                   4.0              1.0   \n",
       "4                       1.0                   4.0              1.0   \n",
       "...                     ...                   ...              ...   \n",
       "4983                    2.0                   1.0              0.0   \n",
       "4984                    2.0                   1.0              0.0   \n",
       "4985                    2.0                   1.0              0.0   \n",
       "4986                    2.0                   1.0              0.0   \n",
       "4987                    2.0                   1.0              0.0   \n",
       "\n",
       "      Extended Supported Rates  Length         Label  \n",
       "0                          0.0    12.0  S21Ultra-M_a  \n",
       "1                          0.0    12.0  S21Ultra-M_a  \n",
       "2                          0.0    12.0  S21Ultra-M_a  \n",
       "3                          0.0    12.0  S21Ultra-M_a  \n",
       "4                          0.0    12.0  S21Ultra-M_a  \n",
       "...                        ...     ...           ...  \n",
       "4983                       0.0     7.0     iPhone6_N  \n",
       "4984                       0.0     9.0     iPhone6_N  \n",
       "4985                       0.0     9.0     iPhone6_N  \n",
       "4986                       0.0     9.0     iPhone6_N  \n",
       "4987                       0.0     9.0     iPhone6_N  \n",
       "\n",
       "[4988 rows x 10 columns]"
      ]
     },
     "metadata": {},
     "output_type": "display_data"
    }
   ],
   "source": [
    "\n",
    "encoded_df = encoder(clean_df,features)\n",
    "burst_df = encoded_df.drop(['Timestamp'],axis=1).copy()\n",
    "display(burst_df)"
   ]
  },
  {
   "cell_type": "code",
   "execution_count": 539,
   "metadata": {},
   "outputs": [],
   "source": [
    "def plot_heatmap(df, column1, column2, colormap=\"Blues\"):\n",
    "   crosstab = pd.crosstab(df[column1], df[column2])\n",
    "\n",
    "   sns.set_theme(style=\"whitegrid\",font_scale=1)\n",
    "   plt.figure(figsize=(15,10))\n",
    "\n",
    "   sns.heatmap(crosstab,annot=True, fmt=\"d\", cmap=colormap)\n",
    "\n",
    "   plt.title(f\"Heatmap of {column1} vs {column2}\")\n",
    "   plt.xlabel(column2)\n",
    "   plt.ylabel(column1)\n",
    "\n",
    "   plt.show()"
   ]
  },
  {
   "cell_type": "code",
   "execution_count": 540,
   "metadata": {},
   "outputs": [
    {
     "data": {
      "text/plain": [
       "['Channel',\n",
       " 'DS Channel',\n",
       " 'HT Capabilities',\n",
       " 'Extended Capabilities',\n",
       " 'Vendor Specific Tags',\n",
       " 'Supported Rates',\n",
       " 'Extended Supported Rates',\n",
       " 'Length',\n",
       " 'MAC Address']"
      ]
     },
     "execution_count": 540,
     "metadata": {},
     "output_type": "execute_result"
    }
   ],
   "source": [
    "usable_features = features.copy()\n",
    "usable_features.append('MAC Address')\n",
    "usable_features"
   ]
  },
  {
   "cell_type": "code",
   "execution_count": 550,
   "metadata": {},
   "outputs": [],
   "source": [
    "\n",
    "# Function to calculate the number of matching features between two rows\n",
    "# def count_matching_features(row1, row2):\n",
    "#     return sum(row1[feature] == row2[feature] for feature in usable_features)\n",
    "\n",
    "# Clustering function\n",
    "def cluster_rows(df, N, usable_features):\n",
    "    # Dictionary to store clusters and their corresponding feature combinations\n",
    "    clusters = {}\n",
    "\n",
    "    # Iterate through each row of the DataFrame\n",
    "    for index, row in df.iterrows():\n",
    "        # Check if the MAC address is not None\n",
    "        mac_address = row['MAC Address']\n",
    "        for cluster_id, cluster_row in clusters.items():\n",
    "            if mac_address in cluster_row['MAC Address']:\n",
    "            # Assign the current row to the existing cluster with the matching MAC address\n",
    "                df.loc[index, 'Cluster ID'] = cluster_id\n",
    "                clusters[cluster_id] = row\n",
    "                continue\n",
    "                \n",
    "        # Initialize variables to track best matching cluster\n",
    "        best_cluster_id = None\n",
    "        max_matching_features = 0\n",
    "        # Calculate matching features with each existing cluster\n",
    "        for cluster_id, cluster_row in clusters.items():\n",
    "            num_matching_features = sum(row[feature] == cluster_row[feature] for feature in usable_features)\n",
    "\n",
    "            # It also handles ties, because the first cluster with the same number of matching features will be selected\n",
    "            if num_matching_features >= N and num_matching_features > max_matching_features:\n",
    "                best_cluster_id = cluster_id\n",
    "                max_matching_features = num_matching_features\n",
    "\n",
    "        # Assign the current row to an existing or new cluster\n",
    "        if best_cluster_id is not None:\n",
    "            # Assign to existing cluster with sufficient matching features\n",
    "            df.loc[index, 'Cluster ID'] = best_cluster_id\n",
    "            # Update the cluster row to include the current row's features (for potential future matches)\n",
    "            clusters[best_cluster_id] = row\n",
    "        else:\n",
    "            # Create a new cluster with a new cluster ID\n",
    "            new_cluster_id = len(clusters)\n",
    "            clusters[new_cluster_id] = row\n",
    "            df.loc[index, 'Cluster ID'] = new_cluster_id\n",
    "    \n",
    "    if 'Label' in df.columns:\n",
    "        h, c, v = homogeneity_completeness_v_measure(df[\"Label\"], df[\"Cluster ID\"])\n",
    "        n_unique_clusterid = df[\"Cluster ID\"].nunique()\n",
    "        n_unique_label = df[\"Label\"].nunique()\n",
    "        error = n_unique_clusterid - n_unique_label\n",
    "        return df, h, c, v, error\n",
    "    else:        \n",
    "        return df \n",
    "\n"
   ]
  },
  {
   "cell_type": "code",
   "execution_count": null,
   "metadata": {},
   "outputs": [],
   "source": [
    "\n",
    "# Calculate V-measure score for different values of N\n",
    "results = []\n",
    "\n",
    "for N in range(1, len(usable_features)+1):\n",
    "    df_clustered = burst_df.copy()\n",
    "    _, h, c, v, error = cluster_rows(df_clustered, N, usable_features)\n",
    "    results.append({'N': N, 'V-measure': v, 'Homogeneity': h, 'Completeness': c,  'Error': error})\n",
    "\n",
    "# Display results\n",
    "results_df = pd.DataFrame(results)\n",
    "print(results_df)"
   ]
  },
  {
   "cell_type": "code",
   "execution_count": 551,
   "metadata": {},
   "outputs": [
    {
     "data": {
      "image/png": "[encoded data removed]",
      "text/plain": [
       "<Figure size 1500x1000 with 2 Axes>"
      ]
     },
     "metadata": {},
     "output_type": "display_data"
    }
   ],
   "source": [
    "best_df, _, _, _, _ = cluster_rows(burst_df, 5, burst_df.columns)\n",
    "plot_heatmap(best_df, \"Label\", \"Cluster ID\")\n"
   ]
  },
  {
   "cell_type": "code",
   "execution_count": null,
   "metadata": {},
   "outputs": [],
   "source": [
    "best_df[best_df['MAC Address'] == 'ee:18:b9:9c:f9:f0']\n"
   ]
  },
  {
   "cell_type": "code",
   "execution_count": null,
   "metadata": {},
   "outputs": [],
   "source": [
    "\n",
    "best_df[best_df['Cluster ID'] == 3]\n"
   ]
  },
  {
   "cell_type": "code",
   "execution_count": null,
   "metadata": {},
   "outputs": [],
   "source": [
    "# Read csv files from challenge-dataset, and assign each of them to a different dataframe \n",
    "directory = 'challenge-dataset'\n",
    "csv_files = [file for file in os.listdir(directory) if file.endswith('.csv')]\n",
    "challenge_dfs = [pd.read_csv(os.path.join(directory, file)) for file in csv_files]\n"
   ]
  },
  {
   "cell_type": "code",
   "execution_count": null,
   "metadata": {},
   "outputs": [],
   "source": [
    "def create_dataset(test_set_K, df,K):\n",
    "    all_dfs = {f\"{key}\": [] for key in test_set_K.keys()}\n",
    "\n",
    "    for test_set in test_set_K:\n",
    "        random_indices = np.random.choice(len(df), K, replace=False)\n",
    "        selected_dfs = pd.DataFrame()\n",
    "        for index in random_indices:\n",
    "            selected_dfs = pd.concat([selected_dfs, df[index]], ignore_index=True)\n",
    "        all_dfs[f\"{test_set}\"].append(selected_dfs)\n",
    "    return pd.DataFrame(all_dfs)"
   ]
  },
  {
   "cell_type": "code",
   "execution_count": null,
   "metadata": {},
   "outputs": [],
   "source": [
    "test_set_K_2 = {f\"Test Set {i+1}\": [] for i in range(5)}\n",
    "test_set_K_3 = {f\"Test Set {i+1}\": [] for i in range(5)}\n",
    "test_set_K_4 = {f\"Test Set {i+1}\": [] for i in range(5)}\n",
    "test_set_K_5 = {f\"Test Set {i+1}\": [] for i in range(5)}\n",
    "test_set_K_6 = {\"Test Set 1\": []}\n",
    "\n",
    "test_set_K_2 = create_dataset(test_set_K_2, challenge_dfs, 2)\n",
    "test_set_K_3 = create_dataset(test_set_K_3, challenge_dfs, 3)\n",
    "test_set_K_4 = create_dataset(test_set_K_4, challenge_dfs, 4)\n",
    "test_set_K_5 = create_dataset(test_set_K_5, challenge_dfs, 5)\n",
    "test_set_K_6 = create_dataset(test_set_K_6, challenge_dfs, 6)\n",
    "  \n",
    "del challenge_dfs"
   ]
  },
  {
   "cell_type": "code",
   "execution_count": null,
   "metadata": {},
   "outputs": [],
   "source": [
    "def preprocess(df):\n",
    "    # Drop columns with more than 60% missing values\n",
    "    nan_sum = df.isna().sum()\n",
    "    nan_percentage = (nan_sum/len(df))*100\n",
    "    col_drop = [nan_percentage.index[i] for i in range(len(nan_percentage)) if nan_percentage[i] > 60]\n",
    "    df = df.drop(col_drop, axis=1)\n",
    "\n",
    "    # Encode categorical features with less than 20 unique values\n",
    "    unique_elem = df.nunique()\n",
    "    features = [unique_elem.index[i] for i in range(len(unique_elem)-1) if unique_elem[i] < 20]\n",
    "    df = encoder(df, features)\n",
    "\n",
    "    # Drop other columns that are not in features except 'MAC Address'\n",
    "    df = df.drop(df.columns.difference(features+['MAC Address'] + ['Label']), axis=1)\n",
    "\n",
    "    return df"
   ]
  },
  {
   "cell_type": "code",
   "execution_count": null,
   "metadata": {},
   "outputs": [],
   "source": [
    "# Preprocess each dataframe in the random_dfs_df\n",
    "preprocessed_df_K_2 = test_set_K_2.applymap(preprocess)\n",
    "preprocessed_df_K_3 = test_set_K_3.applymap(preprocess)\n",
    "preprocessed_df_K_4 = test_set_K_4.applymap(preprocess)\n",
    "preprocessed_df_K_5 = test_set_K_5.applymap(preprocess)\n",
    "preprocessed_df_K_6 = test_set_K_6.applymap(preprocess)\n",
    "\n",
    "del test_set_K_2, test_set_K_3, test_set_K_4, test_set_K_5, test_set_K_6"
   ]
  },
  {
   "cell_type": "code",
   "execution_count": null,
   "metadata": {},
   "outputs": [],
   "source": [
    "preprocessed_df_K_2.iloc[0,0]['Label'].unique()\n",
    "#random_dfs_df.at[4,'Test Set 1']['Label'].unique()"
   ]
  },
  {
   "cell_type": "code",
   "execution_count": null,
   "metadata": {},
   "outputs": [],
   "source": [
    "preprocessed_df_K_2.iloc[0,0]\n"
   ]
  },
  {
   "cell_type": "code",
   "execution_count": null,
   "metadata": {},
   "outputs": [],
   "source": [
    "def measure_v(test_sets, N_values = range(1, len(usable_features)+1)):\n",
    "    results = []\n",
    "    for i in range(test_sets.shape[1]):\n",
    "        usable_features = test_sets.iloc[0,i].columns.drop('Label')\n",
    "        for N in N_values:\n",
    "            _, h, c, v, error = cluster_rows(test_sets.iloc[0,i], N, usable_features)\n",
    "            results.append({'Test Set': f\"Test Set {i+1}\", 'N': N, 'V-measure': v, 'Homogeneity': h, 'Completeness': c, 'Error': error})       \n",
    "    return pd.DataFrame(results)"
   ]
  },
  {
   "cell_type": "code",
   "execution_count": null,
   "metadata": {},
   "outputs": [],
   "source": [
    "N_values = [4] # Number of matching features, it can be range(1, len(usable_features)+1)) to test all values\n",
    "results_K_2 = measure_v(preprocessed_df_K_2, N_values)\n",
    "results_K_3 = measure_v(preprocessed_df_K_3, N_values)\n",
    "results_K_4 = measure_v(preprocessed_df_K_4, N_values)\n",
    "results_K_5 = measure_v(preprocessed_df_K_5, N_values)\n",
    "results_K_6 = measure_v(preprocessed_df_K_6, N_values)"
   ]
  },
  {
   "cell_type": "code",
   "execution_count": null,
   "metadata": {},
   "outputs": [],
   "source": [
    "# # Save the results to a CSV file\n",
    "# results_K_2.to_csv('results_K_2.csv', index=False)\n",
    "# results_K_3.to_csv('results_K_3.csv', index=False)\n",
    "# results_K_4.to_csv('results_K_4.csv', index=False)\n",
    "# results_K_5.to_csv('results_K_5.csv', index=False)\n",
    "# results_K_6.to_csv('results_K_6.csv', index=False)"
   ]
  },
  {
   "cell_type": "code",
   "execution_count": null,
   "metadata": {},
   "outputs": [],
   "source": [
    "# # Read the results from the CSV file\n",
    "# results_K_2 = pd.read_csv('results_K_2.csv')\n",
    "# results_K_3 = pd.read_csv('results_K_3.csv')\n",
    "# results_K_4 = pd.read_csv('results_K_4.csv')\n",
    "# results_K_5 = pd.read_csv('results_K_5.csv')\n",
    "# results_K_6 = pd.read_csv('results_K_6.csv')"
   ]
  },
  {
   "cell_type": "code",
   "execution_count": null,
   "metadata": {},
   "outputs": [],
   "source": [
    "# # Print the Test Set 1 results in results_K_2\n",
    "# results_K_2_df = pd.DataFrame(results_K_2)\n",
    "# # Get the maximum V-measure score for each Test Set and their corresponding N value\n",
    "# max_v_measure_K_2 =results_K_2.loc[results_K_2.groupby('Test Set')['V-measure'].idxmax()]\n",
    "# max_v_measure_K_3 =results_K_3.loc[results_K_3.groupby('Test Set')['V-measure'].idxmax()]\n",
    "# max_v_measure_K_4 =results_K_4.loc[results_K_4.groupby('Test Set')['V-measure'].idxmax()]\n",
    "# max_v_measure_K_5 =results_K_5.loc[results_K_5.groupby('Test Set')['V-measure'].idxmax()]\n",
    "# max_v_measure_K_6 =results_K_6.loc[results_K_6.groupby('Test Set')['V-measure'].idxmax()]\n"
   ]
  },
  {
   "cell_type": "code",
   "execution_count": null,
   "metadata": {},
   "outputs": [],
   "source": [
    "# # Display the maximum V-measure score for each Test Set\n",
    "# display(max_v_measure_K_2)\n",
    "# display(max_v_measure_K_3)\n",
    "# display(max_v_measure_K_4)\n",
    "# display(max_v_measure_K_5)\n",
    "# display(max_v_measure_K_6)"
   ]
  },
  {
   "cell_type": "code",
   "execution_count": null,
   "metadata": {},
   "outputs": [],
   "source": [
    "preprocessed_df_K_6.iloc[0,0]['Label'].value_counts()"
   ]
  },
  {
   "cell_type": "code",
   "execution_count": null,
   "metadata": {},
   "outputs": [],
   "source": [
    "display(results_K_2)\n",
    "display(results_K_3)\n",
    "display(results_K_4)\n",
    "display(results_K_5)\n",
    "display(results_K_6)"
   ]
  },
  {
   "cell_type": "code",
   "execution_count": null,
   "metadata": {},
   "outputs": [],
   "source": [
    "\n",
    "# Get average V-measure score and Error of max_v_measure\n",
    "average_v_measure = results_K_3['V-measure'].mean()\n",
    "average_error = results_K_3['Error'].mean()\n",
    "print(f\"Average V-measure: {average_v_measure}\")\n",
    "print(f\"Average Error: {average_error}\")"
   ]
  },
  {
   "cell_type": "code",
   "execution_count": null,
   "metadata": {},
   "outputs": [],
   "source": [
    "# Print all unique MAC Addresses in the first test set\n",
    "for i in range(0,preprocessed_df_K_2.shape[1]):\n",
    "  print(\"number of unique MAC: \", preprocessed_df_K_2.iloc[0,i]['MAC Address'].nunique())"
   ]
  },
  {
   "cell_type": "code",
   "execution_count": null,
   "metadata": {},
   "outputs": [],
   "source": [
    "# Print all unique MAC Addresses in the first test set\n",
    "for i in range(0,preprocessed_df_K_3.shape[1]):\n",
    "  print(\"number of unique MAC: \", preprocessed_df_K_3.iloc[0,i]['MAC Address'].nunique())"
   ]
  },
  {
   "cell_type": "code",
   "execution_count": null,
   "metadata": {},
   "outputs": [],
   "source": [
    "# Print all unique MAC Addresses in the first test set\n",
    "for i in range(0,preprocessed_df_K_4.shape[1]):\n",
    "  print(\"number of unique MAC: \", preprocessed_df_K_4.iloc[0,i]['MAC Address'].nunique())"
   ]
  },
  {
   "cell_type": "code",
   "execution_count": null,
   "metadata": {},
   "outputs": [],
   "source": [
    "# Print all unique MAC Addresses in the first test set\n",
    "for i in range(0,preprocessed_df_K_5.shape[1]):\n",
    "  print(\"number of unique MAC: \", preprocessed_df_K_5.iloc[0,i]['MAC Address'].nunique())"
   ]
  },
  {
   "cell_type": "code",
   "execution_count": null,
   "metadata": {},
   "outputs": [],
   "source": [
    "# Print all unique MAC Addresses in the first test set\n",
    "for i in range(0,preprocessed_df_K_6.shape[1]):\n",
    "  print(\"number of unique MAC: \", preprocessed_df_K_6.iloc[0,i]['MAC Address'].nunique())"
   ]
  },
  {
   "cell_type": "code",
   "execution_count": null,
   "metadata": {},
   "outputs": [],
   "source": [
    "# Read data from the CSV file\n",
    "unlabelled = pd.read_csv('MAC_derand_unlabelled-challenge.csv')"
   ]
  },
  {
   "cell_type": "code",
   "execution_count": null,
   "metadata": {},
   "outputs": [],
   "source": [
    "display(unlabelled)"
   ]
  },
  {
   "cell_type": "code",
   "execution_count": null,
   "metadata": {},
   "outputs": [],
   "source": [
    "unlabelled = preprocess(unlabelled)"
   ]
  },
  {
   "cell_type": "code",
   "execution_count": null,
   "metadata": {},
   "outputs": [],
   "source": [
    "unlabelled['MAC Address'].nunique()"
   ]
  },
  {
   "cell_type": "code",
   "execution_count": null,
   "metadata": {},
   "outputs": [],
   "source": [
    "for i in range(1, len(unlabelled.columns)):\n",
    "    clustred_unlabelled = cluster_rows(unlabelled, i, unlabelled.columns)\n",
    "    print(clustred_unlabelled['Cluster ID'].nunique())"
   ]
  },
  {
   "cell_type": "code",
   "execution_count": null,
   "metadata": {},
   "outputs": [],
   "source": [
    "clustred_unlabelled = cluster_rows(unlabelled, 4, unlabelled.columns)"
   ]
  },
  {
   "cell_type": "code",
   "execution_count": null,
   "metadata": {},
   "outputs": [],
   "source": [
    "clustred_unlabelled.groupby('Cluster ID').size()\n",
    "display(clustred_unlabelled[clustred_unlabelled['Cluster ID'] == 7])"
   ]
  }
 ],
 "metadata": {
  "kernelspec": {
   "display_name": "Python 3",
   "language": "python",
   "name": "python3"
  },
  "language_info": {
   "codemirror_mode": {
    "name": "ipython",
    "version": 3
   },
   "file_extension": ".py",
   "mimetype": "text/x-python",
   "name": "python",
   "nbconvert_exporter": "python",
   "pygments_lexer": "ipython3",
   "version": "3.9.6"
  }
 },
 "nbformat": 4,
 "nbformat_minor": 2
}
